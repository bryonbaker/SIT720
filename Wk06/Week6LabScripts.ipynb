{
 "cells": [
  {
   "cell_type": "markdown",
   "metadata": {
    "colab_type": "text",
    "id": "uWU8n5hqEGgK"
   },
   "source": [
    "# Code examples"
   ]
  },
  {
   "cell_type": "code",
   "execution_count": 1,
   "metadata": {
    "colab": {
     "base_uri": "https://localhost:8080/",
     "height": 125
    },
    "colab_type": "code",
    "executionInfo": {
     "elapsed": 34287,
     "status": "ok",
     "timestamp": 1598243152968,
     "user": {
      "displayName": "Chandan Karmakar",
      "photoUrl": "",
      "userId": "09762733542902070185"
     },
     "user_tz": -600
    },
    "id": "HKB62dcpFgJE",
    "outputId": "0186d8dc-a350-4734-8144-c6a9cc8bea84"
   },
   "outputs": [],
   "source": [
    "#from google.colab import drive\n",
    "#drive.mount('/content/drive')"
   ]
  },
  {
   "cell_type": "code",
   "execution_count": 2,
   "metadata": {
    "colab": {
     "base_uri": "https://localhost:8080/",
     "height": 35
    },
    "colab_type": "code",
    "executionInfo": {
     "elapsed": 862,
     "status": "ok",
     "timestamp": 1598246275009,
     "user": {
      "displayName": "Chandan Karmakar",
      "photoUrl": "",
      "userId": "09762733542902070185"
     },
     "user_tz": -600
    },
    "id": "QiHh-Zn6EGgL",
    "outputId": "f8650f38-4fce-448f-e98c-27ee2791f3ae"
   },
   "outputs": [
    {
     "data": {
      "text/plain": [
       "LinearRegression()"
      ]
     },
     "execution_count": 2,
     "metadata": {},
     "output_type": "execute_result"
    }
   ],
   "source": [
    "import numpy as np\n",
    "import pandas as pd\n",
    "import matplotlib.pyplot as plt\n",
    "from sklearn.linear_model import LinearRegression as LR\n",
    "import sklearn.metrics as skm\n",
    "\n",
    "\n",
    "#my_dataframe = pd.read_csv('/content/drive/My Drive/Colab Notebooks/Advertising.csv')\n",
    "my_dataframe = pd.read_csv('~/SIT720/workshop-datafiles/Advertising.csv')\n",
    "feature_cols = ['TV', 'Radio', 'Newspaper']\n",
    "X = my_dataframe[feature_cols].values\n",
    "y = my_dataframe.Sales.values\n",
    "\n",
    "Xtrain = X[:140]\n",
    "ytrain = y[:140]\n",
    "\n",
    "Xtest = X[140:]\n",
    "ytest = y[140:]\n",
    "\n",
    "\n",
    "my_model = LR()\n",
    "\n",
    "#fit the model using our data\n",
    "my_model.fit(Xtrain, ytrain)\n"
   ]
  },
  {
   "cell_type": "markdown",
   "metadata": {
    "colab_type": "text",
    "id": "Ay0UzIJQEGgO"
   },
   "source": [
    "# Prediction performance\n"
   ]
  },
  {
   "cell_type": "code",
   "execution_count": 3,
   "metadata": {
    "colab": {
     "base_uri": "https://localhost:8080/",
     "height": 631
    },
    "colab_type": "code",
    "executionInfo": {
     "elapsed": 872,
     "status": "ok",
     "timestamp": 1598246390982,
     "user": {
      "displayName": "Chandan Karmakar",
      "photoUrl": "",
      "userId": "09762733542902070185"
     },
     "user_tz": -600
    },
    "id": "wYMI5lsPEGgP",
    "outputId": "95f953a9-0fa7-4a83-9215-eb5d29850939"
   },
   "outputs": [
    {
     "name": "stdout",
     "output_type": "stream",
     "text": [
      "The predicted sales:\n",
      "[ 9.5143544  18.29202877 19.27094064  8.88723582 10.11361706  9.96041972\n",
      " 15.62706788 23.1587013  12.03845031  9.72212471 18.63809455 10.10099867\n",
      " 16.48589616 18.12468609 15.64364266  5.30523275 15.12744231 10.25358725\n",
      " 10.09006252 12.44362791 14.3210309  13.3616908  15.08443331 17.32769433\n",
      " 11.18435749 14.4341081  10.57847377 13.65085298 17.24682604 18.30648623\n",
      "  7.42659652 14.39756088  7.52782982 12.20541805 14.08031808 24.73378746\n",
      " 20.09744782 12.3485591  16.40555117 12.5803357  10.85519521 14.21321462\n",
      "  6.62420582 24.08691176 18.72317811 20.7349155   9.90581943 17.13834561\n",
      " 18.98753788  6.02878648 12.27110367  8.5198605   4.49610391 18.42872767\n",
      " 16.46701074  5.46575208  8.33322951 13.02457489 23.73586521 15.48426632]\n",
      "\n",
      "The true sales:\n",
      "[10.9 19.2 20.1 10.4 11.4 10.3 13.2 25.4 10.9 10.1 16.1 11.6 16.6 19.\n",
      " 15.6  3.2 15.3 10.1  7.3 12.9 14.4 13.3 14.9 18.  11.9 11.9  8.  12.2\n",
      " 17.1 15.   8.4 14.5  7.6 11.7 11.5 27.  20.2 11.7 11.8 12.6 10.5 12.2\n",
      "  8.7 26.2 17.6 22.6 10.3 17.3 15.9  6.7 10.8  9.9  5.9 19.6 17.3  7.6\n",
      "  9.7 12.8 25.5 13.4]\n"
     ]
    },
    {
     "data": {
      "image/png": "[encoded data removed]",
      "text/plain": [
       "<Figure size 432x288 with 1 Axes>"
      ]
     },
     "metadata": {
      "needs_background": "light"
     },
     "output_type": "display_data"
    },
    {
     "name": "stdout",
     "output_type": "stream",
     "text": [
      "MSE: 2.557965925460622\n",
      "Error: 2.557965925460622\n"
     ]
    }
   ],
   "source": [
    "ypredicts = my_model.predict(Xtest)\n",
    "\n",
    "print (\"The predicted sales:\")\n",
    "print (ypredicts)\n",
    "print ()\n",
    "print (\"The true sales:\")\n",
    "print (ytest)\n",
    "\n",
    "plt.plot(ytest,ypredicts,'ok')\n",
    "plt.ylabel('Predicted sales')\n",
    "plt.xlabel('True sales')\n",
    "plt.show()\n",
    "\n",
    "\n",
    "mse = np.mean((ypredicts - ytest) ** 2)\n",
    "print (\"MSE: {}\".format(mse))\n",
    "\n",
    "#mae_SKL = skm.mean_absolute_error(ytest,ypredicts)\n",
    "mse_SKL = skm.mean_squared_error(ytest,ypredicts)\n",
    "print (\"Error: {}\".format(mse_SKL))\n"
   ]
  },
  {
   "cell_type": "markdown",
   "metadata": {
    "colab_type": "text",
    "id": "MwLns2o7EGgY"
   },
   "source": [
    "# Model parameters"
   ]
  },
  {
   "cell_type": "code",
   "execution_count": 4,
   "metadata": {
    "colab": {
     "base_uri": "https://localhost:8080/",
     "height": 90
    },
    "colab_type": "code",
    "executionInfo": {
     "elapsed": 927,
     "status": "ok",
     "timestamp": 1598183556247,
     "user": {
      "displayName": "Chandan Karmakar",
      "photoUrl": "",
      "userId": "09762733542902070185"
     },
     "user_tz": -600
    },
    "id": "xryntGFEEGgY",
    "outputId": "e1f3cb0e-2010-465d-da7c-4ec515ebfb56"
   },
   "outputs": [
    {
     "name": "stdout",
     "output_type": "stream",
     "text": [
      "3.0451422090371167\n",
      "[ 0.04704868  0.17968299 -0.00300557]\n",
      "[('TV', 0.047048680822289274), ('Radio', 0.17968298889993575), ('Newspaper', -0.0030055651568066805)]\n"
     ]
    }
   ],
   "source": [
    "print (my_model.intercept_)\n",
    "print (my_model.coef_)\n",
    "\n",
    "zipped_list =  (zip(feature_cols, my_model.coef_))\n",
    "print(list(zipped_list))"
   ]
  },
  {
   "cell_type": "markdown",
   "metadata": {
    "colab_type": "text",
    "id": "Jqn4kzlPEGgb"
   },
   "source": [
    "# Data size and regression error"
   ]
  },
  {
   "cell_type": "code",
   "execution_count": 5,
   "metadata": {
    "colab": {},
    "colab_type": "code",
    "executionInfo": {
     "elapsed": 845,
     "status": "ok",
     "timestamp": 1598247527689,
     "user": {
      "displayName": "Chandan Karmakar",
      "photoUrl": "",
      "userId": "09762733542902070185"
     },
     "user_tz": -600
    },
    "id": "f9HQ7vn7EGgc"
   },
   "outputs": [],
   "source": [
    "def getErrorwithSize(model, train_sizes, Xtrain, ytrain, Xtest, ytest):\n",
    "    \n",
    "    # Initialize needed variables   \n",
    "    model_mse   = np.zeros(len(train_sizes))  # storing model accuracy\n",
    "    model_wts   = np.zeros([len(train_sizes), 4]) # storing model weights\n",
    "    \n",
    "    #Train our model with increasing data for each iteration\n",
    "    for size in train_sizes:    \n",
    "        Xsubtrain = Xtrain[0:size,:]\n",
    "        ysubtrain = ytrain[0:size]\n",
    "        model.fit(Xsubtrain, ysubtrain)\n",
    "    \n",
    "        # Test our model on fixed test set\n",
    "        ypredicts = model.predict(Xtest)    \n",
    "        \n",
    "        index              = (size//10)-1        \n",
    "        model_mse[index]  = np.mean((ypredicts - ytest)**2)\n",
    "        model_wts[index,:] = np.append(model.intercept_, model.coef_)  \n",
    "    \n",
    "    return model_mse, model_wts"
   ]
  },
  {
   "cell_type": "code",
   "execution_count": 6,
   "metadata": {
    "colab": {
     "base_uri": "https://localhost:8080/",
     "height": 418
    },
    "colab_type": "code",
    "executionInfo": {
     "elapsed": 896,
     "status": "ok",
     "timestamp": 1598247534521,
     "user": {
      "displayName": "Chandan Karmakar",
      "photoUrl": "",
      "userId": "09762733542902070185"
     },
     "user_tz": -600
    },
    "id": "fXnT0hroEGgh",
    "outputId": "3a62b639-410f-492e-d968-586939d47785"
   },
   "outputs": [
    {
     "name": "stdout",
     "output_type": "stream",
     "text": [
      "[ 10  20  30  40  50  60  70  80  90 100 110 120 130 140]\n",
      "(200, 4)\n"
     ]
    },
    {
     "data": {
      "text/plain": [
       "array([[230.1,  37.8,  69.2,  22.1],\n",
       "       [ 44.5,  39.3,  45.1,  10.4],\n",
       "       [ 17.2,  45.9,  69.3,   9.3],\n",
       "       [151.5,  41.3,  58.5,  18.5],\n",
       "       [180.8,  10.8,  58.4,  12.9]])"
      ]
     },
     "execution_count": 6,
     "metadata": {},
     "output_type": "execute_result"
    },
    {
     "data": {
      "image/png": "[encoded data removed]",
      "text/plain": [
       "<Figure size 432x288 with 1 Axes>"
      ]
     },
     "metadata": {
      "needs_background": "light"
     },
     "output_type": "display_data"
    }
   ],
   "source": [
    "train_sizes = np.arange(10,150,10) # training size from 10 to 140\n",
    "print (train_sizes)\n",
    "\n",
    "mse,weights = getErrorwithSize(my_model,train_sizes, Xtrain, ytrain, Xtest, ytest)\n",
    "\n",
    "\n",
    "#Plot the accuracy with training size\n",
    "plt.plot(train_sizes, mse)\n",
    "plt.xlabel('Training Size')\n",
    "plt.ylabel('Mean Sq Error in Prediction')\n",
    "plt.title('Effect of Data size on prediction error')\n",
    "\n",
    "\n",
    "# First, lets re-create the data matrix with features X and response y\n",
    "data = np.c_[X,y]\n",
    "print (data.shape)\n",
    "data[0:5,:]\n",
    "\n",
    "\n"
   ]
  },
  {
   "cell_type": "markdown",
   "metadata": {
    "colab_type": "text",
    "id": "a1C_aMUfEGgs"
   },
   "source": [
    "## Code using  train_test_split"
   ]
  },
  {
   "cell_type": "code",
   "execution_count": 7,
   "metadata": {
    "colab": {
     "base_uri": "https://localhost:8080/",
     "height": 348
    },
    "colab_type": "code",
    "executionInfo": {
     "elapsed": 1701,
     "status": "ok",
     "timestamp": 1598248774800,
     "user": {
      "displayName": "Chandan Karmakar",
      "photoUrl": "",
      "userId": "09762733542902070185"
     },
     "user_tz": -600
    },
    "id": "y9NfHCDOEGgs",
    "outputId": "27d4b606-648f-421d-f715-b7ea183a56f4"
   },
   "outputs": [
    {
     "name": "stdout",
     "output_type": "stream",
     "text": [
      "(200, 4)\n",
      "(160, 4)\n",
      "(40, 4)\n"
     ]
    },
    {
     "data": {
      "image/png": "[encoded data removed]",
      "text/plain": [
       "<Figure size 432x288 with 1 Axes>"
      ]
     },
     "metadata": {
      "needs_background": "light"
     },
     "output_type": "display_data"
    }
   ],
   "source": [
    "# create a random subsample of training and testing data \n",
    "\n",
    "from sklearn.model_selection import train_test_split\n",
    "\n",
    "Dtrain, Dtest = train_test_split(data, test_size=0.2)\n",
    "\n",
    "\n",
    "print(data.shape)\n",
    "print(Dtrain.shape)\n",
    "print(Dtest.shape)\n",
    "\n",
    "trials = 100\n",
    "\n",
    "train_sizes = np.arange(10,150,10) # training size from 10 to 140\n",
    "final_mse       = np.zeros(len(train_sizes))  # storing model prediction error\n",
    "final_model_wts = np.zeros([len(train_sizes), 4]) # storing model weights\n",
    "\n",
    "for i in range(0,trials):\n",
    "    Dtrain, Dtest = train_test_split(data, test_size=0.3)\n",
    "    Xtrain = Dtrain[:, 0:3]\n",
    "    ytrain = Dtrain[:,3]\n",
    "\n",
    "    Xtest = Dtest[:, 0:3]\n",
    "    ytest = Dtest[:,3]\n",
    "    \n",
    "    mse,weights = getErrorwithSize(my_model, train_sizes,Xtrain, ytrain, Xtest, ytest)\n",
    "    \n",
    "    final_mse  +=  mse # final_mse = final_mse + mse \n",
    "   \n",
    "final_mse       /= trials # final_mse = final_mse / trials\n",
    "\n",
    "#Plot the final MSE\n",
    "plt.plot(train_sizes, final_mse)\n",
    "\n",
    "plt.xlabel('Training Data Sizes')\n",
    "plt.ylabel('Model MSE')\n",
    "plt.title('Effect of Data Size on prediction error')\n",
    "plt.show()\n"
   ]
  }
 ],
 "metadata": {
  "colab": {
   "collapsed_sections": [],
   "name": "Week6Lab.ipynb",
   "provenance": []
  },
  "kernelspec": {
   "display_name": "Python 3 (ipykernel)",
   "language": "python",
   "name": "python3"
  },
  "language_info": {
   "codemirror_mode": {
    "name": "ipython",
    "version": 3
   },
   "file_extension": ".py",
   "mimetype": "text/x-python",
   "name": "python",
   "nbconvert_exporter": "python",
   "pygments_lexer": "ipython3",
   "version": "3.8.8"
  }
 },
 "nbformat": 4,
 "nbformat_minor": 4
}
