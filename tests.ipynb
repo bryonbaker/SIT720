{
 "cells": [
  {
   "cell_type": "code",
   "execution_count": 16,
   "id": "ac5d9c13-473d-4452-96de-b0b35a977fd5",
   "metadata": {},
   "outputs": [
    {
     "name": "stdout",
     "output_type": "stream",
     "text": [
      "Requirement already satisfied: pandas in /opt/app-root/lib/python3.8/site-packages (1.2.4)\n",
      "Requirement already satisfied: pytz>=2017.3 in /opt/app-root/lib/python3.8/site-packages (from pandas) (2021.3)\n",
      "Requirement already satisfied: python-dateutil>=2.7.3 in /opt/app-root/lib/python3.8/site-packages (from pandas) (2.8.2)\n",
      "Requirement already satisfied: numpy>=1.16.5 in /opt/app-root/lib/python3.8/site-packages (from pandas) (1.19.2)\n",
      "Requirement already satisfied: six>=1.5 in /opt/app-root/lib/python3.8/site-packages (from python-dateutil>=2.7.3->pandas) (1.16.0)\n",
      "\u001b[33mWARNING: You are using pip version 21.3.1; however, version 22.0.4 is available.\n",
      "You should consider upgrading via the '/opt/app-root/bin/python3.8 -m pip install --upgrade pip' command.\u001b[0m\n",
      "Requirement already satisfied: numpy in /opt/app-root/lib/python3.8/site-packages (1.19.2)\n",
      "\u001b[33mWARNING: You are using pip version 21.3.1; however, version 22.0.4 is available.\n",
      "You should consider upgrading via the '/opt/app-root/bin/python3.8 -m pip install --upgrade pip' command.\u001b[0m\n"
     ]
    }
   ],
   "source": [
    "!pip3 install pandas\n",
    "!pip3 install numpy"
   ]
  },
  {
   "cell_type": "code",
   "execution_count": 15,
   "id": "b5da3022-d715-4f6a-aa20-16e5ea144694",
   "metadata": {},
   "outputs": [
    {
     "name": "stdout",
     "output_type": "stream",
     "text": [
      "Working dataset dimension is: (500, 11)\n",
      "\n",
      "The number of rows with missing values is 144\n",
      "<class 'pandas.core.series.Series'>\n",
      "age                       1\n",
      "on thyroxine              f\n",
      "pregnant                  f\n",
      "I131 treatment            f\n",
      "query hyperthyroid        f\n",
      "TSH                   0.005\n",
      "T3                     0.05\n",
      "TT4                    11.0\n",
      "FTI                     8.9\n",
      "binaryClass               N\n",
      "dtype: object\n",
      "min values T3: 0.05\n"
     ]
    }
   ],
   "source": [
    "import pandas as pd\n",
    "import numpy as np\n",
    "\n",
    "import ssl\n",
    "ssl._create_default_https_context = ssl._create_unverified_context\n",
    "\n",
    "url = 'https://raw.githubusercontent.com/bryonbaker/datasets/main/SIT720/Ass1/hypothyroid.csv'\n",
    "fullht_df = pd.read_csv(url)\n",
    "\n",
    "# Get the first 500 rows from the dataset and use that for the rest of the assignment.\n",
    "ht_df = fullht_df.head(n=500)\n",
    "\n",
    "# Display the dataset's dimension\n",
    "print(f\"Working dataset dimension is: {ht_df.shape}\\n\")\n",
    "\n",
    "# Find the number of rows that have missing data\n",
    "ht_df = ht_df.replace('?', np.NaN)              # Replace ? with NaN\n",
    "numMissing = ht_df.isna().any(axis=1).sum()\n",
    "print(f\"The number of rows with missing values is {numMissing}\")\n",
    "\n",
    "# All features are currently text. Change the data types of the continuous variables to numeric.\n",
    "ht_df[[\"age\", \"TSH\",\"T3\",\"TT4\",\"FTI\"]] = ht_df[[\"age\",\"TSH\",\"T3\",\"TT4\",\"FTI\"]].apply(pd.to_numeric)    # CSV loads as text. Convert the cells to numeric\n",
    "\n",
    "# Find the minimum value in each column.\n",
    "a = ht_df.min(axis=0)\n",
    "print( type(a))\n",
    "print(a)\n",
    "\n",
    "print(f\"\\nmin values T3: {a['T3']}\")\n",
    "\n",
    "# Find the minimum value in each column.\n",
    "#aa = ht_df[\"TSF\"].min()\n",
    "#print( type(aa))\n",
    "#print(f\"min values:\\n{a['T3']}\")"
   ]
  },
  {
   "cell_type": "code",
   "execution_count": null,
   "id": "694d6c07-a452-4c59-8b1d-e9a48768ce14",
   "metadata": {},
   "outputs": [],
   "source": []
  }
 ],
 "metadata": {
  "kernelspec": {
   "display_name": "Python 3 (ipykernel)",
   "language": "python",
   "name": "python3"
  },
  "language_info": {
   "codemirror_mode": {
    "name": "ipython",
    "version": 3
   },
   "file_extension": ".py",
   "mimetype": "text/x-python",
   "name": "python",
   "nbconvert_exporter": "python",
   "pygments_lexer": "ipython3",
   "version": "3.8.8"
  }
 },
 "nbformat": 4,
 "nbformat_minor": 5
}
