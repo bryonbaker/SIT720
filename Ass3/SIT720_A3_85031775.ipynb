{
 "cells": [
  {
   "cell_type": "markdown",
   "id": "9bdb9eef-2101-4dec-8a2e-1d6c0f48f270",
   "metadata": {},
   "source": [
    "# SIT720 Assignment 3\n",
    "Bryon Baker\n",
    "\n",
    "Student number: 85031775"
   ]
  },
  {
   "cell_type": "code",
   "execution_count": 1,
   "id": "84fb60c4-b451-4de8-b3b9-bad1e76a1248",
   "metadata": {},
   "outputs": [
    {
     "name": "stdout",
     "output_type": "stream",
     "text": [
      "Defaulting to user installation because normal site-packages is not writeable\n",
      "Requirement already satisfied: numpy in /home/bryon/.local/lib/python3.10/site-packages (1.22.3)\n",
      "Defaulting to user installation because normal site-packages is not writeable\n",
      "Requirement already satisfied: pandas in /home/bryon/.local/lib/python3.10/site-packages (1.4.2)\n",
      "Requirement already satisfied: pytz>=2020.1 in /home/bryon/.local/lib/python3.10/site-packages (from pandas) (2022.1)\n",
      "Requirement already satisfied: numpy>=1.21.0 in /home/bryon/.local/lib/python3.10/site-packages (from pandas) (1.22.3)\n",
      "Requirement already satisfied: python-dateutil>=2.8.1 in /home/bryon/.local/lib/python3.10/site-packages (from pandas) (2.8.2)\n",
      "Requirement already satisfied: six>=1.5 in /usr/lib/python3.10/site-packages (from python-dateutil>=2.8.1->pandas) (1.16.0)\n",
      "Defaulting to user installation because normal site-packages is not writeable\n",
      "Requirement already satisfied: scikit-learn in /home/bryon/.local/lib/python3.10/site-packages (1.0.2)\n",
      "Requirement already satisfied: joblib>=0.11 in /home/bryon/.local/lib/python3.10/site-packages (from scikit-learn) (1.1.0)\n",
      "Requirement already satisfied: numpy>=1.14.6 in /home/bryon/.local/lib/python3.10/site-packages (from scikit-learn) (1.22.3)\n",
      "Requirement already satisfied: threadpoolctl>=2.0.0 in /home/bryon/.local/lib/python3.10/site-packages (from scikit-learn) (3.1.0)\n",
      "Requirement already satisfied: scipy>=1.1.0 in /home/bryon/.local/lib/python3.10/site-packages (from scikit-learn) (1.8.0)\n"
     ]
    }
   ],
   "source": [
    "!pip3 install numpy\n",
    "!pip3 install pandas\n",
    "!pip3 install scikit-learn"
   ]
  },
  {
   "cell_type": "code",
   "execution_count": 2,
   "id": "524b8bd9-33bb-4d1c-a3c9-6a0c2a19aa86",
   "metadata": {},
   "outputs": [],
   "source": [
    "import warnings\n",
    "import random\n",
    "import pandas as pd # dataframe manipulation\n",
    "import numpy as np # linear algebra\n",
    "\n",
    "# Configure ssl for unverified content so we can load a dataset from an unknown source.\n",
    "import ssl\n",
    "ssl._create_default_https_context = ssl._create_unverified_context"
   ]
  },
  {
   "cell_type": "code",
   "execution_count": 4,
   "id": "9236ba04-5132-4871-908a-e088ff369173",
   "metadata": {},
   "outputs": [
    {
     "name": "stdout",
     "output_type": "stream",
     "text": [
      "   Unnamed: 0   load  ac  hourofday dayofweek    dif  absdif    max       var  \\\n",
      "0      105541  2.245   0          0       Sun  0.987   0.987  6.215  3.074549   \n",
      "1      105542  2.259   0          0       Sun  0.014   0.014  6.215  3.172867   \n",
      "2      105543  2.269   0          0       Sun  0.010   0.010  6.215  3.270112   \n",
      "3      105544  2.268   0          0       Sun -0.001   0.001  6.215  3.303763   \n",
      "4      105545  2.270   0          0       Sun  0.002   0.002  6.215  3.302744   \n",
      "\n",
      "    entropy  nonlinear     hurst  \n",
      "0  0.678886   0.052903  0.994071  \n",
      "1  0.667450   0.054829  0.994154  \n",
      "2  0.647777   0.056991  0.994220  \n",
      "3  0.629227   0.057606  0.994150  \n",
      "4  0.621295   0.082640  0.994041  \n",
      "\n"
     ]
    }
   ],
   "source": [
    "url = 'https://raw.githubusercontent.com/bryonbaker/datasets/main/SIT720/Ass3/ac_train_data.csv'\n",
    "train_df = pd.read_csv(url)\n",
    "print(f\"{train_df.head()}\\n\")"
   ]
  },
  {
   "cell_type": "code",
   "execution_count": 5,
   "id": "ff615579-3dbf-4e78-a2d9-b8eff9982a9f",
   "metadata": {},
   "outputs": [
    {
     "name": "stdout",
     "output_type": "stream",
     "text": [
      "   Unnamed: 0   load  ac  hourofday dayofweek    dif  absdif  max  var  \\\n",
      "0           1  1.869   0          0       Mon  0.000   0.000  0.0  0.0   \n",
      "1           2  1.673   0          0       Mon -0.196   0.196  0.0  0.0   \n",
      "2           3  1.660   0          0       Mon -0.013   0.013  0.0  0.0   \n",
      "3           4  1.772   0          0       Mon  0.112   0.112  0.0  0.0   \n",
      "4           5  1.679   0          0       Mon -0.093   0.093  0.0  0.0   \n",
      "\n",
      "   entropy  nonlinear  hurst  \n",
      "0      0.0        0.0    0.0  \n",
      "1      0.0        0.0    0.0  \n",
      "2      0.0        0.0    0.0  \n",
      "3      0.0        0.0    0.0  \n",
      "4      0.0        0.0    0.0  \n",
      "\n"
     ]
    }
   ],
   "source": [
    "url = 'https://raw.githubusercontent.com/bryonbaker/datasets/main/SIT720/Ass3/ac_test_data.csv'\n",
    "test_df = pd.read_csv(url)\n",
    "print(f\"{test_df.head()}\\n\")"
   ]
  },
  {
   "cell_type": "code",
   "execution_count": null,
   "id": "95373a27-80d3-4c31-ae22-16b658cc1012",
   "metadata": {},
   "outputs": [],
   "source": []
  }
 ],
 "metadata": {
  "kernelspec": {
   "display_name": "Python 3 (ipykernel)",
   "language": "python",
   "name": "python3"
  },
  "language_info": {
   "codemirror_mode": {
    "name": "ipython",
    "version": 3
   },
   "file_extension": ".py",
   "mimetype": "text/x-python",
   "name": "python",
   "nbconvert_exporter": "python",
   "pygments_lexer": "ipython3",
   "version": "3.10.4"
  }
 },
 "nbformat": 4,
 "nbformat_minor": 5
}
