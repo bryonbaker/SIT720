{
 "cells": [
  {
   "cell_type": "markdown",
   "id": "0a137561-070a-4de3-854f-e160cf9c343e",
   "metadata": {},
   "source": [
    "# SIT 720 Assignment 2\n",
    "Bryon Baker\n",
    "\n",
    "Student number: 85031775"
   ]
  },
  {
   "cell_type": "markdown",
   "id": "2b90cbf5-0280-4106-a246-004156d0868b",
   "metadata": {},
   "source": [
    "# Install required libraries"
   ]
  },
  {
   "cell_type": "code",
   "execution_count": 1,
   "id": "a4d040a3-7ce5-42bf-bdbe-d163092bd5fa",
   "metadata": {},
   "outputs": [
    {
     "name": "stdout",
     "output_type": "stream",
     "text": [
      "Requirement already satisfied: pandas in /opt/app-root/lib/python3.8/site-packages (1.2.4)\n",
      "Requirement already satisfied: pytz>=2017.3 in /opt/app-root/lib/python3.8/site-packages (from pandas) (2021.3)\n",
      "Requirement already satisfied: numpy>=1.16.5 in /opt/app-root/lib/python3.8/site-packages (from pandas) (1.19.2)\n",
      "Requirement already satisfied: python-dateutil>=2.7.3 in /opt/app-root/lib/python3.8/site-packages (from pandas) (2.8.2)\n",
      "Requirement already satisfied: six>=1.5 in /opt/app-root/lib/python3.8/site-packages (from python-dateutil>=2.7.3->pandas) (1.16.0)\n",
      "\u001b[33mWARNING: You are using pip version 21.3.1; however, version 22.0.4 is available.\n",
      "You should consider upgrading via the '/opt/app-root/bin/python3.8 -m pip install --upgrade pip' command.\u001b[0m\n",
      "Requirement already satisfied: numpy in /opt/app-root/lib/python3.8/site-packages (1.19.2)\n",
      "\u001b[33mWARNING: You are using pip version 21.3.1; however, version 22.0.4 is available.\n",
      "You should consider upgrading via the '/opt/app-root/bin/python3.8 -m pip install --upgrade pip' command.\u001b[0m\n",
      "Requirement already satisfied: matplotlib in /opt/app-root/lib/python3.8/site-packages (3.4.1)\n",
      "Requirement already satisfied: kiwisolver>=1.0.1 in /opt/app-root/lib/python3.8/site-packages (from matplotlib) (1.3.2)\n",
      "Requirement already satisfied: numpy>=1.16 in /opt/app-root/lib/python3.8/site-packages (from matplotlib) (1.19.2)\n",
      "Requirement already satisfied: pyparsing>=2.2.1 in /opt/app-root/lib/python3.8/site-packages (from matplotlib) (3.0.6)\n",
      "Requirement already satisfied: pillow>=6.2.0 in /opt/app-root/lib/python3.8/site-packages (from matplotlib) (9.0.0)\n",
      "Requirement already satisfied: cycler>=0.10 in /opt/app-root/lib/python3.8/site-packages (from matplotlib) (0.11.0)\n",
      "Requirement already satisfied: python-dateutil>=2.7 in /opt/app-root/lib/python3.8/site-packages (from matplotlib) (2.8.2)\n",
      "Requirement already satisfied: six>=1.5 in /opt/app-root/lib/python3.8/site-packages (from python-dateutil>=2.7->matplotlib) (1.16.0)\n",
      "\u001b[33mWARNING: You are using pip version 21.3.1; however, version 22.0.4 is available.\n",
      "You should consider upgrading via the '/opt/app-root/bin/python3.8 -m pip install --upgrade pip' command.\u001b[0m\n"
     ]
    }
   ],
   "source": [
    "!pip3 install pandas\n",
    "!pip3 install numpy\n",
    "!pip3 install matplotlib"
   ]
  },
  {
   "cell_type": "code",
   "execution_count": 2,
   "id": "1c604cfc-4562-40d3-8b51-5dfd4cd1a60c",
   "metadata": {},
   "outputs": [],
   "source": [
    "import random\n",
    "import pandas as pd\n",
    "import numpy as np\n",
    "import matplotlib.pyplot as plt"
   ]
  },
  {
   "cell_type": "code",
   "execution_count": null,
   "id": "6d180ae9-e343-4587-a5cf-a86f29dd5aaa",
   "metadata": {},
   "outputs": [],
   "source": [
    "# Seed the random nunmber generator to ensure K-Means randomisation works properly.\n",
    "random.seed()\n",
    "\n",
    "print(f\"Seeding random number generator. Random numb er is: {random.random()}\")"
   ]
  },
  {
   "cell_type": "markdown",
   "id": "0abef4be-12b6-4baf-a02b-32ec7c7ade9c",
   "metadata": {},
   "source": [
    "## Load the SCADI Dataset"
   ]
  },
  {
   "cell_type": "code",
   "execution_count": 3,
   "id": "c6d89b77-c162-4fbd-bf65-d27bc0e2fc35",
   "metadata": {},
   "outputs": [
    {
     "name": "stdout",
     "output_type": "stream",
     "text": [
      "   Gender  Age  d 5100-0  d 5100-1  d 5100-2  d 5100-3  d 5100-4  d 5100-8  \\\n",
      "0       0   18         0         0         0         0         1         0   \n",
      "1       0   22         0         0         0         0         1         0   \n",
      "2       0   18         0         0         0         1         0         0   \n",
      "3       1   18         0         0         0         0         1         0   \n",
      "4       0   19         0         0         0         0         1         0   \n",
      "\n",
      "   d 5100-9  d 5101-0  ...  d 57022-8  d 57022-9  d 571-0  d 571-1  d 571-2  \\\n",
      "0         0         0  ...          0          0        0        0        0   \n",
      "1         0         0  ...          0          0        0        0        0   \n",
      "2         0         0  ...          0          0        0        0        0   \n",
      "3         0         0  ...          0          0        0        0        1   \n",
      "4         0         0  ...          0          0        0        0        1   \n",
      "\n",
      "   d 571-3  d 571-4  d 571-8  d 571-9  Classes  \n",
      "0        0        1        0        0   class6  \n",
      "1        1        0        0        0   class6  \n",
      "2        1        0        0        0   class6  \n",
      "3        0        0        0        0   class6  \n",
      "4        0        0        0        0   class6  \n",
      "\n",
      "[5 rows x 206 columns]\n",
      "\n"
     ]
    }
   ],
   "source": [
    "import ssl\n",
    "ssl._create_default_https_context = ssl._create_unverified_context\n",
    "\n",
    "url = 'https://raw.githubusercontent.com/bryonbaker/datasets/main/SIT720/Ass2/SCADI.csv'\n",
    "full_df = pd.read_csv(url)\n",
    "print(f\"{full_df.head()}\\n\")"
   ]
  },
  {
   "cell_type": "code",
   "execution_count": 4,
   "id": "84b0bc7e-5906-410a-b033-9837dbee5234",
   "metadata": {},
   "outputs": [
    {
     "name": "stdout",
     "output_type": "stream",
     "text": [
      "Initial shape: (70, 206)\n"
     ]
    }
   ],
   "source": [
    "# Display stats on the data frame\n",
    "shape = full_df.shape\n",
    "print(f\"Initial shape: {shape}\")"
   ]
  },
  {
   "cell_type": "markdown",
   "id": "8cf6a1d1-d79c-4f38-b36f-08a994413128",
   "metadata": {},
   "source": [
    "# Question 1\n",
    "1. Determine the number of subgroups (clusters) from the dataset using attributes 3-255.\n",
    "2. Is this the same as the number of classes presented by attribute 206 (Classes)? \n",
    "3. Explain and justify your findings."
   ]
  },
  {
   "cell_type": "code",
   "execution_count": 5,
   "id": "c69156cc-eade-45c7-a2b2-f0d6e237c2a1",
   "metadata": {},
   "outputs": [
    {
     "name": "stdout",
     "output_type": "stream",
     "text": [
      "Number of unique classes in the original dataset is: 7\n",
      "New shape: (70, 203)\n",
      "   d 5100-0  d 5100-1  d 5100-2  d 5100-3  d 5100-4  d 5100-8  d 5100-9  \\\n",
      "0         0         0         0         0         1         0         0   \n",
      "1         0         0         0         0         1         0         0   \n",
      "2         0         0         0         1         0         0         0   \n",
      "3         0         0         0         0         1         0         0   \n",
      "4         0         0         0         0         1         0         0   \n",
      "\n",
      "   d 5101-0  d 5101-1  d 5101-2  ...  d 57022-4  d 57022-8  d 57022-9  \\\n",
      "0         0         0         0  ...          0          0          0   \n",
      "1         0         0         0  ...          0          0          0   \n",
      "2         0         0         0  ...          0          0          0   \n",
      "3         0         0         0  ...          0          0          0   \n",
      "4         0         0         0  ...          0          0          0   \n",
      "\n",
      "   d 571-0  d 571-1  d 571-2  d 571-3  d 571-4  d 571-8  d 571-9  \n",
      "0        0        0        0        0        1        0        0  \n",
      "1        0        0        0        1        0        0        0  \n",
      "2        0        0        0        1        0        0        0  \n",
      "3        0        0        1        0        0        0        0  \n",
      "4        0        0        1        0        0        0        0  \n",
      "\n",
      "[5 rows x 203 columns]\n"
     ]
    }
   ],
   "source": [
    "# Count the number of classes in the dataset before we drop the column. This is used in Question 3\n",
    "num_classes_in_dataset = full_df['Classes'].nunique()\n",
    "print(f\"Number of unique classes in the original dataset is: {num_classes_in_dataset}\")\n",
    "\n",
    "# Drop attributes: 1, 2, and 205\n",
    "df = full_df.drop([\"Gender\",\"Age\",\"Classes\"], axis=1)\n",
    "shape = df.shape\n",
    "print(f\"New shape: {shape}\")\n",
    "print(f\"{df.head()}\")"
   ]
  },
  {
   "cell_type": "code",
   "execution_count": 6,
   "id": "0582f875-3581-4649-a31b-0f1ae395d7e9",
   "metadata": {},
   "outputs": [
    {
     "data": {
      "image/png": "[encoded data removed]",
      "text/plain": [
       "<Figure size 720x720 with 1 Axes>"
      ]
     },
     "metadata": {
      "needs_background": "light"
     },
     "output_type": "display_data"
    }
   ],
   "source": [
    "from sklearn.cluster import KMeans\n",
    "import matplotlib.pyplot as plt\n",
    "\n",
    "distortions = []\n",
    "ref_xLine = [2,11]\n",
    "ref_yLine = [625, 475]\n",
    "\n",
    "min_k = 1\n",
    "max_k = 12\n",
    "for n in range(min_k,max_k):\n",
    "    km = KMeans( n_clusters=n, init='random', n_init=10, max_iter=300, tol=1e-04, random_state=0 )\n",
    "    y_km = km.fit(df)\n",
    "    distortions.append(km.inertia_)\n",
    "\n",
    "# Calculate the co-ordinates of the reference line that passes through the points at k=6 and k = 11\n",
    "x1 = num_classes_in_dataset\n",
    "x2 = max_k-1\n",
    "y1 = distortions[num_classes_in_dataset-1]\n",
    "y2 = distortions[max_k-2]\n",
    "m =  (y2 - y1) / (x2 - x1)\n",
    "c = y1 - (m * x1)\n",
    "ref_y1 = (m * 2) + c    # Calc the left of the reference line\n",
    "ref_yLine[0] = ref_y1\n",
    "    \n",
    "# Scale the plot so the reference line is more distinct form the reference line\n",
    "fig = plt.figure()\n",
    "fig.set_size_inches(10,10)\n",
    "\n",
    "# plot the elbow chart and include a reference line based on the number of classes in the dataset.\n",
    "plt.plot(range(min_k, max_k), distortions, marker='o')\n",
    "plt.xlabel('Number of clusters')\n",
    "plt.ylabel('Distortion')\n",
    "\n",
    "# Plot the reference line to highlight where the elbow is located.\n",
    "# The reference line is used to help discuss any differences between optimal clusters from the elbow versus what is in the dataset.\n",
    "plt.plot(ref_xLine, ref_yLine, label = \"line 1\")\n",
    "\n",
    "plt.show()"
   ]
  },
  {
   "cell_type": "markdown",
   "id": "4bc8bd5b-910d-4e79-a340-41016c1740d9",
   "metadata": {},
   "source": [
    "## Discussion\n",
    "Based on a visual inspection of the elbow chart the number of clusters is between 3 and 6. This range is because the gradient gradually flattens out from 3 to 6.\n",
    "\n",
    "The orange reference line is intended to illustrate where the curve has properly flattened. The line passes through the actual number of classes in the dataset. This is intended to illustrate the limitations of visual inspection to identify the elbow and answer the question \"should I look for the elbow at the start or the end of the curve?\"\n",
    "\n",
    "Even with the reference line, it is questionable as to whether the optimal number of clusters is 6 or 7. Scaling the above chart will possibly lead a different conclusion.\n",
    "\n",
    "There are other more empiricle methods such as the silhouette method (Kaufman and Rousseeuw [1990]) that can be used to determine the optimal clusters"
   ]
  },
  {
   "cell_type": "markdown",
   "id": "8a2e4511-b2f7-4d0a-ab0b-2ea8f29baae0",
   "metadata": {},
   "source": [
    "# Question 2\n",
    "For the dataset, perform PCA. \n",
    "1. plot the captured variance with respect to increasing latent dimensionality.\n",
    "\n",
    "   What is the minimum dimension that captures:\n",
    "    - At least 89% variance\n",
    "    - At least 99% variance"
   ]
  },
  {
   "cell_type": "code",
   "execution_count": 7,
   "id": "fc1434a8-8cfd-44f2-ae93-2961b00aad6d",
   "metadata": {},
   "outputs": [
    {
     "name": "stdout",
     "output_type": "stream",
     "text": [
      "Number of comoponets: 70\n",
      "PCA details => PCA(n_components=70)\n",
      "==================================================\n",
      "Explained Variance:\n",
      "[1.88806809e-01 1.40294493e-01 9.28576978e-02 5.55026572e-02\n",
      " 4.61869047e-02 4.34725875e-02 3.69877993e-02 3.13335959e-02\n",
      " 2.84580857e-02 2.76366269e-02 2.54158872e-02 2.29197949e-02\n",
      " 2.19763646e-02 1.99686493e-02 1.71542044e-02 1.68217640e-02\n",
      " 1.49495489e-02 1.35025077e-02 1.30312569e-02 1.21237442e-02\n",
      " 1.17685546e-02 9.66224236e-03 8.63248486e-03 7.84566734e-03\n",
      " 7.59307576e-03 7.12095577e-03 6.55889086e-03 6.12964769e-03\n",
      " 5.91117990e-03 5.17548744e-03 5.03651222e-03 4.65382307e-03\n",
      " 4.39521523e-03 4.10905658e-03 3.56350637e-03 3.48557543e-03\n",
      " 3.19702197e-03 2.97311722e-03 2.42793434e-03 2.24198157e-03\n",
      " 2.01187470e-03 1.91211156e-03 1.86048071e-03 1.69712604e-03\n",
      " 1.56776044e-03 1.23397690e-03 1.10068456e-03 9.44378334e-04\n",
      " 9.25930483e-04 7.94493095e-04 6.85276056e-04 5.32382661e-04\n",
      " 5.02833242e-04 4.16181322e-04 3.63010110e-04 3.39694589e-04\n",
      " 2.48292321e-04 2.40044414e-04 1.69408256e-04 1.53845295e-04\n",
      " 1.35840610e-04 1.20589850e-04 8.05520556e-05 3.71997252e-05\n",
      " 3.48783141e-05 6.09060748e-06 2.15474998e-06 3.72355775e-32\n",
      " 9.42228804e-34 7.14000976e-34]\n",
      "==================================================\n",
      "Cumulative Explained Variance:\n",
      "[ 18.88068085  32.91013012  42.1958999   47.74616562  52.36485609\n",
      "  56.71211484  60.41089477  63.54425436  66.39006293  69.15372562\n",
      "  71.69531433  73.98729383  76.18493029  78.18179522  79.89721566\n",
      "  81.57939206  83.07434695  84.42459773  85.72772342  86.94009784\n",
      "  88.1169533   89.08317754  89.94642602  90.73099276  91.49030033\n",
      "  92.20239591  92.858285    93.47124977  94.06236776  94.5799165\n",
      "  95.08356772  95.54895003  95.98847155  96.39937721  96.75572785\n",
      "  97.10428539  97.42398759  97.72129931  97.96409274  98.1882909\n",
      "  98.38947837  98.58068953  98.7667376   98.9364502   99.09322624\n",
      "  99.21662393  99.32669239  99.42113022  99.51372327  99.59317258\n",
      "  99.66170019  99.71493845  99.76522178  99.80683991  99.84314092\n",
      "  99.87711038  99.90193961  99.92594405  99.94288488  99.95826941\n",
      "  99.97185347  99.98391245  99.99196766  99.99568763  99.99917546\n",
      "  99.99978453 100.         100.         100.         100.        ]\n"
     ]
    },
    {
     "data": {
      "image/png": "[encoded data removed]",
      "text/plain": [
       "<Figure size 432x288 with 1 Axes>"
      ]
     },
     "metadata": {
      "needs_background": "light"
     },
     "output_type": "display_data"
    },
    {
     "name": "stdout",
     "output_type": "stream",
     "text": [
      "==================================================\n"
     ]
    }
   ],
   "source": [
    "from sklearn.preprocessing import scale\n",
    "from sklearn.decomposition import PCA\n",
    "\n",
    "# Normalise all of the data to ensure they are of similar magnitude.\n",
    "Xnorm = scale(df)\n",
    "\n",
    "# Perform the Principal Component Analysis. The number of components is the number of coumns in the dataset.\n",
    "# The number of components is the minimum of the number of data elements and festures \n",
    "n_components=min(df.shape[0], df.shape[1])\n",
    "print(\"Number of comoponets: {}\".format(n_components))\n",
    "pca = PCA(n_components)\n",
    "pca.fit(Xnorm)\n",
    "print(\"PCA details => {}\".format(pca))\n",
    "\n",
    "print('='*50)\n",
    "print(\"Explained Variance:\")\n",
    "# Calculate the amount of variance explained by each PC\n",
    "var= pca.explained_variance_ratio_\n",
    "print(var)\n",
    "\n",
    "print('='*50)\n",
    "print(\"Cumulative Explained Variance:\")\n",
    "\n",
    "#cum_var=np.cumsum(np.round(pca.explained_variance_ratio_, decimals=4)*100)\n",
    "cum_var=np.cumsum(pca.explained_variance_ratio_*100)\n",
    "print(cum_var)\n",
    "\n",
    "pca_num = a_list = list(range(1, n_components+1))\n",
    "plt.plot(pca_num, cum_var, marker='.')\n",
    "plt.xlabel(\"Principal components\")\n",
    "plt.ylabel(\"Variance captured\")\n",
    "plt.show()\n",
    "\n",
    "dimensions = {}\n",
    "\n",
    "# Find the minimum dimensions that capture 89% and 99% respectively\n",
    "#num_dimensions = next(k for k, value in enumerate(cum_var) if value >= 89) \n",
    "#print(\"Minimum dimension for at least 89% variance is: \", num_dimensions)\n",
    "#dimensions[89] = num_dimensions\n",
    "\n",
    "#num_dimensions = next(k for k, value in enumerate(cum_var) if value >= 99) \n",
    "#print(\"Minimum dimension for at least 99% variance is: \", num_dimensions)\n",
    "#dimensions[99] = num_dimensions\n",
    "\n",
    "num_dimensions = 0\n",
    "for value in cum_var:\n",
    "    if value >= 89:\n",
    "        dimensions[value]=num_dimensions\n",
    "        break\n",
    "    num_dimensions += 1\n",
    "\n",
    "num_dimensions = 0\n",
    "for value in cum_var:\n",
    "    if value >= 99:\n",
    "        dimensions[value]=num_dimensions\n",
    "        break\n",
    "    num_dimensions += 1\n",
    "\n",
    "print('='*50)\n",
    "\n",
    "# The \"dictionary\" tuple contains a map of >= 89%, variance and >=99%, variance. This is used in the next question."
   ]
  },
  {
   "cell_type": "markdown",
   "id": "9a58b791-3749-4e64-a597-1ede13b06044",
   "metadata": {},
   "source": [
    "# Question 3\n",
    "Determine the purity of the clusters formed by the number of principal components that captured 89% and 99% variances respectively. Plot a line ghraph of the purity scores against the captured variances.\n",
    "\n",
    "Discuss your findings."
   ]
  },
  {
   "cell_type": "markdown",
   "id": "500829ae-5f3e-4a37-8c8d-9de5d3ecca88",
   "metadata": {},
   "source": [
    "### Helper functions\n",
    "The following code segment defines some helper functions for calculating clulstering purity"
   ]
  },
  {
   "cell_type": "code",
   "execution_count": 10,
   "id": "aba8fa9e-0663-4f86-836f-cfaaa1baae96",
   "metadata": {},
   "outputs": [],
   "source": [
    "# Takes a list that may contain duplicates and returns a list with unique ites.\n",
    "def uniqueList(list1):\n",
    "    # insert the list to the set\n",
    "    list_set = set(list1)\n",
    "    # convert the set to the list\n",
    "    unique_list = (list(list_set))\n",
    "    unique_list.sort()\n",
    "    return unique_list\n",
    "\n",
    "# Searches a Series and finds the item that appears with the greatest frequency and returns the count.\n",
    "def findMaxLabel( data ):\n",
    "    unique, counts = np.unique(data, return_counts=True)\n",
    "    # print(np.asarray((unique, counts)).T)\n",
    "    idx = np.argmax(counts, axis=0)\n",
    "    # print(f\"Index of max: {idx}\")\n",
    "\n",
    "    return unique[idx], counts[idx]\n",
    "\n",
    "# Given a dataframe of columns \"cluster\" and \"label\", it calculates the cluster purity\n",
    "def calculatePurity(data):\n",
    "    print(\"INFO: Calculating clustering purity.\")\n",
    "    print(\"INFO: Input data:\\n{}\".format(data))\n",
    "          \n",
    "    assert data.shape[1] > 0        # Check we won't have a divide by zero error later\n",
    "\n",
    "    # Get a list of clusters that has no duplicates so we can use it as a key.\n",
    "    clusterList = uniqueList(data['cluster'])\n",
    "    # print(f\"Cluster list: {clusterList}\")\n",
    "\n",
    "    # Go through each cluster one by one.\n",
    "    runningSum = 0\n",
    "    for c in clusterList:\n",
    "        # print(f\"Counting instances in cluster {c}\")\n",
    "        m1,m2 = findMaxLabel(data[data[\"cluster\"] == c][\"label\"])\n",
    "        print(\"INFO: Maximum frequency in cluster {} is label {}. It has a count of {}.\".format(c,m1,m2))\n",
    "        runningSum = runningSum + m2\n",
    "\n",
    "    purity = runningSum / data.shape[0]\n",
    "\n",
    "    return purity\n",
    "    "
   ]
  },
  {
   "cell_type": "markdown",
   "id": "ea6fbf59-b45a-472f-be09-da1ed5b38ef6",
   "metadata": {},
   "source": [
    "### Calculate Purity"
   ]
  },
  {
   "cell_type": "code",
   "execution_count": 23,
   "id": "ed41cb08-ef74-4dc4-b6d1-870541f31946",
   "metadata": {},
   "outputs": [
    {
     "name": "stdout",
     "output_type": "stream",
     "text": [
      "\n",
      "============================================================\n",
      "INFO: Calculate the the purity score for 89.0832% CV using 21 dimensions:\n",
      "INFO: Xnorm shape: (70, 203)\n",
      "INFO: Zred shape: (70, 21)\n",
      "INFO: Calculating clustering purity.\n",
      "INFO: Input data:\n",
      "    cluster   label\n",
      "0         2  class6\n",
      "1         2  class6\n",
      "2         2  class6\n",
      "3         2  class6\n",
      "4         2  class6\n",
      "..      ...     ...\n",
      "65        6  class4\n",
      "66        6  class3\n",
      "67        2  class6\n",
      "68        2  class6\n",
      "69        2  class6\n",
      "\n",
      "[70 rows x 2 columns]\n",
      "INFO: Maximum frequency in cluster 0 is label class7. It has a count of 5.\n",
      "INFO: Maximum frequency in cluster 1 is label class6. It has a count of 1.\n",
      "INFO: Maximum frequency in cluster 2 is label class6. It has a count of 27.\n",
      "INFO: Maximum frequency in cluster 3 is label class2. It has a count of 5.\n",
      "INFO: Maximum frequency in cluster 4 is label class7. It has a count of 6.\n",
      "INFO: Maximum frequency in cluster 5 is label class4. It has a count of 10.\n",
      "INFO: Maximum frequency in cluster 6 is label class7. It has a count of 5.\n",
      "INFO: Purity score is: 0.8428571428571429\n",
      "\n",
      "============================================================\n",
      "INFO: Calculate the the purity score for 99.0932% CV using 44 dimensions:\n",
      "INFO: Xnorm shape: (70, 203)\n",
      "INFO: Zred shape: (70, 44)\n",
      "INFO: Calculating clustering purity.\n",
      "INFO: Input data:\n",
      "    cluster   label\n",
      "0         2  class6\n",
      "1         2  class6\n",
      "2         2  class6\n",
      "3         2  class6\n",
      "4         2  class6\n",
      "..      ...     ...\n",
      "65        5  class4\n",
      "66        6  class3\n",
      "67        2  class6\n",
      "68        2  class6\n",
      "69        2  class6\n",
      "\n",
      "[70 rows x 2 columns]\n",
      "INFO: Maximum frequency in cluster 0 is label class7. It has a count of 5.\n",
      "INFO: Maximum frequency in cluster 1 is label class6. It has a count of 1.\n",
      "INFO: Maximum frequency in cluster 2 is label class6. It has a count of 27.\n",
      "INFO: Maximum frequency in cluster 3 is label class2. It has a count of 5.\n",
      "INFO: Maximum frequency in cluster 4 is label class7. It has a count of 6.\n",
      "INFO: Maximum frequency in cluster 5 is label class4. It has a count of 11.\n",
      "INFO: Maximum frequency in cluster 6 is label class7. It has a count of 4.\n",
      "INFO: Purity score is: 0.8428571428571429\n",
      "\n",
      "############################################################\n",
      "Purity scores by cumulative variance results:\n",
      "   purity_score   variance\n",
      "0      0.842857  89.083178\n",
      "1      0.842857  99.093226\n",
      "############################################################\n",
      "\n"
     ]
    }
   ],
   "source": [
    "# Using the optimal number of clusters found in question 1, perform a K-Means clustering for the num_dimensions found in question 2 and calculate the purity score\n",
    "# To measure pruity we need to count the majority label in a cluster and assign the cluster that label. However, the labels have been removed because we to not want the label to be part of the clustering.\n",
    "# This method therefore will perform k-means on the non-PCA dataset and \n",
    "\n",
    "# Using the dictionary of cumulative variance and number of principal components created in the earlier question\n",
    "# Calculate the purity score for each.\n",
    "\n",
    "# Creaye a data frame for the final plot.\n",
    "results_df = pd.DataFrame(columns=['purity_score', 'variance'])\n",
    "\n",
    "for percentage in dimensions:\n",
    "    print(\"\\n\"+\"=\"*60)\n",
    "    n = dimensions[percentage]\n",
    "    print(\"INFO: Calculate the the purity score for {:.4f}% CV using {} dimensions:\".format(percentage,n))\n",
    "    \n",
    "    # Perform the dimensionality reduction using the supplied number of components.\n",
    "    pca = PCA(n_components=n)\n",
    "    Zred = pca.fit_transform(Xnorm)\n",
    "    print(\"INFO: Xnorm shape: {}\".format(Xnorm.shape))\n",
    "    print(\"INFO: Zred shape: {}\".format(Zred.shape))\n",
    "    \n",
    "    # Perform the K-Means clustering. Given the anlysis in Q1 we will use the number of classes in the original dataset for this clustering activity.\n",
    "    km = KMeans( n_clusters=num_classes_in_dataset, init='random', n_init=10, max_iter=300, tol=1e-04, random_state=0 )\n",
    "    y_km = km.fit(Zred)\n",
    "    \n",
    "    # The K-Means clustering algorithm preserves the order of the input data in the resultant labels. Using the clusters defined during training, \n",
    "    # Create a nx2 table of the identified clusters and the class labels in the input dataset. Use this to calculate the cluster purity.\n",
    "    d = pd.concat([pd.Series(y_km.labels_),pd.Series(full_df['Classes'].array)], axis=1)\n",
    "    d.columns = ['cluster', 'label']\n",
    "    # print(\"Allocation of labels to clusters is:\\n{}\".format(d))\n",
    "    purity = calculatePurity(d)\n",
    "    print(f\"INFO: Purity score is: {purity}\")\n",
    "    results_df = results_df.append({'purity_score': purity, 'variance': percentage}, ignore_index=True)\n",
    "    \n",
    "\n",
    "# Print the summary results\n",
    "print(\"\\n\"+\"#\"*60)\n",
    "print(\"Purity scores by cumulative variance results:\")\n",
    "print(results_df)\n",
    "\n",
    "\n",
    "print(\"#\"*60+\"\\n\")"
   ]
  },
  {
   "cell_type": "markdown",
   "id": "91886b58-4fdf-46a1-a742-57b0c9954b9d",
   "metadata": {},
   "source": [
    "### Plot the Graphs\n",
    "Plot a line graph of the purity scores against the "
   ]
  },
  {
   "cell_type": "code",
   "execution_count": 21,
   "id": "4f43208d-9ee6-466f-a865-c3a30ae002f6",
   "metadata": {},
   "outputs": [
    {
     "data": {
      "image/png": "[encoded data removed]",
      "text/plain": [
       "<Figure size 432x288 with 1 Axes>"
      ]
     },
     "metadata": {
      "needs_background": "light"
     },
     "output_type": "display_data"
    }
   ],
   "source": [
    "# gca stands for 'get current axis'\n",
    "ax = plt.gca()\n",
    "\n",
    "results_df.plot(kind='line',x='variance',y='purity_score',ax=ax)\n",
    "\n",
    "plt.show()"
   ]
  },
  {
   "cell_type": "markdown",
   "id": "ca8e8429-1796-4f8c-8dd6-58e54909cd94",
   "metadata": {},
   "source": [
    "## Discussion"
   ]
  },
  {
   "cell_type": "code",
   "execution_count": null,
   "id": "c2ff72e9-ce5d-4f47-a65d-b86cf686607c",
   "metadata": {},
   "outputs": [],
   "source": []
  },
  {
   "cell_type": "code",
   "execution_count": null,
   "id": "009a9fde-c9ae-48ca-857a-efc7c95f3dc6",
   "metadata": {},
   "outputs": [],
   "source": [
    "\n"
   ]
  },
  {
   "cell_type": "code",
   "execution_count": null,
   "id": "103d03d4-d5eb-4c29-9b6d-68c6f122fb6e",
   "metadata": {},
   "outputs": [],
   "source": []
  }
 ],
 "metadata": {
  "kernelspec": {
   "display_name": "Python 3 (ipykernel)",
   "language": "python",
   "name": "python3"
  },
  "language_info": {
   "codemirror_mode": {
    "name": "ipython",
    "version": 3
   },
   "file_extension": ".py",
   "mimetype": "text/x-python",
   "name": "python",
   "nbconvert_exporter": "python",
   "pygments_lexer": "ipython3",
   "version": "3.8.8"
  }
 },
 "nbformat": 4,
 "nbformat_minor": 5
}
