{
 "cells": [
  {
   "cell_type": "markdown",
   "id": "0a137561-070a-4de3-854f-e160cf9c343e",
   "metadata": {},
   "source": [
    "# SIT 720 Assignment 2\n",
    "Bryon Baker\n",
    "\n",
    "Student number: 85031775"
   ]
  },
  {
   "cell_type": "markdown",
   "id": "2b90cbf5-0280-4106-a246-004156d0868b",
   "metadata": {},
   "source": [
    "# Install required libraries"
   ]
  },
  {
   "cell_type": "code",
   "execution_count": 1,
   "id": "dbab9bf0-bb3a-49e8-ab7f-d4980bb15b88",
   "metadata": {},
   "outputs": [
    {
     "name": "stdout",
     "output_type": "stream",
     "text": [
      "Requirement already satisfied: pandas in /opt/app-root/lib/python3.8/site-packages (1.2.4)\n",
      "Requirement already satisfied: pytz>=2017.3 in /opt/app-root/lib/python3.8/site-packages (from pandas) (2021.3)\n",
      "Requirement already satisfied: numpy>=1.16.5 in /opt/app-root/lib/python3.8/site-packages (from pandas) (1.19.2)\n",
      "Requirement already satisfied: python-dateutil>=2.7.3 in /opt/app-root/lib/python3.8/site-packages (from pandas) (2.8.2)\n",
      "Requirement already satisfied: six>=1.5 in /opt/app-root/lib/python3.8/site-packages (from python-dateutil>=2.7.3->pandas) (1.16.0)\n",
      "\u001b[33mWARNING: You are using pip version 21.3.1; however, version 22.0.4 is available.\n",
      "You should consider upgrading via the '/opt/app-root/bin/python3.8 -m pip install --upgrade pip' command.\u001b[0m\n",
      "Requirement already satisfied: numpy in /opt/app-root/lib/python3.8/site-packages (1.19.2)\n",
      "\u001b[33mWARNING: You are using pip version 21.3.1; however, version 22.0.4 is available.\n",
      "You should consider upgrading via the '/opt/app-root/bin/python3.8 -m pip install --upgrade pip' command.\u001b[0m\n",
      "Requirement already satisfied: matplotlib in /opt/app-root/lib/python3.8/site-packages (3.4.1)\n",
      "Requirement already satisfied: numpy>=1.16 in /opt/app-root/lib/python3.8/site-packages (from matplotlib) (1.19.2)\n",
      "Requirement already satisfied: cycler>=0.10 in /opt/app-root/lib/python3.8/site-packages (from matplotlib) (0.11.0)\n",
      "Requirement already satisfied: pyparsing>=2.2.1 in /opt/app-root/lib/python3.8/site-packages (from matplotlib) (3.0.6)\n",
      "Requirement already satisfied: pillow>=6.2.0 in /opt/app-root/lib/python3.8/site-packages (from matplotlib) (9.0.0)\n",
      "Requirement already satisfied: kiwisolver>=1.0.1 in /opt/app-root/lib/python3.8/site-packages (from matplotlib) (1.3.2)\n",
      "Requirement already satisfied: python-dateutil>=2.7 in /opt/app-root/lib/python3.8/site-packages (from matplotlib) (2.8.2)\n",
      "Requirement already satisfied: six>=1.5 in /opt/app-root/lib/python3.8/site-packages (from python-dateutil>=2.7->matplotlib) (1.16.0)\n",
      "\u001b[33mWARNING: You are using pip version 21.3.1; however, version 22.0.4 is available.\n",
      "You should consider upgrading via the '/opt/app-root/bin/python3.8 -m pip install --upgrade pip' command.\u001b[0m\n",
      "Requirement already satisfied: yellowbrick in /opt/app-root/lib/python3.8/site-packages (1.4)\n",
      "Requirement already satisfied: scipy>=1.0.0 in /opt/app-root/lib/python3.8/site-packages (from yellowbrick) (1.6.2)\n",
      "Requirement already satisfied: cycler>=0.10.0 in /opt/app-root/lib/python3.8/site-packages (from yellowbrick) (0.11.0)\n",
      "Requirement already satisfied: matplotlib!=3.0.0,>=2.0.2 in /opt/app-root/lib/python3.8/site-packages (from yellowbrick) (3.4.1)\n",
      "Requirement already satisfied: numpy>=1.16.0 in /opt/app-root/lib/python3.8/site-packages (from yellowbrick) (1.19.2)\n",
      "Requirement already satisfied: scikit-learn>=1.0.0 in /opt/app-root/lib/python3.8/site-packages (from yellowbrick) (1.0.2)\n",
      "Requirement already satisfied: pyparsing>=2.2.1 in /opt/app-root/lib/python3.8/site-packages (from matplotlib!=3.0.0,>=2.0.2->yellowbrick) (3.0.6)\n",
      "Requirement already satisfied: python-dateutil>=2.7 in /opt/app-root/lib/python3.8/site-packages (from matplotlib!=3.0.0,>=2.0.2->yellowbrick) (2.8.2)\n",
      "Requirement already satisfied: kiwisolver>=1.0.1 in /opt/app-root/lib/python3.8/site-packages (from matplotlib!=3.0.0,>=2.0.2->yellowbrick) (1.3.2)\n",
      "Requirement already satisfied: pillow>=6.2.0 in /opt/app-root/lib/python3.8/site-packages (from matplotlib!=3.0.0,>=2.0.2->yellowbrick) (9.0.0)\n",
      "Requirement already satisfied: threadpoolctl>=2.0.0 in /opt/app-root/lib/python3.8/site-packages (from scikit-learn>=1.0.0->yellowbrick) (3.0.0)\n",
      "Requirement already satisfied: joblib>=0.11 in /opt/app-root/lib/python3.8/site-packages (from scikit-learn>=1.0.0->yellowbrick) (1.1.0)\n",
      "Requirement already satisfied: six>=1.5 in /opt/app-root/lib/python3.8/site-packages (from python-dateutil>=2.7->matplotlib!=3.0.0,>=2.0.2->yellowbrick) (1.16.0)\n",
      "\u001b[33mWARNING: You are using pip version 21.3.1; however, version 22.0.4 is available.\n",
      "You should consider upgrading via the '/opt/app-root/bin/python3.8 -m pip install --upgrade pip' command.\u001b[0m\n"
     ]
    }
   ],
   "source": [
    "!pip3 install pandas\n",
    "!pip3 install numpy\n",
    "!pip3 install matplotlib\n",
    "!pip3 install yellowbrick"
   ]
  },
  {
   "cell_type": "code",
   "execution_count": 2,
   "id": "4e4f2401-ebc1-4592-beeb-44a907292b8e",
   "metadata": {},
   "outputs": [],
   "source": [
    "import random\n",
    "import pandas as pd # dataframe manipulation\n",
    "import numpy as np # linear algebra\n",
    "\n",
    "# data visualization\n",
    "import matplotlib.pyplot as plt\n",
    "%matplotlib inline\n",
    "from yellowbrick.cluster import KElbowVisualizer # cluster visualizer\n",
    "\n",
    "# sklearn kmeans\n",
    "from sklearn.cluster import KMeans\n",
    "from sklearn.metrics.cluster import contingency_matrix"
   ]
  },
  {
   "cell_type": "code",
   "execution_count": 3,
   "id": "c2ff72e9-ce5d-4f47-a65d-b86cf686607c",
   "metadata": {},
   "outputs": [
    {
     "name": "stdout",
     "output_type": "stream",
     "text": [
      "Seeding random number generator. Random number is: 0.15329803943294606\n"
     ]
    }
   ],
   "source": [
    "# Seed the random nunmber generator to ensure K-Means randomisation works properly.\n",
    "random.seed()\n",
    "\n",
    "print(f\"Seeding random number generator. Random number is: {random.random()}\")"
   ]
  },
  {
   "cell_type": "code",
   "execution_count": 4,
   "id": "214a3b96-e762-4e12-ac61-158e00604527",
   "metadata": {},
   "outputs": [],
   "source": [
    "# Uncomment this line for debugging dataframe contents.\n",
    "#np.set_printoptions(threshold=np.inf)"
   ]
  },
  {
   "cell_type": "markdown",
   "id": "f72dac0f-86a0-4ca9-8c1e-f2969e8c8429",
   "metadata": {},
   "source": [
    "# Part 1"
   ]
  },
  {
   "cell_type": "markdown",
   "id": "bbce1788-62f0-438a-91be-6d7468c0a8d4",
   "metadata": {},
   "source": [
    "## Load the SCADI Dataset"
   ]
  },
  {
   "cell_type": "code",
   "execution_count": 5,
   "id": "bc7f7f05-fd69-4cae-ba8e-806645c194b6",
   "metadata": {},
   "outputs": [
    {
     "name": "stdout",
     "output_type": "stream",
     "text": [
      "   Gender  Age  d 5100-0  d 5100-1  d 5100-2  d 5100-3  d 5100-4  d 5100-8  \\\n",
      "0       0   18         0         0         0         0         1         0   \n",
      "1       0   22         0         0         0         0         1         0   \n",
      "2       0   18         0         0         0         1         0         0   \n",
      "3       1   18         0         0         0         0         1         0   \n",
      "4       0   19         0         0         0         0         1         0   \n",
      "\n",
      "   d 5100-9  d 5101-0  ...  d 57022-8  d 57022-9  d 571-0  d 571-1  d 571-2  \\\n",
      "0         0         0  ...          0          0        0        0        0   \n",
      "1         0         0  ...          0          0        0        0        0   \n",
      "2         0         0  ...          0          0        0        0        0   \n",
      "3         0         0  ...          0          0        0        0        1   \n",
      "4         0         0  ...          0          0        0        0        1   \n",
      "\n",
      "   d 571-3  d 571-4  d 571-8  d 571-9  Classes  \n",
      "0        0        1        0        0   class6  \n",
      "1        1        0        0        0   class6  \n",
      "2        1        0        0        0   class6  \n",
      "3        0        0        0        0   class6  \n",
      "4        0        0        0        0   class6  \n",
      "\n",
      "[5 rows x 206 columns]\n",
      "\n"
     ]
    }
   ],
   "source": [
    "import ssl\n",
    "ssl._create_default_https_context = ssl._create_unverified_context\n",
    "\n",
    "url = 'https://raw.githubusercontent.com/bryonbaker/datasets/main/SIT720/Ass2/SCADI.csv'\n",
    "full_df = pd.read_csv(url)\n",
    "print(f\"{full_df.head()}\\n\")"
   ]
  },
  {
   "cell_type": "code",
   "execution_count": 6,
   "id": "024d39e8-fd3d-4608-85c4-796bcada281a",
   "metadata": {},
   "outputs": [
    {
     "name": "stdout",
     "output_type": "stream",
     "text": [
      "Initial shape: (70, 206)\n"
     ]
    }
   ],
   "source": [
    "# Display stats on the data frame\n",
    "shape = full_df.shape\n",
    "print(f\"Initial shape: {shape}\")"
   ]
  },
  {
   "cell_type": "markdown",
   "id": "6e853f74-ee62-46f9-a4ef-9315f64c3c24",
   "metadata": {},
   "source": [
    "# Question 1\n",
    "1. Determine the number of subgroups (clusters) from the dataset using attributes 3-255.\n",
    "2. Is this the same as the number of classes presented by attribute 206 (Classes)? \n",
    "3. Explain and justify your findings."
   ]
  },
  {
   "cell_type": "code",
   "execution_count": 7,
   "id": "40a5de92-e770-4110-a71c-ed3e999aef96",
   "metadata": {},
   "outputs": [
    {
     "name": "stdout",
     "output_type": "stream",
     "text": [
      "Number of unique classes in the original dataset is: 7\n",
      "New shape: (70, 203)\n",
      "   d 5100-0  d 5100-1  d 5100-2  d 5100-3  d 5100-4  d 5100-8  d 5100-9  \\\n",
      "0         0         0         0         0         1         0         0   \n",
      "1         0         0         0         0         1         0         0   \n",
      "2         0         0         0         1         0         0         0   \n",
      "3         0         0         0         0         1         0         0   \n",
      "4         0         0         0         0         1         0         0   \n",
      "\n",
      "   d 5101-0  d 5101-1  d 5101-2  ...  d 57022-4  d 57022-8  d 57022-9  \\\n",
      "0         0         0         0  ...          0          0          0   \n",
      "1         0         0         0  ...          0          0          0   \n",
      "2         0         0         0  ...          0          0          0   \n",
      "3         0         0         0  ...          0          0          0   \n",
      "4         0         0         0  ...          0          0          0   \n",
      "\n",
      "   d 571-0  d 571-1  d 571-2  d 571-3  d 571-4  d 571-8  d 571-9  \n",
      "0        0        0        0        0        1        0        0  \n",
      "1        0        0        0        1        0        0        0  \n",
      "2        0        0        0        1        0        0        0  \n",
      "3        0        0        1        0        0        0        0  \n",
      "4        0        0        1        0        0        0        0  \n",
      "\n",
      "[5 rows x 203 columns]\n"
     ]
    }
   ],
   "source": [
    "# Count the number of classes in the dataset before we drop the column. This is used in Question 3\n",
    "num_classes_in_dataset = full_df['Classes'].nunique()\n",
    "print(f\"Number of unique classes in the original dataset is: {num_classes_in_dataset}\")\n",
    "\n",
    "# Drop attributes: 1, 2, and 205\n",
    "df = full_df.drop([\"Gender\",\"Age\",\"Classes\"], axis=1)\n",
    "shape = df.shape\n",
    "print(f\"New shape: {shape}\")\n",
    "print(f\"{df.head()}\")"
   ]
  },
  {
   "cell_type": "code",
   "execution_count": 8,
   "id": "d4c19763-c835-4f5b-9513-bb5add53cffa",
   "metadata": {},
   "outputs": [
    {
     "name": "stderr",
     "output_type": "stream",
     "text": [
      "findfont: Font family ['sans-serif'] not found. Falling back to DejaVu Sans.\n",
      "findfont: Generic family 'sans-serif' not found because none of the following families were found: Arial, Liberation Sans, Bitstream Vera Sans, sans-serif\n",
      "findfont: Font family ['sans-serif'] not found. Falling back to DejaVu Sans.\n",
      "findfont: Generic family 'sans-serif' not found because none of the following families were found: Arial, Liberation Sans, Bitstream Vera Sans, sans-serif\n"
     ]
    },
    {
     "data": {
      "image/png": "[encoded data removed]",
      "text/plain": [
       "<Figure size 720x720 with 1 Axes>"
      ]
     },
     "metadata": {},
     "output_type": "display_data"
    }
   ],
   "source": [
    "from sklearn.cluster import KMeans\n",
    "import matplotlib.pyplot as plt\n",
    "\n",
    "distortions = []\n",
    "ref_xLine = [2,11]\n",
    "ref_yLine = [625, 475]\n",
    "\n",
    "min_k = 1\n",
    "max_k = 12\n",
    "for n in range(min_k,max_k):\n",
    "    km = KMeans( n_clusters=n, init='random', n_init=10, max_iter=300, tol=1e-04, random_state=0 )\n",
    "    y_km = km.fit(df)\n",
    "    distortions.append(km.inertia_)\n",
    "\n",
    "# Calculate the co-ordinates of the reference line that passes through the points at k=6 and k = 11\n",
    "x1 = num_classes_in_dataset\n",
    "x2 = max_k-1\n",
    "y1 = distortions[num_classes_in_dataset-1]\n",
    "y2 = distortions[max_k-2]\n",
    "m =  (y2 - y1) / (x2 - x1)\n",
    "c = y1 - (m * x1)\n",
    "ref_y1 = (m * 2) + c    # Calc the left of the reference line\n",
    "ref_yLine[0] = ref_y1\n",
    "    \n",
    "# Scale the plot so the reference line is more distinct form the reference line\n",
    "fig = plt.figure()\n",
    "fig.set_size_inches(10,10)\n",
    "\n",
    "# plot the elbow chart and include a reference line based on the number of classes in the dataset.\n",
    "plt.plot(range(min_k, max_k), distortions, marker='o')\n",
    "plt.xlabel('Number of clusters')\n",
    "plt.ylabel('Distortion')\n",
    "\n",
    "# Plot the reference line to highlight where the elbow is located.\n",
    "# The reference line is used to help discuss any differences between optimal clusters from the elbow versus what is in the dataset.\n",
    "plt.plot(ref_xLine, ref_yLine, label = \"line 1\")\n",
    "\n",
    "plt.show()"
   ]
  },
  {
   "cell_type": "markdown",
   "id": "40e7282e-9386-4b0e-b39b-9facbbd745ac",
   "metadata": {},
   "source": [
    "# Question 2\n",
    "For the dataset, perform PCA. \n",
    "1. plot the captured variance with respect to increasing latent dimensionality.\n",
    "\n",
    "   What is the minimum dimension that captures:\n",
    "    - At least 89% variance\n",
    "    - At least 99% variance"
   ]
  },
  {
   "cell_type": "code",
   "execution_count": 9,
   "id": "38ce866d-ee38-4271-8378-f57459cf7ad4",
   "metadata": {},
   "outputs": [
    {
     "name": "stdout",
     "output_type": "stream",
     "text": [
      "Number of comoponets: 70\n",
      "PCA details => PCA(n_components=70)\n",
      "==================================================\n",
      "Explained Variance:\n",
      "[1.88806809e-01 1.40294493e-01 9.28576978e-02 5.55026572e-02\n",
      " 4.61869047e-02 4.34725875e-02 3.69877993e-02 3.13335959e-02\n",
      " 2.84580857e-02 2.76366269e-02 2.54158872e-02 2.29197949e-02\n",
      " 2.19763646e-02 1.99686493e-02 1.71542044e-02 1.68217640e-02\n",
      " 1.49495489e-02 1.35025077e-02 1.30312569e-02 1.21237442e-02\n",
      " 1.17685546e-02 9.66224236e-03 8.63248486e-03 7.84566734e-03\n",
      " 7.59307576e-03 7.12095577e-03 6.55889086e-03 6.12964769e-03\n",
      " 5.91117990e-03 5.17548744e-03 5.03651222e-03 4.65382307e-03\n",
      " 4.39521523e-03 4.10905658e-03 3.56350637e-03 3.48557543e-03\n",
      " 3.19702197e-03 2.97311722e-03 2.42793434e-03 2.24198157e-03\n",
      " 2.01187470e-03 1.91211156e-03 1.86048071e-03 1.69712604e-03\n",
      " 1.56776044e-03 1.23397690e-03 1.10068456e-03 9.44378334e-04\n",
      " 9.25930483e-04 7.94493095e-04 6.85276056e-04 5.32382661e-04\n",
      " 5.02833242e-04 4.16181322e-04 3.63010110e-04 3.39694589e-04\n",
      " 2.48292321e-04 2.40044414e-04 1.69408256e-04 1.53845295e-04\n",
      " 1.35840610e-04 1.20589850e-04 8.05520556e-05 3.71997252e-05\n",
      " 3.48783141e-05 6.09060748e-06 2.15474998e-06 3.72355775e-32\n",
      " 9.42228804e-34 7.14000976e-34]\n",
      "==================================================\n",
      "Cumulative Explained Variance:\n",
      "[ 18.88068085  32.91013012  42.1958999   47.74616562  52.36485609\n",
      "  56.71211484  60.41089477  63.54425436  66.39006293  69.15372562\n",
      "  71.69531433  73.98729383  76.18493029  78.18179522  79.89721566\n",
      "  81.57939206  83.07434695  84.42459773  85.72772342  86.94009784\n",
      "  88.1169533   89.08317754  89.94642602  90.73099276  91.49030033\n",
      "  92.20239591  92.858285    93.47124977  94.06236776  94.5799165\n",
      "  95.08356772  95.54895003  95.98847155  96.39937721  96.75572785\n",
      "  97.10428539  97.42398759  97.72129931  97.96409274  98.1882909\n",
      "  98.38947837  98.58068953  98.7667376   98.9364502   99.09322624\n",
      "  99.21662393  99.32669239  99.42113022  99.51372327  99.59317258\n",
      "  99.66170019  99.71493845  99.76522178  99.80683991  99.84314092\n",
      "  99.87711038  99.90193961  99.92594405  99.94288488  99.95826941\n",
      "  99.97185347  99.98391245  99.99196766  99.99568763  99.99917546\n",
      "  99.99978453 100.         100.         100.         100.        ]\n"
     ]
    },
    {
     "data": {
      "image/png": "[encoded data removed]",
      "text/plain": [
       "<Figure size 576x396 with 1 Axes>"
      ]
     },
     "metadata": {},
     "output_type": "display_data"
    },
    {
     "name": "stdout",
     "output_type": "stream",
     "text": [
      "==================================================\n"
     ]
    }
   ],
   "source": [
    "from sklearn.preprocessing import scale\n",
    "from sklearn.decomposition import PCA\n",
    "\n",
    "# Normalise all of the data to ensure they are of similar magnitude.\n",
    "Xnorm = scale(df)\n",
    "\n",
    "# Perform the Principal Component Analysis. The number of components is the number of coumns in the dataset.\n",
    "# The number of components is the minimum of the number of data elements and festures \n",
    "n_components=min(df.shape[0], df.shape[1])\n",
    "print(\"Number of comoponets: {}\".format(n_components))\n",
    "pca = PCA(n_components)\n",
    "pca.fit(Xnorm)\n",
    "print(\"PCA details => {}\".format(pca))\n",
    "\n",
    "print('='*50)\n",
    "print(\"Explained Variance:\")\n",
    "# Calculate the amount of variance explained by each PC\n",
    "var= pca.explained_variance_ratio_\n",
    "print(var)\n",
    "\n",
    "print('='*50)\n",
    "print(\"Cumulative Explained Variance:\")\n",
    "\n",
    "#cum_var=np.cumsum(np.round(pca.explained_variance_ratio_, decimals=4)*100)\n",
    "cum_var=np.cumsum(pca.explained_variance_ratio_*100)\n",
    "print(cum_var)\n",
    "\n",
    "pca_num = a_list = list(range(1, n_components+1))\n",
    "plt.plot(pca_num, cum_var, marker='.')\n",
    "plt.xlabel(\"Principal components\")\n",
    "plt.ylabel(\"Variance captured\")\n",
    "plt.show()\n",
    "\n",
    "dimensions = {}\n",
    "\n",
    "# Find the minimum dimensions that capture 89% and 99% respectively\n",
    "#num_dimensions = next(k for k, value in enumerate(cum_var) if value >= 89) \n",
    "#print(\"Minimum dimension for at least 89% variance is: \", num_dimensions)\n",
    "#dimensions[89] = num_dimensions\n",
    "\n",
    "#num_dimensions = next(k for k, value in enumerate(cum_var) if value >= 99) \n",
    "#print(\"Minimum dimension for at least 99% variance is: \", num_dimensions)\n",
    "#dimensions[99] = num_dimensions\n",
    "\n",
    "num_dimensions = 0\n",
    "for value in cum_var:\n",
    "    if value >= 89:\n",
    "        dimensions[value]=num_dimensions\n",
    "        break\n",
    "    num_dimensions += 1\n",
    "\n",
    "num_dimensions = 0\n",
    "for value in cum_var:\n",
    "    if value >= 99:\n",
    "        dimensions[value]=num_dimensions\n",
    "        break\n",
    "    num_dimensions += 1\n",
    "\n",
    "print('='*50)\n",
    "\n",
    "# The \"dictionary\" tuple contains a map of >= 89%, variance and >=99%, variance. This is used in the next question."
   ]
  },
  {
   "cell_type": "markdown",
   "id": "9896efd4-a07b-4717-9c24-ebf22ffd7fb8",
   "metadata": {},
   "source": [
    "# Question 3\n",
    "Determine the purity of the clusters formed by the number of principal components that captured 89% and 99% variances respectively. Plot a line ghraph of the purity scores against the captured variances.\n",
    "\n",
    "Discuss your findings."
   ]
  },
  {
   "cell_type": "markdown",
   "id": "80637e16-83d9-4010-bf0e-66530b7b242a",
   "metadata": {},
   "source": [
    "### Helper functions\n",
    "The following code segment defines some helper functions for calculating clulstering purity"
   ]
  },
  {
   "cell_type": "code",
   "execution_count": 10,
   "id": "a4137e89-b0c8-458c-a271-f40854a79063",
   "metadata": {},
   "outputs": [],
   "source": [
    "# Takes a list that may contain duplicates and returns a list with unique ites.\n",
    "def uniqueList(list1):\n",
    "    # insert the list to the set\n",
    "    list_set = set(list1)\n",
    "    # convert the set to the list\n",
    "    unique_list = (list(list_set))\n",
    "    unique_list.sort()\n",
    "    return unique_list\n",
    "\n",
    "# Searches a Series and finds the item that appears with the greatest frequency and returns the count.\n",
    "def findMaxLabel( data ):\n",
    "    unique, counts = np.unique(data, return_counts=True)\n",
    "    # print(np.asarray((unique, counts)).T)\n",
    "    idx = np.argmax(counts, axis=0)\n",
    "    # print(f\"Index of max: {idx}\")\n",
    "\n",
    "    return unique[idx], counts[idx]\n",
    "\n",
    "# Given a dataframe of columns \"cluster\" and \"label\", it calculates the cluster purity\n",
    "def calculatePurity(data):\n",
    "    print(\"INFO: Calculating clustering purity.\")\n",
    "    #print(\"INFO: Input data:\\n{}\".format(data))\n",
    "          \n",
    "    assert data.shape[1] > 0        # Check we won't have a divide by zero error later\n",
    "\n",
    "    # Get a list of clusters that has no duplicates so we can use it as a key.\n",
    "    clusterList = uniqueList(data['cluster'])\n",
    "    # print(f\"Cluster list: {clusterList}\")\n",
    "\n",
    "    # Go through each cluster one by one.\n",
    "    runningSum = 0\n",
    "    for c in clusterList:\n",
    "        # print(f\"INFO: Counting instances in cluster {c}\")\n",
    "        m1,m2 = findMaxLabel(data[data[\"cluster\"] == c][\"label\"])\n",
    "        print(\"INFO: Maximum frequency in cluster {} is label {}. It has a count of {}.\".format(c,m1,m2))\n",
    "        runningSum = runningSum + m2\n",
    "\n",
    "    purity = runningSum / data.shape[0]\n",
    "\n",
    "    return purity"
   ]
  },
  {
   "cell_type": "markdown",
   "id": "301c7428-d2fc-4724-a8aa-8513b824e001",
   "metadata": {},
   "source": [
    "### Calculate Purity"
   ]
  },
  {
   "cell_type": "code",
   "execution_count": 11,
   "id": "878a490d-e9a3-42bb-8fdf-e699143b4f33",
   "metadata": {},
   "outputs": [
    {
     "name": "stdout",
     "output_type": "stream",
     "text": [
      "\n",
      "============================================================\n",
      "INFO: Calculate the the purity score for 89.0832% CV using 21 dimensions:\n",
      "INFO: Xnorm shape: (70, 203)\n",
      "INFO: Zred shape: (70, 21)\n",
      "INFO: Calculating clustering purity.\n",
      "INFO: Maximum frequency in cluster 0 is label class7. It has a count of 5.\n",
      "INFO: Maximum frequency in cluster 1 is label class6. It has a count of 1.\n",
      "INFO: Maximum frequency in cluster 2 is label class6. It has a count of 27.\n",
      "INFO: Maximum frequency in cluster 3 is label class2. It has a count of 5.\n",
      "INFO: Maximum frequency in cluster 4 is label class7. It has a count of 6.\n",
      "INFO: Maximum frequency in cluster 5 is label class4. It has a count of 10.\n",
      "INFO: Maximum frequency in cluster 6 is label class7. It has a count of 5.\n",
      "INFO: Purity score is: 0.8428571428571429\n",
      "\n",
      "============================================================\n",
      "INFO: Calculate the the purity score for 99.0932% CV using 44 dimensions:\n",
      "INFO: Xnorm shape: (70, 203)\n",
      "INFO: Zred shape: (70, 44)\n",
      "INFO: Calculating clustering purity.\n",
      "INFO: Maximum frequency in cluster 0 is label class7. It has a count of 5.\n",
      "INFO: Maximum frequency in cluster 1 is label class6. It has a count of 1.\n",
      "INFO: Maximum frequency in cluster 2 is label class6. It has a count of 27.\n",
      "INFO: Maximum frequency in cluster 3 is label class2. It has a count of 5.\n",
      "INFO: Maximum frequency in cluster 4 is label class7. It has a count of 6.\n",
      "INFO: Maximum frequency in cluster 5 is label class4. It has a count of 11.\n",
      "INFO: Maximum frequency in cluster 6 is label class7. It has a count of 4.\n",
      "INFO: Purity score is: 0.8428571428571429\n",
      "\n",
      "############################################################\n",
      "Purity scores by cumulative variance results:\n",
      "   purity_score   variance\n",
      "0      0.842857  89.083178\n",
      "1      0.842857  99.093226\n",
      "############################################################\n",
      "\n"
     ]
    }
   ],
   "source": [
    "# Using the optimal number of clusters found in question 1, perform a K-Means clustering for the num_dimensions found in question 2 and calculate the purity score\n",
    "# To measure pruity we need to count the majority label in a cluster and assign the cluster that label. However, the labels have been removed because we to not want the label to be part of the clustering.\n",
    "# This method therefore will perform k-means on the non-PCA dataset and \n",
    "\n",
    "# Using the dictionary of cumulative variance and number of principal components created in the earlier question\n",
    "# Calculate the purity score for each.\n",
    "\n",
    "# Creaye a data frame for the final plot.\n",
    "results_df = pd.DataFrame(columns=['purity_score', 'variance'])\n",
    "\n",
    "for percentage in dimensions:\n",
    "    print(\"\\n\"+\"=\"*60)\n",
    "    n = dimensions[percentage]\n",
    "    print(\"INFO: Calculate the the purity score for {:.4f}% CV using {} dimensions:\".format(percentage,n))\n",
    "    \n",
    "    # Perform the dimensionality reduction using the supplied number of components.\n",
    "    pca = PCA(n_components=n)\n",
    "    Zred = pca.fit_transform(Xnorm)\n",
    "    print(\"INFO: Xnorm shape: {}\".format(Xnorm.shape))\n",
    "    print(\"INFO: Zred shape: {}\".format(Zred.shape))\n",
    "    \n",
    "    # Perform the K-Means clustering. Given the anlysis in Q1 we will use the number of classes in the original dataset for this clustering activity.\n",
    "    km = KMeans( n_clusters=num_classes_in_dataset, init='random', n_init=10, max_iter=300, tol=1e-04, random_state=0 )\n",
    "    y_km = km.fit(Zred)\n",
    "    \n",
    "    # The K-Means clustering algorithm preserves the order of the input data in the resultant labels. Using the clusters defined during training, \n",
    "    # Create a nx2 table of the identified clusters and the class labels in the input dataset. Use this to calculate the cluster purity.\n",
    "    d = pd.concat([pd.Series(y_km.labels_),pd.Series(full_df['Classes'].array)], axis=1)\n",
    "    d.columns = ['cluster', 'label']\n",
    "    # print(\"Allocation of labels to clusters is:\\n{}\".format(d))\n",
    "    purity = calculatePurity(d)\n",
    "    print(f\"INFO: Purity score is: {purity}\")\n",
    "    results_df = results_df.append({'purity_score': purity, 'variance': percentage}, ignore_index=True)\n",
    "    \n",
    "\n",
    "# Print the summary results\n",
    "print(\"\\n\"+\"#\"*60)\n",
    "print(\"Purity scores by cumulative variance results:\")\n",
    "print(results_df)\n",
    "\n",
    "\n",
    "print(\"#\"*60+\"\\n\")"
   ]
  },
  {
   "cell_type": "markdown",
   "id": "740d0b94-1d64-44e4-84eb-a46f5a5ccb0c",
   "metadata": {},
   "source": [
    "### Plot the Graphs\n",
    "Plot a line graph of the purity scores against the "
   ]
  },
  {
   "cell_type": "code",
   "execution_count": 12,
   "id": "ee3e6ee5-c780-477f-93df-265bd0286ab2",
   "metadata": {},
   "outputs": [
    {
     "data": {
      "image/png": "[encoded data removed]",
      "text/plain": [
       "<Figure size 576x396 with 1 Axes>"
      ]
     },
     "metadata": {},
     "output_type": "display_data"
    }
   ],
   "source": [
    "# gca stands for 'get current axis'\n",
    "ax = plt.gca()\n",
    "\n",
    "results_df.plot(kind='line',x='variance',y='purity_score',ax=ax)\n",
    "\n",
    "plt.show()"
   ]
  },
  {
   "cell_type": "markdown",
   "id": "580372f9-def0-4b14-be91-d9451c5b993b",
   "metadata": {},
   "source": [
    "# QUESTION 4:\n",
    "Let's assume you have two datasets, one is linear and the other is curved structural data.\n",
    "1. Can we apply PCA on these datasets? Justify your answer"
   ]
  },
  {
   "cell_type": "markdown",
   "id": "fb50b687-4efa-40db-835d-dd64c12ddce8",
   "metadata": {},
   "source": [
    "Refer to writeup for details."
   ]
  },
  {
   "cell_type": "markdown",
   "id": "27bb7707-8d19-4856-a11e-3b16333f3c4a",
   "metadata": {},
   "source": [
    "# Part 2"
   ]
  },
  {
   "cell_type": "markdown",
   "id": "a6d76d91-a0e2-4edc-ab91-1138fd6af074",
   "metadata": {},
   "source": [
    "# Part 2: SCADI Dataset"
   ]
  },
  {
   "cell_type": "markdown",
   "id": "db2ecc73-f80d-4f89-adc5-395fcbb5acf6",
   "metadata": {},
   "source": [
    "## Question 5\n",
    "* Download the attached heartdisease.csv file. \n",
    "* Read the file and separate the class and feature matrix."
   ]
  },
  {
   "cell_type": "code",
   "execution_count": 13,
   "id": "622cc0e0-6e32-4a10-9db7-b0dce63a1ae1",
   "metadata": {},
   "outputs": [
    {
     "name": "stdout",
     "output_type": "stream",
     "text": [
      "Shape of data upon read: (303, 14)\n",
      "     Age  Sex  chest pain type  Trestbps  chol  fbs  restecg  thalach  exang  \\\n",
      "0     63    1                1       145   233    1        2      150      0   \n",
      "1     67    1                4       160   286    0        2      108      1   \n",
      "2     67    1                4       120   229    0        2      129      1   \n",
      "3     37    1                3       130   250    0        0      187      0   \n",
      "4     41    0                2       130   204    0        2      172      0   \n",
      "..   ...  ...              ...       ...   ...  ...      ...      ...    ...   \n",
      "298   45    1                1       110   264    0        0      132      0   \n",
      "299   68    1                4       144   193    1        0      141      0   \n",
      "300   57    1                4       130   131    0        0      115      1   \n",
      "301   57    0                2       130   236    0        2      174      0   \n",
      "302   38    1                3       138   175    0        0      173      0   \n",
      "\n",
      "     oldpeak  slope   ca  thal  num  \n",
      "0        2.3      3  0.0   6.0    0  \n",
      "1        1.5      2  3.0   3.0    2  \n",
      "2        2.6      2  2.0   7.0    1  \n",
      "3        3.5      3  0.0   3.0    0  \n",
      "4        1.4      1  0.0   3.0    0  \n",
      "..       ...    ...  ...   ...  ...  \n",
      "298      1.2      2  0.0   7.0    1  \n",
      "299      3.4      2  2.0   7.0    2  \n",
      "300      1.2      2  1.0   7.0    3  \n",
      "301      0.0      2  1.0   3.0    1  \n",
      "302      0.0      1  NaN   3.0    0  \n",
      "\n",
      "[303 rows x 14 columns]\n",
      "Shape of data post row pruning: (297, 14)\n",
      "\n",
      "Dataframe structure:\n",
      "Age                  int64\n",
      "Sex                  int64\n",
      "chest pain type      int64\n",
      "Trestbps             int64\n",
      "chol                 int64\n",
      "fbs                  int64\n",
      "restecg              int64\n",
      "thalach              int64\n",
      "exang                int64\n",
      "oldpeak            float64\n",
      "slope                int64\n",
      "ca                 float64\n",
      "thal               float64\n",
      "num                  int64\n",
      "dtype: object\n",
      "X shape: (297, 13)\n",
      "y shape: (297,)\n",
      "\n",
      "***************************************************************************\n",
      "Dataframe Content Summary\n",
      "***************************************************************************\n",
      "\n",
      "Features:\n",
      "==========\n",
      "     Age  Sex  chest pain type  Trestbps  chol  fbs  restecg  thalach  exang  \\\n",
      "0     63    1                1       145   233    1        2      150      0   \n",
      "1     67    1                4       160   286    0        2      108      1   \n",
      "2     67    1                4       120   229    0        2      129      1   \n",
      "3     37    1                3       130   250    0        0      187      0   \n",
      "4     41    0                2       130   204    0        2      172      0   \n",
      "..   ...  ...              ...       ...   ...  ...      ...      ...    ...   \n",
      "292   57    0                4       140   241    0        0      123      1   \n",
      "293   45    1                1       110   264    0        0      132      0   \n",
      "294   68    1                4       144   193    1        0      141      0   \n",
      "295   57    1                4       130   131    0        0      115      1   \n",
      "296   57    0                2       130   236    0        2      174      0   \n",
      "\n",
      "     oldpeak  slope   ca  thal  \n",
      "0        2.3      3  0.0   6.0  \n",
      "1        1.5      2  3.0   3.0  \n",
      "2        2.6      2  2.0   7.0  \n",
      "3        3.5      3  0.0   3.0  \n",
      "4        1.4      1  0.0   3.0  \n",
      "..       ...    ...  ...   ...  \n",
      "292      0.2      2  0.0   7.0  \n",
      "293      1.2      2  0.0   7.0  \n",
      "294      3.4      2  2.0   7.0  \n",
      "295      1.2      2  1.0   7.0  \n",
      "296      0.0      2  1.0   3.0  \n",
      "\n",
      "[297 rows x 13 columns]\n",
      "\n",
      "Classes:\n",
      "==========\n",
      "0      0\n",
      "1      2\n",
      "2      1\n",
      "3      0\n",
      "4      0\n",
      "      ..\n",
      "292    1\n",
      "293    1\n",
      "294    2\n",
      "295    3\n",
      "296    1\n",
      "Name: num, Length: 297, dtype: int64\n"
     ]
    }
   ],
   "source": [
    "import ssl\n",
    "ssl._create_default_https_context = ssl._create_unverified_context\n",
    "\n",
    "url = 'https://raw.githubusercontent.com/bryonbaker/datasets/main/SIT720/Ass2/heartdisease.csv'\n",
    "unpruned_df = pd.read_csv(url)\n",
    "\n",
    "print(\"Shape of data upon read: {}\".format(unpruned_df.shape))\n",
    "# Drop the rows with missing values\n",
    "unpruned_df = unpruned_df.apply (pd.to_numeric, errors='coerce')# Anything non-numeric is NaN\n",
    "print(unpruned_df)\n",
    "unpruned_df = unpruned_df.dropna()\n",
    "full_df = unpruned_df.reset_index(drop=True)\n",
    "\n",
    "# Display meta data about the dataframe.\n",
    "print(\"Shape of data post row pruning: {}\\n\".format(full_df.shape))\n",
    "print(\"Dataframe structure:\\n{}\".format(full_df.dtypes))\n",
    "\n",
    "# Separate the features form the labels\n",
    "X = full_df.drop(['num'], axis=1)\n",
    "y = full_df['num']\n",
    "print(f\"X shape: {X.shape}\")\n",
    "print(f\"y shape: {y.shape}\")\n",
    "\n",
    "# Display information about the contents to aid quality inspection.\n",
    "print(\"\\n\"+\"*\"*75)\n",
    "print(\"Dataframe Content Summary\\n\"+\"*\"*75)\n",
    "print(\"\\nFeatures:\\n\"+\"=\"*10+\"\\n{}\".format(X))\n",
    "print(\"\\nClasses:\\n\"+\"=\"*10+\"\\n{}\".format(y))"
   ]
  },
  {
   "cell_type": "markdown",
   "id": "2b7432fe-0d7d-41a0-8640-95262671764b",
   "metadata": {},
   "source": [
    "## Question 6\n",
    "* Determine the number of clusters from the dataset. Is this the same as the actual number of classes in the dataset?"
   ]
  },
  {
   "cell_type": "code",
   "execution_count": 14,
   "id": "4f053a3b-2bbf-434c-af9c-a05b286ddf6f",
   "metadata": {},
   "outputs": [
    {
     "name": "stdout",
     "output_type": "stream",
     "text": [
      "INFO: The breakdown of labels in the dataset are:\n",
      "0    160\n",
      "1     54\n",
      "2     35\n",
      "3     35\n",
      "4     13\n",
      "Name: num, dtype: int64\n"
     ]
    },
    {
     "name": "stderr",
     "output_type": "stream",
     "text": [
      "findfont: Font family ['sans-serif'] not found. Falling back to DejaVu Sans.\n",
      "findfont: Generic family 'sans-serif' not found because none of the following families were found: Arial, Liberation Sans, Bitstream Vera Sans, sans-serif\n"
     ]
    },
    {
     "data": {
      "image/png": "[encoded data removed]",
      "text/plain": [
       "<Figure size 576x396 with 1 Axes>"
      ]
     },
     "metadata": {},
     "output_type": "display_data"
    },
    {
     "name": "stdout",
     "output_type": "stream",
     "text": [
      "Cluster/Label relationship:\n",
      "The number of unique labels in the dataset is: 5\n",
      "Optimal number of clusters is: 3\n"
     ]
    }
   ],
   "source": [
    "# Scan through the labels and count the number of unique values.\n",
    "num_labels = y.nunique()\n",
    "print(\"INFO: The breakdown of labels in the dataset are:\\n{}\".format(y.value_counts()))\n",
    "\n",
    "# Find the optimal number of clusters for the dataset\n",
    "model = KMeans()\n",
    "elbowChart = KElbowVisualizer(model, k=(1, 11), timings=False)\n",
    "\n",
    "elbowChart.fit(X) # Fit the data to the visualiser\n",
    "elbowChart.show() # Plot the graph and the elbow\n",
    "plt.show()\n",
    "optimalClusters = elbowChart.elbow_value_\n",
    "\n",
    "print(\"Cluster/Label relationship:\")\n",
    "print(f\"The number of unique labels in the dataset is: {num_labels}\")\n",
    "print(f\"Optimal number of clusters is: {optimalClusters}\")"
   ]
  },
  {
   "cell_type": "markdown",
   "id": "21dd6675-52e3-4e72-baa6-f9168da545b3",
   "metadata": {},
   "source": [
    "# Question 7:\n",
    "\n",
    "Perform K-Means clustering on the complete dataset and report the purity score."
   ]
  },
  {
   "cell_type": "code",
   "execution_count": 15,
   "id": "fa318e67-c2ce-450e-8ca8-61e1ec7a0bd0",
   "metadata": {},
   "outputs": [],
   "source": [
    "# Takes a list that may contain duplicates and returns a list with unique ites.\n",
    "def uniqueList(list1):\n",
    "    # insert the list to the set\n",
    "    list_set = set(list1)\n",
    "    # convert the set to the list\n",
    "    unique_list = (list(list_set))\n",
    "    unique_list.sort()\n",
    "    return unique_list\n",
    "\n",
    "# Searches a Series and finds the item that appears with the greatest frequency and returns the count.\n",
    "def findMaxLabel( data ):\n",
    "    unique, counts = np.unique(data, return_counts=True)\n",
    "    # print(np.asarray((unique, counts)).T)\n",
    "    idx = np.argmax(counts, axis=0)\n",
    "    # print(f\"Index of max: {idx}\")\n",
    "\n",
    "    return unique[idx], counts[idx]\n",
    "\n",
    "# Given a dataframe of columns \"cluster\" and \"label\", it calculates the cluster purity\n",
    "def calculatePurity(data):\n",
    "    print(\"INFO: Calculating clustering purity.\")\n",
    "    #print(\"INFO: Input data:\\n{}\".format(data))\n",
    "          \n",
    "    assert data.shape[1] > 0        # Check we won't have a divide by zero error later\n",
    "\n",
    "    # Get a list of clusters that has no duplicates so we can use it as a key.\n",
    "    clusterList = uniqueList(data['cluster'])\n",
    "    # print(f\"Cluster list: {clusterList}\")\n",
    "\n",
    "    # Go through each cluster one by one.\n",
    "    runningSum = 0\n",
    "    for c in clusterList:\n",
    "        # print(f\"INFO: Counting instances in cluster {c}\")\n",
    "        m1,m2 = findMaxLabel(data[data[\"cluster\"] == c][\"label\"])\n",
    "        print(\"INFO: Maximum frequency in cluster {} is label {}. It has a count of {}.\".format(c,m1,m2))\n",
    "        runningSum = runningSum + m2\n",
    "\n",
    "    purity = runningSum / data.shape[0]\n",
    "\n",
    "    return purity"
   ]
  },
  {
   "cell_type": "code",
   "execution_count": 16,
   "id": "b352c3d4-ffa9-4362-94da-cabb0d519d3e",
   "metadata": {},
   "outputs": [],
   "source": [
    "# instatiate KMeans class and set the number of clusters to the optimal number returned form the elbow chart\n",
    "model = KMeans(n_clusters=optimalClusters, random_state=10)\n",
    "\n",
    "#X.reset_index(drop=True)\n",
    "# call fit method with data \n",
    "km_result = model.fit(X)\n",
    "\n",
    "# coordinates of cluster center\n",
    "centroids = model.cluster_centers_ "
   ]
  },
  {
   "cell_type": "code",
   "execution_count": 17,
   "id": "2e1b6f13-c83e-406a-af97-cc7f339997d6",
   "metadata": {},
   "outputs": [
    {
     "name": "stdout",
     "output_type": "stream",
     "text": [
      "INFO: Calculating clustering purity.\n",
      "INFO: Maximum frequency in cluster 0 is label 0. It has a count of 67.\n",
      "INFO: Maximum frequency in cluster 1 is label 0. It has a count of 65.\n",
      "INFO: Maximum frequency in cluster 2 is label 0. It has a count of 28.\n",
      "\n",
      "Number of clusters usefd for KMeans: 3\n",
      "Total number of data points in clusters is 297\n",
      "Purity of clustering is: 0.5387%\n"
     ]
    }
   ],
   "source": [
    "# The K-Means clustering algorithm preserves the order of the input data in the resultant labels. Using the clusters defined during training, \n",
    "# Create a nx2 table of the identified clusters and the class labels in the input dataset. Use this to calculate the cluster purity.\n",
    "ls = pd.Series(y).astype(int)\n",
    "ys = pd.Series(km_result.labels_).astype(int)\n",
    "d = pd.concat([ys,ls], axis=1)\n",
    "d.columns = ['cluster', 'label']\n",
    "\n",
    "# print(\"Allocation of labels to clusters is:\\n{}\".format(d))\n",
    "purity = calculatePurity(d)\n",
    "print(f\"\\nNumber of clusters usefd for KMeans: {optimalClusters}\")\n",
    "print(\"Total number of data points in clusters is {}\".format(y.shape[0]))\n",
    "print(\"Purity of clustering is: {:.4f}%\".format(purity))"
   ]
  },
  {
   "cell_type": "markdown",
   "id": "8c440938-6e6a-43b8-9216-406f6b5d8c41",
   "metadata": {},
   "source": [
    "## Discussion:\n",
    "The data set is very imbalanced, there are\n",
    "* 164 elements with label 0\n",
    "* 55 with label 1\n",
    "* 36 with label 2\n",
    "* 35 with label 3\n",
    "* 13 with label 4\n",
    "\n",
    "As a result, it is not surprising that label 0 is overshadowing the purity of the clustering"
   ]
  },
  {
   "cell_type": "markdown",
   "id": "74184606-b878-47db-a01d-a9b5bde90acb",
   "metadata": {},
   "source": [
    "# Question 8. \n",
    "There are several distance metrics for K-Means such as euclidean, squared euclidian, Manhattan, Chebyshev, Minowski.\n",
    "  * Your job is to compare the purity score of k-means clustering for different distance metrics\n",
    "  * Select the best distance metric and explain why this distance metric is best for the given dataset."
   ]
  },
  {
   "cell_type": "code",
   "execution_count": null,
   "id": "ee378a2b-1af0-49cd-9ce8-397b8c54d4e9",
   "metadata": {},
   "outputs": [],
   "source": []
  },
  {
   "cell_type": "code",
   "execution_count": 18,
   "id": "7e183d29-89c9-4f93-8f48-d3ac31449a49",
   "metadata": {},
   "outputs": [
    {
     "name": "stdout",
     "output_type": "stream",
     "text": [
      "\n",
      "INFO: Number of clusters used for KMeans: 3\n",
      "INFO: Total number of data points in clusters is 297\n",
      "**************************************************\n",
      "INFO: Calculating purity for euclidean distance\n",
      "\n",
      "INFO: Calculating clustering purity.\n",
      "INFO: Maximum frequency in cluster 0 is label 1. It has a count of 70.\n",
      "INFO: Maximum frequency in cluster 1 is label 1. It has a count of 31.\n",
      "INFO: Maximum frequency in cluster 2 is label 1. It has a count of 15.\n",
      "INFO: Maximum frequency in cluster 3 is label 1. It has a count of 16.\n",
      "INFO: Maximum frequency in cluster 4 is label 0. It has a count of 5.\n",
      "INFO: The purity score for euclidean distance is 0.4613%\n",
      "**************************************************\n",
      "\n",
      "**************************************************\n",
      "INFO: Calculating purity for squared euclidean distance\n",
      "\n",
      "INFO: Calculating clustering purity.\n",
      "INFO: Maximum frequency in cluster 0 is label 1. It has a count of 70.\n",
      "INFO: Maximum frequency in cluster 1 is label 1. It has a count of 31.\n",
      "INFO: Maximum frequency in cluster 2 is label 1. It has a count of 15.\n",
      "INFO: Maximum frequency in cluster 3 is label 1. It has a count of 16.\n",
      "INFO: Maximum frequency in cluster 4 is label 0. It has a count of 5.\n",
      "INFO: The purity score for squared euclidean distance is 0.4613%\n",
      "**************************************************\n",
      "\n",
      "**************************************************\n",
      "INFO: Calculating purity for manhattan distance\n",
      "\n",
      "INFO: Calculating clustering purity.\n",
      "INFO: Maximum frequency in cluster 0 is label 1. It has a count of 68.\n",
      "INFO: Maximum frequency in cluster 1 is label 1. It has a count of 30.\n",
      "INFO: Maximum frequency in cluster 2 is label 1. It has a count of 15.\n",
      "INFO: Maximum frequency in cluster 3 is label 1. It has a count of 16.\n",
      "INFO: Maximum frequency in cluster 4 is label 1. It has a count of 5.\n",
      "INFO: The purity score for manhattan distance is 0.4512%\n",
      "**************************************************\n",
      "\n",
      "**************************************************\n",
      "INFO: Calculating purity for chebyshev distance\n",
      "\n",
      "INFO: Calculating clustering purity.\n",
      "INFO: Maximum frequency in cluster 0 is label 1. It has a count of 69.\n",
      "INFO: Maximum frequency in cluster 1 is label 1. It has a count of 23.\n",
      "INFO: Maximum frequency in cluster 2 is label 0. It has a count of 16.\n",
      "INFO: Maximum frequency in cluster 3 is label 2. It has a count of 14.\n",
      "INFO: Maximum frequency in cluster 4 is label 0. It has a count of 5.\n",
      "INFO: The purity score for chebyshev distance is 0.4276%\n",
      "**************************************************\n",
      "\n",
      "**************************************************\n",
      "INFO: Calculating purity for canberra distance\n",
      "\n",
      "INFO: Calculating clustering purity.\n",
      "INFO: Maximum frequency in cluster 0 is label 0. It has a count of 102.\n",
      "INFO: Maximum frequency in cluster 1 is label 0. It has a count of 44.\n",
      "INFO: Maximum frequency in cluster 2 is label 0. It has a count of 35.\n",
      "INFO: Maximum frequency in cluster 3 is label 0. It has a count of 34.\n",
      "INFO: Maximum frequency in cluster 4 is label 0. It has a count of 13.\n",
      "INFO: The purity score for canberra distance is 0.7677%\n",
      "**************************************************\n",
      "\n",
      "**************************************************\n",
      "INFO: Calculating purity for chi-square distance\n",
      "\n",
      "INFO: Calculating clustering purity.\n",
      "INFO: Maximum frequency in cluster 0 is label 0. It has a count of 108.\n",
      "INFO: Maximum frequency in cluster 1 is label 0. It has a count of 29.\n",
      "INFO: Maximum frequency in cluster 2 is label 1. It has a count of 21.\n",
      "INFO: Maximum frequency in cluster 3 is label 1. It has a count of 20.\n",
      "INFO: Maximum frequency in cluster 4 is label 0. It has a count of 8.\n",
      "INFO: The purity score for chi-square distance is 0.6263%\n",
      "**************************************************\n",
      "\n"
     ]
    }
   ],
   "source": [
    "# Reference: \n",
    "#    The following code snippet is based on the work of Arush Chillar, 2021\n",
    "#    Blog url: https://www.kaggle.com/code/arushchillar/kmeans-clustering-using-different-distance-metrics/notebook\n",
    "\n",
    "from pyclustering.cluster.kmeans import kmeans\n",
    "from pyclustering.utils.metric import distance_metric\n",
    "from pyclustering.cluster.center_initializer import random_center_initializer\n",
    "from pyclustering.cluster.encoder import type_encoding\n",
    "from pyclustering.cluster.encoder import cluster_encoder\n",
    "\n",
    "# define dictionary for distance measures\n",
    "distance_measures = {'euclidean': 0, 'squared euclidean': 1, 'manhattan': 2, 'chebyshev': 3, \n",
    "                    'canberra': 5, 'chi-square': 6}\n",
    "\n",
    "# PyClustering uses an array and not a dataframe so need to convert the type.\n",
    "numpy_X = X.to_numpy()\n",
    "\n",
    "print(f\"\\nINFO: Number of clusters used for KMeans: {optimalClusters}\")\n",
    "print(\"INFO: Total number of data points in clusters is {}\".format(numpy_X.shape[0]))\n",
    "\n",
    "results_df = pd.DataFrame(columns=['purity', 'metric'])\n",
    "\n",
    "for measure, value in distance_measures.items():\n",
    "    print(\"*\"*50)\n",
    "    print(f\"INFO: Calculating purity for {measure} distance\\n\")\n",
    "    \n",
    "    initial_centers = random_center_initializer(numpy_X, optimalClusters, random_state=10).initialize()\n",
    "    # instance created for respective distance metric\n",
    "    instanceKm = kmeans(numpy_X, initial_centers=initial_centers, metric=distance_metric(value))\n",
    "    # perform cluster analysis\n",
    "    instanceKm.process()\n",
    "    # cluster analysis results - clusters and centers\n",
    "    pyClusters = instanceKm.get_clusters()\n",
    "    # pyCenters = instanceKm.get_centers()\n",
    "    # enumerate encoding type to index labeling to get labels\n",
    "    pyEncoding = instanceKm.get_cluster_encoding()\n",
    "    pyEncoder = cluster_encoder(pyEncoding, pyClusters, numpy_X)\n",
    "    pyLabels = pyEncoder.set_encoding(0).get_clusters()\n",
    "    \n",
    "    # calculatePurity requires a 2D list so combin the two lists/Series into a single 2D daraframe\n",
    "    d = pd.concat([y,pd.Series(pyLabels)], axis=1)\n",
    "    d.columns = ['cluster', 'label']\n",
    "    purity = calculatePurity(d)\n",
    "    results_df = results_df.append({'purity':purity,'metric':measure}, ignore_index = True)\n",
    "    \n",
    "    print(\"INFO: The purity score for {} distance is {:.4f}%\".format(measure, purity))\n",
    "    print(\"*\"*50+\"\\n\")"
   ]
  },
  {
   "cell_type": "code",
   "execution_count": 19,
   "id": "75ecdfc2-6417-446e-9f0f-507fbf18777e",
   "metadata": {},
   "outputs": [
    {
     "name": "stdout",
     "output_type": "stream",
     "text": [
      "**************************************************\n",
      "SUMMARY\n",
      "**************************************************\n",
      "     purity             metric\n",
      "0  0.461279          euclidean\n",
      "1  0.461279  squared euclidean\n",
      "2  0.451178          manhattan\n",
      "3  0.427609          chebyshev\n",
      "4  0.767677           canberra\n",
      "5  0.626263         chi-square\n",
      "The best distance metric(s) is: canberra with 0.7677% purity.\n"
     ]
    }
   ],
   "source": [
    "print(\"*\"*50)\n",
    "print(\"SUMMARY\")\n",
    "print(\"*\"*50)\n",
    "print(results_df)\n",
    "\n",
    "max_purity_df = results_df[results_df.purity == results_df['purity'].max()]\n",
    "max_purity_df = max_purity_df.reset_index()  # make sure indexes pair with number of rows\n",
    "for index, row in max_purity_df.iterrows():\n",
    "    print(\"The best distance metric(s) is: {} with {:.4}% purity.\".format(row['metric'], row['purity']))"
   ]
  },
  {
   "cell_type": "markdown",
   "id": "ff1f0c02-3263-486b-b953-7fb2a53f191b",
   "metadata": {},
   "source": [
    "# QUESTION: 9\n",
    "Use selection criteria (ANOVA, Chi-squared) to select the best three features and use them for K-Means clustering.\n",
    "Based on the purity score, which features are you going to recommend and why?"
   ]
  },
  {
   "cell_type": "code",
   "execution_count": null,
   "id": "d72f8607-a106-41f6-a5bb-0bd79160276a",
   "metadata": {},
   "outputs": [],
   "source": []
  },
  {
   "cell_type": "code",
   "execution_count": null,
   "id": "ddb2e33e-583b-4ae8-b97c-9246722bbace",
   "metadata": {},
   "outputs": [],
   "source": []
  }
 ],
 "metadata": {
  "kernelspec": {
   "display_name": "Python 3 (ipykernel)",
   "language": "python",
   "name": "python3"
  },
  "language_info": {
   "codemirror_mode": {
    "name": "ipython",
    "version": 3
   },
   "file_extension": ".py",
   "mimetype": "text/x-python",
   "name": "python",
   "nbconvert_exporter": "python",
   "pygments_lexer": "ipython3",
   "version": "3.8.8"
  }
 },
 "nbformat": 4,
 "nbformat_minor": 5
}
