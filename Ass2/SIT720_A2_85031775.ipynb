{
 "cells": [
  {
   "cell_type": "markdown",
   "id": "0a137561-070a-4de3-854f-e160cf9c343e",
   "metadata": {},
   "source": [
    "# SIT 720 Assignment 2\n",
    "Bryon Baker\n",
    "\n",
    "Student number: 85031775"
   ]
  },
  {
   "cell_type": "markdown",
   "id": "2b90cbf5-0280-4106-a246-004156d0868b",
   "metadata": {},
   "source": [
    "# Install required libraries"
   ]
  },
  {
   "cell_type": "code",
   "execution_count": 1,
   "id": "dbab9bf0-bb3a-49e8-ab7f-d4980bb15b88",
   "metadata": {},
   "outputs": [
    {
     "name": "stdout",
     "output_type": "stream",
     "text": [
      "\u001b[33mWARNING: Ignoring invalid distribution -cikit-learn (/opt/app-root/lib/python3.8/site-packages)\u001b[0m\n",
      "\u001b[33mWARNING: Ignoring invalid distribution -cikit-learn (/opt/app-root/lib/python3.8/site-packages)\u001b[0m\n",
      "Requirement already satisfied: pandas in /opt/app-root/lib/python3.8/site-packages (1.2.4)\n",
      "Requirement already satisfied: python-dateutil>=2.7.3 in /opt/app-root/lib/python3.8/site-packages (from pandas) (2.8.2)\n",
      "Requirement already satisfied: pytz>=2017.3 in /opt/app-root/lib/python3.8/site-packages (from pandas) (2021.3)\n",
      "Requirement already satisfied: numpy>=1.16.5 in /opt/app-root/lib/python3.8/site-packages (from pandas) (1.19.2)\n",
      "Requirement already satisfied: six>=1.5 in /opt/app-root/lib/python3.8/site-packages (from python-dateutil>=2.7.3->pandas) (1.16.0)\n",
      "\u001b[33mWARNING: Ignoring invalid distribution -cikit-learn (/opt/app-root/lib/python3.8/site-packages)\u001b[0m\n",
      "\u001b[33mWARNING: Ignoring invalid distribution -cikit-learn (/opt/app-root/lib/python3.8/site-packages)\u001b[0m\n",
      "\u001b[33mWARNING: Ignoring invalid distribution -cikit-learn (/opt/app-root/lib/python3.8/site-packages)\u001b[0m\n",
      "\u001b[33mWARNING: Ignoring invalid distribution -cikit-learn (/opt/app-root/lib/python3.8/site-packages)\u001b[0m\n",
      "\u001b[33mWARNING: You are using pip version 21.3.1; however, version 22.0.4 is available.\n",
      "You should consider upgrading via the '/opt/app-root/bin/python3.8 -m pip install --upgrade pip' command.\u001b[0m\n",
      "\u001b[33mWARNING: Ignoring invalid distribution -cikit-learn (/opt/app-root/lib/python3.8/site-packages)\u001b[0m\n",
      "\u001b[33mWARNING: Ignoring invalid distribution -cikit-learn (/opt/app-root/lib/python3.8/site-packages)\u001b[0m\n",
      "Requirement already satisfied: numpy in /opt/app-root/lib/python3.8/site-packages (1.19.2)\n",
      "\u001b[33mWARNING: Ignoring invalid distribution -cikit-learn (/opt/app-root/lib/python3.8/site-packages)\u001b[0m\n",
      "\u001b[33mWARNING: Ignoring invalid distribution -cikit-learn (/opt/app-root/lib/python3.8/site-packages)\u001b[0m\n",
      "\u001b[33mWARNING: Ignoring invalid distribution -cikit-learn (/opt/app-root/lib/python3.8/site-packages)\u001b[0m\n",
      "\u001b[33mWARNING: Ignoring invalid distribution -cikit-learn (/opt/app-root/lib/python3.8/site-packages)\u001b[0m\n",
      "\u001b[33mWARNING: You are using pip version 21.3.1; however, version 22.0.4 is available.\n",
      "You should consider upgrading via the '/opt/app-root/bin/python3.8 -m pip install --upgrade pip' command.\u001b[0m\n",
      "\u001b[33mWARNING: Ignoring invalid distribution -cikit-learn (/opt/app-root/lib/python3.8/site-packages)\u001b[0m\n",
      "\u001b[33mWARNING: Ignoring invalid distribution -cikit-learn (/opt/app-root/lib/python3.8/site-packages)\u001b[0m\n",
      "Requirement already satisfied: matplotlib in /opt/app-root/lib/python3.8/site-packages (3.4.1)\n",
      "Requirement already satisfied: pyparsing>=2.2.1 in /opt/app-root/lib/python3.8/site-packages (from matplotlib) (3.0.6)\n",
      "Requirement already satisfied: pillow>=6.2.0 in /opt/app-root/lib/python3.8/site-packages (from matplotlib) (9.0.0)\n",
      "Requirement already satisfied: numpy>=1.16 in /opt/app-root/lib/python3.8/site-packages (from matplotlib) (1.19.2)\n",
      "Requirement already satisfied: cycler>=0.10 in /opt/app-root/lib/python3.8/site-packages (from matplotlib) (0.11.0)\n",
      "Requirement already satisfied: kiwisolver>=1.0.1 in /opt/app-root/lib/python3.8/site-packages (from matplotlib) (1.3.2)\n",
      "Requirement already satisfied: python-dateutil>=2.7 in /opt/app-root/lib/python3.8/site-packages (from matplotlib) (2.8.2)\n",
      "Requirement already satisfied: six>=1.5 in /opt/app-root/lib/python3.8/site-packages (from python-dateutil>=2.7->matplotlib) (1.16.0)\n",
      "\u001b[33mWARNING: Ignoring invalid distribution -cikit-learn (/opt/app-root/lib/python3.8/site-packages)\u001b[0m\n",
      "\u001b[33mWARNING: Ignoring invalid distribution -cikit-learn (/opt/app-root/lib/python3.8/site-packages)\u001b[0m\n",
      "\u001b[33mWARNING: Ignoring invalid distribution -cikit-learn (/opt/app-root/lib/python3.8/site-packages)\u001b[0m\n",
      "\u001b[33mWARNING: Ignoring invalid distribution -cikit-learn (/opt/app-root/lib/python3.8/site-packages)\u001b[0m\n",
      "\u001b[33mWARNING: You are using pip version 21.3.1; however, version 22.0.4 is available.\n",
      "You should consider upgrading via the '/opt/app-root/bin/python3.8 -m pip install --upgrade pip' command.\u001b[0m\n",
      "\u001b[33mWARNING: Ignoring invalid distribution -cikit-learn (/opt/app-root/lib/python3.8/site-packages)\u001b[0m\n",
      "\u001b[33mWARNING: Ignoring invalid distribution -cikit-learn (/opt/app-root/lib/python3.8/site-packages)\u001b[0m\n",
      "Requirement already satisfied: yellowbrick in /opt/app-root/lib/python3.8/site-packages (1.4)\n",
      "Requirement already satisfied: scipy>=1.0.0 in /opt/app-root/lib/python3.8/site-packages (from yellowbrick) (1.6.2)\n",
      "Requirement already satisfied: cycler>=0.10.0 in /opt/app-root/lib/python3.8/site-packages (from yellowbrick) (0.11.0)\n",
      "Requirement already satisfied: scikit-learn>=1.0.0 in /opt/app-root/lib/python3.8/site-packages (from yellowbrick) (1.0.2)\n",
      "Requirement already satisfied: matplotlib!=3.0.0,>=2.0.2 in /opt/app-root/lib/python3.8/site-packages (from yellowbrick) (3.4.1)\n",
      "Requirement already satisfied: numpy>=1.16.0 in /opt/app-root/lib/python3.8/site-packages (from yellowbrick) (1.19.2)\n",
      "Requirement already satisfied: python-dateutil>=2.7 in /opt/app-root/lib/python3.8/site-packages (from matplotlib!=3.0.0,>=2.0.2->yellowbrick) (2.8.2)\n",
      "Requirement already satisfied: kiwisolver>=1.0.1 in /opt/app-root/lib/python3.8/site-packages (from matplotlib!=3.0.0,>=2.0.2->yellowbrick) (1.3.2)\n",
      "Requirement already satisfied: pillow>=6.2.0 in /opt/app-root/lib/python3.8/site-packages (from matplotlib!=3.0.0,>=2.0.2->yellowbrick) (9.0.0)\n",
      "Requirement already satisfied: pyparsing>=2.2.1 in /opt/app-root/lib/python3.8/site-packages (from matplotlib!=3.0.0,>=2.0.2->yellowbrick) (3.0.6)\n",
      "Requirement already satisfied: joblib>=0.11 in /opt/app-root/lib/python3.8/site-packages (from scikit-learn>=1.0.0->yellowbrick) (1.1.0)\n",
      "Requirement already satisfied: threadpoolctl>=2.0.0 in /opt/app-root/lib/python3.8/site-packages (from scikit-learn>=1.0.0->yellowbrick) (3.0.0)\n",
      "Requirement already satisfied: six>=1.5 in /opt/app-root/lib/python3.8/site-packages (from python-dateutil>=2.7->matplotlib!=3.0.0,>=2.0.2->yellowbrick) (1.16.0)\n",
      "\u001b[33mWARNING: Ignoring invalid distribution -cikit-learn (/opt/app-root/lib/python3.8/site-packages)\u001b[0m\n",
      "\u001b[33mWARNING: Ignoring invalid distribution -cikit-learn (/opt/app-root/lib/python3.8/site-packages)\u001b[0m\n",
      "\u001b[33mWARNING: Ignoring invalid distribution -cikit-learn (/opt/app-root/lib/python3.8/site-packages)\u001b[0m\n",
      "\u001b[33mWARNING: Ignoring invalid distribution -cikit-learn (/opt/app-root/lib/python3.8/site-packages)\u001b[0m\n",
      "\u001b[33mWARNING: You are using pip version 21.3.1; however, version 22.0.4 is available.\n",
      "You should consider upgrading via the '/opt/app-root/bin/python3.8 -m pip install --upgrade pip' command.\u001b[0m\n",
      "\u001b[33mWARNING: Ignoring invalid distribution -cikit-learn (/opt/app-root/lib/python3.8/site-packages)\u001b[0m\n",
      "\u001b[33mWARNING: Ignoring invalid distribution -cikit-learn (/opt/app-root/lib/python3.8/site-packages)\u001b[0m\n",
      "Requirement already satisfied: pyclustering in /opt/app-root/lib/python3.8/site-packages (0.10.1.2)\n",
      "Requirement already satisfied: matplotlib>=3.0.0 in /opt/app-root/lib/python3.8/site-packages (from pyclustering) (3.4.1)\n",
      "Requirement already satisfied: numpy>=1.15.2 in /opt/app-root/lib/python3.8/site-packages (from pyclustering) (1.19.2)\n",
      "Requirement already satisfied: Pillow>=5.2.0 in /opt/app-root/lib/python3.8/site-packages (from pyclustering) (9.0.0)\n",
      "Requirement already satisfied: scipy>=1.1.0 in /opt/app-root/lib/python3.8/site-packages (from pyclustering) (1.6.2)\n",
      "Requirement already satisfied: kiwisolver>=1.0.1 in /opt/app-root/lib/python3.8/site-packages (from matplotlib>=3.0.0->pyclustering) (1.3.2)\n",
      "Requirement already satisfied: cycler>=0.10 in /opt/app-root/lib/python3.8/site-packages (from matplotlib>=3.0.0->pyclustering) (0.11.0)\n",
      "Requirement already satisfied: python-dateutil>=2.7 in /opt/app-root/lib/python3.8/site-packages (from matplotlib>=3.0.0->pyclustering) (2.8.2)\n",
      "Requirement already satisfied: pyparsing>=2.2.1 in /opt/app-root/lib/python3.8/site-packages (from matplotlib>=3.0.0->pyclustering) (3.0.6)\n",
      "Requirement already satisfied: six>=1.5 in /opt/app-root/lib/python3.8/site-packages (from python-dateutil>=2.7->matplotlib>=3.0.0->pyclustering) (1.16.0)\n",
      "\u001b[33mWARNING: Ignoring invalid distribution -cikit-learn (/opt/app-root/lib/python3.8/site-packages)\u001b[0m\n",
      "\u001b[33mWARNING: Ignoring invalid distribution -cikit-learn (/opt/app-root/lib/python3.8/site-packages)\u001b[0m\n",
      "\u001b[33mWARNING: Ignoring invalid distribution -cikit-learn (/opt/app-root/lib/python3.8/site-packages)\u001b[0m\n",
      "\u001b[33mWARNING: Ignoring invalid distribution -cikit-learn (/opt/app-root/lib/python3.8/site-packages)\u001b[0m\n",
      "\u001b[33mWARNING: You are using pip version 21.3.1; however, version 22.0.4 is available.\n",
      "You should consider upgrading via the '/opt/app-root/bin/python3.8 -m pip install --upgrade pip' command.\u001b[0m\n"
     ]
    }
   ],
   "source": [
    "!pip3 install pandas\n",
    "!pip3 install numpy\n",
    "!pip3 install matplotlib\n",
    "!pip3 install yellowbrick\n",
    "!pip3 install pyclustering"
   ]
  },
  {
   "cell_type": "code",
   "execution_count": 2,
   "id": "4e4f2401-ebc1-4592-beeb-44a907292b8e",
   "metadata": {},
   "outputs": [],
   "source": [
    "import warnings\n",
    "import random\n",
    "import pandas as pd # dataframe manipulation\n",
    "import numpy as np # linear algebra\n",
    "\n",
    "# data visualization\n",
    "import matplotlib.pyplot as plt\n",
    "%matplotlib inline\n",
    "from yellowbrick.cluster import KElbowVisualizer # cluster visualizer\n",
    "\n",
    "# sklearn kmeans\n",
    "from sklearn.cluster import KMeans\n",
    "from sklearn.metrics.cluster import contingency_matrix"
   ]
  },
  {
   "cell_type": "code",
   "execution_count": 3,
   "id": "c2ff72e9-ce5d-4f47-a65d-b86cf686607c",
   "metadata": {},
   "outputs": [
    {
     "name": "stdout",
     "output_type": "stream",
     "text": [
      "Seeding random number generator. Random number is: 0.7705574679707526\n"
     ]
    }
   ],
   "source": [
    "# Seed the random nunmber generator to ensure K-Means randomisation works properly.\n",
    "random.seed()\n",
    "\n",
    "print(f\"Seeding random number generator. Random number is: {random.random()}\")"
   ]
  },
  {
   "cell_type": "code",
   "execution_count": 4,
   "id": "214a3b96-e762-4e12-ac61-158e00604527",
   "metadata": {},
   "outputs": [],
   "source": [
    "# Uncomment this line for debugging dataframe contents.\n",
    "#np.set_printoptions(threshold=np.inf)"
   ]
  },
  {
   "cell_type": "markdown",
   "id": "f72dac0f-86a0-4ca9-8c1e-f2969e8c8429",
   "metadata": {},
   "source": [
    "# Part 1"
   ]
  },
  {
   "cell_type": "markdown",
   "id": "bbce1788-62f0-438a-91be-6d7468c0a8d4",
   "metadata": {
    "tags": []
   },
   "source": [
    "## Load the SCADI Dataset"
   ]
  },
  {
   "cell_type": "code",
   "execution_count": 5,
   "id": "bc7f7f05-fd69-4cae-ba8e-806645c194b6",
   "metadata": {},
   "outputs": [
    {
     "name": "stdout",
     "output_type": "stream",
     "text": [
      "   Gender  Age  d 5100-0  d 5100-1  d 5100-2  d 5100-3  d 5100-4  d 5100-8  \\\n",
      "0       0   18         0         0         0         0         1         0   \n",
      "1       0   22         0         0         0         0         1         0   \n",
      "2       0   18         0         0         0         1         0         0   \n",
      "3       1   18         0         0         0         0         1         0   \n",
      "4       0   19         0         0         0         0         1         0   \n",
      "\n",
      "   d 5100-9  d 5101-0  ...  d 57022-8  d 57022-9  d 571-0  d 571-1  d 571-2  \\\n",
      "0         0         0  ...          0          0        0        0        0   \n",
      "1         0         0  ...          0          0        0        0        0   \n",
      "2         0         0  ...          0          0        0        0        0   \n",
      "3         0         0  ...          0          0        0        0        1   \n",
      "4         0         0  ...          0          0        0        0        1   \n",
      "\n",
      "   d 571-3  d 571-4  d 571-8  d 571-9  Classes  \n",
      "0        0        1        0        0   class6  \n",
      "1        1        0        0        0   class6  \n",
      "2        1        0        0        0   class6  \n",
      "3        0        0        0        0   class6  \n",
      "4        0        0        0        0   class6  \n",
      "\n",
      "[5 rows x 206 columns]\n",
      "\n"
     ]
    }
   ],
   "source": [
    "import ssl\n",
    "ssl._create_default_https_context = ssl._create_unverified_context\n",
    "\n",
    "url = 'https://raw.githubusercontent.com/bryonbaker/datasets/main/SIT720/Ass2/SCADI.csv'\n",
    "full_df = pd.read_csv(url)\n",
    "print(f\"{full_df.head()}\\n\")"
   ]
  },
  {
   "cell_type": "code",
   "execution_count": 6,
   "id": "024d39e8-fd3d-4608-85c4-796bcada281a",
   "metadata": {},
   "outputs": [
    {
     "name": "stdout",
     "output_type": "stream",
     "text": [
      "Initial shape: (70, 206)\n"
     ]
    }
   ],
   "source": [
    "# Display stats on the data frame\n",
    "shape = full_df.shape\n",
    "print(f\"Initial shape: {shape}\")"
   ]
  },
  {
   "cell_type": "markdown",
   "id": "6e853f74-ee62-46f9-a4ef-9315f64c3c24",
   "metadata": {},
   "source": [
    "# Question 1\n",
    "1. Determine the number of subgroups (clusters) from the dataset using attributes 3-255.\n",
    "2. Is this the same as the number of classes presented by attribute 206 (Classes)? \n",
    "3. Explain and justify your findings."
   ]
  },
  {
   "cell_type": "code",
   "execution_count": 7,
   "id": "40a5de92-e770-4110-a71c-ed3e999aef96",
   "metadata": {},
   "outputs": [
    {
     "name": "stdout",
     "output_type": "stream",
     "text": [
      "Number of unique classes in the original dataset is: 7\n",
      "New shape: (70, 203)\n",
      "   d 5100-0  d 5100-1  d 5100-2  d 5100-3  d 5100-4  d 5100-8  d 5100-9  \\\n",
      "0         0         0         0         0         1         0         0   \n",
      "1         0         0         0         0         1         0         0   \n",
      "2         0         0         0         1         0         0         0   \n",
      "3         0         0         0         0         1         0         0   \n",
      "4         0         0         0         0         1         0         0   \n",
      "\n",
      "   d 5101-0  d 5101-1  d 5101-2  ...  d 57022-4  d 57022-8  d 57022-9  \\\n",
      "0         0         0         0  ...          0          0          0   \n",
      "1         0         0         0  ...          0          0          0   \n",
      "2         0         0         0  ...          0          0          0   \n",
      "3         0         0         0  ...          0          0          0   \n",
      "4         0         0         0  ...          0          0          0   \n",
      "\n",
      "   d 571-0  d 571-1  d 571-2  d 571-3  d 571-4  d 571-8  d 571-9  \n",
      "0        0        0        0        0        1        0        0  \n",
      "1        0        0        0        1        0        0        0  \n",
      "2        0        0        0        1        0        0        0  \n",
      "3        0        0        1        0        0        0        0  \n",
      "4        0        0        1        0        0        0        0  \n",
      "\n",
      "[5 rows x 203 columns]\n"
     ]
    }
   ],
   "source": [
    "# Count the number of classes in the dataset before we drop the column. This is used in Question 3\n",
    "num_classes_in_dataset = full_df['Classes'].nunique()\n",
    "print(f\"Number of unique classes in the original dataset is: {num_classes_in_dataset}\")\n",
    "\n",
    "# Drop attributes: 1, 2, and 205\n",
    "df = full_df.drop([\"Gender\",\"Age\",\"Classes\"], axis=1)\n",
    "shape = df.shape\n",
    "print(f\"New shape: {shape}\")\n",
    "print(f\"{df.head()}\")"
   ]
  },
  {
   "cell_type": "code",
   "execution_count": 8,
   "id": "d4c19763-c835-4f5b-9513-bb5add53cffa",
   "metadata": {},
   "outputs": [
    {
     "name": "stderr",
     "output_type": "stream",
     "text": [
      "findfont: Font family ['sans-serif'] not found. Falling back to DejaVu Sans.\n",
      "findfont: Generic family 'sans-serif' not found because none of the following families were found: Arial, Liberation Sans, Bitstream Vera Sans, sans-serif\n",
      "findfont: Font family ['sans-serif'] not found. Falling back to DejaVu Sans.\n",
      "findfont: Generic family 'sans-serif' not found because none of the following families were found: Arial, Liberation Sans, Bitstream Vera Sans, sans-serif\n"
     ]
    },
    {
     "data": {
      "image/png": "[encoded data removed]",
      "text/plain": [
       "<Figure size 720x720 with 1 Axes>"
      ]
     },
     "metadata": {},
     "output_type": "display_data"
    }
   ],
   "source": [
    "from sklearn.cluster import KMeans\n",
    "import matplotlib.pyplot as plt\n",
    "\n",
    "distortions = []\n",
    "ref_xLine = [2,11]\n",
    "ref_yLine = [625, 475]\n",
    "\n",
    "min_k = 1\n",
    "max_k = 12\n",
    "for n in range(min_k,max_k):\n",
    "    km = KMeans( n_clusters=n, init='random', n_init=10, max_iter=300, tol=1e-04, random_state=0 )\n",
    "    y_km = km.fit(df)\n",
    "    distortions.append(km.inertia_)\n",
    "\n",
    "# Calculate the co-ordinates of the reference line that passes through the points at k=6 and k = 11\n",
    "x1 = num_classes_in_dataset\n",
    "x2 = max_k-1\n",
    "y1 = distortions[num_classes_in_dataset-1]\n",
    "y2 = distortions[max_k-2]\n",
    "m =  (y2 - y1) / (x2 - x1)\n",
    "c = y1 - (m * x1)\n",
    "ref_y1 = (m * 2) + c    # Calc the left of the reference line\n",
    "ref_yLine[0] = ref_y1\n",
    "    \n",
    "# Scale the plot so the reference line is more distinct form the reference line\n",
    "fig = plt.figure()\n",
    "fig.set_size_inches(10,10)\n",
    "\n",
    "# plot the elbow chart and include a reference line based on the number of classes in the dataset.\n",
    "plt.plot(range(min_k, max_k), distortions, marker='o')\n",
    "plt.xlabel('Number of clusters')\n",
    "plt.ylabel('Distortion')\n",
    "\n",
    "# Plot the reference line to highlight where the elbow is located.\n",
    "# The reference line is used to help discuss any differences between optimal clusters from the elbow versus what is in the dataset.\n",
    "plt.plot(ref_xLine, ref_yLine, label = \"line 1\")\n",
    "\n",
    "plt.show()"
   ]
  },
  {
   "cell_type": "markdown",
   "id": "40e7282e-9386-4b0e-b39b-9facbbd745ac",
   "metadata": {},
   "source": [
    "# Question 2\n",
    "For the dataset, perform PCA. \n",
    "1. plot the captured variance with respect to increasing latent dimensionality.\n",
    "\n",
    "   What is the minimum dimension that captures:\n",
    "    - At least 89% variance\n",
    "    - At least 99% variance"
   ]
  },
  {
   "cell_type": "code",
   "execution_count": 9,
   "id": "38ce866d-ee38-4271-8378-f57459cf7ad4",
   "metadata": {},
   "outputs": [
    {
     "name": "stdout",
     "output_type": "stream",
     "text": [
      "Number of comoponets: 70\n",
      "PCA details => PCA(n_components=70)\n",
      "==================================================\n",
      "Explained Variance:\n",
      "[1.88806809e-01 1.40294493e-01 9.28576978e-02 5.55026572e-02\n",
      " 4.61869047e-02 4.34725875e-02 3.69877993e-02 3.13335959e-02\n",
      " 2.84580857e-02 2.76366269e-02 2.54158872e-02 2.29197949e-02\n",
      " 2.19763646e-02 1.99686493e-02 1.71542044e-02 1.68217640e-02\n",
      " 1.49495489e-02 1.35025077e-02 1.30312569e-02 1.21237442e-02\n",
      " 1.17685546e-02 9.66224236e-03 8.63248486e-03 7.84566734e-03\n",
      " 7.59307576e-03 7.12095577e-03 6.55889086e-03 6.12964769e-03\n",
      " 5.91117990e-03 5.17548744e-03 5.03651222e-03 4.65382307e-03\n",
      " 4.39521523e-03 4.10905658e-03 3.56350637e-03 3.48557543e-03\n",
      " 3.19702197e-03 2.97311722e-03 2.42793434e-03 2.24198157e-03\n",
      " 2.01187470e-03 1.91211156e-03 1.86048071e-03 1.69712604e-03\n",
      " 1.56776044e-03 1.23397690e-03 1.10068456e-03 9.44378334e-04\n",
      " 9.25930483e-04 7.94493095e-04 6.85276056e-04 5.32382661e-04\n",
      " 5.02833242e-04 4.16181322e-04 3.63010110e-04 3.39694589e-04\n",
      " 2.48292321e-04 2.40044414e-04 1.69408256e-04 1.53845295e-04\n",
      " 1.35840610e-04 1.20589850e-04 8.05520556e-05 3.71997252e-05\n",
      " 3.48783141e-05 6.09060748e-06 2.15474998e-06 3.72355775e-32\n",
      " 9.42228804e-34 7.14000976e-34]\n",
      "==================================================\n",
      "Cumulative Explained Variance:\n",
      "[ 18.88068085  32.91013012  42.1958999   47.74616562  52.36485609\n",
      "  56.71211484  60.41089477  63.54425436  66.39006293  69.15372562\n",
      "  71.69531433  73.98729383  76.18493029  78.18179522  79.89721566\n",
      "  81.57939206  83.07434695  84.42459773  85.72772342  86.94009784\n",
      "  88.1169533   89.08317754  89.94642602  90.73099276  91.49030033\n",
      "  92.20239591  92.858285    93.47124977  94.06236776  94.5799165\n",
      "  95.08356772  95.54895003  95.98847155  96.39937721  96.75572785\n",
      "  97.10428539  97.42398759  97.72129931  97.96409274  98.1882909\n",
      "  98.38947837  98.58068953  98.7667376   98.9364502   99.09322624\n",
      "  99.21662393  99.32669239  99.42113022  99.51372327  99.59317258\n",
      "  99.66170019  99.71493845  99.76522178  99.80683991  99.84314092\n",
      "  99.87711038  99.90193961  99.92594405  99.94288488  99.95826941\n",
      "  99.97185347  99.98391245  99.99196766  99.99568763  99.99917546\n",
      "  99.99978453 100.         100.         100.         100.        ]\n"
     ]
    },
    {
     "data": {
      "image/png": "[encoded data removed]",
      "text/plain": [
       "<Figure size 576x396 with 1 Axes>"
      ]
     },
     "metadata": {},
     "output_type": "display_data"
    },
    {
     "name": "stdout",
     "output_type": "stream",
     "text": [
      "==================================================\n"
     ]
    }
   ],
   "source": [
    "from sklearn.preprocessing import scale\n",
    "from sklearn.decomposition import PCA\n",
    "\n",
    "# Normalise all of the data to ensure they are of similar magnitude.\n",
    "Xnorm = scale(df)\n",
    "\n",
    "# Perform the Principal Component Analysis. The number of components is the number of coumns in the dataset.\n",
    "# The number of components is the minimum of the number of data elements and festures \n",
    "n_components=min(df.shape[0], df.shape[1])\n",
    "print(\"Number of comoponets: {}\".format(n_components))\n",
    "pca = PCA(n_components)\n",
    "pca.fit(Xnorm)\n",
    "print(\"PCA details => {}\".format(pca))\n",
    "\n",
    "print('='*50)\n",
    "print(\"Explained Variance:\")\n",
    "# Calculate the amount of variance explained by each PC\n",
    "var= pca.explained_variance_ratio_\n",
    "print(var)\n",
    "\n",
    "print('='*50)\n",
    "print(\"Cumulative Explained Variance:\")\n",
    "\n",
    "#cum_var=np.cumsum(np.round(pca.explained_variance_ratio_, decimals=4)*100)\n",
    "cum_var=np.cumsum(pca.explained_variance_ratio_*100)\n",
    "print(cum_var)\n",
    "\n",
    "pca_num = a_list = list(range(1, n_components+1))\n",
    "plt.plot(pca_num, cum_var, marker='.')\n",
    "plt.xlabel(\"Principal components\")\n",
    "plt.ylabel(\"Variance captured\")\n",
    "plt.show()\n",
    "\n",
    "dimensions = {}\n",
    "\n",
    "# Find the minimum dimensions that capture 89% and 99% respectively\n",
    "#num_dimensions = next(k for k, value in enumerate(cum_var) if value >= 89) \n",
    "#print(\"Minimum dimension for at least 89% variance is: \", num_dimensions)\n",
    "#dimensions[89] = num_dimensions\n",
    "\n",
    "#num_dimensions = next(k for k, value in enumerate(cum_var) if value >= 99) \n",
    "#print(\"Minimum dimension for at least 99% variance is: \", num_dimensions)\n",
    "#dimensions[99] = num_dimensions\n",
    "\n",
    "num_dimensions = 0\n",
    "for value in cum_var:\n",
    "    if value >= 89:\n",
    "        dimensions[value]=num_dimensions\n",
    "        break\n",
    "    num_dimensions += 1\n",
    "\n",
    "num_dimensions = 0\n",
    "for value in cum_var:\n",
    "    if value >= 99:\n",
    "        dimensions[value]=num_dimensions\n",
    "        break\n",
    "    num_dimensions += 1\n",
    "\n",
    "print('='*50)\n",
    "\n",
    "# The \"dictionary\" tuple contains a map of >= 89%, variance and >=99%, variance. This is used in the next question."
   ]
  },
  {
   "cell_type": "markdown",
   "id": "9896efd4-a07b-4717-9c24-ebf22ffd7fb8",
   "metadata": {},
   "source": [
    "# Question 3\n",
    "Determine the purity of the clusters formed by the number of principal components that captured 89% and 99% variances respectively. Plot a line ghraph of the purity scores against the captured variances.\n",
    "\n",
    "Discuss your findings."
   ]
  },
  {
   "cell_type": "markdown",
   "id": "80637e16-83d9-4010-bf0e-66530b7b242a",
   "metadata": {},
   "source": [
    "### Helper functions\n",
    "The following code segment defines some helper functions for calculating clulstering purity"
   ]
  },
  {
   "cell_type": "code",
   "execution_count": 10,
   "id": "a4137e89-b0c8-458c-a271-f40854a79063",
   "metadata": {},
   "outputs": [],
   "source": [
    "# Takes a list that may contain duplicates and returns a list with unique ites.\n",
    "def uniqueList(list1):\n",
    "    # insert the list to the set\n",
    "    list_set = set(list1)\n",
    "    # convert the set to the list\n",
    "    unique_list = (list(list_set))\n",
    "    unique_list.sort()\n",
    "    return unique_list\n",
    "\n",
    "# Searches a Series and finds the item that appears with the greatest frequency and returns the count.\n",
    "def findMaxLabel( data ):\n",
    "    unique, counts = np.unique(data, return_counts=True)\n",
    "    # print(np.asarray((unique, counts)).T)\n",
    "    idx = np.argmax(counts, axis=0)\n",
    "    # print(f\"Index of max: {idx}\")\n",
    "\n",
    "    return unique[idx], counts[idx]\n",
    "\n",
    "# Given a dataframe of columns \"cluster\" and \"label\", it calculates the cluster purity\n",
    "def calculatePurity(data):\n",
    "    print(\"INFO: Calculating clustering purity.\")\n",
    "    #print(\"INFO: Input data:\\n{}\".format(data))\n",
    "          \n",
    "    assert data.shape[1] > 0        # Check we won't have a divide by zero error later\n",
    "\n",
    "    # Get a list of clusters that has no duplicates so we can use it as a key.\n",
    "    clusterList = uniqueList(data['cluster'])\n",
    "    # print(f\"Cluster list: {clusterList}\")\n",
    "\n",
    "    # Go through each cluster one by one.\n",
    "    runningSum = 0\n",
    "    for c in clusterList:\n",
    "        # print(f\"INFO: Counting instances in cluster {c}\")\n",
    "        m1,m2 = findMaxLabel(data[data[\"cluster\"] == c][\"label\"])\n",
    "        print(\"INFO: Maximum frequency in cluster {} is label {}. It has a count of {}.\".format(c,m1,m2))\n",
    "        runningSum = runningSum + m2\n",
    "\n",
    "    purity = runningSum / data.shape[0]\n",
    "\n",
    "    return purity"
   ]
  },
  {
   "cell_type": "markdown",
   "id": "301c7428-d2fc-4724-a8aa-8513b824e001",
   "metadata": {},
   "source": [
    "### Calculate Purity"
   ]
  },
  {
   "cell_type": "code",
   "execution_count": 11,
   "id": "878a490d-e9a3-42bb-8fdf-e699143b4f33",
   "metadata": {},
   "outputs": [
    {
     "name": "stdout",
     "output_type": "stream",
     "text": [
      "\n",
      "============================================================\n",
      "INFO: Calculate the the purity score for 89.0832% CV using 21 dimensions:\n",
      "INFO: Xnorm shape: (70, 203)\n",
      "INFO: Zred shape: (70, 21)\n",
      "INFO: Calculating clustering purity.\n",
      "INFO: Maximum frequency in cluster 0 is label class7. It has a count of 5.\n",
      "INFO: Maximum frequency in cluster 1 is label class6. It has a count of 1.\n",
      "INFO: Maximum frequency in cluster 2 is label class6. It has a count of 27.\n",
      "INFO: Maximum frequency in cluster 3 is label class2. It has a count of 5.\n",
      "INFO: Maximum frequency in cluster 4 is label class7. It has a count of 6.\n",
      "INFO: Maximum frequency in cluster 5 is label class4. It has a count of 10.\n",
      "INFO: Maximum frequency in cluster 6 is label class7. It has a count of 5.\n",
      "INFO: Purity score is: 0.8428571428571429\n",
      "\n",
      "============================================================\n",
      "INFO: Calculate the the purity score for 99.0932% CV using 44 dimensions:\n",
      "INFO: Xnorm shape: (70, 203)\n",
      "INFO: Zred shape: (70, 44)\n",
      "INFO: Calculating clustering purity.\n",
      "INFO: Maximum frequency in cluster 0 is label class7. It has a count of 5.\n",
      "INFO: Maximum frequency in cluster 1 is label class6. It has a count of 1.\n",
      "INFO: Maximum frequency in cluster 2 is label class6. It has a count of 27.\n",
      "INFO: Maximum frequency in cluster 3 is label class2. It has a count of 5.\n",
      "INFO: Maximum frequency in cluster 4 is label class7. It has a count of 6.\n",
      "INFO: Maximum frequency in cluster 5 is label class4. It has a count of 11.\n",
      "INFO: Maximum frequency in cluster 6 is label class7. It has a count of 4.\n",
      "INFO: Purity score is: 0.8428571428571429\n",
      "\n",
      "############################################################\n",
      "Purity scores by cumulative variance results:\n",
      "   purity_score   variance\n",
      "0      0.842857  89.083178\n",
      "1      0.842857  99.093226\n",
      "############################################################\n",
      "\n"
     ]
    }
   ],
   "source": [
    "# Using the optimal number of clusters found in question 1, perform a K-Means clustering for the num_dimensions found in question 2 and calculate the purity score\n",
    "# To measure pruity we need to count the majority label in a cluster and assign the cluster that label. However, the labels have been removed because we to not want the label to be part of the clustering.\n",
    "# This method therefore will perform k-means on the non-PCA dataset and \n",
    "\n",
    "# Using the dictionary of cumulative variance and number of principal components created in the earlier question\n",
    "# Calculate the purity score for each.\n",
    "\n",
    "# Creaye a data frame for the final plot.\n",
    "results_df = pd.DataFrame(columns=['purity_score', 'variance'])\n",
    "\n",
    "for percentage in dimensions:\n",
    "    print(\"\\n\"+\"=\"*60)\n",
    "    n = dimensions[percentage]\n",
    "    print(\"INFO: Calculate the the purity score for {:.4f}% CV using {} dimensions:\".format(percentage,n))\n",
    "    \n",
    "    # Perform the dimensionality reduction using the supplied number of components.\n",
    "    pca = PCA(n_components=n)\n",
    "    Zred = pca.fit_transform(Xnorm)\n",
    "    print(\"INFO: Xnorm shape: {}\".format(Xnorm.shape))\n",
    "    print(\"INFO: Zred shape: {}\".format(Zred.shape))\n",
    "    \n",
    "    # Perform the K-Means clustering. Given the anlysis in Q1 we will use the number of classes in the original dataset for this clustering activity.\n",
    "    km = KMeans( n_clusters=num_classes_in_dataset, init='random', n_init=10, max_iter=300, tol=1e-04, random_state=0 )\n",
    "    y_km = km.fit(Zred)\n",
    "    \n",
    "    # The K-Means clustering algorithm preserves the order of the input data in the resultant labels. Using the clusters defined during training, \n",
    "    # Create a nx2 table of the identified clusters and the class labels in the input dataset. Use this to calculate the cluster purity.\n",
    "    d = pd.concat([pd.Series(y_km.labels_),pd.Series(full_df['Classes'].array)], axis=1)\n",
    "    d.columns = ['cluster', 'label']\n",
    "    # print(\"Allocation of labels to clusters is:\\n{}\".format(d))\n",
    "    purity = calculatePurity(d)\n",
    "    print(f\"INFO: Purity score is: {purity}\")\n",
    "    results_df = results_df.append({'purity_score': purity, 'variance': percentage}, ignore_index=True)\n",
    "    \n",
    "\n",
    "# Print the summary results\n",
    "print(\"\\n\"+\"#\"*60)\n",
    "print(\"Purity scores by cumulative variance results:\")\n",
    "print(results_df)\n",
    "\n",
    "\n",
    "print(\"#\"*60+\"\\n\")"
   ]
  },
  {
   "cell_type": "markdown",
   "id": "740d0b94-1d64-44e4-84eb-a46f5a5ccb0c",
   "metadata": {},
   "source": [
    "### Plot the Graphs\n",
    "Plot a line graph of the purity scores against the "
   ]
  },
  {
   "cell_type": "code",
   "execution_count": 12,
   "id": "ee3e6ee5-c780-477f-93df-265bd0286ab2",
   "metadata": {},
   "outputs": [
    {
     "data": {
      "image/png": "[encoded data removed]",
      "text/plain": [
       "<Figure size 576x396 with 1 Axes>"
      ]
     },
     "metadata": {},
     "output_type": "display_data"
    }
   ],
   "source": [
    "# gca stands for 'get current axis'\n",
    "ax = plt.gca()\n",
    "\n",
    "results_df.plot(kind='line',x='variance',y='purity_score',ax=ax)\n",
    "\n",
    "plt.show()"
   ]
  },
  {
   "cell_type": "markdown",
   "id": "580372f9-def0-4b14-be91-d9451c5b993b",
   "metadata": {},
   "source": [
    "# QUESTION 4:\n",
    "Let's assume you have two datasets, one is linear and the other is curved structural data.\n",
    "1. Can we apply PCA on these datasets? Justify your answer"
   ]
  },
  {
   "cell_type": "markdown",
   "id": "fb50b687-4efa-40db-835d-dd64c12ddce8",
   "metadata": {},
   "source": [
    "Refer to writeup for details."
   ]
  },
  {
   "cell_type": "markdown",
   "id": "27bb7707-8d19-4856-a11e-3b16333f3c4a",
   "metadata": {},
   "source": [
    "# Part 2"
   ]
  },
  {
   "cell_type": "code",
   "execution_count": 13,
   "id": "f1e502fe-f93f-40b2-b015-3453e0f84852",
   "metadata": {},
   "outputs": [],
   "source": [
    "# Because these are two distinct machine learning parts in the one notebook, reset all the variables to avoid interference.\n",
    "%reset -f"
   ]
  },
  {
   "cell_type": "code",
   "execution_count": 14,
   "id": "989441e2-6a79-406b-8a8f-9c27fe53966b",
   "metadata": {},
   "outputs": [],
   "source": [
    "import random\n",
    "import pandas as pd # dataframe manipulation\n",
    "import numpy as np # linear algebra\n",
    "\n",
    "# data visualization\n",
    "import matplotlib.pyplot as plt\n",
    "%matplotlib inline\n",
    "from yellowbrick.cluster import KElbowVisualizer # cluster visualizer\n",
    "\n",
    "# sklearn kmeans\n",
    "from sklearn.cluster import KMeans\n",
    "from sklearn.metrics.cluster import contingency_matrix"
   ]
  },
  {
   "cell_type": "markdown",
   "id": "a6d76d91-a0e2-4edc-ab91-1138fd6af074",
   "metadata": {},
   "source": [
    "# Part 2: SCADI Dataset"
   ]
  },
  {
   "cell_type": "markdown",
   "id": "db2ecc73-f80d-4f89-adc5-395fcbb5acf6",
   "metadata": {},
   "source": [
    "## Question 5\n",
    "* Download the attached heartdisease.csv file. \n",
    "* Read the file and separate the class and feature matrix."
   ]
  },
  {
   "cell_type": "code",
   "execution_count": 15,
   "id": "982e39ba-ad69-4fba-ace9-f222b10384a1",
   "metadata": {},
   "outputs": [],
   "source": [
    "# Takes a list that may contain duplicates and returns a list with unique ites.\n",
    "def uniqueList(list1):\n",
    "    # insert the list to the set\n",
    "    list_set = set(list1)\n",
    "    # convert the set to the list\n",
    "    unique_list = (list(list_set))\n",
    "    unique_list.sort()\n",
    "    return unique_list\n",
    "\n",
    "# Searches a Series and finds the item that appears with the greatest frequency and returns the count.\n",
    "def findMaxLabel( data ):\n",
    "    unique, counts = np.unique(data, return_counts=True)\n",
    "    # print(np.asarray((unique, counts)).T)\n",
    "    idx = np.argmax(counts, axis=0)\n",
    "    # print(f\"Index of max: {idx}\")\n",
    "\n",
    "    return unique[idx], counts[idx]\n",
    "\n",
    "# Given a dataframe of columns \"cluster\" and \"label\", it calculates the cluster purity\n",
    "def calculatePurity(data):\n",
    "    print(\"INFO: Calculating clustering purity.\")\n",
    "    #print(\"INFO: Input data:\\n{}\".format(data))\n",
    "          \n",
    "    assert data.shape[1] > 0        # Check we won't have a divide by zero error later\n",
    "\n",
    "    # Get a list of clusters that has no duplicates so we can use it as a key.\n",
    "    clusterList = uniqueList(data['cluster'])\n",
    "    # print(f\"Cluster list: {clusterList}\")\n",
    "\n",
    "    # Go through each cluster one by one.\n",
    "    runningSum = 0\n",
    "    for c in clusterList:\n",
    "        # print(f\"INFO: Counting instances in cluster {c}\")\n",
    "        m1,m2 = findMaxLabel(data[data[\"cluster\"] == c][\"label\"])\n",
    "        print(\"INFO: Maximum frequency in cluster {} is label {}. It has a count of {}.\".format(c,m1,m2))\n",
    "        runningSum = runningSum + m2\n",
    "\n",
    "    purity = runningSum / data.shape[0]\n",
    "\n",
    "    return purity"
   ]
  },
  {
   "cell_type": "code",
   "execution_count": 16,
   "id": "622cc0e0-6e32-4a10-9db7-b0dce63a1ae1",
   "metadata": {},
   "outputs": [
    {
     "name": "stdout",
     "output_type": "stream",
     "text": [
      "Shape of data upon read: (303, 14)\n",
      "     Age  Sex  chest pain type  Trestbps  chol  fbs  restecg  thalach  exang  \\\n",
      "0     63    1                1       145   233    1        2      150      0   \n",
      "1     67    1                4       160   286    0        2      108      1   \n",
      "2     67    1                4       120   229    0        2      129      1   \n",
      "3     37    1                3       130   250    0        0      187      0   \n",
      "4     41    0                2       130   204    0        2      172      0   \n",
      "..   ...  ...              ...       ...   ...  ...      ...      ...    ...   \n",
      "298   45    1                1       110   264    0        0      132      0   \n",
      "299   68    1                4       144   193    1        0      141      0   \n",
      "300   57    1                4       130   131    0        0      115      1   \n",
      "301   57    0                2       130   236    0        2      174      0   \n",
      "302   38    1                3       138   175    0        0      173      0   \n",
      "\n",
      "     oldpeak  slope   ca  thal  num  \n",
      "0        2.3      3  0.0   6.0    0  \n",
      "1        1.5      2  3.0   3.0    2  \n",
      "2        2.6      2  2.0   7.0    1  \n",
      "3        3.5      3  0.0   3.0    0  \n",
      "4        1.4      1  0.0   3.0    0  \n",
      "..       ...    ...  ...   ...  ...  \n",
      "298      1.2      2  0.0   7.0    1  \n",
      "299      3.4      2  2.0   7.0    2  \n",
      "300      1.2      2  1.0   7.0    3  \n",
      "301      0.0      2  1.0   3.0    1  \n",
      "302      0.0      1  NaN   3.0    0  \n",
      "\n",
      "[303 rows x 14 columns]\n",
      "Shape of data post row pruning: (297, 14)\n",
      "\n",
      "Dataframe structure:\n",
      "Age                  int64\n",
      "Sex                  int64\n",
      "chest pain type      int64\n",
      "Trestbps             int64\n",
      "chol                 int64\n",
      "fbs                  int64\n",
      "restecg              int64\n",
      "thalach              int64\n",
      "exang                int64\n",
      "oldpeak            float64\n",
      "slope                int64\n",
      "ca                 float64\n",
      "thal               float64\n",
      "num                  int64\n",
      "dtype: object\n",
      "X shape: (297, 13)\n",
      "y shape: (297,)\n",
      "\n",
      "***************************************************************************\n",
      "Dataframe Content Summary\n",
      "***************************************************************************\n",
      "\n",
      "Features:\n",
      "==========\n",
      "     Age  Sex  chest pain type  Trestbps  chol  fbs  restecg  thalach  exang  \\\n",
      "0     63    1                1       145   233    1        2      150      0   \n",
      "1     67    1                4       160   286    0        2      108      1   \n",
      "2     67    1                4       120   229    0        2      129      1   \n",
      "3     37    1                3       130   250    0        0      187      0   \n",
      "4     41    0                2       130   204    0        2      172      0   \n",
      "..   ...  ...              ...       ...   ...  ...      ...      ...    ...   \n",
      "292   57    0                4       140   241    0        0      123      1   \n",
      "293   45    1                1       110   264    0        0      132      0   \n",
      "294   68    1                4       144   193    1        0      141      0   \n",
      "295   57    1                4       130   131    0        0      115      1   \n",
      "296   57    0                2       130   236    0        2      174      0   \n",
      "\n",
      "     oldpeak  slope   ca  thal  \n",
      "0        2.3      3  0.0   6.0  \n",
      "1        1.5      2  3.0   3.0  \n",
      "2        2.6      2  2.0   7.0  \n",
      "3        3.5      3  0.0   3.0  \n",
      "4        1.4      1  0.0   3.0  \n",
      "..       ...    ...  ...   ...  \n",
      "292      0.2      2  0.0   7.0  \n",
      "293      1.2      2  0.0   7.0  \n",
      "294      3.4      2  2.0   7.0  \n",
      "295      1.2      2  1.0   7.0  \n",
      "296      0.0      2  1.0   3.0  \n",
      "\n",
      "[297 rows x 13 columns]\n",
      "\n",
      "Classes:\n",
      "==========\n",
      "0      0\n",
      "1      2\n",
      "2      1\n",
      "3      0\n",
      "4      0\n",
      "      ..\n",
      "292    1\n",
      "293    1\n",
      "294    2\n",
      "295    3\n",
      "296    1\n",
      "Name: num, Length: 297, dtype: int64\n"
     ]
    }
   ],
   "source": [
    "import ssl\n",
    "ssl._create_default_https_context = ssl._create_unverified_context\n",
    "\n",
    "url = 'https://raw.githubusercontent.com/bryonbaker/datasets/main/SIT720/Ass2/heartdisease.csv'\n",
    "unpruned_df = pd.read_csv(url)\n",
    "\n",
    "print(\"Shape of data upon read: {}\".format(unpruned_df.shape))\n",
    "# Drop the rows with missing values\n",
    "unpruned_df = unpruned_df.apply (pd.to_numeric, errors='coerce')# Anything non-numeric is NaN\n",
    "print(unpruned_df)\n",
    "unpruned_df = unpruned_df.dropna()\n",
    "full_df = unpruned_df.reset_index(drop=True)\n",
    "\n",
    "# Display meta data about the dataframe.\n",
    "print(\"Shape of data post row pruning: {}\\n\".format(full_df.shape))\n",
    "print(\"Dataframe structure:\\n{}\".format(full_df.dtypes))\n",
    "\n",
    "# Separate the features form the labels\n",
    "X = full_df.drop(['num'], axis=1)\n",
    "y = full_df['num']\n",
    "print(f\"X shape: {X.shape}\")\n",
    "print(f\"y shape: {y.shape}\")\n",
    "\n",
    "# Display information about the contents to aid quality inspection.\n",
    "print(\"\\n\"+\"*\"*75)\n",
    "print(\"Dataframe Content Summary\\n\"+\"*\"*75)\n",
    "print(\"\\nFeatures:\\n\"+\"=\"*10+\"\\n{}\".format(X))\n",
    "print(\"\\nClasses:\\n\"+\"=\"*10+\"\\n{}\".format(y))"
   ]
  },
  {
   "cell_type": "markdown",
   "id": "2b7432fe-0d7d-41a0-8640-95262671764b",
   "metadata": {},
   "source": [
    "## Question 6\n",
    "* Determine the number of clusters from the dataset. Is this the same as the actual number of classes in the dataset?"
   ]
  },
  {
   "cell_type": "code",
   "execution_count": 17,
   "id": "4f053a3b-2bbf-434c-af9c-a05b286ddf6f",
   "metadata": {},
   "outputs": [
    {
     "name": "stdout",
     "output_type": "stream",
     "text": [
      "INFO: The breakdown of labels in the dataset are:\n",
      "0    160\n",
      "1     54\n",
      "2     35\n",
      "3     35\n",
      "4     13\n",
      "Name: num, dtype: int64\n"
     ]
    },
    {
     "name": "stderr",
     "output_type": "stream",
     "text": [
      "findfont: Font family ['sans-serif'] not found. Falling back to DejaVu Sans.\n",
      "findfont: Generic family 'sans-serif' not found because none of the following families were found: Arial, Liberation Sans, Bitstream Vera Sans, sans-serif\n"
     ]
    },
    {
     "data": {
      "image/png": "[encoded data removed]",
      "text/plain": [
       "<Figure size 432x288 with 1 Axes>"
      ]
     },
     "metadata": {
      "needs_background": "light"
     },
     "output_type": "display_data"
    },
    {
     "name": "stdout",
     "output_type": "stream",
     "text": [
      "Cluster/Label relationship:\n",
      "The number of unique labels in the dataset is: 5\n",
      "Optimal number of clusters is: 3\n"
     ]
    }
   ],
   "source": [
    "# Scan through the labels and count the number of unique values.\n",
    "num_labels = y.nunique()\n",
    "print(\"INFO: The breakdown of labels in the dataset are:\\n{}\".format(y.value_counts()))\n",
    "\n",
    "# Find the optimal number of clusters for the dataset\n",
    "model = KMeans()\n",
    "elbowChart = KElbowVisualizer(model, k=(1, 11), timings=False)\n",
    "\n",
    "elbowChart.fit(X) # Fit the data to the visualiser\n",
    "elbowChart.show() # Plot the graph and the elbow\n",
    "plt.show()\n",
    "optimalClusters = elbowChart.elbow_value_\n",
    "\n",
    "print(\"Cluster/Label relationship:\")\n",
    "print(f\"The number of unique labels in the dataset is: {num_labels}\")\n",
    "print(f\"Optimal number of clusters is: {optimalClusters}\")"
   ]
  },
  {
   "cell_type": "markdown",
   "id": "21dd6675-52e3-4e72-baa6-f9168da545b3",
   "metadata": {},
   "source": [
    "# Question 7:\n",
    "\n",
    "Perform K-Means clustering on the complete dataset and report the purity score."
   ]
  },
  {
   "cell_type": "code",
   "execution_count": 18,
   "id": "b352c3d4-ffa9-4362-94da-cabb0d519d3e",
   "metadata": {},
   "outputs": [],
   "source": [
    "# instatiate KMeans class and set the number of clusters to the optimal number returned form the elbow chart\n",
    "model = KMeans(n_clusters=optimalClusters, random_state=10)\n",
    "\n",
    "#X.reset_index(drop=True)\n",
    "# call fit method with data \n",
    "km_result = model.fit(X)\n",
    "\n",
    "# coordinates of cluster center\n",
    "centroids = model.cluster_centers_ "
   ]
  },
  {
   "cell_type": "code",
   "execution_count": 19,
   "id": "2e1b6f13-c83e-406a-af97-cc7f339997d6",
   "metadata": {},
   "outputs": [
    {
     "name": "stdout",
     "output_type": "stream",
     "text": [
      "INFO: Calculating clustering purity.\n",
      "INFO: Maximum frequency in cluster 0 is label 0. It has a count of 67.\n",
      "INFO: Maximum frequency in cluster 1 is label 0. It has a count of 65.\n",
      "INFO: Maximum frequency in cluster 2 is label 0. It has a count of 28.\n",
      "\n",
      "Number of clusters usefd for KMeans: 3\n",
      "Total number of data points in clusters is 297\n",
      "Purity of clustering is: 0.5387%\n"
     ]
    }
   ],
   "source": [
    "# The K-Means clustering algorithm preserves the order of the input data in the resultant labels. Using the clusters defined during training, \n",
    "# Create a nx2 table of the identified clusters and the class labels in the input dataset. Use this to calculate the cluster purity.\n",
    "ls = pd.Series(y).astype(int)\n",
    "ys = pd.Series(km_result.labels_).astype(int)\n",
    "d = pd.concat([ys,ls], axis=1)\n",
    "d.columns = ['cluster', 'label']\n",
    "\n",
    "# print(\"Allocation of labels to clusters is:\\n{}\".format(d))\n",
    "purity = calculatePurity(d)\n",
    "print(f\"\\nNumber of clusters usefd for KMeans: {optimalClusters}\")\n",
    "print(\"Total number of data points in clusters is {}\".format(y.shape[0]))\n",
    "print(\"Purity of clustering is: {:.4f}%\".format(purity))"
   ]
  },
  {
   "cell_type": "markdown",
   "id": "8c440938-6e6a-43b8-9216-406f6b5d8c41",
   "metadata": {},
   "source": [
    "## Discussion:\n",
    "The data set is very imbalanced, there are\n",
    "* 164 elements with label 0\n",
    "* 55 with label 1\n",
    "* 36 with label 2\n",
    "* 35 with label 3\n",
    "* 13 with label 4\n",
    "\n",
    "As a result, it is not surprising that label 0 is overshadowing the purity of the clustering"
   ]
  },
  {
   "cell_type": "markdown",
   "id": "74184606-b878-47db-a01d-a9b5bde90acb",
   "metadata": {},
   "source": [
    "# Question 8. \n",
    "There are several distance metrics for K-Means such as euclidean, squared euclidian, Manhattan, Chebyshev, Minowski.\n",
    "  * Your job is to compare the purity score of k-means clustering for different distance metrics\n",
    "  * Select the best distance metric and explain why this distance metric is best for the given dataset."
   ]
  },
  {
   "cell_type": "code",
   "execution_count": 20,
   "id": "7e183d29-89c9-4f93-8f48-d3ac31449a49",
   "metadata": {},
   "outputs": [
    {
     "name": "stdout",
     "output_type": "stream",
     "text": [
      "\n",
      "INFO: Number of clusters used for KMeans: 3\n",
      "INFO: Total number of data points in clusters is 297\n",
      "**************************************************\n",
      "INFO: Calculating purity for euclidean distance\n",
      "\n",
      "INFO: Calculating clustering purity.\n",
      "INFO: Maximum frequency in cluster 0 is label 1. It has a count of 70.\n",
      "INFO: Maximum frequency in cluster 1 is label 1. It has a count of 31.\n",
      "INFO: Maximum frequency in cluster 2 is label 1. It has a count of 15.\n",
      "INFO: Maximum frequency in cluster 3 is label 1. It has a count of 16.\n",
      "INFO: Maximum frequency in cluster 4 is label 0. It has a count of 5.\n",
      "INFO: The purity score for euclidean distance is 0.4613%\n",
      "**************************************************\n",
      "\n",
      "**************************************************\n",
      "INFO: Calculating purity for squared euclidean distance\n",
      "\n",
      "INFO: Calculating clustering purity.\n",
      "INFO: Maximum frequency in cluster 0 is label 1. It has a count of 70.\n",
      "INFO: Maximum frequency in cluster 1 is label 1. It has a count of 31.\n",
      "INFO: Maximum frequency in cluster 2 is label 1. It has a count of 15.\n",
      "INFO: Maximum frequency in cluster 3 is label 1. It has a count of 16.\n",
      "INFO: Maximum frequency in cluster 4 is label 0. It has a count of 5.\n",
      "INFO: The purity score for squared euclidean distance is 0.4613%\n",
      "**************************************************\n",
      "\n",
      "**************************************************\n",
      "INFO: Calculating purity for manhattan distance\n",
      "\n",
      "INFO: Calculating clustering purity.\n",
      "INFO: Maximum frequency in cluster 0 is label 1. It has a count of 68.\n",
      "INFO: Maximum frequency in cluster 1 is label 1. It has a count of 30.\n",
      "INFO: Maximum frequency in cluster 2 is label 1. It has a count of 15.\n",
      "INFO: Maximum frequency in cluster 3 is label 1. It has a count of 16.\n",
      "INFO: Maximum frequency in cluster 4 is label 1. It has a count of 5.\n",
      "INFO: The purity score for manhattan distance is 0.4512%\n",
      "**************************************************\n",
      "\n",
      "**************************************************\n",
      "INFO: Calculating purity for chebyshev distance\n",
      "\n",
      "INFO: Calculating clustering purity.\n",
      "INFO: Maximum frequency in cluster 0 is label 1. It has a count of 69.\n",
      "INFO: Maximum frequency in cluster 1 is label 1. It has a count of 23.\n",
      "INFO: Maximum frequency in cluster 2 is label 0. It has a count of 16.\n",
      "INFO: Maximum frequency in cluster 3 is label 2. It has a count of 14.\n",
      "INFO: Maximum frequency in cluster 4 is label 0. It has a count of 5.\n",
      "INFO: The purity score for chebyshev distance is 0.4276%\n",
      "**************************************************\n",
      "\n",
      "**************************************************\n",
      "INFO: Calculating purity for canberra distance\n",
      "\n",
      "INFO: Calculating clustering purity.\n",
      "INFO: Maximum frequency in cluster 0 is label 0. It has a count of 102.\n",
      "INFO: Maximum frequency in cluster 1 is label 0. It has a count of 44.\n",
      "INFO: Maximum frequency in cluster 2 is label 0. It has a count of 35.\n",
      "INFO: Maximum frequency in cluster 3 is label 0. It has a count of 34.\n",
      "INFO: Maximum frequency in cluster 4 is label 0. It has a count of 13.\n",
      "INFO: The purity score for canberra distance is 0.7677%\n",
      "**************************************************\n",
      "\n",
      "**************************************************\n",
      "INFO: Calculating purity for chi-square distance\n",
      "\n",
      "INFO: Calculating clustering purity.\n",
      "INFO: Maximum frequency in cluster 0 is label 0. It has a count of 108.\n",
      "INFO: Maximum frequency in cluster 1 is label 0. It has a count of 29.\n",
      "INFO: Maximum frequency in cluster 2 is label 1. It has a count of 21.\n",
      "INFO: Maximum frequency in cluster 3 is label 1. It has a count of 20.\n",
      "INFO: Maximum frequency in cluster 4 is label 0. It has a count of 8.\n",
      "INFO: The purity score for chi-square distance is 0.6263%\n",
      "**************************************************\n",
      "\n"
     ]
    }
   ],
   "source": [
    "# Reference: \n",
    "#    The following code snippet is based on the work of Arush Chillar, 2021\n",
    "#    Blog url: https://www.kaggle.com/code/arushchillar/kmeans-clustering-using-different-distance-metrics/notebook\n",
    "\n",
    "from pyclustering.cluster.kmeans import kmeans\n",
    "from pyclustering.utils.metric import distance_metric\n",
    "from pyclustering.cluster.center_initializer import random_center_initializer\n",
    "from pyclustering.cluster.encoder import type_encoding\n",
    "from pyclustering.cluster.encoder import cluster_encoder\n",
    "\n",
    "# define dictionary for distance measures\n",
    "distance_measures = {'euclidean': 0, 'squared euclidean': 1, 'manhattan': 2, 'chebyshev': 3, \n",
    "                    'canberra': 5, 'chi-square': 6}\n",
    "\n",
    "# PyClustering uses an array and not a dataframe so need to convert the type.\n",
    "numpy_X = X.to_numpy()\n",
    "\n",
    "print(f\"\\nINFO: Number of clusters used for KMeans: {optimalClusters}\")\n",
    "print(\"INFO: Total number of data points in clusters is {}\".format(numpy_X.shape[0]))\n",
    "\n",
    "results_df = pd.DataFrame(columns=['purity', 'metric'])\n",
    "\n",
    "for measure, value in distance_measures.items():\n",
    "    print(\"*\"*50)\n",
    "    print(f\"INFO: Calculating purity for {measure} distance\\n\")\n",
    "    \n",
    "    initial_centers = random_center_initializer(numpy_X, optimalClusters, random_state=10).initialize()\n",
    "    # instance created for respective distance metric\n",
    "    instanceKm = kmeans(numpy_X, initial_centers=initial_centers, metric=distance_metric(value))\n",
    "    # perform cluster analysis\n",
    "    instanceKm.process()\n",
    "    # cluster analysis results - clusters and centers\n",
    "    pyClusters = instanceKm.get_clusters()\n",
    "    # pyCenters = instanceKm.get_centers()\n",
    "    # enumerate encoding type to index labeling to get labels\n",
    "    pyEncoding = instanceKm.get_cluster_encoding()\n",
    "    pyEncoder = cluster_encoder(pyEncoding, pyClusters, numpy_X)\n",
    "    pyLabels = pyEncoder.set_encoding(0).get_clusters()\n",
    "    \n",
    "    # calculatePurity requires a 2D list so combin the two lists/Series into a single 2D daraframe\n",
    "    d = pd.concat([y,pd.Series(pyLabels)], axis=1)\n",
    "    d.columns = ['cluster', 'label']\n",
    "    purity = calculatePurity(d)\n",
    "    results_df = results_df.append({'purity':purity,'metric':measure}, ignore_index = True)\n",
    "    \n",
    "    print(\"INFO: The purity score for {} distance is {:.4f}%\".format(measure, purity))\n",
    "    print(\"*\"*50+\"\\n\")"
   ]
  },
  {
   "cell_type": "code",
   "execution_count": 21,
   "id": "75ecdfc2-6417-446e-9f0f-507fbf18777e",
   "metadata": {},
   "outputs": [
    {
     "name": "stdout",
     "output_type": "stream",
     "text": [
      "**************************************************\n",
      "SUMMARY\n",
      "**************************************************\n",
      "     purity             metric\n",
      "0  0.461279          euclidean\n",
      "1  0.461279  squared euclidean\n",
      "2  0.451178          manhattan\n",
      "3  0.427609          chebyshev\n",
      "4  0.767677           canberra\n",
      "5  0.626263         chi-square\n",
      "The best distance metric(s) is: canberra with 0.7677% purity.\n"
     ]
    }
   ],
   "source": [
    "print(\"*\"*50)\n",
    "print(\"SUMMARY\")\n",
    "print(\"*\"*50)\n",
    "print(results_df)\n",
    "\n",
    "max_purity_df = results_df[results_df.purity == results_df['purity'].max()]\n",
    "max_purity_df = max_purity_df.reset_index()  # make sure indexes pair with number of rows\n",
    "for index, row in max_purity_df.iterrows():\n",
    "    print(\"The best distance metric(s) is: {} with {:.4}% purity.\".format(row['metric'], row['purity']))"
   ]
  },
  {
   "cell_type": "markdown",
   "id": "ff1f0c02-3263-486b-b953-7fb2a53f191b",
   "metadata": {},
   "source": [
    "# QUESTION: 9\n",
    "Use selection criteria (ANOVA, Chi-squared) to select the best three features and use them for K-Means clustering.\n",
    "Based on the purity score, which features are you going to recommend and why?"
   ]
  },
  {
   "cell_type": "code",
   "execution_count": 22,
   "id": "d72f8607-a106-41f6-a5bb-0bd79160276a",
   "metadata": {},
   "outputs": [],
   "source": [
    "# import the feature selection packages from sklearn\n",
    "from sklearn.feature_selection import SelectKBest\n",
    "from sklearn.feature_selection import chi2\n",
    "from sklearn.feature_selection import f_classif\n"
   ]
  },
  {
   "cell_type": "code",
   "execution_count": 23,
   "id": "94791fc4-2af8-4bf1-8835-cd7c9a7e413e",
   "metadata": {},
   "outputs": [],
   "source": [
    "def plotFeaturePerformance( fs ):\n",
    "    # what are scores for the features\n",
    "    #for i in range(len(fs.scores_)):\n",
    "    #    print('Feature %d: %f' % (i, fs.scores_[i]))\n",
    "        \n",
    "    # plot the scores\n",
    "    plt.bar([i for i in range(len(fs.scores_))], fs.scores_)\n",
    "    plt.show()"
   ]
  },
  {
   "cell_type": "code",
   "execution_count": 24,
   "id": "ddb2e33e-583b-4ae8-b97c-9246722bbace",
   "metadata": {},
   "outputs": [
    {
     "data": {
      "image/png": "[encoded data removed]",
      "text/plain": [
       "<Figure size 432x288 with 1 Axes>"
      ]
     },
     "metadata": {
      "needs_background": "light"
     },
     "output_type": "display_data"
    },
    {
     "data": {
      "image/png": "[encoded data removed]",
      "text/plain": [
       "<Figure size 432x288 with 1 Axes>"
      ]
     },
     "metadata": {
      "needs_background": "light"
     },
     "output_type": "display_data"
    }
   ],
   "source": [
    "# Define the number of features Q9 has asked to find.\n",
    "num_features = 3\n",
    "\n",
    "def selectFeatures( X_train, y_pred, criteria ):\n",
    "    fs = SelectKBest(criteria, k=num_features)\n",
    "    fs.fit(X,y)\n",
    "    new_x_train = fs.transform(X)\n",
    "    # print(new_x_train)\n",
    "    \n",
    "    return new_x_train, fs\n",
    "\n",
    "# Find the n best features using ANOVA.\n",
    "new_x_train1, fs1 = selectFeatures( X, y, f_classif )\n",
    "plotFeaturePerformance( fs1 )\n",
    "\n",
    "# Find the n best features using Chi-squared.\n",
    "new_x_train2, fs2 = selectFeatures( X, y, chi2 )\n",
    "plotFeaturePerformance( fs2 )\n"
   ]
  },
  {
   "cell_type": "code",
   "execution_count": 25,
   "id": "9cbca244-b51e-4425-a572-9b8f47d1b922",
   "metadata": {},
   "outputs": [
    {
     "name": "stdout",
     "output_type": "stream",
     "text": [
      "CALCULATING PURITY WITH FEATURES USING ANOVA\n",
      "INFO: Calculating clustering purity.\n",
      "INFO: Maximum frequency in cluster 0 is label 0. It has a count of 127.\n",
      "INFO: Maximum frequency in cluster 1 is label 0. It has a count of 29.\n",
      "INFO: Maximum frequency in cluster 2 is label 2. It has a count of 15.\n",
      "\n",
      "Number of clusters usefd for KMeans: 3\n",
      "Total number of data points in clusters is 297\n",
      "Purity of clustering is: 0.5758%\n"
     ]
    }
   ],
   "source": [
    "print(\"CALCULATING PURITY WITH FEATURES USING ANOVA\")\n",
    "# instatiate KMeans class and set the number of clusters to the optimal number returned form the elbow chart\n",
    "model = KMeans(n_clusters=optimalClusters, random_state=10)\n",
    "\n",
    "# call fit method with data \n",
    "km_result = model.fit(new_x_train1)\n",
    "\n",
    "# The K-Means clustering algorithm preserves the order of the input data in the resultant labels. Using the clusters defined during training, \n",
    "# Create a nx2 table of the identified clusters and the class labels in the input dataset. Use this to calculate the cluster purity.\n",
    "ls = pd.Series(y).astype(int)\n",
    "ys = pd.Series(km_result.labels_).astype(int)\n",
    "d = pd.concat([ys,ls], axis=1)\n",
    "d.columns = ['cluster', 'label']\n",
    "\n",
    "# print(\"Allocation of labels to clusters is:\\n{}\".format(d))\n",
    "purity = calculatePurity(d)\n",
    "print(f\"\\nNumber of clusters usefd for KMeans: {optimalClusters}\")\n",
    "print(\"Total number of data points in clusters is {}\".format(y.shape[0]))\n",
    "print(\"Purity of clustering is: {:.4f}%\".format(purity))"
   ]
  },
  {
   "cell_type": "code",
   "execution_count": null,
   "id": "9613b6a3-592c-4f28-a9c1-e85e1118bc18",
   "metadata": {},
   "outputs": [],
   "source": []
  },
  {
   "cell_type": "code",
   "execution_count": 26,
   "id": "f68216a1-f85b-4190-9977-ca1b7638fa2d",
   "metadata": {},
   "outputs": [
    {
     "name": "stdout",
     "output_type": "stream",
     "text": [
      "CALCULATING PURITY WITH FEATURES USING CHI-SQUARED\n",
      "INFO: Calculating clustering purity.\n",
      "INFO: Maximum frequency in cluster 0 is label 0. It has a count of 59.\n",
      "INFO: Maximum frequency in cluster 1 is label 0. It has a count of 82.\n",
      "INFO: Maximum frequency in cluster 2 is label 3. It has a count of 21.\n",
      "\n",
      "Number of clusters usefd for KMeans: 3\n",
      "Total number of data points in clusters is 297\n",
      "Purity of clustering is: 0.5455%\n"
     ]
    }
   ],
   "source": [
    "print(\"CALCULATING PURITY WITH FEATURES USING CHI-SQUARED\")\n",
    "# instatiate KMeans class and set the number of clusters to the optimal number returned form the elbow chart\n",
    "model = KMeans(n_clusters=optimalClusters, random_state=10)\n",
    "\n",
    "# call fit method with data \n",
    "km_result = model.fit(new_x_train2)\n",
    "\n",
    "# The K-Means clustering algorithm preserves the order of the input data in the resultant labels. Using the clusters defined during training, \n",
    "# Create a nx2 table of the identified clusters and the class labels in the input dataset. Use this to calculate the cluster purity.\n",
    "ls = pd.Series(y).astype(int)\n",
    "ys = pd.Series(km_result.labels_).astype(int)\n",
    "d = pd.concat([ys,ls], axis=1)\n",
    "d.columns = ['cluster', 'label']\n",
    "\n",
    "# print(\"Allocation of labels to clusters is:\\n{}\".format(d))\n",
    "purity = calculatePurity(d)\n",
    "print(f\"\\nNumber of clusters usefd for KMeans: {optimalClusters}\")\n",
    "print(\"Total number of data points in clusters is {}\".format(y.shape[0]))\n",
    "print(\"Purity of clustering is: {:.4f}%\".format(purity))"
   ]
  },
  {
   "cell_type": "markdown",
   "id": "bf549a03-d97f-430b-9e9d-264e435d3d78",
   "metadata": {},
   "source": [
    "# Question 10\n",
    "Create a ML model for classifying subjects into two classes applying following constraints on above dataset. (6 marks)\n",
    "* Use “num” as target variable and rest of them as predictor variables.\n",
    "   * Report classification performance scores. Select scores that you think best for describing the model performance with appropriate justification.\n",
    "   * Have you taken any step to check generalisability of the model? What is that and how it ensures generalisability.\n",
    "   * Can you design and develop any other model for solving this problem? If so, then why have you used the reported one? Give your justification."
   ]
  },
  {
   "cell_type": "markdown",
   "id": "5e988b3c-9d38-43ab-83ff-81bac7d48082",
   "metadata": {},
   "source": [
    "## References\n",
    "Nested Cross Validation for Machine Learning. Brownlee (2020) Url: https://machinelearningmastery.com/nested-cross-validation-for-machine-learning-with-python/"
   ]
  },
  {
   "cell_type": "code",
   "execution_count": 27,
   "id": "ba150d9e-5c61-411d-bece-970eafc97de8",
   "metadata": {},
   "outputs": [
    {
     "name": "stdout",
     "output_type": "stream",
     "text": [
      "   Age  Sex  chest pain type  Trestbps  chol  fbs  restecg  thalach  exang  \\\n",
      "0   63    1                1       145   233    1        2      150      0   \n",
      "1   67    1                4       160   286    0        2      108      1   \n",
      "2   67    1                4       120   229    0        2      129      1   \n",
      "3   37    1                3       130   250    0        0      187      0   \n",
      "4   41    0                2       130   204    0        2      172      0   \n",
      "\n",
      "   oldpeak  slope   ca  thal  num  \n",
      "0      2.3      3  0.0   6.0    0  \n",
      "1      1.5      2  3.0   3.0    2  \n",
      "2      2.6      2  2.0   7.0    1  \n",
      "3      3.5      3  0.0   3.0    0  \n",
      "4      1.4      1  0.0   3.0    0  \n",
      "4\n"
     ]
    }
   ],
   "source": [
    "# Update the original pruned dataframe to make is a binary classifier. Use the following rules to remap num:\n",
    "# num = 0 => num = 0\n",
    "# num > 0 => num = 1\n",
    "print(full_df.head())\n",
    "print(full_df['num'].max())"
   ]
  },
  {
   "cell_type": "code",
   "execution_count": 28,
   "id": "c6ca252d-f651-4753-b40c-db31ced2d33c",
   "metadata": {},
   "outputs": [
    {
     "name": "stdout",
     "output_type": "stream",
     "text": [
      "   Age  Sex  chest pain type  Trestbps  chol  fbs  restecg  thalach  exang  \\\n",
      "0   63    1                1       145   233    1        2      150      0   \n",
      "1   67    1                4       160   286    0        2      108      1   \n",
      "2   67    1                4       120   229    0        2      129      1   \n",
      "3   37    1                3       130   250    0        0      187      0   \n",
      "4   41    0                2       130   204    0        2      172      0   \n",
      "\n",
      "   oldpeak  slope   ca  thal  num  \n",
      "0      2.3      3  0.0   6.0    0  \n",
      "1      1.5      2  3.0   3.0    1  \n",
      "2      2.6      2  2.0   7.0    1  \n",
      "3      3.5      3  0.0   3.0    0  \n",
      "4      1.4      1  0.0   3.0    0  \n"
     ]
    }
   ],
   "source": [
    "# Build a map for ever non-zero label that it maps to 1 - indicating that there is a diagnosis of CAD\n",
    "# Do not hard code the range in case the dataset changes over time.\n",
    "max_label = full_df['num'].max()\n",
    "label_map = {0:0}    # How to map the values\n",
    "for i in range(1,full_df['num'].max()+1):\n",
    "    label_map[i] = 1\n",
    "full_df['num'] = full_df['num'].map(label_map)# Remap the existing values. Anything >= 1 becomes 1\n",
    "np.set_printoptions(threshold=np.inf)\n",
    "print(full_df.head())"
   ]
  },
  {
   "cell_type": "code",
   "execution_count": 29,
   "id": "10b81381-48b9-414b-914d-3388d629eddf",
   "metadata": {},
   "outputs": [
    {
     "name": "stdout",
     "output_type": "stream",
     "text": [
      "(297, 13)\n",
      "(297,)\n"
     ]
    }
   ],
   "source": [
    "# Set up the training/test data\n",
    "X = full_df\n",
    "X = X.drop('num', axis=1)\n",
    "y = full_df['num']\n",
    "print(X.shape)\n",
    "print(y.shape)"
   ]
  },
  {
   "cell_type": "code",
   "execution_count": 30,
   "id": "a319bef0-b031-4900-8876-893b2486bde1",
   "metadata": {},
   "outputs": [
    {
     "name": "stdout",
     "output_type": "stream",
     "text": [
      ">acc=0.900, est=0.835, cfg={'max_features': 2, 'n_estimators': 500}\n",
      ">acc=0.867, est=0.820, cfg={'max_features': 2, 'n_estimators': 500}\n",
      ">acc=0.800, est=0.854, cfg={'max_features': 2, 'n_estimators': 500}\n",
      ">acc=0.733, est=0.861, cfg={'max_features': 2, 'n_estimators': 500}\n",
      ">acc=0.833, est=0.828, cfg={'max_features': 2, 'n_estimators': 500}\n",
      ">acc=0.800, est=0.828, cfg={'max_features': 2, 'n_estimators': 10}\n",
      ">acc=0.867, est=0.816, cfg={'max_features': 2, 'n_estimators': 500}\n",
      ">acc=0.793, est=0.825, cfg={'max_features': 2, 'n_estimators': 100}\n",
      ">acc=0.966, est=0.802, cfg={'max_features': 6, 'n_estimators': 100}\n",
      ">acc=0.828, est=0.814, cfg={'max_features': 4, 'n_estimators': 100}\n",
      "Accuracy: 0.839 (0.061)\n"
     ]
    }
   ],
   "source": [
    "# manual nested cross-validation for random forest on a classification dataset\n",
    "from numpy import mean\n",
    "from numpy import std\n",
    "from sklearn.datasets import make_classification\n",
    "from sklearn.model_selection import KFold\n",
    "from sklearn.model_selection import GridSearchCV\n",
    "from sklearn.ensemble import RandomForestClassifier\n",
    "from sklearn.metrics import accuracy_score\n",
    "\n",
    "# Need to convert the dataframes to arrays so the KFold can work.\n",
    "X = np.array(X)\n",
    "y = np.array(y)\n",
    "\n",
    "# configure the cross-validation procedure\n",
    "cv_outer = KFold(n_splits=10, shuffle=True, random_state=1)\n",
    "\n",
    "# enumerate splits\n",
    "outer_results = list()\n",
    "for train_ix, test_ix in cv_outer.split(X):\n",
    "    # split data\n",
    "    X_train, X_test = X[train_ix, :], X[test_ix, :]\n",
    "    y_train, y_test = y[train_ix], y[test_ix]\n",
    "    # configure the cross-validation procedure\n",
    "    cv_inner = KFold(n_splits=3, shuffle=True, random_state=1)\n",
    "    # define the model\n",
    "    model = RandomForestClassifier(random_state=1)\n",
    "    # define search space\n",
    "    space = dict()\n",
    "    space['n_estimators'] = [10, 100, 500]\n",
    "    space['max_features'] = [2, 4, 6, 8, 10, 12, 13]\n",
    "    # define search\n",
    "    search = GridSearchCV(model, space, scoring='accuracy', cv=cv_inner, refit=True)\n",
    "    # execute search\n",
    "    result = search.fit(X_train, y_train)\n",
    "    # get the best performing model fit on the whole training set\n",
    "    best_model = result.best_estimator_\n",
    "    \n",
    "    # evaluate model on the hold out dataset\n",
    "    yhat = best_model.predict(X_test)\n",
    "    \n",
    "    # evaluate the model\n",
    "    acc = accuracy_score(y_test, yhat)\n",
    "    \n",
    "    # store the result\n",
    "    outer_results.append(acc)\n",
    "    \n",
    "    # report progress\n",
    "    print('>acc=%.3f, est=%.3f, cfg=%s' % (acc, result.best_score_, result.best_params_))\n",
    "# summarize the estimated performance of the model\n",
    "print('Accuracy: %.3f (%.3f)' % (mean(outer_results), std(outer_results)))"
   ]
  },
  {
   "cell_type": "code",
   "execution_count": 31,
   "id": "60b303b3-253e-4069-bf7a-199d8debd011",
   "metadata": {},
   "outputs": [],
   "source": [
    "import warnings\n",
    "# Some of the hyper parameter combinations are invalid. Supress the warnings.\n",
    "warnings.filterwarnings('ignore')"
   ]
  },
  {
   "cell_type": "code",
   "execution_count": 32,
   "id": "ea5d7722-2503-4da1-8c93-16757746df04",
   "metadata": {},
   "outputs": [
    {
     "name": "stdout",
     "output_type": "stream",
     "text": [
      ">acc=0.933, est=0.824, cfg={'C': 10, 'penalty': 'l2', 'solver': 'liblinear'}\n",
      ">acc=0.733, est=0.846, cfg={'C': 100, 'penalty': 'l2', 'solver': 'liblinear'}\n",
      ">acc=0.800, est=0.854, cfg={'C': 0.1, 'penalty': 'l2', 'solver': 'liblinear'}\n",
      ">acc=0.800, est=0.850, cfg={'C': 1.0, 'penalty': 'l2', 'solver': 'liblinear'}\n",
      ">acc=0.867, est=0.846, cfg={'C': 1.0, 'penalty': 'l2', 'solver': 'newton-cg'}\n",
      ">acc=0.800, est=0.850, cfg={'C': 0.1, 'penalty': 'l2', 'solver': 'newton-cg'}\n",
      ">acc=0.867, est=0.820, cfg={'C': 0.1, 'penalty': 'l2', 'solver': 'newton-cg'}\n",
      ">acc=0.828, est=0.832, cfg={'C': 10, 'penalty': 'l2', 'solver': 'liblinear'}\n",
      ">acc=0.966, est=0.839, cfg={'C': 100, 'penalty': 'l2', 'solver': 'liblinear'}\n",
      ">acc=0.828, est=0.854, cfg={'C': 1.0, 'penalty': 'l2', 'solver': 'lbfgs'}\n",
      "Accuracy: 0.842 (0.065)\n"
     ]
    }
   ],
   "source": [
    "from sklearn.linear_model import LogisticRegression\n",
    "\n",
    "# Hyperparameter choice: https://machinelearningmastery.com/hyperparameters-for-classification-machine-learning-algorithms/#:~:text=Logistic%20regression%20does%20not%20really,with%20different%20solvers%20(solver).&text=Regularization%20(penalty)%20can%20sometimes%20be%20helpful.&text=Note%3A%20not%20all%20solvers%20support%20all%20regularization%20terms.\n",
    "# Makes a case that there is little effective tuning opportunity with Logistic Regression\n",
    "\n",
    "# configure the cross-validation procedure\n",
    "cv_outer = KFold(n_splits=10, shuffle=True, random_state=1)\n",
    "\n",
    "# enumerate splits\n",
    "outer_results = list()\n",
    "for train_ix, test_ix in cv_outer.split(X):\n",
    "    # split data\n",
    "    X_train, X_test = X[train_ix, :], X[test_ix, :]\n",
    "    y_train, y_test = y[train_ix], y[test_ix]\n",
    "    \n",
    "    # configure the cross-validation procedure\n",
    "    cv_inner = KFold(n_splits=3, shuffle=True, random_state=1)\n",
    "    \n",
    "    # define the model\n",
    "    model = LogisticRegression(max_iter=10000)\n",
    "    \n",
    "    # define search space\n",
    "    space = dict()\n",
    "    space['penalty'] = ['none','l2']     # have left out none because of feedback form previous runs and the fact it generates a ton of incompatable param warnings\n",
    "    space['solver'] = ['newton-cg', 'lbfgs', 'liblinear']\n",
    "    space['C'] = [100, 10, 1.0, 0.1, 0.01]\n",
    "    \n",
    "    # define search\n",
    "    search = GridSearchCV(model, space, scoring='accuracy', cv=cv_inner, refit=True)\n",
    "    \n",
    "    # execute search\n",
    "    result = search.fit(X_train, y_train)\n",
    "    \n",
    "    # get the best performing model fit on the whole training set\n",
    "    best_model = result.best_estimator_\n",
    "    \n",
    "    # evaluate model on the hold out dataset\n",
    "    yhat = best_model.predict(X_test)\n",
    "    \n",
    "    # evaluate the model\n",
    "    acc = accuracy_score(y_test, yhat)\n",
    "    \n",
    "    # store the result\n",
    "    outer_results.append(acc)\n",
    "    \n",
    "    # report progress\n",
    "    print('>acc=%.3f, est=%.3f, cfg=%s' % (acc, result.best_score_, result.best_params_))\n",
    "# summarize the estimated performance of the model\n",
    "print('Accuracy: %.3f (%.3f)' % (mean(outer_results), std(outer_results)))\n",
    "\n",
    "warnings.filterwarnings('always')"
   ]
  },
  {
   "cell_type": "code",
   "execution_count": 33,
   "id": "19c96675-4ee6-408b-b2af-5f2e4257f9d3",
   "metadata": {},
   "outputs": [
    {
     "name": "stdout",
     "output_type": "stream",
     "text": [
      ">acc=0.767, est=0.779, cfg={'max_depth': None, 'max_features': 4}\n",
      ">acc=0.800, est=0.779, cfg={'max_depth': 160, 'max_features': 8}\n",
      ">acc=0.733, est=0.813, cfg={'max_depth': 160, 'max_features': 8}\n",
      ">acc=0.700, est=0.813, cfg={'max_depth': 20, 'max_features': 12}\n",
      ">acc=0.767, est=0.775, cfg={'max_depth': 10, 'max_features': 2}\n",
      ">acc=0.767, est=0.787, cfg={'max_depth': 10, 'max_features': 4}\n",
      ">acc=0.600, est=0.775, cfg={'max_depth': 10, 'max_features': 10}\n",
      ">acc=0.655, est=0.772, cfg={'max_depth': 80, 'max_features': 2}\n",
      ">acc=0.862, est=0.746, cfg={'max_depth': 40, 'max_features': 10}\n",
      ">acc=0.724, est=0.761, cfg={'max_depth': 40, 'max_features': 4}\n",
      "Accuracy: 0.737 (0.070)\n"
     ]
    }
   ],
   "source": [
    "from sklearn.tree import DecisionTreeClassifier\n",
    "\n",
    "# Hyperparameter choice: https://ken-hoffman.medium.com/decision-tree-hyperparameters-explained-49158ee1268e#:~:text=Decision%20Tree%20is%20a%20popular,helps%20to%20separate%20data%20further.\n",
    "\n",
    "# configure the cross-validation procedure\n",
    "cv_outer = KFold(n_splits=10, shuffle=True, random_state=1)\n",
    "\n",
    "# enumerate splits\n",
    "outer_results = list()\n",
    "for train_ix, test_ix in cv_outer.split(X):\n",
    "    # split data\n",
    "    X_train, X_test = X[train_ix, :], X[test_ix, :]\n",
    "    y_train, y_test = y[train_ix], y[test_ix]\n",
    "    \n",
    "    # configure the cross-validation procedure\n",
    "    cv_inner = KFold(n_splits=3, shuffle=True, random_state=1)\n",
    "    \n",
    "    # define the model\n",
    "    model = DecisionTreeClassifier()\n",
    "    \n",
    "    # define search space\n",
    "    space = dict()\n",
    "    space['max_depth'] = [None, 10, 20, 40, 80, 160]\n",
    "    space['max_features'] = [2, 4, 6, 8, 10, 12, 13]\n",
    "    \n",
    "    # define search\n",
    "    search = GridSearchCV(model, space, scoring='accuracy', cv=cv_inner, refit=True)\n",
    "    \n",
    "    # execute search\n",
    "    result = search.fit(X_train, y_train)\n",
    "    \n",
    "    # get the best performing model fit on the whole training set\n",
    "    best_model = result.best_estimator_\n",
    "    \n",
    "    # evaluate model on the hold out dataset\n",
    "    yhat = best_model.predict(X_test)\n",
    "    \n",
    "    # evaluate the model\n",
    "    acc = accuracy_score(y_test, yhat)\n",
    "    \n",
    "    # store the result\n",
    "    outer_results.append(acc)\n",
    "    \n",
    "    # report progress\n",
    "    print('>acc=%.3f, est=%.3f, cfg=%s' % (acc, result.best_score_, result.best_params_))\n",
    "# summarize the estimated performance of the model\n",
    "print('Accuracy: %.3f (%.3f)' % (mean(outer_results), std(outer_results)))"
   ]
  },
  {
   "cell_type": "code",
   "execution_count": 34,
   "id": "b636ef94-87d7-45ff-bf7b-3f2400139f0a",
   "metadata": {},
   "outputs": [],
   "source": [
    "#Hyperparameter Selection\n",
    "# Logistic Regression: Penalty: l2, Solver liblinear\n",
    "# Random Forrest: Max features 2, n_estimators 500\n",
    "# Decision Tree not considered in summary due to overall poor result."
   ]
  },
  {
   "cell_type": "markdown",
   "id": "394bb944-c464-4c95-a229-f58279685ae5",
   "metadata": {},
   "source": [
    "### Helper Functions\n",
    "The following functions are used to generate model evaluation data."
   ]
  },
  {
   "cell_type": "code",
   "execution_count": 35,
   "id": "2fa491c1-38ce-4b20-a277-628a82faa157",
   "metadata": {},
   "outputs": [
    {
     "name": "stderr",
     "output_type": "stream",
     "text": [
      "/opt/app-root/lib64/python3.8/site-packages/seaborn/rcmod.py:82: DeprecationWarning: distutils Version classes are deprecated. Use packaging.version instead.\n",
      "  if LooseVersion(mpl.__version__) >= \"3.0\":\n",
      "/opt/app-root/lib64/python3.8/site-packages/setuptools/_distutils/version.py:351: DeprecationWarning: distutils Version classes are deprecated. Use packaging.version instead.\n",
      "  other = LooseVersion(other)\n"
     ]
    }
   ],
   "source": [
    "from sklearn.metrics import classification_report, confusion_matrix\n",
    "import seaborn as sn# For the heatmap\n",
    "import matplotlib.pyplot as plt\n",
    "from sklearn.metrics import precision_recall_curve\n",
    "from sklearn.metrics import f1_score\n",
    "from sklearn.metrics import auc\n",
    "from sklearn import metrics\n",
    "from sklearn.metrics import roc_curve\n",
    "from sklearn.metrics import roc_auc_score\n",
    "\n",
    "def display_stats(y_test, y_pred):\n",
    "    # Model Accuracy: how often is the classifier correct?\n",
    "    print(\"Accuracy:\",metrics.accuracy_score(y_test, y_pred))\n",
    "\n",
    "    # Model Precision: what percentage of positive tuples are labeled as such?\n",
    "    print(\"Precision:\",metrics.precision_score(y_test, y_pred))\n",
    "\n",
    "    # Model Recall: what percentage of positive tuples are labelled as such?\n",
    "    print(\"Recall:\",metrics.recall_score(y_test, y_pred))\n",
    "\n",
    "    #Calculate F1 Score\n",
    "    print(\"F1 Score:\",metrics.f1_score(y_test, y_pred))\n",
    "\n",
    "    #Calculate Mean Absolute Error\n",
    "    print(\"Mean Absolute Error:\",metrics.mean_absolute_error(y_test, y_pred))\n",
    "\n",
    "    # kappa\n",
    "    print(\"Cohens kappa:\", metrics.cohen_kappa_score(y_test, y_pred))\n",
    "\n",
    "    # ROC AUC\n",
    "    print(\"ROC AUC:\", metrics.roc_auc_score(y_test, y_pred))\n",
    "    \n",
    "def evaluate_model(model_name, model):\n",
    "    print(f\"INFO: Evaluating the model {model_name}\")\n",
    "    model.fit(X_train, y_train)\n",
    "    y_pred = model.predict(X_test)\n",
    "\n",
    "    cm = confusion_matrix(y_test,y_pred)\n",
    "    cr = classification_report(y_test,y_pred)\n",
    "    print(cm)\n",
    "    print(cr)\n",
    "    # Display the model metrics using the helper function.\n",
    "    display_stats(y_test, y_pred)\n",
    "\n",
    "    types = ['CAD no','CAD yes']\n",
    "\n",
    "    df_cm = pd.DataFrame(cm, index = types, columns = types)\n",
    "    # Create a new figure (10x7) in size.\n",
    "    plt.figure(figsize = (10,7))\n",
    "    title = model_name + \" Confusion Matrix\"\n",
    "    plt.axes().set_title(title)\n",
    "    sn.heatmap(df_cm, cmap=\"Blues\", annot=True, fmt='d')\n",
    "    plt.show()\n",
    "\n",
    "    # Generate a no skill prediction (majority class) for the ROC curve\n",
    "    # This will create a line from the origin to (1,1)\n",
    "    ns_probs = [0 for _ in range(len(y_test))]\n",
    "\n",
    "    # Generate the ROC Curves\n",
    "    print(\"INFO: Generate ROC curve for Model: \")\n",
    "    clf_probs = reg_model.predict_proba(X_test)\n",
    "    # keep probabilities for the positive outcome only\n",
    "    clf_probs = clf_probs[:, 1]\n",
    "    # calculate scores\n",
    "    ns_auc = roc_auc_score(y_test, ns_probs)\n",
    "    clf_auc = roc_auc_score(y_test, clf_probs)\n",
    "    # summarize scores\n",
    "    print('INFO: No Skill: ROC AUC=%.3f' % (ns_auc))\n",
    "    print(\"INFO: {}: ROC AUC={:.3f}\".format(model_name, clf_auc))\n",
    "    # calculate roc curves\n",
    "    ns_fpr, ns_tpr, _ = roc_curve(y_test, ns_probs)\n",
    "    clf_fpr, clf_tpr, _ = roc_curve(y_test, clf_probs)\n",
    "    # plot the roc curve for the model\n",
    "    plt.figure(figsize = (10,7))\n",
    "    title = model_name + \" ROC Curve\"\n",
    "    plt.axes().set_title(title)\n",
    "    plt.plot(ns_fpr, ns_tpr, linestyle='--', label='No Skill')\n",
    "    plt.plot(clf_fpr, clf_tpr, marker='.', label='Classifier')\n",
    "    # axis labels\n",
    "    plt.xlabel('False Positive Rate')\n",
    "    plt.ylabel('True Positive Rate')\n",
    "    # show the legend\n",
    "    plt.legend()\n",
    "    # show the plot\n",
    "    plt.show()\n",
    "\n",
    "    # Generate a Precision / Recall Curve\n",
    "    precision, recall, _ = precision_recall_curve(y_test, clf_probs)\n",
    "    # plot the precision-recall curves\n",
    "    f1 = f1_score(y_test, y_pred)\n",
    "    au_curve = auc(recall, precision)\n",
    "    # summarize scores\n",
    "    print('INFO: Precision Recall Score summary: f1=%.3f auc=%.3f' % (f1, au_curve))\n",
    "\n",
    "    no_skill = len(y_test[y_test==1]) / len(y_test)\n",
    "    plt.figure(figsize = (10,7))\n",
    "    title = model_name + \" Precision/Recall Curve\"\n",
    "    plt.axes().set_title(title)\n",
    "    plt.plot([0, 1], [no_skill, no_skill], linestyle='--', label='No Skill')\n",
    "    plt.plot(recall, precision, marker='.', label='Classifier')\n",
    "    # axis labels\n",
    "    plt.xlabel('Recall')\n",
    "    plt.ylabel('Precision')\n",
    "    # show the legend\n",
    "    plt.legend()\n",
    "    # show the plot\n",
    "    plt.show()"
   ]
  },
  {
   "cell_type": "markdown",
   "id": "cf23e57d-d162-4d6a-800c-f7200d20113b",
   "metadata": {},
   "source": [
    "### Train/Test Data for Model Evaluation\n",
    "This code generates train.test data for the ROC/AUC graphs and general model evaluation"
   ]
  },
  {
   "cell_type": "code",
   "execution_count": 36,
   "id": "660a1a8f-37d7-4ece-9834-a08a0ee4625e",
   "metadata": {},
   "outputs": [
    {
     "name": "stdout",
     "output_type": "stream",
     "text": [
      "X_train shape is :  (207, 13)\n",
      "X_test shape  is :  (90, 13)\n",
      "y_train shape is :  (207,)\n",
      "y_test shape is  :  (90,)\n"
     ]
    }
   ],
   "source": [
    "from sklearn.model_selection import train_test_split\n",
    "\n",
    "# Plot some AUC and ROC\n",
    "X_train, X_test, y_train, y_test = train_test_split(X, y, test_size=0.3, random_state=1) # 70% training and 30% test\n",
    "\n",
    "print(\"X_train shape is : \", X_train.shape)\n",
    "print(\"X_test shape  is : \", X_test.shape)\n",
    "print(\"y_train shape is : \", y_train.shape)\n",
    "print(\"y_test shape is  : \", y_test.shape)"
   ]
  },
  {
   "cell_type": "code",
   "execution_count": 37,
   "id": "2188280e-687c-4259-9aef-176427d2f846",
   "metadata": {},
   "outputs": [
    {
     "name": "stdout",
     "output_type": "stream",
     "text": [
      "Logistic Regression Accuracy: 0.842 (0.068)\n",
      "Random Forrest Accuracy: 0.836 (0.062)\n"
     ]
    }
   ],
   "source": [
    "from sklearn.model_selection import cross_val_score\n",
    "\n",
    "cv = KFold(n_splits=10, shuffle=True, random_state=1)\n",
    "reg_model = LogisticRegression(max_iter=10000, penalty='l2', solver='liblinear')\n",
    "forrest_model = RandomForestClassifier( random_state = 1, max_features=2, n_estimators = 1000)\n",
    "reg_scores = cross_val_score( reg_model, X, y, scoring='accuracy', cv=cv, n_jobs=1)\n",
    "forrest_scores = cross_val_score( forrest_model, X, y, scoring='accuracy', cv=cv, n_jobs=1)\n",
    "print('Logistic Regression Accuracy: %.3f (%.3f)' % (mean(reg_scores), std(reg_scores)))\n",
    "print('Random Forrest Accuracy: %.3f (%.3f)' % (mean(forrest_scores), std(forrest_scores)))"
   ]
  },
  {
   "cell_type": "markdown",
   "id": "31b9943c-d129-4de8-8987-8d6a66f73e1a",
   "metadata": {},
   "source": [
    "### Evaluate Models using best hyper parameters form earlier experiments.\n",
    "Run a full model evaluation"
   ]
  },
  {
   "cell_type": "code",
   "execution_count": 38,
   "id": "6f7ff316-a39f-4ab4-9e18-7e3b66cfc801",
   "metadata": {},
   "outputs": [
    {
     "name": "stdout",
     "output_type": "stream",
     "text": [
      "##################################################\n",
      "Logistic Regression Evaluation\n",
      "INFO: Evaluating the model Logistic Regression\n",
      "[[41 10]\n",
      " [ 6 33]]\n",
      "              precision    recall  f1-score   support\n",
      "\n",
      "           0       0.87      0.80      0.84        51\n",
      "           1       0.77      0.85      0.80        39\n",
      "\n",
      "    accuracy                           0.82        90\n",
      "   macro avg       0.82      0.83      0.82        90\n",
      "weighted avg       0.83      0.82      0.82        90\n",
      "\n",
      "Accuracy: 0.8222222222222222\n",
      "Precision: 0.7674418604651163\n",
      "Recall: 0.8461538461538461\n",
      "F1 Score: 0.8048780487804877\n",
      "Mean Absolute Error: 0.17777777777777778\n",
      "Cohens kappa: 0.6423248882265276\n",
      "ROC AUC: 0.8250377073906486\n"
     ]
    },
    {
     "data": {
      "image/png": "[encoded data removed]",
      "text/plain": [
       "<Figure size 720x504 with 2 Axes>"
      ]
     },
     "metadata": {
      "needs_background": "light"
     },
     "output_type": "display_data"
    },
    {
     "name": "stdout",
     "output_type": "stream",
     "text": [
      "INFO: Generate ROC curve for Model: \n",
      "INFO: No Skill: ROC AUC=0.500\n",
      "INFO: Logistic Regression: ROC AUC=0.888\n"
     ]
    },
    {
     "data": {
      "image/png": "[encoded data removed]",
      "text/plain": [
       "<Figure size 720x504 with 1 Axes>"
      ]
     },
     "metadata": {
      "needs_background": "light"
     },
     "output_type": "display_data"
    },
    {
     "name": "stdout",
     "output_type": "stream",
     "text": [
      "INFO: Precision Recall Score summary: f1=0.805 auc=0.863\n"
     ]
    },
    {
     "data": {
      "image/png": "[encoded data removed]",
      "text/plain": [
       "<Figure size 720x504 with 1 Axes>"
      ]
     },
     "metadata": {
      "needs_background": "light"
     },
     "output_type": "display_data"
    },
    {
     "name": "stdout",
     "output_type": "stream",
     "text": [
      "##################################################\n",
      "Random Forrest Evaluation\n",
      "INFO: Evaluating the model Random Forrest\n",
      "[[44  7]\n",
      " [ 6 33]]\n",
      "              precision    recall  f1-score   support\n",
      "\n",
      "           0       0.88      0.86      0.87        51\n",
      "           1       0.82      0.85      0.84        39\n",
      "\n",
      "    accuracy                           0.86        90\n",
      "   macro avg       0.85      0.85      0.85        90\n",
      "weighted avg       0.86      0.86      0.86        90\n",
      "\n",
      "Accuracy: 0.8555555555555555\n",
      "Precision: 0.825\n",
      "Recall: 0.8461538461538461\n",
      "F1 Score: 0.8354430379746836\n",
      "Mean Absolute Error: 0.14444444444444443\n",
      "Cohens kappa: 0.7067669172932332\n",
      "ROC AUC: 0.854449472096531\n"
     ]
    },
    {
     "data": {
      "image/png": "[encoded data removed]",
      "text/plain": [
       "<Figure size 720x504 with 2 Axes>"
      ]
     },
     "metadata": {
      "needs_background": "light"
     },
     "output_type": "display_data"
    },
    {
     "name": "stdout",
     "output_type": "stream",
     "text": [
      "INFO: Generate ROC curve for Model: \n",
      "INFO: No Skill: ROC AUC=0.500\n",
      "INFO: Random Forrest: ROC AUC=0.888\n"
     ]
    },
    {
     "data": {
      "image/png": "[encoded data removed]",
      "text/plain": [
       "<Figure size 720x504 with 1 Axes>"
      ]
     },
     "metadata": {
      "needs_background": "light"
     },
     "output_type": "display_data"
    },
    {
     "name": "stdout",
     "output_type": "stream",
     "text": [
      "INFO: Precision Recall Score summary: f1=0.835 auc=0.863\n"
     ]
    },
    {
     "data": {
      "image/png": "[encoded data removed]",
      "text/plain": [
       "<Figure size 720x504 with 1 Axes>"
      ]
     },
     "metadata": {
      "needs_background": "light"
     },
     "output_type": "display_data"
    },
    {
     "name": "stdout",
     "output_type": "stream",
     "text": [
      "##################################################\n"
     ]
    }
   ],
   "source": [
    "print(\"#\"*50)\n",
    "print(\"Logistic Regression Evaluation\")\n",
    "reg_model = LogisticRegression(max_iter=10000, penalty='l2', solver='liblinear')\n",
    "evaluate_model(\"Logistic Regression\", reg_model)\n",
    "\n",
    "print(\"#\"*50)\n",
    "\n",
    "print(\"Random Forrest Evaluation\")\n",
    "forrest_model = RandomForestClassifier( random_state = 1, max_features=2, n_estimators = 1000)\n",
    "evaluate_model(\"Random Forrest\", forrest_model)\n",
    "\n",
    "print(\"#\"*50)"
   ]
  },
  {
   "cell_type": "markdown",
   "id": "12fe145e-f0bd-467a-a0a5-823772b1ba8a",
   "metadata": {},
   "source": [
    "# QUESTION 11\n",
    "Suppose that a company has a number (>=500) of resorts around the globe. 10 marks\n",
    "1. Identify a list of features (>=5) that can be used to describe these resorts.\n",
    "2. Create a dataset (rows>=500) and explain all variables. You can generate data either synthetically or collecting from similar datasets. Submit your created dataset. In addition, please provide links in case you have collected the dataset.\n",
    "3. Build a ML model that can help a customer to select appropriate set of resorts based on the season of travel. Present and describe the performance of your model. d. Why do we need a ML model for this problem?"
   ]
  },
  {
   "cell_type": "code",
   "execution_count": 39,
   "id": "a4c5080e-ee73-4e51-8b16-b891b857224f",
   "metadata": {},
   "outputs": [
    {
     "name": "stdout",
     "output_type": "stream",
     "text": [
      "Shape of data upon read: (513, 11)\n",
      "   city  peak_season  snow_adventure  water_adventure  outdoor_adventure  \\\n",
      "0     1            3               1                0                  1   \n",
      "1     1            3               1                0                  1   \n",
      "2     1            3               1                0                  1   \n",
      "3     1            3               1                0                  1   \n",
      "4     1            3               1                0                  1   \n",
      "\n",
      "   theme_parks  child_care  night_entertainment  cust_profile  booked_season  \\\n",
      "0            0           1                    1             3              3   \n",
      "1            0           1                    1             3              1   \n",
      "2            0           1                    1             3              3   \n",
      "3            0           1                    1             1              1   \n",
      "4            0           1                    1             1              1   \n",
      "\n",
      "   resort  \n",
      "0       1  \n",
      "1       1  \n",
      "2       1  \n",
      "3       1  \n",
      "4       1  \n",
      "Shape of data post row pruning: (513, 11)\n",
      "\n",
      "Dataframe structure:\n",
      "city                   int64\n",
      "peak_season            int64\n",
      "snow_adventure         int64\n",
      "water_adventure        int64\n",
      "outdoor_adventure      int64\n",
      "theme_parks            int64\n",
      "child_care             int64\n",
      "night_entertainment    int64\n",
      "cust_profile           int64\n",
      "booked_season          int64\n",
      "resort                 int64\n",
      "dtype: object\n"
     ]
    }
   ],
   "source": [
    "url = 'https://raw.githubusercontent.com/bryonbaker/datasets/main/SIT720/Ass2/resorts.csv'\n",
    "full_df = pd.read_csv(url)\n",
    "\n",
    "print(\"Shape of data upon read: {}\".format(full_df.shape))\n",
    "\n",
    "print(full_df.head())\n",
    "\n",
    "# Display meta data about the dataframe.\n",
    "print(\"Shape of data post row pruning: {}\\n\".format(full_df.shape))\n",
    "print(\"Dataframe structure:\\n{}\".format(full_df.dtypes))"
   ]
  },
  {
   "cell_type": "code",
   "execution_count": 40,
   "id": "febd6126-4b1c-40ea-93d5-c828150c1c7e",
   "metadata": {},
   "outputs": [
    {
     "name": "stdout",
     "output_type": "stream",
     "text": [
      "     city  peak_season  snow_adventure  water_adventure  outdoor_adventure  \\\n",
      "0       1            3               1                0                  1   \n",
      "1       1            3               1                0                  1   \n",
      "2       1            3               1                0                  1   \n",
      "3       1            3               1                0                  1   \n",
      "4       1            3               1                0                  1   \n",
      "..    ...          ...             ...              ...                ...   \n",
      "508     3            2               0                0                  1   \n",
      "509     3            2               0                0                  1   \n",
      "510     3            2               0                0                  1   \n",
      "511     3            2               0                0                  1   \n",
      "512     3            2               0                0                  1   \n",
      "\n",
      "     theme_parks  child_care  night_entertainment  cust_profile  booked_season  \n",
      "0              0           1                    1             3              3  \n",
      "1              0           1                    1             3              1  \n",
      "2              0           1                    1             3              3  \n",
      "3              0           1                    1             1              1  \n",
      "4              0           1                    1             1              1  \n",
      "..           ...         ...                  ...           ...            ...  \n",
      "508            0           0                    1             3              3  \n",
      "509            0           0                    1             2              4  \n",
      "510            0           0                    1             2              1  \n",
      "511            0           0                    1             2              2  \n",
      "512            0           0                    1             3              3  \n",
      "\n",
      "[513 rows x 10 columns]\n",
      "0       1\n",
      "1       1\n",
      "2       1\n",
      "3       1\n",
      "4       1\n",
      "       ..\n",
      "508    27\n",
      "509    27\n",
      "510    27\n",
      "511    27\n",
      "512    27\n",
      "Name: resort, Length: 513, dtype: int64\n"
     ]
    }
   ],
   "source": [
    "# Separate the features form the labels\n",
    "X = full_df.drop(['resort'], axis=1)\n",
    "y = full_df['resort']\n",
    "print(X)\n",
    "print(y)"
   ]
  },
  {
   "cell_type": "code",
   "execution_count": 41,
   "id": "5e785d28-14d1-4099-8f1f-68234f366aa2",
   "metadata": {},
   "outputs": [
    {
     "name": "stdout",
     "output_type": "stream",
     "text": [
      "X_train shape is :  (359, 10)\n",
      "X_test shape  is :  (154, 10)\n",
      "y_train shape is :  (359,)\n",
      "y_test shape is  :  (154,)\n"
     ]
    }
   ],
   "source": [
    "from sklearn.model_selection import train_test_split\n",
    "\n",
    "# Plot some AUC and ROC\n",
    "X_train, X_test, y_train, y_test = train_test_split(X, y, test_size=0.3, random_state=1) # 70% training and 30% test\n",
    "\n",
    "print(\"X_train shape is : \", X_train.shape)\n",
    "print(\"X_test shape  is : \", X_test.shape)\n",
    "print(\"y_train shape is : \", y_train.shape)\n",
    "print(\"y_test shape is  : \", y_test.shape)"
   ]
  },
  {
   "cell_type": "code",
   "execution_count": 43,
   "id": "61576e91-9141-481c-bba2-9feb7052e27b",
   "metadata": {},
   "outputs": [
    {
     "name": "stdout",
     "output_type": "stream",
     "text": [
      "Decision Tree Accuracy: 0.774 (0.029)\n"
     ]
    }
   ],
   "source": [
    "from sklearn.model_selection import cross_val_score\n",
    "from sklearn.tree import DecisionTreeClassifier\n",
    "from sklearn.linear_model import LogisticRegression\n",
    "\n",
    "cv = KFold(n_splits=10, shuffle=True, random_state=1)\n",
    "#dtree_model = DecisionTreeClassifier()\n",
    "dtree_model = RandomForestClassifier(random_state=1)\n",
    "dtree_scores = cross_val_score( dtree_model, X, y, scoring='accuracy', cv=cv, n_jobs=1)\n",
    "print('Decision Tree Accuracy: %.3f (%.3f)' % (mean(dtree_scores), std(dtree_scores)))"
   ]
  },
  {
   "cell_type": "code",
   "execution_count": null,
   "id": "d37566dc-6f53-4e0f-968a-9d44c140a306",
   "metadata": {},
   "outputs": [],
   "source": []
  },
  {
   "cell_type": "code",
   "execution_count": 44,
   "id": "861f38be-59a8-4ec5-89b0-26276cf0de7c",
   "metadata": {},
   "outputs": [
    {
     "name": "stdout",
     "output_type": "stream",
     "text": [
      "Testing model prediction works for known case.\n",
      "Input to query is:\n",
      "   city  peak_season  snow_adventure  water_adventure  outdoor_adventure  \\\n",
      "0     2            1               0                1                  1   \n",
      "\n",
      "   theme_parks  child_care  night_entertainment  cust_profile  booked_season  \n",
      "0            1           0                    1             1              2  \n",
      "The expected recommended resort is 11\n"
     ]
    }
   ],
   "source": [
    "# Train gthe model\n",
    "dtree_model.fit(X_train, y_train)\n",
    "\n",
    "print(\"Testing model prediction works for known case.\") \n",
    "row_num = 195\n",
    "query_row = full_df.iloc[row_num]\n",
    "expected_resort = query_row['resort']\n",
    "\n",
    "query_df = X[0:0]\n",
    "query_df.reset_index(drop=True)\n",
    "\n",
    "data_to_append = {}\n",
    "for i in range(len(query_df.columns)):\n",
    "    data_to_append[query_df.columns[i]] = query_row[i]\n",
    "query_df = query_df.append(data_to_append, ignore_index = True)\n",
    "\n",
    "print(f\"Input to query is:\\n{query_df}\")\n",
    "print(f\"The expected recommended resort is {expected_resort}\")"
   ]
  },
  {
   "cell_type": "code",
   "execution_count": 45,
   "id": "df897202-63b3-425a-b2ae-3591b6a37ff1",
   "metadata": {},
   "outputs": [
    {
     "name": "stdout",
     "output_type": "stream",
     "text": [
      "MATCH TEST PASS:\n",
      "TEST FAIL:\n"
     ]
    }
   ],
   "source": [
    "# Validate the prediction works for a known case.\n",
    "# Expect that the \n",
    "pred = dtree_model.predict(query_df)\n",
    "if pred == expected_resort:\n",
    "    print(\"MATCH TEST PASS:\")\n",
    "else:\n",
    "    print(\"MATCH TEST FAIL\")"
   ]
  },
  {
   "cell_type": "code",
   "execution_count": 48,
   "id": "74db2ca4-da97-4ee9-952d-ecb0d35a55cc",
   "metadata": {},
   "outputs": [
    {
     "name": "stdout",
     "output_type": "stream",
     "text": [
      "   city  peak_season  snow_adventure  water_adventure  outdoor_adventure  \\\n",
      "0     3            4               0                0                  1   \n",
      "\n",
      "   theme_parks  child_care  night_entertainment  cust_profile  booked_season  \n",
      "0            0           0                    1             2              1  \n"
     ]
    }
   ],
   "source": [
    "# The next will use some self-assigned data and return a list of probabilities for a recommendation\n",
    "# City = 3, Peak Season = 4, Outdoor adventure = True, Night Entertainment = False, Profile = Couple, Book in Summer\n",
    "# 3, 4, 0, 0, 1, 0, 0, 1, 2, 1\n",
    "\n",
    "resort_search = [3, 4, 0, 0, 1, 0, 0, 1, 2, 1]\n",
    "query_df = X[0:0]\n",
    "query_df.reset_index(drop=True)\n",
    "\n",
    "data_to_append = {}\n",
    "for i in range(len(query_df.columns)):\n",
    "    data_to_append[query_df.columns[i]] = resort_search[i]\n",
    "query_df = query_df.append(data_to_append, ignore_index = True)\n",
    "print(query_df)\n"
   ]
  },
  {
   "cell_type": "code",
   "execution_count": 49,
   "id": "6bba4917-8039-4e66-a23c-d97a4b955cc4",
   "metadata": {},
   "outputs": [
    {
     "name": "stdout",
     "output_type": "stream",
     "text": [
      "The stringest recommendation is hotel: [23]\n",
      "The ranked recommendations (ranging 0-1 with 1 being highest) are:\n",
      "[[0.   0.   0.   0.   0.   0.   0.   0.   0.01 0.   0.   0.   0.   0.04\n",
      "  0.   0.   0.   0.   0.   0.   0.   0.   0.89 0.04 0.   0.   0.02]]\n"
     ]
    }
   ],
   "source": [
    "pred = dtree_model.predict(query_df)\n",
    "print(f\"The strongest recommendation is resort: {pred}\")\n",
    "\n",
    "pred_prb = dtree_model.predict_proba(query_df)\n",
    "print(f\"The ranked recommendations (ranging 0-1 with 1 being highest) are:\\n{pred_prb}\")"
   ]
  },
  {
   "cell_type": "code",
   "execution_count": null,
   "id": "d3521a44-6320-4458-b6eb-04bbfda2dcfc",
   "metadata": {},
   "outputs": [],
   "source": []
  }
 ],
 "metadata": {
  "kernelspec": {
   "display_name": "Python 3 (ipykernel)",
   "language": "python",
   "name": "python3"
  },
  "language_info": {
   "codemirror_mode": {
    "name": "ipython",
    "version": 3
   },
   "file_extension": ".py",
   "mimetype": "text/x-python",
   "name": "python",
   "nbconvert_exporter": "python",
   "pygments_lexer": "ipython3",
   "version": "3.8.8"
  }
 },
 "nbformat": 4,
 "nbformat_minor": 5
}
