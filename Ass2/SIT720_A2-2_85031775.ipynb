{
 "cells": [
  {
   "cell_type": "markdown",
   "id": "0a137561-070a-4de3-854f-e160cf9c343e",
   "metadata": {},
   "source": [
    "# SIT 720 Assignment 2\n",
    "Bryon Baker\n",
    "\n",
    "Student number: 85031775"
   ]
  },
  {
   "cell_type": "markdown",
   "id": "2b90cbf5-0280-4106-a246-004156d0868b",
   "metadata": {},
   "source": [
    "# Install required libraries"
   ]
  },
  {
   "cell_type": "code",
   "execution_count": 1,
   "id": "a4d040a3-7ce5-42bf-bdbe-d163092bd5fa",
   "metadata": {},
   "outputs": [
    {
     "name": "stdout",
     "output_type": "stream",
     "text": [
      "Requirement already satisfied: pandas in /opt/app-root/lib/python3.8/site-packages (1.2.4)\n",
      "Requirement already satisfied: numpy>=1.16.5 in /opt/app-root/lib/python3.8/site-packages (from pandas) (1.19.2)\n",
      "Requirement already satisfied: python-dateutil>=2.7.3 in /opt/app-root/lib/python3.8/site-packages (from pandas) (2.8.2)\n",
      "Requirement already satisfied: pytz>=2017.3 in /opt/app-root/lib/python3.8/site-packages (from pandas) (2021.3)\n",
      "Requirement already satisfied: six>=1.5 in /opt/app-root/lib/python3.8/site-packages (from python-dateutil>=2.7.3->pandas) (1.16.0)\n",
      "\u001b[33mWARNING: You are using pip version 21.3.1; however, version 22.0.4 is available.\n",
      "You should consider upgrading via the '/opt/app-root/bin/python3.8 -m pip install --upgrade pip' command.\u001b[0m\n",
      "Requirement already satisfied: numpy in /opt/app-root/lib/python3.8/site-packages (1.19.2)\n",
      "\u001b[33mWARNING: You are using pip version 21.3.1; however, version 22.0.4 is available.\n",
      "You should consider upgrading via the '/opt/app-root/bin/python3.8 -m pip install --upgrade pip' command.\u001b[0m\n",
      "Requirement already satisfied: matplotlib in /opt/app-root/lib/python3.8/site-packages (3.4.1)\n",
      "Requirement already satisfied: pillow>=6.2.0 in /opt/app-root/lib/python3.8/site-packages (from matplotlib) (9.0.0)\n",
      "Requirement already satisfied: numpy>=1.16 in /opt/app-root/lib/python3.8/site-packages (from matplotlib) (1.19.2)\n",
      "Requirement already satisfied: pyparsing>=2.2.1 in /opt/app-root/lib/python3.8/site-packages (from matplotlib) (3.0.6)\n",
      "Requirement already satisfied: python-dateutil>=2.7 in /opt/app-root/lib/python3.8/site-packages (from matplotlib) (2.8.2)\n",
      "Requirement already satisfied: cycler>=0.10 in /opt/app-root/lib/python3.8/site-packages (from matplotlib) (0.11.0)\n",
      "Requirement already satisfied: kiwisolver>=1.0.1 in /opt/app-root/lib/python3.8/site-packages (from matplotlib) (1.3.2)\n",
      "Requirement already satisfied: six>=1.5 in /opt/app-root/lib/python3.8/site-packages (from python-dateutil>=2.7->matplotlib) (1.16.0)\n",
      "\u001b[33mWARNING: You are using pip version 21.3.1; however, version 22.0.4 is available.\n",
      "You should consider upgrading via the '/opt/app-root/bin/python3.8 -m pip install --upgrade pip' command.\u001b[0m\n",
      "Requirement already satisfied: yellowbrick in /opt/app-root/lib/python3.8/site-packages (1.4)\n",
      "Requirement already satisfied: scipy>=1.0.0 in /opt/app-root/lib/python3.8/site-packages (from yellowbrick) (1.6.2)\n",
      "Requirement already satisfied: matplotlib!=3.0.0,>=2.0.2 in /opt/app-root/lib/python3.8/site-packages (from yellowbrick) (3.4.1)\n",
      "Requirement already satisfied: cycler>=0.10.0 in /opt/app-root/lib/python3.8/site-packages (from yellowbrick) (0.11.0)\n",
      "Requirement already satisfied: scikit-learn>=1.0.0 in /opt/app-root/lib/python3.8/site-packages (from yellowbrick) (1.0.2)\n",
      "Requirement already satisfied: numpy>=1.16.0 in /opt/app-root/lib/python3.8/site-packages (from yellowbrick) (1.19.2)\n",
      "Requirement already satisfied: kiwisolver>=1.0.1 in /opt/app-root/lib/python3.8/site-packages (from matplotlib!=3.0.0,>=2.0.2->yellowbrick) (1.3.2)\n",
      "Requirement already satisfied: pillow>=6.2.0 in /opt/app-root/lib/python3.8/site-packages (from matplotlib!=3.0.0,>=2.0.2->yellowbrick) (9.0.0)\n",
      "Requirement already satisfied: python-dateutil>=2.7 in /opt/app-root/lib/python3.8/site-packages (from matplotlib!=3.0.0,>=2.0.2->yellowbrick) (2.8.2)\n",
      "Requirement already satisfied: pyparsing>=2.2.1 in /opt/app-root/lib/python3.8/site-packages (from matplotlib!=3.0.0,>=2.0.2->yellowbrick) (3.0.6)\n",
      "Requirement already satisfied: joblib>=0.11 in /opt/app-root/lib/python3.8/site-packages (from scikit-learn>=1.0.0->yellowbrick) (1.1.0)\n",
      "Requirement already satisfied: threadpoolctl>=2.0.0 in /opt/app-root/lib/python3.8/site-packages (from scikit-learn>=1.0.0->yellowbrick) (3.0.0)\n",
      "Requirement already satisfied: six>=1.5 in /opt/app-root/lib/python3.8/site-packages (from python-dateutil>=2.7->matplotlib!=3.0.0,>=2.0.2->yellowbrick) (1.16.0)\n",
      "\u001b[33mWARNING: You are using pip version 21.3.1; however, version 22.0.4 is available.\n",
      "You should consider upgrading via the '/opt/app-root/bin/python3.8 -m pip install --upgrade pip' command.\u001b[0m\n"
     ]
    }
   ],
   "source": [
    "!pip3 install pandas\n",
    "!pip3 install numpy\n",
    "!pip3 install matplotlib\n",
    "!pip3 install yellowbrick"
   ]
  },
  {
   "cell_type": "code",
   "execution_count": 2,
   "id": "1c604cfc-4562-40d3-8b51-5dfd4cd1a60c",
   "metadata": {},
   "outputs": [],
   "source": [
    "import random\n",
    "import pandas as pd # dataframe manipulation\n",
    "import numpy as np # linear algebra\n",
    "\n",
    "# data visualization\n",
    "import matplotlib.pyplot as plt\n",
    "%matplotlib inline\n",
    "from yellowbrick.cluster import KElbowVisualizer # cluster visualizer\n",
    "\n",
    "# sklearn kmeans\n",
    "from sklearn.cluster import KMeans\n",
    "from sklearn.metrics.cluster import contingency_matrix\n",
    "\n",
    "# pyclustering kmeans\n"
   ]
  },
  {
   "cell_type": "code",
   "execution_count": 3,
   "id": "c2ff72e9-ce5d-4f47-a65d-b86cf686607c",
   "metadata": {},
   "outputs": [
    {
     "name": "stdout",
     "output_type": "stream",
     "text": [
      "Seeding random number generator. Random numb er is: 0.3122573308222233\n"
     ]
    }
   ],
   "source": [
    "# Seed the random nunmber generator to ensure K-Means randomisation works properly.\n",
    "random.seed()\n",
    "\n",
    "print(f\"Seeding random number generator. Random numb er is: {random.random()}\")"
   ]
  },
  {
   "cell_type": "markdown",
   "id": "a6d76d91-a0e2-4edc-ab91-1138fd6af074",
   "metadata": {},
   "source": [
    "# Part 2: SCADI Dataset"
   ]
  },
  {
   "cell_type": "markdown",
   "id": "db2ecc73-f80d-4f89-adc5-395fcbb5acf6",
   "metadata": {},
   "source": [
    "## Question 5\n",
    "* Download the attached heartdisease.csv file. \n",
    "* Read the file and separate the class and feature matrix."
   ]
  },
  {
   "cell_type": "code",
   "execution_count": 4,
   "id": "622cc0e0-6e32-4a10-9db7-b0dce63a1ae1",
   "metadata": {},
   "outputs": [
    {
     "name": "stdout",
     "output_type": "stream",
     "text": [
      "Shape of data upon read: (303, 14)\n",
      "Shape of data post row pruning: (297, 14)\n",
      "\n",
      "Dataframe structure:\n",
      "Age                  int64\n",
      "Sex                  int64\n",
      "chest pain type      int64\n",
      "Trestbps             int64\n",
      "chol                 int64\n",
      "fbs                  int64\n",
      "restecg              int64\n",
      "thalach              int64\n",
      "exang                int64\n",
      "oldpeak            float64\n",
      "slope                int64\n",
      "ca                   int64\n",
      "thal                 int64\n",
      "num                  int64\n",
      "dtype: object\n",
      "\n",
      "***************************************************************************\n",
      "Dataframe Content Summary\n",
      "***************************************************************************\n",
      "\n",
      "Features:\n",
      "==========\n",
      "   Age  Sex  chest pain type  Trestbps  chol  fbs  restecg  thalach  exang  \\\n",
      "0   63    1                1       145   233    1        2      150      0   \n",
      "1   67    1                4       160   286    0        2      108      1   \n",
      "2   67    1                4       120   229    0        2      129      1   \n",
      "3   37    1                3       130   250    0        0      187      0   \n",
      "4   41    0                2       130   204    0        2      172      0   \n",
      "\n",
      "   oldpeak  slope  ca  thal  \n",
      "0      2.3      3   0     6  \n",
      "1      1.5      2   3     3  \n",
      "2      2.6      2   2     7  \n",
      "3      3.5      3   0     3  \n",
      "4      1.4      1   0     3  \n",
      "\n",
      "Classes:\n",
      "==========\n",
      "0      0\n",
      "1      2\n",
      "2      1\n",
      "3      0\n",
      "4      0\n",
      "      ..\n",
      "297    1\n",
      "298    1\n",
      "299    2\n",
      "300    3\n",
      "301    1\n",
      "Name: num, Length: 297, dtype: int64\n"
     ]
    }
   ],
   "source": [
    "import ssl\n",
    "ssl._create_default_https_context = ssl._create_unverified_context\n",
    "\n",
    "url = 'https://raw.githubusercontent.com/bryonbaker/datasets/main/SIT720/Ass2/heartdisease.csv'\n",
    "full_df = pd.read_csv(url)\n",
    "\n",
    "print(\"Shape of data upon read: {}\".format(full_df.shape))\n",
    "# Drop the rows with missing values\n",
    "full_df = full_df[~full_df.eq(\"?\").any(1)]\n",
    "# The ? in the missing values sets the column type to object. Change the column to numeric.\n",
    "numericFeatures = pd.Series([\"ca\", \"thal\"], copy = False)\n",
    "full_df[numericFeatures] = full_df[numericFeatures].apply(pd.to_numeric)\n",
    "# Display meta data about the dataframe.\n",
    "print(\"Shape of data post row pruning: {}\\n\".format(full_df.shape))\n",
    "print(\"Dataframe structure:\\n{}\".format(full_df.dtypes))\n",
    "\n",
    "# Separate the features form the labels\n",
    "X = full_df.drop(['num'], axis=1)\n",
    "y = full_df['num']\n",
    "\n",
    "# Display information about the contents to aid quality inspection.\n",
    "print(\"\\n\"+\"*\"*75)\n",
    "print(\"Dataframe Content Summary\\n\"+\"*\"*75)\n",
    "print(\"\\nFeatures:\\n\"+\"=\"*10+\"\\n{}\".format(X.head()))\n",
    "print(\"\\nClasses:\\n\"+\"=\"*10+\"\\n{}\".format(y))"
   ]
  },
  {
   "cell_type": "markdown",
   "id": "2b7432fe-0d7d-41a0-8640-95262671764b",
   "metadata": {},
   "source": [
    "## Question 6\n",
    "* Determine the number of clusters from the dataset. Is this the same as the actual number of classes in the dataset?"
   ]
  },
  {
   "cell_type": "code",
   "execution_count": 5,
   "id": "4f053a3b-2bbf-434c-af9c-a05b286ddf6f",
   "metadata": {},
   "outputs": [
    {
     "name": "stdout",
     "output_type": "stream",
     "text": [
      "INFO: The breakdown of labels in the dataset are:\n",
      "0    160\n",
      "1     54\n",
      "2     35\n",
      "3     35\n",
      "4     13\n",
      "Name: num, dtype: int64\n"
     ]
    },
    {
     "name": "stderr",
     "output_type": "stream",
     "text": [
      "/opt/app-root/lib64/python3.8/site-packages/yellowbrick/base.py:236: YellowbrickWarning: KElbowVisualizer does not have a reference to a matplotlib.Axes the figure may not render as expected!\n",
      "  warnings.warn(\n",
      "findfont: Font family ['sans-serif'] not found. Falling back to DejaVu Sans.\n",
      "findfont: Generic family 'sans-serif' not found because none of the following families were found: Arial, Liberation Sans, Bitstream Vera Sans, sans-serif\n",
      "findfont: Font family ['sans-serif'] not found. Falling back to DejaVu Sans.\n",
      "findfont: Generic family 'sans-serif' not found because none of the following families were found: Arial, Liberation Sans, Bitstream Vera Sans, sans-serif\n",
      "findfont: Font family ['sans-serif'] not found. Falling back to DejaVu Sans.\n",
      "findfont: Generic family 'sans-serif' not found because none of the following families were found: Arial, Liberation Sans, Bitstream Vera Sans, sans-serif\n"
     ]
    },
    {
     "data": {
      "image/png": "[encoded data removed]",
      "text/plain": [
       "<Figure size 576x396 with 1 Axes>"
      ]
     },
     "metadata": {},
     "output_type": "display_data"
    },
    {
     "name": "stdout",
     "output_type": "stream",
     "text": [
      "Cluster/Label relationship:\n",
      "The number of unique labels in the dataset is: 5\n",
      "Optimal number of clusters is: None\n"
     ]
    }
   ],
   "source": [
    "# Scan through the labels and count the number of unique values.\n",
    "num_labels = y.nunique()\n",
    "print(\"INFO: The breakdown of labels in the dataset are:\\n{}\".format(y.value_counts()))\n",
    "\n",
    "# Find the optimal number of clusters for the dataset\n",
    "model = KMeans()\n",
    "elbowChart = KElbowVisualizer(model, k=(1, 11), timings=False)\n",
    "\n",
    "elbowChart.fit_transform(X) # Fit the data to the visualiser\n",
    "elbowChart.show() # Plot the graph and the elbow\n",
    "plt.show()\n",
    "optimalClusters = elbowChart.elbow_value_\n",
    "\n",
    "print(\"Cluster/Label relationship:\")\n",
    "print(f\"The number of unique labels in the dataset is: {num_labels}\")\n",
    "print(f\"Optimal number of clusters is: {optimalClusters}\")"
   ]
  },
  {
   "cell_type": "code",
   "execution_count": 6,
   "id": "b352c3d4-ffa9-4362-94da-cabb0d519d3e",
   "metadata": {},
   "outputs": [
    {
     "ename": "TypeError",
     "evalue": "'<' not supported between instances of 'int' and 'NoneType'",
     "output_type": "error",
     "traceback": [
      "\u001b[0;31m---------------------------------------------------------------------------\u001b[0m",
      "\u001b[0;31mTypeError\u001b[0m                                 Traceback (most recent call last)",
      "Input \u001b[0;32mIn [6]\u001b[0m, in \u001b[0;36m<module>\u001b[0;34m\u001b[0m\n\u001b[1;32m      2\u001b[0m model \u001b[38;5;241m=\u001b[39m KMeans(n_clusters\u001b[38;5;241m=\u001b[39moptimalClusters, random_state\u001b[38;5;241m=\u001b[39m\u001b[38;5;241m10\u001b[39m)\n\u001b[1;32m      4\u001b[0m \u001b[38;5;66;03m# call fit method with data \u001b[39;00m\n\u001b[0;32m----> 5\u001b[0m km \u001b[38;5;241m=\u001b[39m \u001b[43mmodel\u001b[49m\u001b[38;5;241;43m.\u001b[39;49m\u001b[43mfit_transform\u001b[49m\u001b[43m(\u001b[49m\u001b[43mX\u001b[49m\u001b[43m)\u001b[49m\n\u001b[1;32m      7\u001b[0m \u001b[38;5;66;03m# coordinates of cluster center\u001b[39;00m\n\u001b[1;32m      8\u001b[0m centroids \u001b[38;5;241m=\u001b[39m model\u001b[38;5;241m.\u001b[39mcluster_centers_ \n",
      "File \u001b[0;32m/opt/app-root/lib64/python3.8/site-packages/sklearn/cluster/_kmeans.py:1279\u001b[0m, in \u001b[0;36mKMeans.fit_transform\u001b[0;34m(self, X, y, sample_weight)\u001b[0m\n\u001b[1;32m   1257\u001b[0m \u001b[38;5;28;01mdef\u001b[39;00m \u001b[38;5;21mfit_transform\u001b[39m(\u001b[38;5;28mself\u001b[39m, X, y\u001b[38;5;241m=\u001b[39m\u001b[38;5;28;01mNone\u001b[39;00m, sample_weight\u001b[38;5;241m=\u001b[39m\u001b[38;5;28;01mNone\u001b[39;00m):\n\u001b[1;32m   1258\u001b[0m     \u001b[38;5;124;03m\"\"\"Compute clustering and transform X to cluster-distance space.\u001b[39;00m\n\u001b[1;32m   1259\u001b[0m \n\u001b[1;32m   1260\u001b[0m \u001b[38;5;124;03m    Equivalent to fit(X).transform(X), but more efficiently implemented.\u001b[39;00m\n\u001b[0;32m   (...)\u001b[0m\n\u001b[1;32m   1277\u001b[0m \u001b[38;5;124;03m        X transformed in the new space.\u001b[39;00m\n\u001b[1;32m   1278\u001b[0m \u001b[38;5;124;03m    \"\"\"\u001b[39;00m\n\u001b[0;32m-> 1279\u001b[0m     \u001b[38;5;28;01mreturn\u001b[39;00m \u001b[38;5;28;43mself\u001b[39;49m\u001b[38;5;241;43m.\u001b[39;49m\u001b[43mfit\u001b[49m\u001b[43m(\u001b[49m\u001b[43mX\u001b[49m\u001b[43m,\u001b[49m\u001b[43m \u001b[49m\u001b[43msample_weight\u001b[49m\u001b[38;5;241;43m=\u001b[39;49m\u001b[43msample_weight\u001b[49m\u001b[43m)\u001b[49m\u001b[38;5;241m.\u001b[39m_transform(X)\n",
      "File \u001b[0;32m/opt/app-root/lib64/python3.8/site-packages/sklearn/cluster/_kmeans.py:1146\u001b[0m, in \u001b[0;36mKMeans.fit\u001b[0;34m(self, X, y, sample_weight)\u001b[0m\n\u001b[1;32m   1112\u001b[0m \u001b[38;5;124;03m\"\"\"Compute k-means clustering.\u001b[39;00m\n\u001b[1;32m   1113\u001b[0m \n\u001b[1;32m   1114\u001b[0m \u001b[38;5;124;03mParameters\u001b[39;00m\n\u001b[0;32m   (...)\u001b[0m\n\u001b[1;32m   1135\u001b[0m \u001b[38;5;124;03m    Fitted estimator.\u001b[39;00m\n\u001b[1;32m   1136\u001b[0m \u001b[38;5;124;03m\"\"\"\u001b[39;00m\n\u001b[1;32m   1137\u001b[0m X \u001b[38;5;241m=\u001b[39m \u001b[38;5;28mself\u001b[39m\u001b[38;5;241m.\u001b[39m_validate_data(\n\u001b[1;32m   1138\u001b[0m     X,\n\u001b[1;32m   1139\u001b[0m     accept_sparse\u001b[38;5;241m=\u001b[39m\u001b[38;5;124m\"\u001b[39m\u001b[38;5;124mcsr\u001b[39m\u001b[38;5;124m\"\u001b[39m,\n\u001b[0;32m   (...)\u001b[0m\n\u001b[1;32m   1143\u001b[0m     accept_large_sparse\u001b[38;5;241m=\u001b[39m\u001b[38;5;28;01mFalse\u001b[39;00m,\n\u001b[1;32m   1144\u001b[0m )\n\u001b[0;32m-> 1146\u001b[0m \u001b[38;5;28;43mself\u001b[39;49m\u001b[38;5;241;43m.\u001b[39;49m\u001b[43m_check_params\u001b[49m\u001b[43m(\u001b[49m\u001b[43mX\u001b[49m\u001b[43m)\u001b[49m\n\u001b[1;32m   1147\u001b[0m random_state \u001b[38;5;241m=\u001b[39m check_random_state(\u001b[38;5;28mself\u001b[39m\u001b[38;5;241m.\u001b[39mrandom_state)\n\u001b[1;32m   1148\u001b[0m sample_weight \u001b[38;5;241m=\u001b[39m _check_sample_weight(sample_weight, X, dtype\u001b[38;5;241m=\u001b[39mX\u001b[38;5;241m.\u001b[39mdtype)\n",
      "File \u001b[0;32m/opt/app-root/lib64/python3.8/site-packages/sklearn/cluster/_kmeans.py:946\u001b[0m, in \u001b[0;36mKMeans._check_params\u001b[0;34m(self, X)\u001b[0m\n\u001b[1;32m    943\u001b[0m     \u001b[38;5;28;01mraise\u001b[39;00m \u001b[38;5;167;01mValueError\u001b[39;00m(\u001b[38;5;124mf\u001b[39m\u001b[38;5;124m\"\u001b[39m\u001b[38;5;124mmax_iter should be > 0, got \u001b[39m\u001b[38;5;132;01m{\u001b[39;00m\u001b[38;5;28mself\u001b[39m\u001b[38;5;241m.\u001b[39mmax_iter\u001b[38;5;132;01m}\u001b[39;00m\u001b[38;5;124m instead.\u001b[39m\u001b[38;5;124m\"\u001b[39m)\n\u001b[1;32m    945\u001b[0m \u001b[38;5;66;03m# n_clusters\u001b[39;00m\n\u001b[0;32m--> 946\u001b[0m \u001b[38;5;28;01mif\u001b[39;00m \u001b[43mX\u001b[49m\u001b[38;5;241;43m.\u001b[39;49m\u001b[43mshape\u001b[49m\u001b[43m[\u001b[49m\u001b[38;5;241;43m0\u001b[39;49m\u001b[43m]\u001b[49m\u001b[43m \u001b[49m\u001b[38;5;241;43m<\u001b[39;49m\u001b[43m \u001b[49m\u001b[38;5;28;43mself\u001b[39;49m\u001b[38;5;241;43m.\u001b[39;49m\u001b[43mn_clusters\u001b[49m:\n\u001b[1;32m    947\u001b[0m     \u001b[38;5;28;01mraise\u001b[39;00m \u001b[38;5;167;01mValueError\u001b[39;00m(\n\u001b[1;32m    948\u001b[0m         \u001b[38;5;124mf\u001b[39m\u001b[38;5;124m\"\u001b[39m\u001b[38;5;124mn_samples=\u001b[39m\u001b[38;5;132;01m{\u001b[39;00mX\u001b[38;5;241m.\u001b[39mshape[\u001b[38;5;241m0\u001b[39m]\u001b[38;5;132;01m}\u001b[39;00m\u001b[38;5;124m should be >= n_clusters=\u001b[39m\u001b[38;5;132;01m{\u001b[39;00m\u001b[38;5;28mself\u001b[39m\u001b[38;5;241m.\u001b[39mn_clusters\u001b[38;5;132;01m}\u001b[39;00m\u001b[38;5;124m.\u001b[39m\u001b[38;5;124m\"\u001b[39m\n\u001b[1;32m    949\u001b[0m     )\n\u001b[1;32m    951\u001b[0m \u001b[38;5;66;03m# tol\u001b[39;00m\n",
      "\u001b[0;31mTypeError\u001b[0m: '<' not supported between instances of 'int' and 'NoneType'"
     ]
    }
   ],
   "source": [
    "# instatiate KMeans class and set the number of clusters\n",
    "model = KMeans(n_clusters=optimalClusters, random_state=10)\n",
    "\n",
    "# call fit method with data \n",
    "km = model.fit_transform(X)\n",
    "\n",
    "# coordinates of cluster center\n",
    "centroids = model.cluster_centers_ \n",
    "\n",
    "# cluster label for each data point\n",
    "labels = model.labels_ "
   ]
  },
  {
   "cell_type": "markdown",
   "id": "21dd6675-52e3-4e72-baa6-f9168da545b3",
   "metadata": {},
   "source": [
    "7. Perform K-Means clustering on the complete dataset and report the purity score."
   ]
  },
  {
   "cell_type": "code",
   "execution_count": null,
   "id": "fa318e67-c2ce-450e-8ca8-61e1ec7a0bd0",
   "metadata": {},
   "outputs": [],
   "source": [
    "# Takes a list that may contain duplicates and returns a list with unique ites.\n",
    "def uniqueList(list1):\n",
    "    # insert the list to the set\n",
    "    list_set = set(list1)\n",
    "    # convert the set to the list\n",
    "    unique_list = (list(list_set))\n",
    "    unique_list.sort()\n",
    "    return unique_list\n",
    "\n",
    "# Searches a Series and finds the item that appears with the greatest frequency and returns the count.\n",
    "def findMaxLabel( data ):\n",
    "    unique, counts = np.unique(data, return_counts=True)\n",
    "    # print(np.asarray((unique, counts)).T)\n",
    "    idx = np.argmax(counts, axis=0)\n",
    "    # print(f\"Index of max: {idx}\")\n",
    "\n",
    "    return unique[idx], counts[idx]\n",
    "\n",
    "# Given a dataframe of columns \"cluster\" and \"label\", it calculates the cluster purity\n",
    "def calculatePurity(data):\n",
    "    print(\"INFO: Calculating clustering purity.\")\n",
    "    print(\"INFO: Input data:\\n{}\".format(data))\n",
    "          \n",
    "    assert data.shape[1] > 0        # Check we won't have a divide by zero error later\n",
    "\n",
    "    # Get a list of clusters that has no duplicates so we can use it as a key.\n",
    "    clusterList = uniqueList(data['cluster'])\n",
    "    # print(f\"Cluster list: {clusterList}\")\n",
    "\n",
    "    # Go through each cluster one by one.\n",
    "    runningSum = 0\n",
    "    for c in clusterList:\n",
    "        # print(f\"Counting instances in cluster {c}\")\n",
    "        m1,m2 = findMaxLabel(data[data[\"cluster\"] == c][\"label\"])\n",
    "        print(\"INFO: Maximum frequency in cluster {} is label {}. It has a count of {}.\".format(c,m1,m2))\n",
    "        runningSum = runningSum + m2\n",
    "\n",
    "    purity = runningSum / data.shape[0]\n",
    "\n",
    "    return purity"
   ]
  },
  {
   "cell_type": "code",
   "execution_count": null,
   "id": "4efdede7-1e9a-418d-affe-46db3dd1a811",
   "metadata": {},
   "outputs": [],
   "source": [
    "import sys\n",
    "np.set_printoptions(threshold=np.inf)\n",
    "print(y.shape, labels.shape)\n",
    "d = pd.concat([pd.Series(y),pd.Series(labels)], axis=1)\n",
    "print()\n"
   ]
  },
  {
   "cell_type": "markdown",
   "id": "74184606-b878-47db-a01d-a9b5bde90acb",
   "metadata": {},
   "source": [
    "8. There are several distance metrics for K-Means such as euclidean, squared euclidian, Manhattan, Chebyshev, Minowski.\n",
    "  * Your job is to compare the purity score of k-means clustering for different distance metrics\n",
    "  * Select the best distance metric and explain why this distance metric is best for the given dataset."
   ]
  }
 ],
 "metadata": {
  "kernelspec": {
   "display_name": "Python 3 (ipykernel)",
   "language": "python",
   "name": "python3"
  },
  "language_info": {
   "codemirror_mode": {
    "name": "ipython",
    "version": 3
   },
   "file_extension": ".py",
   "mimetype": "text/x-python",
   "name": "python",
   "nbconvert_exporter": "python",
   "pygments_lexer": "ipython3",
   "version": "3.8.8"
  }
 },
 "nbformat": 4,
 "nbformat_minor": 5
}
