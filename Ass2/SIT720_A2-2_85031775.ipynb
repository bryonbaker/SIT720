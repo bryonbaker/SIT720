{
 "cells": [
  {
   "cell_type": "markdown",
   "id": "0a137561-070a-4de3-854f-e160cf9c343e",
   "metadata": {},
   "source": [
    "# SIT 720 Assignment 2\n",
    "Bryon Baker\n",
    "\n",
    "Student number: 85031775"
   ]
  },
  {
   "cell_type": "markdown",
   "id": "2b90cbf5-0280-4106-a246-004156d0868b",
   "metadata": {},
   "source": [
    "# Install required libraries"
   ]
  },
  {
   "cell_type": "code",
   "execution_count": 1,
   "id": "a4d040a3-7ce5-42bf-bdbe-d163092bd5fa",
   "metadata": {},
   "outputs": [
    {
     "name": "stdout",
     "output_type": "stream",
     "text": [
      "Requirement already satisfied: pandas in /opt/app-root/lib/python3.8/site-packages (1.2.4)\n",
      "Requirement already satisfied: pytz>=2017.3 in /opt/app-root/lib/python3.8/site-packages (from pandas) (2021.3)\n",
      "Requirement already satisfied: numpy>=1.16.5 in /opt/app-root/lib/python3.8/site-packages (from pandas) (1.19.2)\n",
      "Requirement already satisfied: python-dateutil>=2.7.3 in /opt/app-root/lib/python3.8/site-packages (from pandas) (2.8.2)\n",
      "Requirement already satisfied: six>=1.5 in /opt/app-root/lib/python3.8/site-packages (from python-dateutil>=2.7.3->pandas) (1.16.0)\n",
      "\u001b[33mWARNING: You are using pip version 21.3.1; however, version 22.0.4 is available.\n",
      "You should consider upgrading via the '/opt/app-root/bin/python3.8 -m pip install --upgrade pip' command.\u001b[0m\n",
      "Requirement already satisfied: numpy in /opt/app-root/lib/python3.8/site-packages (1.19.2)\n",
      "\u001b[33mWARNING: You are using pip version 21.3.1; however, version 22.0.4 is available.\n",
      "You should consider upgrading via the '/opt/app-root/bin/python3.8 -m pip install --upgrade pip' command.\u001b[0m\n",
      "Requirement already satisfied: matplotlib in /opt/app-root/lib/python3.8/site-packages (3.4.1)\n",
      "Requirement already satisfied: numpy>=1.16 in /opt/app-root/lib/python3.8/site-packages (from matplotlib) (1.19.2)\n",
      "Requirement already satisfied: python-dateutil>=2.7 in /opt/app-root/lib/python3.8/site-packages (from matplotlib) (2.8.2)\n",
      "Requirement already satisfied: pyparsing>=2.2.1 in /opt/app-root/lib/python3.8/site-packages (from matplotlib) (3.0.6)\n",
      "Requirement already satisfied: pillow>=6.2.0 in /opt/app-root/lib/python3.8/site-packages (from matplotlib) (9.0.0)\n",
      "Requirement already satisfied: kiwisolver>=1.0.1 in /opt/app-root/lib/python3.8/site-packages (from matplotlib) (1.3.2)\n",
      "Requirement already satisfied: cycler>=0.10 in /opt/app-root/lib/python3.8/site-packages (from matplotlib) (0.11.0)\n",
      "Requirement already satisfied: six>=1.5 in /opt/app-root/lib/python3.8/site-packages (from python-dateutil>=2.7->matplotlib) (1.16.0)\n",
      "\u001b[33mWARNING: You are using pip version 21.3.1; however, version 22.0.4 is available.\n",
      "You should consider upgrading via the '/opt/app-root/bin/python3.8 -m pip install --upgrade pip' command.\u001b[0m\n"
     ]
    }
   ],
   "source": [
    "!pip3 install pandas\n",
    "!pip3 install numpy\n",
    "!pip3 install matplotlib"
   ]
  },
  {
   "cell_type": "code",
   "execution_count": 2,
   "id": "1c604cfc-4562-40d3-8b51-5dfd4cd1a60c",
   "metadata": {},
   "outputs": [],
   "source": [
    "import pandas as pd\n",
    "import numpy as np\n",
    "import matplotlib.pyplot as plt"
   ]
  },
  {
   "cell_type": "code",
   "execution_count": null,
   "id": "c2ff72e9-ce5d-4f47-a65d-b86cf686607c",
   "metadata": {},
   "outputs": [],
   "source": []
  },
  {
   "cell_type": "markdown",
   "id": "a6d76d91-a0e2-4edc-ab91-1138fd6af074",
   "metadata": {},
   "source": [
    "# Part 2: SCADI Dataset"
   ]
  },
  {
   "cell_type": "markdown",
   "id": "db2ecc73-f80d-4f89-adc5-395fcbb5acf6",
   "metadata": {},
   "source": [
    "5. Download the attached scadi.csv file. Read the file and separate the class and feature matrix."
   ]
  },
  {
   "cell_type": "code",
   "execution_count": 3,
   "id": "622cc0e0-6e32-4a10-9db7-b0dce63a1ae1",
   "metadata": {},
   "outputs": [
    {
     "name": "stdout",
     "output_type": "stream",
     "text": [
      "   Age  Sex  chest pain type  Trestbps  chol  fbs  restecg  thalach  exang  \\\n",
      "0   63    1                1       145   233    1        2      150      0   \n",
      "1   67    1                4       160   286    0        2      108      1   \n",
      "2   67    1                4       120   229    0        2      129      1   \n",
      "3   37    1                3       130   250    0        0      187      0   \n",
      "4   41    0                2       130   204    0        2      172      0   \n",
      "\n",
      "   oldpeak  slope ca thal  num  \n",
      "0      2.3      3  0    6    0  \n",
      "1      1.5      2  3    3    2  \n",
      "2      2.6      2  2    7    1  \n",
      "3      3.5      3  0    3    0  \n",
      "4      1.4      1  0    3    0  \n",
      "\n"
     ]
    }
   ],
   "source": [
    "import ssl\n",
    "ssl._create_default_https_context = ssl._create_unverified_context\n",
    "\n",
    "url = 'https://raw.githubusercontent.com/bryonbaker/datasets/main/SIT720/Ass2/heartdisease.csv'\n",
    "full_df = pd.read_csv(url)\n",
    "print(f\"{full_df.head()}\\n\")"
   ]
  },
  {
   "cell_type": "markdown",
   "id": "2b7432fe-0d7d-41a0-8640-95262671764b",
   "metadata": {},
   "source": [
    "6. Determine the number of clusters from the dataset. Is this the same as the actual number of classes in the dataset?"
   ]
  },
  {
   "cell_type": "code",
   "execution_count": null,
   "id": "dfa3859c-0196-4465-a45d-7adb7f96b785",
   "metadata": {},
   "outputs": [],
   "source": []
  },
  {
   "cell_type": "markdown",
   "id": "21dd6675-52e3-4e72-baa6-f9168da545b3",
   "metadata": {},
   "source": [
    "7. Perform K-Means clustering on the complete dataset and report the purity score."
   ]
  },
  {
   "cell_type": "code",
   "execution_count": null,
   "id": "73702ec8-9aaa-4894-8afe-abaa0524c831",
   "metadata": {},
   "outputs": [],
   "source": []
  },
  {
   "cell_type": "markdown",
   "id": "74184606-b878-47db-a01d-a9b5bde90acb",
   "metadata": {},
   "source": [
    "8. There are several distance metrics for K-Means such as euclidean, squared euclidian, Manhattan, Chebyshev, Minowski.\n",
    "  * Your job is to compare the purity score of k-means clustering for different distance metrics\n",
    "  * Select the best distance metric and explain why this distance metric is best for the given dataset."
   ]
  },
  {
   "cell_type": "code",
   "execution_count": null,
   "id": "c99f3829-6846-4c0c-adfd-26d77c5604c9",
   "metadata": {},
   "outputs": [],
   "source": []
  }
 ],
 "metadata": {
  "kernelspec": {
   "display_name": "Python 3 (ipykernel)",
   "language": "python",
   "name": "python3"
  },
  "language_info": {
   "codemirror_mode": {
    "name": "ipython",
    "version": 3
   },
   "file_extension": ".py",
   "mimetype": "text/x-python",
   "name": "python",
   "nbconvert_exporter": "python",
   "pygments_lexer": "ipython3",
   "version": "3.8.8"
  }
 },
 "nbformat": 4,
 "nbformat_minor": 5
}
