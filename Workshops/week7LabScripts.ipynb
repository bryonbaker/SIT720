{
 "cells": [
  {
   "cell_type": "markdown",
   "metadata": {
    "colab_type": "text",
    "id": "m2aZrVjJ860t"
   },
   "source": [
    "# The effects of L1 and L2 on polynomial regression"
   ]
  },
  {
   "cell_type": "markdown",
   "metadata": {
    "colab_type": "text",
    "id": "dBRVT9b_860v"
   },
   "source": [
    "## Code example 1"
   ]
  },
  {
   "cell_type": "code",
   "execution_count": null,
   "metadata": {
    "colab": {},
    "colab_type": "code",
    "executionInfo": {
     "elapsed": 2583,
     "status": "ok",
     "timestamp": 1598787289981,
     "user": {
      "displayName": "Chandan Karmakar",
      "photoUrl": "",
      "userId": "09762733542902070185"
     },
     "user_tz": -600
    },
    "id": "l5mNvCQm8-y5"
   },
   "outputs": [],
   "source": []
  },
  {
   "cell_type": "code",
   "execution_count": 1,
   "metadata": {
    "colab": {
     "base_uri": "https://localhost:8080/",
     "height": 125
    },
    "colab_type": "code",
    "executionInfo": {
     "elapsed": 32004,
     "status": "ok",
     "timestamp": 1598849442857,
     "user": {
      "displayName": "Chandan Karmakar",
      "photoUrl": "",
      "userId": "09762733542902070185"
     },
     "user_tz": -600
    },
    "id": "lPP_-Jj_9GVY",
    "outputId": "556ff3fd-d123-4851-f60d-ea4de147a328"
   },
   "outputs": [],
   "source": [
    "#from google.colab import drive\n",
    "#drive.mount('/content/drive')"
   ]
  },
  {
   "cell_type": "code",
   "execution_count": 2,
   "metadata": {
    "colab": {},
    "colab_type": "code",
    "executionInfo": {
     "elapsed": 2496,
     "status": "ok",
     "timestamp": 1598787289988,
     "user": {
      "displayName": "Chandan Karmakar",
      "photoUrl": "",
      "userId": "09762733542902070185"
     },
     "user_tz": -600
    },
    "id": "PD_2k91m860v"
   },
   "outputs": [],
   "source": [
    "import numpy as np\n",
    "import pandas as pd\n",
    "import matplotlib.pyplot as plt"
   ]
  },
  {
   "cell_type": "code",
   "execution_count": 3,
   "metadata": {
    "colab": {
     "base_uri": "https://localhost:8080/",
     "height": 220
    },
    "colab_type": "code",
    "executionInfo": {
     "elapsed": 2620,
     "status": "ok",
     "timestamp": 1598787335079,
     "user": {
      "displayName": "Chandan Karmakar",
      "photoUrl": "",
      "userId": "09762733542902070185"
     },
     "user_tz": -600
    },
    "id": "ubNr_gjn8602",
    "outputId": "40c38c50-e6ff-4e37-8a68-951e29dfb71f"
   },
   "outputs": [
    {
     "name": "stdout",
     "output_type": "stream",
     "text": [
      "Data has 60 rows with  2 columns\n"
     ]
    },
    {
     "data": {
      "text/html": [
       "<div>\n",
       "<style scoped>\n",
       "    .dataframe tbody tr th:only-of-type {\n",
       "        vertical-align: middle;\n",
       "    }\n",
       "\n",
       "    .dataframe tbody tr th {\n",
       "        vertical-align: top;\n",
       "    }\n",
       "\n",
       "    .dataframe thead th {\n",
       "        text-align: right;\n",
       "    }\n",
       "</style>\n",
       "<table border=\"1\" class=\"dataframe\">\n",
       "  <thead>\n",
       "    <tr style=\"text-align: right;\">\n",
       "      <th></th>\n",
       "      <th>y</th>\n",
       "      <th>x</th>\n",
       "    </tr>\n",
       "  </thead>\n",
       "  <tbody>\n",
       "    <tr>\n",
       "      <th>0</th>\n",
       "      <td>1.065763</td>\n",
       "      <td>1.047198</td>\n",
       "    </tr>\n",
       "    <tr>\n",
       "      <th>1</th>\n",
       "      <td>1.006086</td>\n",
       "      <td>1.117011</td>\n",
       "    </tr>\n",
       "    <tr>\n",
       "      <th>2</th>\n",
       "      <td>0.695374</td>\n",
       "      <td>1.186824</td>\n",
       "    </tr>\n",
       "    <tr>\n",
       "      <th>3</th>\n",
       "      <td>0.949799</td>\n",
       "      <td>1.256637</td>\n",
       "    </tr>\n",
       "    <tr>\n",
       "      <th>4</th>\n",
       "      <td>1.063496</td>\n",
       "      <td>1.326450</td>\n",
       "    </tr>\n",
       "  </tbody>\n",
       "</table>\n",
       "</div>"
      ],
      "text/plain": [
       "          y         x\n",
       "0  1.065763  1.047198\n",
       "1  1.006086  1.117011\n",
       "2  0.695374  1.186824\n",
       "3  0.949799  1.256637\n",
       "4  1.063496  1.326450"
      ]
     },
     "execution_count": 3,
     "metadata": {},
     "output_type": "execute_result"
    }
   ],
   "source": [
    "data = pd.read_csv('../workshop-datafiles/poly_data.csv')\n",
    "\n",
    "rows, cols = data.shape\n",
    "\n",
    "print(\"Data has {} rows with  {} columns\".format(rows, cols))\n",
    "data.head()"
   ]
  },
  {
   "cell_type": "markdown",
   "metadata": {
    "colab_type": "text",
    "id": "aWZQuOo7860-"
   },
   "source": [
    "## Code example 2"
   ]
  },
  {
   "cell_type": "code",
   "execution_count": 4,
   "metadata": {
    "colab": {},
    "colab_type": "code",
    "executionInfo": {
     "elapsed": 1756,
     "status": "ok",
     "timestamp": 1598787341467,
     "user": {
      "displayName": "Chandan Karmakar",
      "photoUrl": "",
      "userId": "09762733542902070185"
     },
     "user_tz": -600
    },
    "id": "_PG4GStr860-"
   },
   "outputs": [],
   "source": [
    "# Separate the data into features and response.\n",
    "predictors = ['x']\n",
    "response = ['y']"
   ]
  },
  {
   "cell_type": "code",
   "execution_count": 5,
   "metadata": {
    "colab": {
     "base_uri": "https://localhost:8080/",
     "height": 295
    },
    "colab_type": "code",
    "executionInfo": {
     "elapsed": 2638,
     "status": "ok",
     "timestamp": 1598787345224,
     "user": {
      "displayName": "Chandan Karmakar",
      "photoUrl": "",
      "userId": "09762733542902070185"
     },
     "user_tz": -600
    },
    "id": "0n9NzMqt861E",
    "outputId": "9ef97423-3e40-4fd9-c945-47831dd69079"
   },
   "outputs": [
    {
     "data": {
      "image/png": "[encoded data removed]",
      "text/plain": [
       "<Figure size 432x288 with 1 Axes>"
      ]
     },
     "metadata": {
      "needs_background": "light"
     },
     "output_type": "display_data"
    }
   ],
   "source": [
    "# Visualize the data\n",
    "plt.plot(data[predictors], data[response], '.')\n",
    "plt.xlabel('X')\n",
    "plt.ylabel('Y')\n",
    "plt.title('Scatter plot of our data')\n",
    "plt.show()"
   ]
  },
  {
   "cell_type": "markdown",
   "metadata": {
    "colab_type": "text",
    "id": "jl4V1GEl861J"
   },
   "source": [
    "## Code example 3"
   ]
  },
  {
   "cell_type": "code",
   "execution_count": 6,
   "metadata": {
    "colab": {},
    "colab_type": "code",
    "executionInfo": {
     "elapsed": 2697,
     "status": "ok",
     "timestamp": 1598787352009,
     "user": {
      "displayName": "Chandan Karmakar",
      "photoUrl": "",
      "userId": "09762733542902070185"
     },
     "user_tz": -600
    },
    "id": "tXk-HNxi861K"
   },
   "outputs": [],
   "source": [
    "# Lets fit a linear regression model to this data\n",
    "from sklearn.linear_model import LinearRegression\n",
    "\n",
    "lr1 = LinearRegression(normalize=True)\n",
    "lr1.fit(data[predictors], data[response])\n",
    "y_pred = lr1.predict(data[predictors])"
   ]
  },
  {
   "cell_type": "code",
   "execution_count": 7,
   "metadata": {
    "colab": {
     "base_uri": "https://localhost:8080/",
     "height": 283
    },
    "colab_type": "code",
    "executionInfo": {
     "elapsed": 1302,
     "status": "ok",
     "timestamp": 1598787355181,
     "user": {
      "displayName": "Chandan Karmakar",
      "photoUrl": "",
      "userId": "09762733542902070185"
     },
     "user_tz": -600
    },
    "id": "l3e-CdJh861N",
    "outputId": "44df7680-67ae-4c60-f4d0-a7a930f872b0"
   },
   "outputs": [
    {
     "name": "stdout",
     "output_type": "stream",
     "text": [
      "Model MSE: 0.05467192664907907\n"
     ]
    },
    {
     "data": {
      "image/png": "[encoded data removed]",
      "text/plain": [
       "<Figure size 432x288 with 1 Axes>"
      ]
     },
     "metadata": {
      "needs_background": "light"
     },
     "output_type": "display_data"
    }
   ],
   "source": [
    "#Evaluate our model with mean square error\n",
    "mse1 = np.mean((y_pred - data[response])**2)   # This is the average\n",
    "print(\"Model MSE: {}\".format(mse1[0]))\n",
    "plt.plot(data['x'], data['y'], '.', data['x'], y_pred, '-')\n",
    "plt.show()"
   ]
  },
  {
   "cell_type": "markdown",
   "metadata": {
    "colab_type": "text",
    "id": "ZZ_bbpPO861Q"
   },
   "source": [
    "## Code example 4:"
   ]
  },
  {
   "cell_type": "code",
   "execution_count": 8,
   "metadata": {
    "colab": {
     "base_uri": "https://localhost:8080/",
     "height": 35
    },
    "colab_type": "code",
    "executionInfo": {
     "elapsed": 1081,
     "status": "ok",
     "timestamp": 1598787359697,
     "user": {
      "displayName": "Chandan Karmakar",
      "photoUrl": "",
      "userId": "09762733542902070185"
     },
     "user_tz": -600
    },
    "id": "2aknGCAq861R",
    "outputId": "7e8f3a91-3cd6-4d7b-ed04-7fb012eaed7b"
   },
   "outputs": [
    {
     "name": "stdout",
     "output_type": "stream",
     "text": [
      "x_5\n"
     ]
    }
   ],
   "source": [
    "#We are going to add columns to our exiting data frame\n",
    "\n",
    "#To generate a name starting with a character and ending with a number, lets try this:\n",
    "print(\"x_%d\"%5)"
   ]
  },
  {
   "cell_type": "code",
   "execution_count": 9,
   "metadata": {
    "colab": {
     "base_uri": "https://localhost:8080/",
     "height": 203
    },
    "colab_type": "code",
    "executionInfo": {
     "elapsed": 1036,
     "status": "ok",
     "timestamp": 1598787362231,
     "user": {
      "displayName": "Chandan Karmakar",
      "photoUrl": "",
      "userId": "09762733542902070185"
     },
     "user_tz": -600
    },
    "id": "Vrli3dyu861V",
    "outputId": "9961c0ef-7931-40fe-debb-f93b85f45bb1"
   },
   "outputs": [
    {
     "data": {
      "text/html": [
       "<div>\n",
       "<style scoped>\n",
       "    .dataframe tbody tr th:only-of-type {\n",
       "        vertical-align: middle;\n",
       "    }\n",
       "\n",
       "    .dataframe tbody tr th {\n",
       "        vertical-align: top;\n",
       "    }\n",
       "\n",
       "    .dataframe thead th {\n",
       "        text-align: right;\n",
       "    }\n",
       "</style>\n",
       "<table border=\"1\" class=\"dataframe\">\n",
       "  <thead>\n",
       "    <tr style=\"text-align: right;\">\n",
       "      <th></th>\n",
       "      <th>y</th>\n",
       "      <th>x</th>\n",
       "      <th>x_2</th>\n",
       "      <th>x_3</th>\n",
       "      <th>x_4</th>\n",
       "      <th>x_5</th>\n",
       "    </tr>\n",
       "  </thead>\n",
       "  <tbody>\n",
       "    <tr>\n",
       "      <th>0</th>\n",
       "      <td>1.065763</td>\n",
       "      <td>1.047198</td>\n",
       "      <td>1.096623</td>\n",
       "      <td>1.148381</td>\n",
       "      <td>1.202581</td>\n",
       "      <td>1.259340</td>\n",
       "    </tr>\n",
       "    <tr>\n",
       "      <th>1</th>\n",
       "      <td>1.006086</td>\n",
       "      <td>1.117011</td>\n",
       "      <td>1.247713</td>\n",
       "      <td>1.393709</td>\n",
       "      <td>1.556788</td>\n",
       "      <td>1.738948</td>\n",
       "    </tr>\n",
       "    <tr>\n",
       "      <th>2</th>\n",
       "      <td>0.695374</td>\n",
       "      <td>1.186824</td>\n",
       "      <td>1.408551</td>\n",
       "      <td>1.671702</td>\n",
       "      <td>1.984016</td>\n",
       "      <td>2.354677</td>\n",
       "    </tr>\n",
       "    <tr>\n",
       "      <th>3</th>\n",
       "      <td>0.949799</td>\n",
       "      <td>1.256637</td>\n",
       "      <td>1.579137</td>\n",
       "      <td>1.984402</td>\n",
       "      <td>2.493673</td>\n",
       "      <td>3.133642</td>\n",
       "    </tr>\n",
       "    <tr>\n",
       "      <th>4</th>\n",
       "      <td>1.063496</td>\n",
       "      <td>1.326450</td>\n",
       "      <td>1.759470</td>\n",
       "      <td>2.333850</td>\n",
       "      <td>3.095735</td>\n",
       "      <td>4.106339</td>\n",
       "    </tr>\n",
       "  </tbody>\n",
       "</table>\n",
       "</div>"
      ],
      "text/plain": [
       "          y         x       x_2       x_3       x_4       x_5\n",
       "0  1.065763  1.047198  1.096623  1.148381  1.202581  1.259340\n",
       "1  1.006086  1.117011  1.247713  1.393709  1.556788  1.738948\n",
       "2  0.695374  1.186824  1.408551  1.671702  1.984016  2.354677\n",
       "3  0.949799  1.256637  1.579137  1.984402  2.493673  3.133642\n",
       "4  1.063496  1.326450  1.759470  2.333850  3.095735  4.106339"
      ]
     },
     "execution_count": 9,
     "metadata": {},
     "output_type": "execute_result"
    }
   ],
   "source": [
    "for i in range(2,6):\n",
    "   colname = \"x_%d\"%i\n",
    "   data[colname] = data.x**i   # Add more columns with higher powers\n",
    "\n",
    "data.head()"
   ]
  },
  {
   "cell_type": "markdown",
   "metadata": {
    "colab_type": "text",
    "id": "suruPJCp861X"
   },
   "source": [
    "## Code example 5"
   ]
  },
  {
   "cell_type": "code",
   "execution_count": 10,
   "metadata": {
    "colab": {
     "base_uri": "https://localhost:8080/",
     "height": 283
    },
    "colab_type": "code",
    "executionInfo": {
     "elapsed": 1190,
     "status": "ok",
     "timestamp": 1598787366930,
     "user": {
      "displayName": "Chandan Karmakar",
      "photoUrl": "",
      "userId": "09762733542902070185"
     },
     "user_tz": -600
    },
    "id": "rPOrEVfc861Y",
    "outputId": "0b4337c0-915f-4e9c-a0ce-0f55964894f1"
   },
   "outputs": [
    {
     "name": "stdout",
     "output_type": "stream",
     "text": [
      "Model MSE: 0.016976226592901714\n"
     ]
    },
    {
     "data": {
      "image/png": "[encoded data removed]",
      "text/plain": [
       "<Figure size 432x288 with 1 Axes>"
      ]
     },
     "metadata": {
      "needs_background": "light"
     },
     "output_type": "display_data"
    }
   ],
   "source": [
    "predictors = data.columns.values[1:]\n",
    "lr2 = LinearRegression(normalize=True)\n",
    "lr2.fit(data[predictors], data[response])\n",
    "y_pred2 = lr2.predict(data[predictors])\n",
    "\n",
    "#Evaluate our model with mean square error\n",
    "mse2 = np.mean((y_pred2 - data[response])**2)\n",
    "print(\"Model MSE: {}\".format(mse2[0]))\n",
    "\n",
    "plt.plot(data['x'], data['y'], '.', data['x'], y_pred2, '-')\n",
    "plt.show()"
   ]
  },
  {
   "cell_type": "code",
   "execution_count": 11,
   "metadata": {},
   "outputs": [
    {
     "name": "stdout",
     "output_type": "stream",
     "text": [
      "Model MSE: 0.018389196563564168\n"
     ]
    },
    {
     "data": {
      "image/png": "[encoded data removed]",
      "text/plain": [
       "<Figure size 432x288 with 1 Axes>"
      ]
     },
     "metadata": {
      "needs_background": "light"
     },
     "output_type": "display_data"
    }
   ],
   "source": [
    "predictors = data.columns.values[1:]\n",
    "lr2 = LinearRegression(normalize=True)\n",
    "lr2.fit(data[predictors[:3]], data[response])\n",
    "y_pred2 = lr2.predict(data[predictors[:3]])\n",
    "\n",
    "#Evaluate our model with mean square error\n",
    "mse2 = np.mean((y_pred2 - data[response])**2)\n",
    "print(\"Model MSE: {}\".format(mse2[0]))\n",
    "\n",
    "plt.plot(data['x'], data['y'], '.', data['x'], y_pred2, '-')\n",
    "plt.show()"
   ]
  },
  {
   "cell_type": "code",
   "execution_count": 12,
   "metadata": {
    "colab": {},
    "colab_type": "code",
    "executionInfo": {
     "elapsed": 2982,
     "status": "aborted",
     "timestamp": 1598787290647,
     "user": {
      "displayName": "Chandan Karmakar",
      "photoUrl": "",
      "userId": "09762733542902070185"
     },
     "user_tz": -600
    },
    "id": "74gTjzxF861b"
   },
   "outputs": [
    {
     "name": "stdout",
     "output_type": "stream",
     "text": [
      "[[ 3.0315657  -1.28552808  0.13729199]]\n"
     ]
    }
   ],
   "source": [
    "print(lr2.coef_)"
   ]
  },
  {
   "cell_type": "markdown",
   "metadata": {
    "colab_type": "text",
    "id": "jLC7P3fV861d"
   },
   "source": [
    "## Code example 6:"
   ]
  },
  {
   "cell_type": "code",
   "execution_count": 13,
   "metadata": {
    "colab": {
     "base_uri": "https://localhost:8080/",
     "height": 223
    },
    "colab_type": "code",
    "executionInfo": {
     "elapsed": 1178,
     "status": "ok",
     "timestamp": 1598787477615,
     "user": {
      "displayName": "Chandan Karmakar",
      "photoUrl": "",
      "userId": "09762733542902070185"
     },
     "user_tz": -600
    },
    "id": "INlL6eNw861e",
    "outputId": "81db94b0-f864-4fad-f9db-941bc37b2644"
   },
   "outputs": [
    {
     "data": {
      "text/html": [
       "<div>\n",
       "<style scoped>\n",
       "    .dataframe tbody tr th:only-of-type {\n",
       "        vertical-align: middle;\n",
       "    }\n",
       "\n",
       "    .dataframe tbody tr th {\n",
       "        vertical-align: top;\n",
       "    }\n",
       "\n",
       "    .dataframe thead th {\n",
       "        text-align: right;\n",
       "    }\n",
       "</style>\n",
       "<table border=\"1\" class=\"dataframe\">\n",
       "  <thead>\n",
       "    <tr style=\"text-align: right;\">\n",
       "      <th></th>\n",
       "      <th>y</th>\n",
       "      <th>x</th>\n",
       "      <th>x_2</th>\n",
       "      <th>x_3</th>\n",
       "      <th>x_4</th>\n",
       "      <th>x_5</th>\n",
       "      <th>x_6</th>\n",
       "      <th>x_7</th>\n",
       "      <th>x_8</th>\n",
       "      <th>x_9</th>\n",
       "      <th>x_10</th>\n",
       "      <th>x_11</th>\n",
       "      <th>x_12</th>\n",
       "      <th>x_13</th>\n",
       "      <th>x_14</th>\n",
       "      <th>x_15</th>\n",
       "    </tr>\n",
       "  </thead>\n",
       "  <tbody>\n",
       "    <tr>\n",
       "      <th>0</th>\n",
       "      <td>1.065763</td>\n",
       "      <td>1.047198</td>\n",
       "      <td>1.096623</td>\n",
       "      <td>1.148381</td>\n",
       "      <td>1.202581</td>\n",
       "      <td>1.259340</td>\n",
       "      <td>1.318778</td>\n",
       "      <td>1.381021</td>\n",
       "      <td>1.446202</td>\n",
       "      <td>1.514459</td>\n",
       "      <td>1.585938</td>\n",
       "      <td>1.660790</td>\n",
       "      <td>1.739176</td>\n",
       "      <td>1.821260</td>\n",
       "      <td>1.907219</td>\n",
       "      <td>1.997235</td>\n",
       "    </tr>\n",
       "    <tr>\n",
       "      <th>1</th>\n",
       "      <td>1.006086</td>\n",
       "      <td>1.117011</td>\n",
       "      <td>1.247713</td>\n",
       "      <td>1.393709</td>\n",
       "      <td>1.556788</td>\n",
       "      <td>1.738948</td>\n",
       "      <td>1.942424</td>\n",
       "      <td>2.169708</td>\n",
       "      <td>2.423588</td>\n",
       "      <td>2.707173</td>\n",
       "      <td>3.023942</td>\n",
       "      <td>3.377775</td>\n",
       "      <td>3.773011</td>\n",
       "      <td>4.214494</td>\n",
       "      <td>4.707635</td>\n",
       "      <td>5.258479</td>\n",
       "    </tr>\n",
       "    <tr>\n",
       "      <th>2</th>\n",
       "      <td>0.695374</td>\n",
       "      <td>1.186824</td>\n",
       "      <td>1.408551</td>\n",
       "      <td>1.671702</td>\n",
       "      <td>1.984016</td>\n",
       "      <td>2.354677</td>\n",
       "      <td>2.794587</td>\n",
       "      <td>3.316683</td>\n",
       "      <td>3.936319</td>\n",
       "      <td>4.671717</td>\n",
       "      <td>5.544505</td>\n",
       "      <td>6.580351</td>\n",
       "      <td>7.809718</td>\n",
       "      <td>9.268760</td>\n",
       "      <td>11.000386</td>\n",
       "      <td>13.055521</td>\n",
       "    </tr>\n",
       "    <tr>\n",
       "      <th>3</th>\n",
       "      <td>0.949799</td>\n",
       "      <td>1.256637</td>\n",
       "      <td>1.579137</td>\n",
       "      <td>1.984402</td>\n",
       "      <td>2.493673</td>\n",
       "      <td>3.133642</td>\n",
       "      <td>3.937850</td>\n",
       "      <td>4.948448</td>\n",
       "      <td>6.218404</td>\n",
       "      <td>7.814277</td>\n",
       "      <td>9.819709</td>\n",
       "      <td>12.339811</td>\n",
       "      <td>15.506664</td>\n",
       "      <td>19.486248</td>\n",
       "      <td>24.487142</td>\n",
       "      <td>30.771450</td>\n",
       "    </tr>\n",
       "    <tr>\n",
       "      <th>4</th>\n",
       "      <td>1.063496</td>\n",
       "      <td>1.326450</td>\n",
       "      <td>1.759470</td>\n",
       "      <td>2.333850</td>\n",
       "      <td>3.095735</td>\n",
       "      <td>4.106339</td>\n",
       "      <td>5.446854</td>\n",
       "      <td>7.224981</td>\n",
       "      <td>9.583578</td>\n",
       "      <td>12.712139</td>\n",
       "      <td>16.862020</td>\n",
       "      <td>22.366630</td>\n",
       "      <td>29.668222</td>\n",
       "      <td>39.353420</td>\n",
       "      <td>52.200353</td>\n",
       "      <td>69.241170</td>\n",
       "    </tr>\n",
       "  </tbody>\n",
       "</table>\n",
       "</div>"
      ],
      "text/plain": [
       "          y         x       x_2       x_3       x_4       x_5       x_6  \\\n",
       "0  1.065763  1.047198  1.096623  1.148381  1.202581  1.259340  1.318778   \n",
       "1  1.006086  1.117011  1.247713  1.393709  1.556788  1.738948  1.942424   \n",
       "2  0.695374  1.186824  1.408551  1.671702  1.984016  2.354677  2.794587   \n",
       "3  0.949799  1.256637  1.579137  1.984402  2.493673  3.133642  3.937850   \n",
       "4  1.063496  1.326450  1.759470  2.333850  3.095735  4.106339  5.446854   \n",
       "\n",
       "        x_7       x_8        x_9       x_10       x_11       x_12       x_13  \\\n",
       "0  1.381021  1.446202   1.514459   1.585938   1.660790   1.739176   1.821260   \n",
       "1  2.169708  2.423588   2.707173   3.023942   3.377775   3.773011   4.214494   \n",
       "2  3.316683  3.936319   4.671717   5.544505   6.580351   7.809718   9.268760   \n",
       "3  4.948448  6.218404   7.814277   9.819709  12.339811  15.506664  19.486248   \n",
       "4  7.224981  9.583578  12.712139  16.862020  22.366630  29.668222  39.353420   \n",
       "\n",
       "        x_14       x_15  \n",
       "0   1.907219   1.997235  \n",
       "1   4.707635   5.258479  \n",
       "2  11.000386  13.055521  \n",
       "3  24.487142  30.771450  \n",
       "4  52.200353  69.241170  "
      ]
     },
     "execution_count": 13,
     "metadata": {},
     "output_type": "execute_result"
    }
   ],
   "source": [
    "for i in range(2,16):\n",
    "   colname = \"x_%d\"%i\n",
    "   data[colname] = data.x**i\n",
    "\n",
    "data.head()"
   ]
  },
  {
   "cell_type": "code",
   "execution_count": 14,
   "metadata": {
    "colab": {
     "base_uri": "https://localhost:8080/",
     "height": 300
    },
    "colab_type": "code",
    "executionInfo": {
     "elapsed": 2075,
     "status": "ok",
     "timestamp": 1598787483548,
     "user": {
      "displayName": "Chandan Karmakar",
      "photoUrl": "",
      "userId": "09762733542902070185"
     },
     "user_tz": -600
    },
    "id": "8WbEKpdQ861h",
    "outputId": "d375489c-fc99-4617-e559-f2825d51a8fe"
   },
   "outputs": [
    {
     "name": "stdout",
     "output_type": "stream",
     "text": [
      "Model MSE: y    0.011747\n",
      "dtype: float64\n"
     ]
    },
    {
     "data": {
      "image/png": "[encoded data removed]",
      "text/plain": [
       "<Figure size 432x288 with 1 Axes>"
      ]
     },
     "metadata": {
      "needs_background": "light"
     },
     "output_type": "display_data"
    }
   ],
   "source": [
    "predictors = data.columns.values[1:]\n",
    "lr3 = LinearRegression(normalize=True)\n",
    "lr3.fit(data[predictors], data[response])\n",
    "y_pred3 = lr3.predict(data[predictors])\n",
    "\n",
    "#Evaluate our model with mean square error\n",
    "mse3 = np.mean((y_pred3 - data[response])**2)\n",
    "print(\"Model MSE: {}\".format(mse3))\n",
    "plt.plot(data['x'], data['y'], '.', data['x'], y_pred3, '-')\n",
    "plt.show()"
   ]
  },
  {
   "cell_type": "code",
   "execution_count": 15,
   "metadata": {
    "colab": {
     "base_uri": "https://localhost:8080/",
     "height": 87
    },
    "colab_type": "code",
    "executionInfo": {
     "elapsed": 1116,
     "status": "ok",
     "timestamp": 1598787487791,
     "user": {
      "displayName": "Chandan Karmakar",
      "photoUrl": "",
      "userId": "09762733542902070185"
     },
     "user_tz": -600
    },
    "id": "L3ZwsLcP861l",
    "outputId": "18639e13-3d60-418a-aa7a-31b8a42007e3"
   },
   "outputs": [
    {
     "name": "stdout",
     "output_type": "stream",
     "text": [
      "[[ 2.43873374e+05 -7.45919477e+05  1.37631468e+06 -1.71383440e+06\n",
      "   1.52631804e+06 -1.00487807e+06  4.98342864e+05 -1.87832673e+05\n",
      "   5.38509221e+04 -1.16575286e+04  1.87294965e+03 -2.16379870e+02\n",
      "   1.69849594e+01 -8.10728452e-01  1.77542886e-02]]\n"
     ]
    }
   ],
   "source": [
    "print(lr3.coef_)"
   ]
  },
  {
   "cell_type": "markdown",
   "metadata": {
    "colab_type": "text",
    "id": "jgJdBMtD861o"
   },
   "source": [
    "## Code example 7"
   ]
  },
  {
   "cell_type": "code",
   "execution_count": 16,
   "metadata": {
    "colab": {
     "base_uri": "https://localhost:8080/",
     "height": 70
    },
    "colab_type": "code",
    "executionInfo": {
     "elapsed": 1198,
     "status": "ok",
     "timestamp": 1598787490868,
     "user": {
      "displayName": "Chandan Karmakar",
      "photoUrl": "",
      "userId": "09762733542902070185"
     },
     "user_tz": -600
    },
    "id": "xQQvNFeF861o",
    "outputId": "07d9d017-79c1-4fa0-881a-a5944b583f41"
   },
   "outputs": [
    {
     "name": "stdout",
     "output_type": "stream",
     "text": [
      "MSE Simple LR: 0.05467192664907907\n",
      "MSE Polynomial LR with power = 5:  0.018389196563564168\n",
      "MSE Polynomial LR with power = 15: 0.011746955424041382\n"
     ]
    }
   ],
   "source": [
    "print(\"MSE Simple LR: {}\".format(mse1[0]))\n",
    "print(\"MSE Polynomial LR with power = 5:  {}\".format(mse2[0]))\n",
    "print(\"MSE Polynomial LR with power = 15: {}\".format(mse3[0]))"
   ]
  },
  {
   "cell_type": "code",
   "execution_count": 17,
   "metadata": {
    "colab": {
     "base_uri": "https://localhost:8080/",
     "height": 178
    },
    "colab_type": "code",
    "executionInfo": {
     "elapsed": 1146,
     "status": "ok",
     "timestamp": 1598787493741,
     "user": {
      "displayName": "Chandan Karmakar",
      "photoUrl": "",
      "userId": "09762733542902070185"
     },
     "user_tz": -600
    },
    "id": "Wc8cALIc861r",
    "outputId": "d8f436cc-108a-47a7-8c4a-f904848ddfe2"
   },
   "outputs": [
    {
     "name": "stdout",
     "output_type": "stream",
     "text": [
      "Coefficients Simple LR: [[-0.61957457]]\n",
      "\n",
      "Coefficients Polynomial LR with power = 5:  [[ 3.0315657  -1.28552808  0.13729199]]\n",
      "\n",
      "Coefficients Polynomial LR with power = 15: [[ 2.43873374e+05 -7.45919477e+05  1.37631468e+06 -1.71383440e+06\n",
      "   1.52631804e+06 -1.00487807e+06  4.98342864e+05 -1.87832673e+05\n",
      "   5.38509221e+04 -1.16575286e+04  1.87294965e+03 -2.16379870e+02\n",
      "   1.69849594e+01 -8.10728452e-01  1.77542886e-02]]\n"
     ]
    }
   ],
   "source": [
    "print(\"Coefficients Simple LR: {}\".format(lr1.coef_))\n",
    "print()\n",
    "print(\"Coefficients Polynomial LR with power = 5:  {}\".format(lr2.coef_))\n",
    "print()\n",
    "print(\"Coefficients Polynomial LR with power = 15: {}\".format(lr3.coef_))"
   ]
  },
  {
   "cell_type": "markdown",
   "metadata": {
    "colab_type": "text",
    "id": "1wA-rPEr861t"
   },
   "source": [
    "# L2 Regularised linear regression"
   ]
  },
  {
   "cell_type": "markdown",
   "metadata": {
    "colab_type": "text",
    "id": "LKSvRnid861u"
   },
   "source": [
    "## Code example 8"
   ]
  },
  {
   "cell_type": "code",
   "execution_count": 18,
   "metadata": {
    "colab": {
     "base_uri": "https://localhost:8080/",
     "height": 388
    },
    "colab_type": "code",
    "executionInfo": {
     "elapsed": 1115,
     "status": "ok",
     "timestamp": 1598787497820,
     "user": {
      "displayName": "Chandan Karmakar",
      "photoUrl": "",
      "userId": "09762733542902070185"
     },
     "user_tz": -600
    },
    "id": "TTymnCZm861u",
    "outputId": "4d14919c-c39d-4baa-a357-2a9ac2a4d612"
   },
   "outputs": [
    {
     "name": "stdout",
     "output_type": "stream",
     "text": [
      "          y         x       x_2       x_3       x_4       x_5       x_6  \\\n",
      "0  1.065763  1.047198  1.096623  1.148381  1.202581  1.259340  1.318778   \n",
      "1  1.006086  1.117011  1.247713  1.393709  1.556788  1.738948  1.942424   \n",
      "2  0.695374  1.186824  1.408551  1.671702  1.984016  2.354677  2.794587   \n",
      "3  0.949799  1.256637  1.579137  1.984402  2.493673  3.133642  3.937850   \n",
      "4  1.063496  1.326450  1.759470  2.333850  3.095735  4.106339  5.446854   \n",
      "\n",
      "        x_7       x_8        x_9       x_10       x_11       x_12       x_13  \\\n",
      "0  1.381021  1.446202   1.514459   1.585938   1.660790   1.739176   1.821260   \n",
      "1  2.169708  2.423588   2.707173   3.023942   3.377775   3.773011   4.214494   \n",
      "2  3.316683  3.936319   4.671717   5.544505   6.580351   7.809718   9.268760   \n",
      "3  4.948448  6.218404   7.814277   9.819709  12.339811  15.506664  19.486248   \n",
      "4  7.224981  9.583578  12.712139  16.862020  22.366630  29.668222  39.353420   \n",
      "\n",
      "        x_14       x_15  \n",
      "0   1.907219   1.997235  \n",
      "1   4.707635   5.258479  \n",
      "2  11.000386  13.055521  \n",
      "3  24.487142  30.771450  \n",
      "4  52.200353  69.241170  \n"
     ]
    },
    {
     "data": {
      "image/png": "[encoded data removed]",
      "text/plain": [
       "<Figure size 432x288 with 1 Axes>"
      ]
     },
     "metadata": {
      "needs_background": "light"
     },
     "output_type": "display_data"
    },
    {
     "name": "stdout",
     "output_type": "stream",
     "text": [
      "\n",
      "Model MSE: 0.018916257918692878\n",
      "\n",
      "Model Coeff: [[ 1.21303173e-01 -6.94156079e-02 -1.57127609e-02 -2.22135504e-03\n",
      "  -1.87641517e-04  9.20231813e-06  8.64853953e-06  2.50183053e-06\n",
      "   5.43898711e-07  9.86145333e-08  1.46765431e-08  1.46917382e-09\n",
      "  -6.50509217e-11 -9.35906282e-11 -3.58880160e-11]]\n"
     ]
    }
   ],
   "source": [
    "from sklearn.linear_model import Ridge\n",
    "\n",
    "print(data.head())\n",
    "\n",
    "#call the ridge regression model with penalty (lambda) = 0.003\n",
    "ridgelr = Ridge(alpha=0.003, normalize=True) # change lambda value here\n",
    "#ridgelr = Ridge(alpha=100, normalize=True) # change lambda value here\n",
    "\n",
    "#Fit our data\n",
    "ridgelr.fit(data[predictors], data[response])\n",
    "\n",
    "data.head()\n",
    "\n",
    "# Do a prediction\n",
    "y_pred4 = ridgelr.predict(data[predictors])\n",
    "\n",
    "#Evaluate our model with mean square error\n",
    "mse4 = np.mean((y_pred4 - data[response])**2)\n",
    "plt.plot(data['x'], data['y'], '.', data['x'], y_pred4, '-')\n",
    "plt.show()\n",
    "print()\n",
    "print(\"Model MSE: {}\".format(mse4[0]))\n",
    "print()\n",
    "print(\"Model Coeff: {}\".format(ridgelr.coef_))"
   ]
  },
  {
   "cell_type": "markdown",
   "metadata": {
    "colab_type": "text",
    "id": "5DXW5-0x861x"
   },
   "source": [
    "# L1 Regularised Linear Regression"
   ]
  },
  {
   "cell_type": "markdown",
   "metadata": {
    "colab_type": "text",
    "id": "O2BXQbNc861y"
   },
   "source": [
    "## Code example 9"
   ]
  },
  {
   "cell_type": "code",
   "execution_count": 19,
   "metadata": {
    "colab": {
     "base_uri": "https://localhost:8080/",
     "height": 371
    },
    "colab_type": "code",
    "executionInfo": {
     "elapsed": 1153,
     "status": "ok",
     "timestamp": 1598787720095,
     "user": {
      "displayName": "Chandan Karmakar",
      "photoUrl": "",
      "userId": "09762733542902070185"
     },
     "user_tz": -600
    },
    "id": "NJ7PRtsr861y",
    "outputId": "d6f694f0-49a3-4528-dcfb-33ddb131de26"
   },
   "outputs": [
    {
     "data": {
      "image/png": "[encoded data removed]",
      "text/plain": [
       "<Figure size 432x288 with 1 Axes>"
      ]
     },
     "metadata": {
      "needs_background": "light"
     },
     "output_type": "display_data"
    },
    {
     "name": "stdout",
     "output_type": "stream",
     "text": [
      "\n",
      "Model MSE: 0.060651189731085776\n",
      "\n",
      "Model Coeff: [-0.55206563 -0.00056232 -0.         -0.         -0.         -0.\n",
      " -0.         -0.         -0.          0.          0.          0.\n",
      "  0.          0.          0.        ]\n"
     ]
    }
   ],
   "source": [
    "from sklearn.linear_model import Lasso\n",
    "\n",
    "#call the lasso regression model with penalty (alpha) = 0.01\n",
    "# we also specify the max number of iterations as 10^5\n",
    "lassoreg = Lasso(alpha=0.01,normalize=True, max_iter=1e5) # change lambda value here\n",
    "\n",
    "#Fit our data\n",
    "lassoreg.fit(data[predictors], data[response])\n",
    "\n",
    "# Do a prediction\n",
    "y_pred5 = lassoreg.predict(data[predictors])\n",
    "\n",
    "#Evaluate our model with mean square error\n",
    "mse5 = np.mean((y_pred5 - data['y'])**2)\n",
    "\n",
    "plt.plot(data['x'], data['y'], '.', data['x'], y_pred5, '-')\n",
    "plt.show()\n",
    "print()\n",
    "print (\"Model MSE: {}\".format(mse5))\n",
    "print()\n",
    "print(\"Model Coeff: {}\".format(lassoreg.coef_))"
   ]
  },
  {
   "cell_type": "markdown",
   "metadata": {
    "colab_type": "text",
    "id": "dWNz7ics8613"
   },
   "source": [
    "# Regularised Logistic Regression"
   ]
  },
  {
   "cell_type": "markdown",
   "metadata": {
    "colab_type": "text",
    "id": "5Rh8ogIY8613"
   },
   "source": [
    "## Code example 1"
   ]
  },
  {
   "cell_type": "code",
   "execution_count": 20,
   "metadata": {
    "colab": {
     "base_uri": "https://localhost:8080/",
     "height": 220
    },
    "colab_type": "code",
    "executionInfo": {
     "elapsed": 1511,
     "status": "ok",
     "timestamp": 1598788111691,
     "user": {
      "displayName": "Chandan Karmakar",
      "photoUrl": "",
      "userId": "09762733542902070185"
     },
     "user_tz": -600
    },
    "id": "0qBMmmUz8614",
    "outputId": "b59a27ab-f295-4cc7-cbe0-0073f7bd56a1"
   },
   "outputs": [
    {
     "name": "stdout",
     "output_type": "stream",
     "text": [
      "Data has: 100 rows and 3 cols\n"
     ]
    },
    {
     "data": {
      "text/html": [
       "<div>\n",
       "<style scoped>\n",
       "    .dataframe tbody tr th:only-of-type {\n",
       "        vertical-align: middle;\n",
       "    }\n",
       "\n",
       "    .dataframe tbody tr th {\n",
       "        vertical-align: top;\n",
       "    }\n",
       "\n",
       "    .dataframe thead th {\n",
       "        text-align: right;\n",
       "    }\n",
       "</style>\n",
       "<table border=\"1\" class=\"dataframe\">\n",
       "  <thead>\n",
       "    <tr style=\"text-align: right;\">\n",
       "      <th></th>\n",
       "      <th>Exam1</th>\n",
       "      <th>Exam2</th>\n",
       "      <th>Admit</th>\n",
       "    </tr>\n",
       "  </thead>\n",
       "  <tbody>\n",
       "    <tr>\n",
       "      <th>0</th>\n",
       "      <td>34.623660</td>\n",
       "      <td>78.024693</td>\n",
       "      <td>0</td>\n",
       "    </tr>\n",
       "    <tr>\n",
       "      <th>1</th>\n",
       "      <td>30.286711</td>\n",
       "      <td>43.894998</td>\n",
       "      <td>0</td>\n",
       "    </tr>\n",
       "    <tr>\n",
       "      <th>2</th>\n",
       "      <td>35.847409</td>\n",
       "      <td>72.902198</td>\n",
       "      <td>0</td>\n",
       "    </tr>\n",
       "    <tr>\n",
       "      <th>3</th>\n",
       "      <td>60.182599</td>\n",
       "      <td>86.308552</td>\n",
       "      <td>1</td>\n",
       "    </tr>\n",
       "    <tr>\n",
       "      <th>4</th>\n",
       "      <td>79.032736</td>\n",
       "      <td>75.344376</td>\n",
       "      <td>1</td>\n",
       "    </tr>\n",
       "  </tbody>\n",
       "</table>\n",
       "</div>"
      ],
      "text/plain": [
       "       Exam1      Exam2  Admit\n",
       "0  34.623660  78.024693      0\n",
       "1  30.286711  43.894998      0\n",
       "2  35.847409  72.902198      0\n",
       "3  60.182599  86.308552      1\n",
       "4  79.032736  75.344376      1"
      ]
     },
     "execution_count": 20,
     "metadata": {},
     "output_type": "execute_result"
    }
   ],
   "source": [
    "exam_data = pd.read_csv('../workshop-datafiles/ExamScores.csv')\n",
    "\n",
    "rows, cols = exam_data.shape\n",
    "print(\"Data has: {} rows and {} cols\".format(rows, cols))\n",
    "\n",
    "exam_data.head()"
   ]
  },
  {
   "cell_type": "markdown",
   "metadata": {
    "colab_type": "text",
    "id": "z4pQAndG8616"
   },
   "source": [
    "## Code example 2"
   ]
  },
  {
   "cell_type": "code",
   "execution_count": 21,
   "metadata": {
    "colab": {
     "base_uri": "https://localhost:8080/",
     "height": 52
    },
    "colab_type": "code",
    "executionInfo": {
     "elapsed": 1834,
     "status": "ok",
     "timestamp": 1598788129464,
     "user": {
      "displayName": "Chandan Karmakar",
      "photoUrl": "",
      "userId": "09762733542902070185"
     },
     "user_tz": -600
    },
    "id": "SAktT7uE8616",
    "outputId": "b4182eb5-b24e-4277-c0cc-6d19eccef59b"
   },
   "outputs": [
    {
     "name": "stdout",
     "output_type": "stream",
     "text": [
      "(70, 3)\n",
      "(30, 3)\n"
     ]
    }
   ],
   "source": [
    "from sklearn.model_selection import train_test_split\n",
    "\n",
    "Dtrain,Dtest = train_test_split(exam_data, test_size=0.3)\n",
    "\n",
    "print(Dtrain.shape)\n",
    "print(Dtest.shape)"
   ]
  },
  {
   "cell_type": "markdown",
   "metadata": {
    "colab_type": "text",
    "id": "jT_kIztP8619"
   },
   "source": [
    "## Code example 3"
   ]
  },
  {
   "cell_type": "code",
   "execution_count": 22,
   "metadata": {
    "colab": {
     "base_uri": "https://localhost:8080/",
     "height": 246
    },
    "colab_type": "code",
    "executionInfo": {
     "elapsed": 1192,
     "status": "ok",
     "timestamp": 1598788134353,
     "user": {
      "displayName": "Chandan Karmakar",
      "photoUrl": "",
      "userId": "09762733542902070185"
     },
     "user_tz": -600
    },
    "id": "KDzztT-q8619",
    "outputId": "eb3866c2-0bd1-40bf-ed70-09816a3da0aa"
   },
   "outputs": [
    {
     "name": "stdout",
     "output_type": "stream",
     "text": [
      "        Exam1      Exam2\n",
      "27  93.114389  38.800670\n",
      "76  47.264269  88.475865\n",
      "63  30.058822  49.592974\n",
      "9   84.432820  43.533393\n",
      "62  56.253817  39.261473\n",
      "\n",
      "        Exam1      Exam2\n",
      "6   61.106665  96.511426\n",
      "47  97.771599  86.727822\n",
      "15  53.971052  89.207350\n",
      "56  97.645634  68.861573\n",
      "57  32.577200  95.598548\n"
     ]
    }
   ],
   "source": [
    "predictors = ['Exam1', 'Exam2']\n",
    "response = ['Admit']\n",
    "\n",
    "print(Dtrain[predictors].head())\n",
    "print()\n",
    "print(Dtest[predictors].head())"
   ]
  },
  {
   "cell_type": "markdown",
   "metadata": {
    "colab_type": "text",
    "id": "PykIvz9A861_"
   },
   "source": [
    "# Regularisation using L1 and L2"
   ]
  },
  {
   "cell_type": "markdown",
   "metadata": {
    "colab_type": "text",
    "id": "TK4JIWo6862A"
   },
   "source": [
    "## Code example 4"
   ]
  },
  {
   "cell_type": "code",
   "execution_count": 23,
   "metadata": {
    "colab": {
     "base_uri": "https://localhost:8080/",
     "height": 52
    },
    "colab_type": "code",
    "executionInfo": {
     "elapsed": 1428,
     "status": "ok",
     "timestamp": 1598788515106,
     "user": {
      "displayName": "Chandan Karmakar",
      "photoUrl": "",
      "userId": "09762733542902070185"
     },
     "user_tz": -600
    },
    "id": "UzUcPZGn862B",
    "outputId": "3660e340-4e72-4541-f611-893a9d045157"
   },
   "outputs": [
    {
     "name": "stdout",
     "output_type": "stream",
     "text": [
      "Model Accuracy is: 0.9\n",
      "Model Coeff: [-25.03014503   0.19431122   0.21025811]\n"
     ]
    }
   ],
   "source": [
    "from sklearn.linear_model import LogisticRegression\n",
    "from sklearn.metrics import accuracy_score\n",
    "\n",
    "lambda_val = 0.1    # The larger lambda is the stringer the penalty\n",
    "#Initialize the Logitic regression model with l2 penalty\n",
    "# C is an additional penalty term. You need to be careful when you play with this penalty term. \n",
    "lr = LogisticRegression(C=1/lambda_val, penalty='l2')\n",
    "lr.fit(Dtrain[predictors], Dtrain['Admit'])\n",
    "y_predict = lr.predict(Dtest[predictors])\n",
    "\n",
    "#Evaluate our model\n",
    "model_acc = accuracy_score(y_predict, Dtest['Admit'])\n",
    "print(\"Model Accuracy is: {}\".format(model_acc))\n",
    "\n",
    "print(\"Model Coeff: {}\".format(np.append(lr.intercept_, lr.coef_)))"
   ]
  },
  {
   "cell_type": "code",
   "execution_count": 24,
   "metadata": {
    "colab": {},
    "colab_type": "code",
    "executionInfo": {
     "elapsed": 1123,
     "status": "ok",
     "timestamp": 1598790608907,
     "user": {
      "displayName": "Chandan Karmakar",
      "photoUrl": "",
      "userId": "09762733542902070185"
     },
     "user_tz": -600
    },
    "id": "e3fp56yvM-ES"
   },
   "outputs": [],
   "source": [
    "#SGDClassifier?\n"
   ]
  },
  {
   "cell_type": "markdown",
   "metadata": {
    "colab_type": "text",
    "id": "IlRD0GGb862E"
   },
   "source": [
    "## Code example 5"
   ]
  },
  {
   "cell_type": "markdown",
   "metadata": {},
   "source": [
    "Next we need to tune the hyper params using the info from before."
   ]
  },
  {
   "cell_type": "code",
   "execution_count": 25,
   "metadata": {
    "colab": {},
    "colab_type": "code",
    "executionInfo": {
     "elapsed": 1369,
     "status": "ok",
     "timestamp": 1598788639406,
     "user": {
      "displayName": "Chandan Karmakar",
      "photoUrl": "",
      "userId": "09762733542902070185"
     },
     "user_tz": -600
    },
    "id": "rv108NbX862F"
   },
   "outputs": [],
   "source": [
    "def runLRmodel(trials, data, predictors, label, penalty_type, penalty_score):\n",
    "\n",
    "   model_acc     = 0\n",
    "   model_weights = np.zeros([1,3])\n",
    "\n",
    "   for i in range(0,trials):\n",
    "      Dtrain, Dtest = train_test_split(data, test_size=0.3)\n",
    "      lr = LogisticRegression(C=1/penalty_score, penalty=penalty_type,solver='liblinear')\n",
    "      lr.fit(Dtrain[predictors], Dtrain[label])\n",
    "      y_predict = lr.predict(Dtest[predictors])\n",
    "      model_acc += accuracy_score(y_predict, Dtest[label])\n",
    "      model_weights += np.append(lr.intercept_, lr.coef_)\n",
    "\n",
    "   model_acc /= trials\n",
    "   model_weights /= trials\n",
    "\n",
    "   return np.round(model_acc, decimals=2), np.round(model_weights,decimals=2)"
   ]
  },
  {
   "cell_type": "markdown",
   "metadata": {
    "colab_type": "text",
    "id": "UKPjoxi-862K"
   },
   "source": [
    "## Code example 6"
   ]
  },
  {
   "cell_type": "code",
   "execution_count": 26,
   "metadata": {
    "colab": {
     "base_uri": "https://localhost:8080/",
     "height": 52
    },
    "colab_type": "code",
    "executionInfo": {
     "elapsed": 25775,
     "status": "ok",
     "timestamp": 1598788712862,
     "user": {
      "displayName": "Chandan Karmakar",
      "photoUrl": "",
      "userId": "09762733542902070185"
     },
     "user_tz": -600
    },
    "id": "aAggA_F7862K",
    "outputId": "e3a89fee-eb71-4ee7-9fed-29fdb60aa597"
   },
   "outputs": [
    {
     "name": "stdout",
     "output_type": "stream",
     "text": [
      "Acc: [0.89 0.89 0.89 0.89 0.89 0.89 0.89 0.9  0.8  0.66 0.62 0.61]\n",
      "Best Lambda: 0.3\n"
     ]
    }
   ],
   "source": [
    "import warnings\n",
    "warnings.filterwarnings('ignore')\n",
    "lambda_vals = [.0001,.0003,.001,.003,.01,.03,.1,.3,1,3,5,10]\n",
    "l2_acc = np.zeros(len(lambda_vals))\n",
    "index = 0\n",
    "#L2 regularization\n",
    "for l in lambda_vals:\n",
    "   l2_acc[index], w = runLRmodel(500,exam_data, predictors, 'Admit', 'l2', np.float(l))\n",
    "   index += 1\n",
    "\n",
    "print(\"Acc: {}\".format(l2_acc))\n",
    "# penalty at which validation accuracy is maximum\n",
    "max_index_l2  = np.argmax(l2_acc)\n",
    "best_lambda = lambda_vals[max_index_l2]\n",
    "print(\"Best Lambda: {}\".format(best_lambda))"
   ]
  },
  {
   "cell_type": "markdown",
   "metadata": {
    "colab_type": "text",
    "id": "ToKDPWIe862P"
   },
   "source": [
    "## Code example 7"
   ]
  },
  {
   "cell_type": "code",
   "execution_count": 27,
   "metadata": {
    "colab": {},
    "colab_type": "code",
    "executionInfo": {
     "elapsed": 3362,
     "status": "ok",
     "timestamp": 1598788788110,
     "user": {
      "displayName": "Chandan Karmakar",
      "photoUrl": "",
      "userId": "09762733542902070185"
     },
     "user_tz": -600
    },
    "id": "zJE5vEH4862P"
   },
   "outputs": [],
   "source": [
    "def runLRmodel2(trials, data, predictors, label, penalty_type, penalty_score):\n",
    "\n",
    "   model_acc     = 0\n",
    "   model_weights = np.zeros([1,3])\n",
    "\n",
    "   for i in range(0,trials):\n",
    "      Dtrain, Dtest = train_test_split(data, test_size=0.3)\n",
    "      lr = LogisticRegression(C=1/penalty_score, penalty=penalty_type,solver='liblinear')\n",
    "      lr.fit(Dtrain[predictors], Dtrain[label])\n",
    "      y_predict = lr.predict(Dtest[predictors])\n",
    "      model_acc += accuracy_score(y_predict, Dtest[label])\n",
    "      model_weights += np.append(lr.intercept_, lr.coef_)\n",
    "\n",
    "   model_acc /= trials\n",
    "   model_weights /= trials\n",
    "\n",
    "   return np.round(model_acc, decimals=2), np.round(model_weights,decimals=2)"
   ]
  },
  {
   "cell_type": "code",
   "execution_count": 28,
   "metadata": {
    "colab": {
     "base_uri": "https://localhost:8080/",
     "height": 70
    },
    "colab_type": "code",
    "executionInfo": {
     "elapsed": 29368,
     "status": "ok",
     "timestamp": 1598788831225,
     "user": {
      "displayName": "Chandan Karmakar",
      "photoUrl": "",
      "userId": "09762733542902070185"
     },
     "user_tz": -600
    },
    "id": "o1r2NzNx862T",
    "outputId": "4330e4d1-7f51-4015-9564-23240430dcb4"
   },
   "outputs": [
    {
     "name": "stdout",
     "output_type": "stream",
     "text": [
      "[0. 0. 0. 0. 0. 0. 0. 0. 0. 0. 0. 0.]\n",
      "Acc: [0.89 0.89 0.89 0.88 0.89 0.89 0.89 0.89 0.9  0.8  0.61 0.61]\n",
      "Best Alpha: 1\n"
     ]
    }
   ],
   "source": [
    "import warnings\n",
    "warnings.filterwarnings('ignore')\n",
    "alpha_vals = [.0001,.0003,.001,.003,.01,.03,.1,.3,1,3,5,10]\n",
    "l1_acc = np.zeros(len(alpha_vals))\n",
    "print(l1_acc)\n",
    "index = 0\n",
    "#L2 regularization\n",
    "for l in alpha_vals:\n",
    "   l1_acc[index], w = runLRmodel2(500,exam_data, predictors, 'Admit', 'l1', np.float(l))\n",
    "   index += 1\n",
    "\n",
    "print(\"Acc: {}\".format(l1_acc))\n",
    "# penalty at which validation accuracy is maximum\n",
    "max_index_l1  = np.argmax(l1_acc)\n",
    "best_alpha = alpha_vals[max_index_l1]\n",
    "print(\"Best Alpha: {}\".format(best_alpha))"
   ]
  },
  {
   "cell_type": "markdown",
   "metadata": {
    "colab_type": "text",
    "id": "Xu4Ux_v-862W"
   },
   "source": [
    "## Code example 8\n",
    "\n",
    "Generally L1 is better than L2 if you apply a stronger penalty (1-5). But penalty of .1, or 6-8 is better for L2"
   ]
  },
  {
   "cell_type": "code",
   "execution_count": 29,
   "metadata": {
    "colab": {
     "base_uri": "https://localhost:8080/",
     "height": 294
    },
    "colab_type": "code",
    "executionInfo": {
     "elapsed": 1259,
     "status": "ok",
     "timestamp": 1598788858870,
     "user": {
      "displayName": "Chandan Karmakar",
      "photoUrl": "",
      "userId": "09762733542902070185"
     },
     "user_tz": -600
    },
    "id": "leXrnSxm862X",
    "outputId": "4c202c38-d464-4d59-c945-01a4e29d20b3"
   },
   "outputs": [
    {
     "data": {
      "image/png": "[encoded data removed]",
      "text/plain": [
       "<Figure size 432x288 with 1 Axes>"
      ]
     },
     "metadata": {
      "needs_background": "light"
     },
     "output_type": "display_data"
    }
   ],
   "source": [
    "#plot the accuracy curve\n",
    "plt.plot(range(0,len(lambda_vals)), l2_acc, color='b', label='L2')\n",
    "plt.plot(range(0,len(lambda_vals)), l1_acc, color='r', label='L1')\n",
    "#replace the x-axis labels with penalty values\n",
    "plt.xticks(range(0,len(lambda_vals)), lambda_vals, rotation='vertical')\n",
    "\n",
    "#Highlight the best values of alpha and lambda\n",
    "plt.plot((max_index_l2, max_index_l2), (0, l2_acc[max_index_l2]), ls='dotted', color='b')\n",
    "plt.plot((max_index_l1, max_index_l1), (0, l1_acc[max_index_l1]), ls='dotted', color='r')\n",
    "\n",
    "#Set the y-axis from 0 to 1.0\n",
    "axes = plt.gca()\n",
    "axes.set_ylim([0, 1.0])\n",
    "\n",
    "plt.legend(loc=\"lower left\")\n",
    "plt.show()"
   ]
  },
  {
   "cell_type": "markdown",
   "metadata": {
    "colab_type": "text",
    "id": "aqPgU9T4862a"
   },
   "source": [
    "# Elastic Net for regression"
   ]
  },
  {
   "cell_type": "markdown",
   "metadata": {
    "colab_type": "text",
    "id": "AiGhPUdn862b"
   },
   "source": [
    "## Code example #1"
   ]
  },
  {
   "cell_type": "code",
   "execution_count": 30,
   "metadata": {
    "colab": {
     "base_uri": "https://localhost:8080/",
     "height": 35
    },
    "colab_type": "code",
    "executionInfo": {
     "elapsed": 1281,
     "status": "ok",
     "timestamp": 1598788945944,
     "user": {
      "displayName": "Chandan Karmakar",
      "photoUrl": "",
      "userId": "09762733542902070185"
     },
     "user_tz": -600
    },
    "id": "GNtiYuUt862c",
    "outputId": "f5866f13-ea8f-42d2-9da8-fdb4c83faae8"
   },
   "outputs": [
    {
     "name": "stdout",
     "output_type": "stream",
     "text": [
      "Model MSE: 0.1973556705323022\n"
     ]
    }
   ],
   "source": [
    "from sklearn.linear_model import SGDRegressor # this implements Elastic net regression model\n",
    "#http://scikit-learn.org/stable/modules/generated/sklearn.linear_model.SGDRegressor.html\n",
    "\n",
    "data = pd.read_csv('../workshop-datafiles/poly_data.csv')\n",
    "# Separate the data into features and response.\n",
    "predictors = ['x']\n",
    "response = ['y']\n",
    "\n",
    "alpha_val = 0.1\n",
    "\n",
    "Dtrain, Dtest = train_test_split(data, test_size=0.3)\n",
    "enet = SGDRegressor(loss='squared_loss', penalty='elasticnet', alpha=alpha_val, l1_ratio=0.7, max_iter=1000) \n",
    "\n",
    "enet.fit(Dtrain[predictors],Dtrain[response].values.reshape((Dtrain[response].shape[0],)))\n",
    "y_predict = enet.predict(Dtest[predictors])\n",
    "y_predict = np.reshape(y_predict, np.shape(Dtest[response]))\n",
    "mse2 = np.mean((y_predict - Dtest[response])**2)\n",
    "\n",
    "print(\"Model MSE: {}\".format(mse2[0]))"
   ]
  },
  {
   "cell_type": "markdown",
   "metadata": {
    "colab_type": "text",
    "id": "76NIGk_P862e"
   },
   "source": [
    "# Elastic Net for Classification"
   ]
  },
  {
   "cell_type": "markdown",
   "metadata": {
    "colab_type": "text",
    "id": "gt6Gz-AS862f"
   },
   "source": [
    "## Code example #2"
   ]
  },
  {
   "cell_type": "code",
   "execution_count": 31,
   "metadata": {
    "colab": {
     "base_uri": "https://localhost:8080/",
     "height": 35
    },
    "colab_type": "code",
    "executionInfo": {
     "elapsed": 1092,
     "status": "ok",
     "timestamp": 1598788981558,
     "user": {
      "displayName": "Chandan Karmakar",
      "photoUrl": "",
      "userId": "09762733542902070185"
     },
     "user_tz": -600
    },
    "id": "I13sYKWY862f",
    "outputId": "b3bb9a32-b0c0-4e42-8e4b-668fd88632e5"
   },
   "outputs": [
    {
     "name": "stdout",
     "output_type": "stream",
     "text": [
      "Acc: 0.5333333333333333\n"
     ]
    }
   ],
   "source": [
    "from sklearn.linear_model import SGDClassifier # this implements Elastic net classification model\n",
    "#http://scikit-learn.org/stable/modules/generated/sklearn.linear_model.SGDClassifier.html\n",
    "\n",
    "alpha_val = 0.1\n",
    "\n",
    "exam_data = pd.read_csv('../workshop-datafiles/ExamScores.csv')\n",
    "predictors = ['Exam1', 'Exam2']\n",
    "response = ['Admit']\n",
    "\n",
    "Dtrain, Dtest = train_test_split(exam_data, test_size=0.3)\n",
    "enet = SGDClassifier(loss='log', penalty='elasticnet', alpha=alpha_val, l1_ratio=0.7, max_iter=1000) \n",
    "enet.fit(Dtrain[predictors], Dtrain[response].values.reshape((Dtrain[response].shape[0],)))\n",
    "y_predict = enet.predict(Dtest[predictors])\n",
    "enet_acc = accuracy_score(y_predict, Dtest[response])\n",
    "\n",
    "print(\"Acc: {}\".format(enet_acc))"
   ]
  },
  {
   "cell_type": "code",
   "execution_count": null,
   "metadata": {
    "colab": {
     "base_uri": "https://localhost:8080/",
     "height": 35
    },
    "colab_type": "code",
    "executionInfo": {
     "elapsed": 1023,
     "status": "ok",
     "timestamp": 1598791348461,
     "user": {
      "displayName": "Chandan Karmakar",
      "photoUrl": "",
      "userId": "09762733542902070185"
     },
     "user_tz": -600
    },
    "id": "mzLsHHUgYjjC",
    "outputId": "750cd396-a77d-4f25-8252-eed8602a71fc"
   },
   "outputs": [],
   "source": []
  }
 ],
 "metadata": {
  "colab": {
   "name": "week7LabScripts_CK.ipynb",
   "provenance": [],
   "toc_visible": true
  },
  "kernelspec": {
   "display_name": "Python 3 (ipykernel)",
   "language": "python",
   "name": "python3"
  },
  "language_info": {
   "codemirror_mode": {
    "name": "ipython",
    "version": 3
   },
   "file_extension": ".py",
   "mimetype": "text/x-python",
   "name": "python",
   "nbconvert_exporter": "python",
   "pygments_lexer": "ipython3",
   "version": "3.8.8"
  }
 },
 "nbformat": 4,
 "nbformat_minor": 4
}
