{
 "cells": [
  {
   "cell_type": "code",
   "execution_count": 35,
   "metadata": {},
   "outputs": [
    {
     "name": "stdout",
     "output_type": "stream",
     "text": [
      "65.5\n",
      "s is he\n"
     ]
    }
   ],
   "source": [
    "#basic data type and flow of execution\n",
    "myFirstNum=10\n",
    "b=56\n",
    "total=a+b\n",
    "print(v)\n",
    "\n",
    "#print(type(a))\n",
    "#print(type(b))\n",
    "\n",
    "txt='this is hello world'\n",
    "txtNum='56'\n",
    "txtNum2='10'\n",
    "t=txt[3:10]\n",
    "print(t)"
   ]
  },
  {
   "cell_type": "code",
   "execution_count": 15,
   "metadata": {},
   "outputs": [
    {
     "name": "stdout",
     "output_type": "stream",
     "text": [
      "65.5\n"
     ]
    },
    {
     "data": {
      "text/plain": [
       "'\\nprint(type(a))\\nprint(type(b))\\n'"
      ]
     },
     "execution_count": 15,
     "metadata": {},
     "output_type": "execute_result"
    }
   ],
   "source": [
    "#Inserting comments and single line and multiline\n",
    "myFirstNum=10\n",
    "b=56\n",
    "total=a+b\n",
    "print(v)\n",
    "\n",
    "'''\n",
    "print(type(a))\n",
    "print(type(b))\n",
    "'''"
   ]
  },
  {
   "cell_type": "code",
   "execution_count": 33,
   "metadata": {},
   "outputs": [
    {
     "name": "stdout",
     "output_type": "stream",
     "text": [
      "9.4\n",
      "234\n",
      "[3, 4, 5, 123, 'dfgh', -67, 9.4, 234]\n",
      "[[1, 2, 6], [3, 4, 6], '67ghj', 4]\n",
      "6\n",
      "[4, 123, -67]\n"
     ]
    }
   ],
   "source": [
    "# List and list indexing, slicing\n",
    "myFirstList=[3,4,5,123,'dfgh',-67,9.4]\n",
    "print(myFirstList[-1])\n",
    "\n",
    "myFirstList.append(234)\n",
    "print(myFirstList[-1])\n",
    "print(myFirstList)\n",
    "\n",
    "myAnotherList=[[1,2,6],[3,4,6],'67ghj',4]\n",
    "print(myAnotherList)\n",
    "print(myAnotherList[0][2])\n",
    "\n",
    "print(myFirstList[1:7:2])"
   ]
  },
  {
   "cell_type": "code",
   "execution_count": 44,
   "metadata": {},
   "outputs": [
    {
     "name": "stdout",
     "output_type": "stream",
     "text": [
      "{67: 24, 1: 564, 2: 674}\n",
      "[24, 564, 674]\n",
      "24\n",
      "24\n"
     ]
    }
   ],
   "source": [
    "# Dictionaries\n",
    "myDiction={}\n",
    "myDiction[67]=24\n",
    "myDiction[1]=564\n",
    "myDiction[2]=674\n",
    "\n",
    "myListEqDiction=[24,564,674]\n",
    "\n",
    "print(myDiction)\n",
    "print(myListEqDiction)\n",
    "\n",
    "print(myListEqDiction[0])\n",
    "print(myDiction[67])"
   ]
  },
  {
   "cell_type": "code",
   "execution_count": null,
   "metadata": {},
   "outputs": [],
   "source": [
    "# Tuples\n"
   ]
  },
  {
   "cell_type": "code",
   "execution_count": 51,
   "metadata": {},
   "outputs": [
    {
     "name": "stdout",
     "output_type": "stream",
     "text": [
      "this is not enough\n",
      "good enough for calling a friend\n"
     ]
    }
   ],
   "source": [
    "# Branching\n",
    "a=10\n",
    "\n",
    "if a<20:\n",
    "    print('this is not enough')\n",
    "\n",
    "if a<40:\n",
    "    print('good enough for calling a friend')\n",
    "else:\n",
    "    print('enough for today')\n",
    "    \n",
    "b=20"
   ]
  },
  {
   "cell_type": "code",
   "execution_count": 54,
   "metadata": {},
   "outputs": [
    {
     "name": "stdout",
     "output_type": "stream",
     "text": [
      "0 3\n",
      "1 4\n",
      "2 5\n",
      "3 123\n",
      "135\n"
     ]
    }
   ],
   "source": [
    "#Looping - for with enumerate\n",
    "myFirstList=[3,4,5,123,'dfgh',-67,9.4]\n",
    "myFirstList=[3,4,5,123]\n",
    "\n",
    "total=0\n",
    "for idx,val in enumerate(myFirstList):\n",
    "    print(idx,val)\n",
    "    total=total+val\n",
    "\n",
    "print(total)\n",
    "\n",
    "#print(myFirstList[-1])\n",
    "\n"
   ]
  },
  {
   "cell_type": "code",
   "execution_count": 58,
   "metadata": {},
   "outputs": [
    {
     "name": "stdout",
     "output_type": "stream",
     "text": [
      "135\n",
      "147\n"
     ]
    }
   ],
   "source": [
    "#function why, passing parameter, returning values\n",
    "\n",
    "def sumListOfNumbers(inputList):\n",
    "    total=0\n",
    "    for val in inputList:\n",
    "        total=total+val\n",
    "    return total\n",
    "\n",
    "\n",
    "\n",
    "myFirstList=[3,4,5,123]\n",
    "t=sumListOfNumbers(myFirstList)\n",
    "print(t)\n",
    "\n",
    "myFirstList1=[3,4,5,12,45,75,3]\n",
    "t1=sumListOfNumbers(myFirstList1)\n",
    "print(t1)\n"
   ]
  }
 ],
 "metadata": {
  "kernelspec": {
   "display_name": "Python 3",
   "language": "python",
   "name": "python3"
  },
  "language_info": {
   "codemirror_mode": {
    "name": "ipython",
    "version": 3
   },
   "file_extension": ".py",
   "mimetype": "text/x-python",
   "name": "python",
   "nbconvert_exporter": "python",
   "pygments_lexer": "ipython3",
   "version": "3.7.2"
  }
 },
 "nbformat": 4,
 "nbformat_minor": 4
}
