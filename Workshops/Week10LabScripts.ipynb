{
 "cells": [
  {
   "cell_type": "markdown",
   "metadata": {
    "colab_type": "text",
    "id": "CdswSehXg8Vh"
   },
   "source": [
    "# Perceptron and MLP in Python"
   ]
  },
  {
   "cell_type": "code",
   "execution_count": 1,
   "metadata": {
    "colab": {
     "base_uri": "https://localhost:8080/",
     "height": 35
    },
    "colab_type": "code",
    "id": "QawSBH0UhC2J",
    "outputId": "3cbbd8e0-14ed-4d3c-ffe9-352b64abcd39"
   },
   "outputs": [],
   "source": [
    "#from google.colab import drive\n",
    "#drive.mount('/content/drive')"
   ]
  },
  {
   "cell_type": "markdown",
   "metadata": {
    "colab_type": "text",
    "id": "bRjvQmAsg8Vl"
   },
   "source": [
    "## Plot decision boundary"
   ]
  },
  {
   "cell_type": "code",
   "execution_count": 2,
   "metadata": {
    "colab": {},
    "colab_type": "code",
    "id": "66IlHIkjg8Vn"
   },
   "outputs": [],
   "source": [
    "import numpy as np\n",
    "import pandas as pd\n",
    "import matplotlib.pyplot as plt\n",
    "# Helper function to plot a decision boundary.\n",
    "# If you don't fully understand this function don't worry, it just generates the contour plot below.\n",
    "def plot_decision_boundary(pred_func, X, y):\n",
    "    # Set min and max values and give it some padding\n",
    "    x_min, x_max = X[:, 0].min() - .5, X[:, 0].max() + .5\n",
    "    y_min, y_max = X[:, 1].min() - .5, X[:, 1].max() + .5\n",
    "    h = 0.01\n",
    "    # Generate a grid of points with distance h between them\n",
    "    xx, yy = np.meshgrid(np.arange(x_min, x_max, h), np.arange(y_min, y_max, h))\n",
    "    # Predict the function value for the whole gid\n",
    "    Z = pred_func(np.c_[xx.ravel(), yy.ravel()])\n",
    "    Z = Z.reshape(xx.shape)\n",
    "    # Plot the contour and training examples\n",
    "    plt.contourf(xx, yy, Z, cmap=plt.cm.Spectral, alpha=0.5)\n",
    "    plt.scatter(X[:, 0], X[:, 1], c=y, cmap=plt.cm.Spectral, s=42)"
   ]
  },
  {
   "cell_type": "markdown",
   "metadata": {
    "colab_type": "text",
    "id": "5Wpkej13g8Vw"
   },
   "source": [
    "## Train and test spliting for data #1"
   ]
  },
  {
   "cell_type": "code",
   "execution_count": 4,
   "metadata": {
    "colab": {
     "base_uri": "https://localhost:8080/",
     "height": 123
    },
    "colab_type": "code",
    "id": "8i_Fzn2pg8Vy",
    "outputId": "32f00c5b-9459-46a4-bbc0-8195448fe9dc"
   },
   "outputs": [
    {
     "name": "stdout",
     "output_type": "stream",
     "text": [
      "         x1        x2  label\n",
      "0  3.222080  2.051604      1\n",
      "1  0.633193  0.211618      0\n",
      "2  1.776411  1.628939      1\n",
      "3  0.210951  0.419750      0\n",
      "4  0.894606  0.808269      1\n"
     ]
    }
   ],
   "source": [
    "from sklearn.model_selection import train_test_split\n",
    "data1 = pd.read_csv('../workshop-datafiles/data1.csv')\n",
    "print(data1.head())\n",
    "feat_cols = ['x1', 'x2']\n",
    "\n",
    "Dtrain, Dtest = train_test_split(data1, test_size=0.2, random_state=42)\n",
    "\n",
    "Xtrain = Dtrain[feat_cols].values\n",
    "Xtest  = Dtest[feat_cols].values\n",
    "\n",
    "ytrain = Dtrain['label'].values\n",
    "ytest  = Dtest['label'].values"
   ]
  },
  {
   "cell_type": "markdown",
   "metadata": {
    "colab_type": "text",
    "id": "3KtOhB1kg8V9"
   },
   "source": [
    "## Perceptron Model for data #1"
   ]
  },
  {
   "cell_type": "code",
   "execution_count": 13,
   "metadata": {
    "colab": {
     "base_uri": "https://localhost:8080/",
     "height": 338
    },
    "colab_type": "code",
    "id": "0qdvMQGig8V-",
    "outputId": "00ee1325-b2e9-4324-cbe3-cd24dca5d69a"
   },
   "outputs": [
    {
     "name": "stdout",
     "output_type": "stream",
     "text": [
      "Testing accuracy 0.9\n"
     ]
    },
    {
     "data": {
      "image/png": "[encoded data removed]",
      "text/plain": [
       "<Figure size 432x288 with 1 Axes>"
      ]
     },
     "metadata": {
      "needs_background": "light"
     },
     "output_type": "display_data"
    }
   ],
   "source": [
    "from sklearn.linear_model import Perceptron\n",
    "from sklearn import metrics\n",
    "\n",
    "# Create the perceptron object (net)\n",
    "# set random_state for repeatability of results\n",
    "p = Perceptron(random_state=42)\n",
    "p.fit(Xtrain, ytrain)\n",
    "predicts = p.predict(Xtest)\n",
    "print(\"Testing accuracy {}\".format(metrics.accuracy_score(ytest, predicts)))\n",
    "# Visualize the decision boundary\n",
    "plot_decision_boundary(lambda x: p.predict(x), Xtrain, ytrain)"
   ]
  },
  {
   "cell_type": "markdown",
   "metadata": {
    "colab_type": "text",
    "id": "QHsX2YOSg8WE"
   },
   "source": [
    "## Train and test spliting for data #2"
   ]
  },
  {
   "cell_type": "code",
   "execution_count": 14,
   "metadata": {
    "colab": {
     "base_uri": "https://localhost:8080/",
     "height": 123
    },
    "colab_type": "code",
    "id": "-y41yrYZg8WE",
    "outputId": "c1a56d7e-4720-45de-a61a-89c5a409d6d9"
   },
   "outputs": [
    {
     "name": "stdout",
     "output_type": "stream",
     "text": [
      "         x1        x2  label\n",
      "0 -0.382891 -0.090840      1\n",
      "1 -0.020962 -0.477874      1\n",
      "2 -0.396116 -1.289427      0\n",
      "3 -0.618130 -0.063837      1\n",
      "4  0.703478 -0.187038      1\n"
     ]
    }
   ],
   "source": [
    "data2 = pd.read_csv('../workshop-datafiles/data2.csv')\n",
    "print(data2.head())\n",
    "# Split the  data into training and testing\n",
    "Dtrain2, Dtest2 = train_test_split(data2, test_size=0.2, random_state=42)\n",
    "\n",
    "Xtrain2 = Dtrain2[feat_cols].values\n",
    "Xtest2  = Dtest2[feat_cols].values\n",
    "\n",
    "ytrain2 = Dtrain2['label'].values\n",
    "ytest2  = Dtest2['label'].values"
   ]
  },
  {
   "cell_type": "markdown",
   "metadata": {
    "colab_type": "text",
    "id": "pfBYwnmLg8WJ"
   },
   "source": [
    "## Perceptron Model for data #2"
   ]
  },
  {
   "cell_type": "code",
   "execution_count": 15,
   "metadata": {
    "colab": {
     "base_uri": "https://localhost:8080/",
     "height": 283
    },
    "colab_type": "code",
    "id": "Kg_vBqsSg8WJ",
    "outputId": "67c6aec8-5ab6-4a82-d162-f29f2bcb5b0c"
   },
   "outputs": [
    {
     "name": "stdout",
     "output_type": "stream",
     "text": [
      "Testing accuracy 0.65\n"
     ]
    },
    {
     "data": {
      "image/png": "[encoded data removed]",
      "text/plain": [
       "<Figure size 432x288 with 1 Axes>"
      ]
     },
     "metadata": {
      "needs_background": "light"
     },
     "output_type": "display_data"
    }
   ],
   "source": [
    "p.fit(Xtrain2, ytrain2)\n",
    "predicts2 = p.predict(Xtest2)\n",
    "print(\"Testing accuracy {}\".format(metrics.accuracy_score(ytest2, predicts2)))\n",
    "# Visualize the decision boundary\n",
    "plot_decision_boundary(lambda x: p.predict(x), Xtrain2, ytrain2)\n"
   ]
  },
  {
   "cell_type": "markdown",
   "metadata": {
    "colab_type": "text",
    "id": "027B34m1g8WN"
   },
   "source": [
    "# Multilayer Perceptron Classifier"
   ]
  },
  {
   "cell_type": "code",
   "execution_count": 16,
   "metadata": {
    "colab": {},
    "colab_type": "code",
    "id": "gDdB0J8wg8WO"
   },
   "outputs": [],
   "source": [
    "num_examples = len(Xtrain2) # training set size\n",
    "nn_input_dim = 2 # input layer dimensionality\n",
    "nn_output_dim = 2 # output layer dimensionality\n",
    "\n",
    "# Gradient descent parameters (I picked these by hand)\n",
    "epsilon = 0.01 # learning rate for gradient descent\n",
    "reg_lambda = 0.01 # regularization strength"
   ]
  },
  {
   "cell_type": "markdown",
   "metadata": {
    "colab_type": "text",
    "id": "rcNHBI9vg8WS"
   },
   "source": [
    "## Code example #12"
   ]
  },
  {
   "cell_type": "code",
   "execution_count": 17,
   "metadata": {
    "colab": {},
    "colab_type": "code",
    "id": "sg0Q3_80g8WT"
   },
   "outputs": [],
   "source": [
    "# This function learns parameters for the neural network and returns the model.\n",
    "# - nn_hdim: Number of nodes in the hidden layer\n",
    "# - num_passes: Number of passes through the training data for gradient descent\n",
    "# - print_loss: If True, print the loss every 1000 iterations\n",
    "def build_model(X, y, nn_hdim, num_passes=20000):\n",
    "    \n",
    "    # Initialize the parameters to random values. We need to learn these.\n",
    "    np.random.seed(0)\n",
    "    W1 = np.random.randn(nn_input_dim, nn_hdim) / np.sqrt(nn_input_dim)\n",
    "    b1 = np.zeros((1, nn_hdim))\n",
    "    W2 = np.random.randn(nn_hdim, nn_output_dim) / np.sqrt(nn_hdim)\n",
    "    b2 = np.zeros((1, nn_output_dim))\n",
    "\n",
    "    # This is what we return at the end\n",
    "    model = {}\n",
    "    \n",
    "    # Gradient descent. For each batch...\n",
    "    for i in range(0, num_passes):\n",
    "\n",
    "        # Forward propagation\n",
    "        z1 = X.dot(W1) + b1\n",
    "        a1 = np.tanh(z1)\n",
    "        z2 = a1.dot(W2) + b2\n",
    "        exp_scores = np.exp(z2)\n",
    "        probs = exp_scores / np.sum(exp_scores, axis=1, keepdims=True)\n",
    "\n",
    "        # Backpropagation\n",
    "        delta3 = probs\n",
    "        delta3[range(num_examples), y] -= 1\n",
    "        dW2 = (a1.T).dot(delta3)\n",
    "        db2 = np.sum(delta3, axis=0, keepdims=True)\n",
    "        delta2 = delta3.dot(W2.T) * (1 - np.power(a1, 2))\n",
    "        dW1 = np.dot(X.T, delta2)\n",
    "        db1 = np.sum(delta2, axis=0)\n",
    "\n",
    "        # Add regularization terms (b1 and b2 don't have regularization terms)\n",
    "        dW2 += reg_lambda * W2\n",
    "        dW1 += reg_lambda * W1\n",
    "\n",
    "        # Gradient descent parameter update\n",
    "        W1 += -epsilon * dW1\n",
    "        b1 += -epsilon * db1\n",
    "        W2 += -epsilon * dW2\n",
    "        b2 += -epsilon * db2\n",
    "        \n",
    "        # Assign new parameters to the model\n",
    "        model = { 'W1': W1, 'b1': b1, 'W2': W2, 'b2': b2}\n",
    "    \n",
    "    return model\n",
    "\n",
    "\n",
    "# Helper function to predict an output (0 or 1)\n",
    "def predict(model, x):\n",
    "    W1, b1, W2, b2 = model['W1'], model['b1'], model['W2'], model['b2']\n",
    "    # Forward propagation\n",
    "    z1 = x.dot(W1) + b1\n",
    "    a1 = np.tanh(z1)\n",
    "    z2 = a1.dot(W2) + b2\n",
    "    exp_scores = np.exp(z2)\n",
    "    probs = exp_scores / np.sum(exp_scores, axis=1, keepdims=True)\n",
    "    return np.argmax(probs, axis=1)\n"
   ]
  },
  {
   "cell_type": "markdown",
   "metadata": {
    "colab_type": "text",
    "id": "HosiVZT9g8WX"
   },
   "source": [
    "## Call build_model"
   ]
  },
  {
   "cell_type": "code",
   "execution_count": 18,
   "metadata": {
    "colab": {
     "base_uri": "https://localhost:8080/",
     "height": 334
    },
    "colab_type": "code",
    "id": "XPOQsT6ug8WX",
    "outputId": "ef957312-20ae-4df2-f9b2-7f4abf1bf185"
   },
   "outputs": [
    {
     "name": "stdout",
     "output_type": "stream",
     "text": [
      "Training accuracy: 0.9\n",
      "Testing accuracy : 0.75\n"
     ]
    },
    {
     "data": {
      "text/plain": [
       "Text(0.5, 1.0, 'Decision Boundary')"
      ]
     },
     "execution_count": 18,
     "metadata": {},
     "output_type": "execute_result"
    },
    {
     "data": {
      "image/png": "[encoded data removed]",
      "text/plain": [
       "<Figure size 432x288 with 1 Axes>"
      ]
     },
     "metadata": {
      "needs_background": "light"
     },
     "output_type": "display_data"
    }
   ],
   "source": [
    "\n",
    "# Build a model with a 3-dimensional hidden layer\n",
    "model = build_model(Xtrain2, ytrain2, 3)\n",
    "\n",
    "print(\"Training accuracy: {}\".format(metrics.accuracy_score(ytrain2, predict(model,Xtrain2) )))\n",
    "print(\"Testing accuracy : {}\".format(metrics.accuracy_score(ytest2, predict(model,Xtest2) )))\n",
    "# Plot the decision boundary\n",
    "plot_decision_boundary(lambda x: predict(model, x), Xtrain2, ytrain2)\n",
    "plt.title(\"Decision Boundary\")"
   ]
  },
  {
   "cell_type": "markdown",
   "metadata": {
    "colab_type": "text",
    "id": "_JZbhWAJg8We"
   },
   "source": [
    "## Sklearn Multilayer Perceptron Classifier"
   ]
  },
  {
   "cell_type": "code",
   "execution_count": 19,
   "metadata": {
    "colab": {
     "base_uri": "https://localhost:8080/",
     "height": 334
    },
    "colab_type": "code",
    "id": "DVk3kWbLg8Wf",
    "outputId": "c512956e-31ab-4c19-b70f-9735ee534b22"
   },
   "outputs": [
    {
     "name": "stdout",
     "output_type": "stream",
     "text": [
      "Training accuracy: 0.975\n",
      "Testing accuracy : 0.7\n"
     ]
    },
    {
     "data": {
      "text/plain": [
       "Text(0.5, 1.0, 'Decision Boundary')"
      ]
     },
     "execution_count": 19,
     "metadata": {},
     "output_type": "execute_result"
    },
    {
     "data": {
      "image/png": "[encoded data removed]",
      "text/plain": [
       "<Figure size 432x288 with 1 Axes>"
      ]
     },
     "metadata": {
      "needs_background": "light"
     },
     "output_type": "display_data"
    }
   ],
   "source": [
    "from sklearn.neural_network import MLPClassifier\n",
    "#clf = MLPClassifier(hidden_layer_sizes=(3,), max_iter=20000, alpha=reg_lambda, activation = 'tanh',\n",
    "#                    solver='sgd', verbose=0, random_state=0,\n",
    "#                    learning_rate_init=epsilon)\n",
    "\n",
    "clf = MLPClassifier(random_state=1, max_iter=20000, hidden_layer_sizes=(3,), activation='tanh', solver='lbfgs')\n",
    "\n",
    "clf.fit(Xtrain2, ytrain2)\n",
    "print(\"Training accuracy: {}\".format(metrics.accuracy_score(ytrain2, clf.predict(Xtrain2) )))\n",
    "print(\"Testing accuracy : {}\".format(metrics.accuracy_score(ytest2, clf.predict(Xtest2) )))\n",
    "# Plot the decision boundary\n",
    "plot_decision_boundary(lambda x: clf.predict(x), Xtrain2, ytrain2)\n",
    "plt.title(\"Decision Boundary\")"
   ]
  },
  {
   "cell_type": "code",
   "execution_count": null,
   "metadata": {
    "colab": {},
    "colab_type": "code",
    "id": "xki1UIsQg8Wh"
   },
   "outputs": [],
   "source": []
  },
  {
   "cell_type": "code",
   "execution_count": null,
   "metadata": {},
   "outputs": [],
   "source": []
  },
  {
   "cell_type": "code",
   "execution_count": null,
   "metadata": {},
   "outputs": [],
   "source": []
  }
 ],
 "metadata": {
  "colab": {
   "collapsed_sections": [],
   "name": "Week10LabScripts_CK.ipynb",
   "provenance": [],
   "toc_visible": true
  },
  "kernelspec": {
   "display_name": "Python 3 (ipykernel)",
   "language": "python",
   "name": "python3"
  },
  "language_info": {
   "codemirror_mode": {
    "name": "ipython",
    "version": 3
   },
   "file_extension": ".py",
   "mimetype": "text/x-python",
   "name": "python",
   "nbconvert_exporter": "python",
   "pygments_lexer": "ipython3",
   "version": "3.8.8"
  }
 },
 "nbformat": 4,
 "nbformat_minor": 4
}
