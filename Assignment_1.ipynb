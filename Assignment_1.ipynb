{
  "nbformat": 4,
  "nbformat_minor": 0,
  "metadata": {
    "colab": {
      "name": "Assignment 1.ipynb",
      "provenance": [],
      "collapsed_sections": [],
      "authorship_tag": "ABX9TyNqoOwCBzHUbluhfsjjm+c4",
      "include_colab_link": true
    },
    "kernelspec": {
      "name": "python3",
      "display_name": "Python 3"
    },
    "language_info": {
      "name": "python"
    }
  },
  "cells": [
    {
      "cell_type": "markdown",
      "metadata": {
        "id": "view-in-github",
        "colab_type": "text"
      },
      "source": [
        "<a href=\"https://colab.research.google.com/github/bryonbaker/SIT720/blob/main/Assignment_1.ipynb\" target=\"_parent\"><img src=\"https://colab.research.google.com/assets/colab-badge.svg\" alt=\"Open In Colab\"/></a>"
      ]
    },
    {
      "cell_type": "markdown",
      "source": [
        "# SIT720 - Assignment 1\n",
        "\n",
        "Bryon Baker\n",
        "Student number: 85031775"
      ],
      "metadata": {
        "id": "blaX_mjDsZao"
      }
    },
    {
      "cell_type": "markdown",
      "source": [
        "# Import required modules and libraries"
      ],
      "metadata": {
        "id": "Yffa-2TNtx8j"
      }
    },
    {
      "cell_type": "code",
      "execution_count": 230,
      "metadata": {
        "id": "Ov2aAFg8sYRW"
      },
      "outputs": [],
      "source": [
        "\n",
        "import pandas as pd\n",
        "import numpy as np"
      ]
    },
    {
      "cell_type": "markdown",
      "source": [
        "# Load Dataset\n",
        "Load the dataset from a public git repo.\n",
        "Display the head info to confirm data load."
      ],
      "metadata": {
        "id": "NqO-Qf8ut3FD"
      }
    },
    {
      "cell_type": "code",
      "source": [
        "url = 'https://raw.githubusercontent.com/bryonbaker/datasets/main/SIT720/Ass1/hypothyroid.csv'\n",
        "fullht_df = pd.read_csv(url)"
      ],
      "metadata": {
        "id": "rzlPG6HEt3hk"
      },
      "execution_count": 231,
      "outputs": []
    },
    {
      "cell_type": "code",
      "source": [
        "fullht_df.head(n=100)"
      ],
      "metadata": {
        "colab": {
          "base_uri": "https://localhost:8080/",
          "height": 505
        },
        "id": "mHoAFvjbvetG",
        "outputId": "e36d78f7-42de-403c-9c29-36a1d03b49b3"
      },
      "execution_count": 232,
      "outputs": [
        {
          "output_type": "execute_result",
          "data": {
            "text/plain": [
              "   age sex on thyroxine pregnant I131 treatment query hyperthyroid   TSH   T3  \\\n",
              "0   41   F            f        f              f                  f   1.3  2.5   \n",
              "1   23   F            f        f              f                  f   4.1    2   \n",
              "2   46   M            f        f              f                  f  0.98    ?   \n",
              "3   70   F            t        f              f                  f  0.16  1.9   \n",
              "4   70   F            f        f              f                  f  0.72  1.2   \n",
              "..  ..  ..          ...      ...            ...                ...   ...  ...   \n",
              "95  26   F            f        f              f                  f     2    ?   \n",
              "96  59   ?            f        f              f                  f   1.5    ?   \n",
              "97  39   F            f        f              f                  f   4.3  2.4   \n",
              "98  69   F            f        f              f                  f   1.4    ?   \n",
              "99  48   F            f        f              f                  f   0.3  1.6   \n",
              "\n",
              "    TT4  FTI binaryClass  \n",
              "0   125  109           P  \n",
              "1   102    ?           P  \n",
              "2   109  120           P  \n",
              "3   175    ?           P  \n",
              "4    61   70           P  \n",
              "..  ...  ...         ...  \n",
              "95  137   84           P  \n",
              "96   92   99           P  \n",
              "97  135   89           P  \n",
              "98  123  136           P  \n",
              "99   86   92           P  \n",
              "\n",
              "[100 rows x 11 columns]"
            ],
            "text/html": [
              "\n",
              "  <div id=\"df-39e78c29-745d-4452-829a-a9fc583bc601\">\n",
              "    <div class=\"colab-df-container\">\n",
              "      <div>\n",
              "<style scoped>\n",
              "    .dataframe tbody tr th:only-of-type {\n",
              "        vertical-align: middle;\n",
              "    }\n",
              "\n",
              "    .dataframe tbody tr th {\n",
              "        vertical-align: top;\n",
              "    }\n",
              "\n",
              "    .dataframe thead th {\n",
              "        text-align: right;\n",
              "    }\n",
              "</style>\n",
              "<table border=\"1\" class=\"dataframe\">\n",
              "  <thead>\n",
              "    <tr style=\"text-align: right;\">\n",
              "      <th></th>\n",
              "      <th>age</th>\n",
              "      <th>sex</th>\n",
              "      <th>on thyroxine</th>\n",
              "      <th>pregnant</th>\n",
              "      <th>I131 treatment</th>\n",
              "      <th>query hyperthyroid</th>\n",
              "      <th>TSH</th>\n",
              "      <th>T3</th>\n",
              "      <th>TT4</th>\n",
              "      <th>FTI</th>\n",
              "      <th>binaryClass</th>\n",
              "    </tr>\n",
              "  </thead>\n",
              "  <tbody>\n",
              "    <tr>\n",
              "      <th>0</th>\n",
              "      <td>41</td>\n",
              "      <td>F</td>\n",
              "      <td>f</td>\n",
              "      <td>f</td>\n",
              "      <td>f</td>\n",
              "      <td>f</td>\n",
              "      <td>1.3</td>\n",
              "      <td>2.5</td>\n",
              "      <td>125</td>\n",
              "      <td>109</td>\n",
              "      <td>P</td>\n",
              "    </tr>\n",
              "    <tr>\n",
              "      <th>1</th>\n",
              "      <td>23</td>\n",
              "      <td>F</td>\n",
              "      <td>f</td>\n",
              "      <td>f</td>\n",
              "      <td>f</td>\n",
              "      <td>f</td>\n",
              "      <td>4.1</td>\n",
              "      <td>2</td>\n",
              "      <td>102</td>\n",
              "      <td>?</td>\n",
              "      <td>P</td>\n",
              "    </tr>\n",
              "    <tr>\n",
              "      <th>2</th>\n",
              "      <td>46</td>\n",
              "      <td>M</td>\n",
              "      <td>f</td>\n",
              "      <td>f</td>\n",
              "      <td>f</td>\n",
              "      <td>f</td>\n",
              "      <td>0.98</td>\n",
              "      <td>?</td>\n",
              "      <td>109</td>\n",
              "      <td>120</td>\n",
              "      <td>P</td>\n",
              "    </tr>\n",
              "    <tr>\n",
              "      <th>3</th>\n",
              "      <td>70</td>\n",
              "      <td>F</td>\n",
              "      <td>t</td>\n",
              "      <td>f</td>\n",
              "      <td>f</td>\n",
              "      <td>f</td>\n",
              "      <td>0.16</td>\n",
              "      <td>1.9</td>\n",
              "      <td>175</td>\n",
              "      <td>?</td>\n",
              "      <td>P</td>\n",
              "    </tr>\n",
              "    <tr>\n",
              "      <th>4</th>\n",
              "      <td>70</td>\n",
              "      <td>F</td>\n",
              "      <td>f</td>\n",
              "      <td>f</td>\n",
              "      <td>f</td>\n",
              "      <td>f</td>\n",
              "      <td>0.72</td>\n",
              "      <td>1.2</td>\n",
              "      <td>61</td>\n",
              "      <td>70</td>\n",
              "      <td>P</td>\n",
              "    </tr>\n",
              "    <tr>\n",
              "      <th>...</th>\n",
              "      <td>...</td>\n",
              "      <td>...</td>\n",
              "      <td>...</td>\n",
              "      <td>...</td>\n",
              "      <td>...</td>\n",
              "      <td>...</td>\n",
              "      <td>...</td>\n",
              "      <td>...</td>\n",
              "      <td>...</td>\n",
              "      <td>...</td>\n",
              "      <td>...</td>\n",
              "    </tr>\n",
              "    <tr>\n",
              "      <th>95</th>\n",
              "      <td>26</td>\n",
              "      <td>F</td>\n",
              "      <td>f</td>\n",
              "      <td>f</td>\n",
              "      <td>f</td>\n",
              "      <td>f</td>\n",
              "      <td>2</td>\n",
              "      <td>?</td>\n",
              "      <td>137</td>\n",
              "      <td>84</td>\n",
              "      <td>P</td>\n",
              "    </tr>\n",
              "    <tr>\n",
              "      <th>96</th>\n",
              "      <td>59</td>\n",
              "      <td>?</td>\n",
              "      <td>f</td>\n",
              "      <td>f</td>\n",
              "      <td>f</td>\n",
              "      <td>f</td>\n",
              "      <td>1.5</td>\n",
              "      <td>?</td>\n",
              "      <td>92</td>\n",
              "      <td>99</td>\n",
              "      <td>P</td>\n",
              "    </tr>\n",
              "    <tr>\n",
              "      <th>97</th>\n",
              "      <td>39</td>\n",
              "      <td>F</td>\n",
              "      <td>f</td>\n",
              "      <td>f</td>\n",
              "      <td>f</td>\n",
              "      <td>f</td>\n",
              "      <td>4.3</td>\n",
              "      <td>2.4</td>\n",
              "      <td>135</td>\n",
              "      <td>89</td>\n",
              "      <td>P</td>\n",
              "    </tr>\n",
              "    <tr>\n",
              "      <th>98</th>\n",
              "      <td>69</td>\n",
              "      <td>F</td>\n",
              "      <td>f</td>\n",
              "      <td>f</td>\n",
              "      <td>f</td>\n",
              "      <td>f</td>\n",
              "      <td>1.4</td>\n",
              "      <td>?</td>\n",
              "      <td>123</td>\n",
              "      <td>136</td>\n",
              "      <td>P</td>\n",
              "    </tr>\n",
              "    <tr>\n",
              "      <th>99</th>\n",
              "      <td>48</td>\n",
              "      <td>F</td>\n",
              "      <td>f</td>\n",
              "      <td>f</td>\n",
              "      <td>f</td>\n",
              "      <td>f</td>\n",
              "      <td>0.3</td>\n",
              "      <td>1.6</td>\n",
              "      <td>86</td>\n",
              "      <td>92</td>\n",
              "      <td>P</td>\n",
              "    </tr>\n",
              "  </tbody>\n",
              "</table>\n",
              "<p>100 rows × 11 columns</p>\n",
              "</div>\n",
              "      <button class=\"colab-df-convert\" onclick=\"convertToInteractive('df-39e78c29-745d-4452-829a-a9fc583bc601')\"\n",
              "              title=\"Convert this dataframe to an interactive table.\"\n",
              "              style=\"display:none;\">\n",
              "        \n",
              "  <svg xmlns=\"http://www.w3.org/2000/svg\" height=\"24px\"viewBox=\"0 0 24 24\"\n",
              "       width=\"24px\">\n",
              "    <path d=\"M0 0h24v24H0V0z\" fill=\"none\"/>\n",
              "    <path d=\"M18.56 5.44l.94 2.06.94-2.06 2.06-.94-2.06-.94-.94-2.06-.94 2.06-2.06.94zm-11 1L8.5 8.5l.94-2.06 2.06-.94-2.06-.94L8.5 2.5l-.94 2.06-2.06.94zm10 10l.94 2.06.94-2.06 2.06-.94-2.06-.94-.94-2.06-.94 2.06-2.06.94z\"/><path d=\"M17.41 7.96l-1.37-1.37c-.4-.4-.92-.59-1.43-.59-.52 0-1.04.2-1.43.59L10.3 9.45l-7.72 7.72c-.78.78-.78 2.05 0 2.83L4 21.41c.39.39.9.59 1.41.59.51 0 1.02-.2 1.41-.59l7.78-7.78 2.81-2.81c.8-.78.8-2.07 0-2.86zM5.41 20L4 18.59l7.72-7.72 1.47 1.35L5.41 20z\"/>\n",
              "  </svg>\n",
              "      </button>\n",
              "      \n",
              "  <style>\n",
              "    .colab-df-container {\n",
              "      display:flex;\n",
              "      flex-wrap:wrap;\n",
              "      gap: 12px;\n",
              "    }\n",
              "\n",
              "    .colab-df-convert {\n",
              "      background-color: #E8F0FE;\n",
              "      border: none;\n",
              "      border-radius: 50%;\n",
              "      cursor: pointer;\n",
              "      display: none;\n",
              "      fill: #1967D2;\n",
              "      height: 32px;\n",
              "      padding: 0 0 0 0;\n",
              "      width: 32px;\n",
              "    }\n",
              "\n",
              "    .colab-df-convert:hover {\n",
              "      background-color: #E2EBFA;\n",
              "      box-shadow: 0px 1px 2px rgba(60, 64, 67, 0.3), 0px 1px 3px 1px rgba(60, 64, 67, 0.15);\n",
              "      fill: #174EA6;\n",
              "    }\n",
              "\n",
              "    [theme=dark] .colab-df-convert {\n",
              "      background-color: #3B4455;\n",
              "      fill: #D2E3FC;\n",
              "    }\n",
              "\n",
              "    [theme=dark] .colab-df-convert:hover {\n",
              "      background-color: #434B5C;\n",
              "      box-shadow: 0px 1px 3px 1px rgba(0, 0, 0, 0.15);\n",
              "      filter: drop-shadow(0px 1px 2px rgba(0, 0, 0, 0.3));\n",
              "      fill: #FFFFFF;\n",
              "    }\n",
              "  </style>\n",
              "\n",
              "      <script>\n",
              "        const buttonEl =\n",
              "          document.querySelector('#df-39e78c29-745d-4452-829a-a9fc583bc601 button.colab-df-convert');\n",
              "        buttonEl.style.display =\n",
              "          google.colab.kernel.accessAllowed ? 'block' : 'none';\n",
              "\n",
              "        async function convertToInteractive(key) {\n",
              "          const element = document.querySelector('#df-39e78c29-745d-4452-829a-a9fc583bc601');\n",
              "          const dataTable =\n",
              "            await google.colab.kernel.invokeFunction('convertToInteractive',\n",
              "                                                     [key], {});\n",
              "          if (!dataTable) return;\n",
              "\n",
              "          const docLinkHtml = 'Like what you see? Visit the ' +\n",
              "            '<a target=\"_blank\" href=https://colab.research.google.com/notebooks/data_table.ipynb>data table notebook</a>'\n",
              "            + ' to learn more about interactive tables.';\n",
              "          element.innerHTML = '';\n",
              "          dataTable['output_type'] = 'display_data';\n",
              "          await google.colab.output.renderOutput(dataTable, element);\n",
              "          const docLink = document.createElement('div');\n",
              "          docLink.innerHTML = docLinkHtml;\n",
              "          element.appendChild(docLink);\n",
              "        }\n",
              "      </script>\n",
              "    </div>\n",
              "  </div>\n",
              "  "
            ]
          },
          "metadata": {},
          "execution_count": 232
        }
      ]
    },
    {
      "cell_type": "markdown",
      "source": [
        "# Data Preparation\n",
        "\n",
        "## Task 1\n",
        "1.   Select the first 500 rows of the dataset\n",
        "2.   Display the dataset dimension\n",
        "\n"
      ],
      "metadata": {
        "id": "2OvI0wzHvlv8"
      }
    },
    {
      "cell_type": "code",
      "source": [
        "# Get the first 500 rows from the dataset and use that for the rest of the assignment.\n",
        "ht_df = fullht_df.head(n=500)\n",
        "\n",
        "# Display the dataset's dimension\n",
        "print(f\"Working dataset dimension is: {ht_df.shape}\\n\")"
      ],
      "metadata": {
        "colab": {
          "base_uri": "https://localhost:8080/"
        },
        "id": "bUUIoddjy9JQ",
        "outputId": "df65bc73-aebe-4c5a-c895-c23f821c207e"
      },
      "execution_count": 233,
      "outputs": [
        {
          "output_type": "stream",
          "name": "stdout",
          "text": [
            "Working dataset dimension is: (500, 11)\n",
            "\n"
          ]
        }
      ]
    },
    {
      "cell_type": "markdown",
      "source": [
        "## Task 2\n",
        "* Display the number of rows and their indices that have missing data in one or more cells. \n",
        "* Print the median values of all features before and after replacing missing data.\n"
      ],
      "metadata": {
        "id": "WfpLE-Fl0qMZ"
      }
    },
    {
      "cell_type": "code",
      "source": [
        "# Cells with missing data have a '?' in them. \n",
        "# First replace ? with np.NaN so we can utilise some other nice Pandas dataframe methods. We can use a global replace because, upon dataset ins[ection, the unknown ('?') only exists in the numeric columns.\n",
        "# Convert the value columns from text to numeric.\n",
        "# Calculate the median value for the numeric-data coluimns\n",
        "# Replace the NaN values with a reasonable value. For this exercise we have chosen the mean for the column\n",
        "# Recalculate the median value for the numeric-data coluimns\n",
        "\n",
        "# Prepare the data so it is calculable\n",
        "ht_df = ht_df.replace('?', np.NaN)                                                        # Replace with NaN so many of the Pandas functions will work.\n",
        "ht_df[[\"TSH\",\"T3\",\"TT4\",\"FTI\"]] = ht_df[[\"TSH\",\"T3\",\"TT4\",\"FTI\"]].apply(pd.to_numeric)    # CSV loads as text. Convert the cells to numeric\n",
        "print(\"\\nCore Numerical Data Columns:\\n\")\n",
        "print(ht_df[[\"TSH\",\"T3\",\"TT4\",\"FTI\"]])\n",
        "\n",
        "# Calculate the Mean and Median prior to replacing missing values\n",
        "mean = ht_df[[\"TSH\",\"T3\",\"TT4\",\"FTI\"]].mean(skipna=True)\n",
        "median = ht_df[[\"TSH\",\"T3\",\"TT4\",\"FTI\"]].median(skipna=True)\n",
        "print(\"=======================\\n\")\n",
        "print(\"\\nPre Data Modification:\")\n",
        "print(\"\\n======================\")\n",
        "print(f\"Mean of each column is:\\n{mean}\\n\")\n",
        "print(f\"The Median of each column is:\\n{median}\")\n",
        "\n",
        "# Replace the NaN's of the numeric columns with the mean\n",
        "ht_df[\"TSH\"] = ht_df[\"TSH\"].fillna(mean[\"TSH\"])\n",
        "ht_df[\"T3\"] = ht_df[\"TSH\"].fillna(mean[\"T3\"])\n",
        "ht_df[\"TT4\"] = ht_df[\"TSH\"].fillna(mean[\"TT4\"])\n",
        "ht_df[\"FTI\"] = ht_df[\"TSH\"].fillna(mean[\"FTI\"])\n",
        "\n",
        "# Replace the M/F missing values with the most frequently occuring gender provided \"pregnant\" is false. Otherwise set the value to F.\n",
        "replace_missing_values(df=ht_df, col=\"sex\", v1=\"M\", v2=\"F\")\n",
        "#print(type(s))\n",
        "#if ht_df[\"sex\"].isna().sum() != 0 \n",
        "\n",
        "#print(f\"The number of missing values in Sex is: {ht_df[\"sex\"].isna().sum()}\\n\")\n",
        "# \n",
        "\n",
        "mean_post = ht_df[[\"TSH\",\"T3\",\"TT4\",\"FTI\"]].mean(skipna=True)\n",
        "median_post = ht_df[[\"TSH\",\"T3\",\"TT4\",\"FTI\"]].median(skipna=True)\n",
        "print(\"=======================\\n\")\n",
        "print(\"Post Data Modification:\\n\")\n",
        "print(\"=======================\\n\")\n",
        "print(f\"Mean of each column is:\\n{mean_post}\\nThe Median is:\\n{median_post}\")"
      ],
      "metadata": {
        "id": "_xf7D0pO04nI"
      },
      "execution_count": null,
      "outputs": []
    },
    {
      "cell_type": "code",
      "source": [
        "ht_df.head(n=500)"
      ],
      "metadata": {
        "id": "SOGEBpP5usP8"
      },
      "execution_count": null,
      "outputs": []
    },
    {
      "cell_type": "code",
      "source": [
        "# Import pandas library\n",
        "import pandas as pd\n",
        " \n",
        "# initialize list of lists\n",
        "data = [['tom', 'M', 't'], ['nick', 'M', 'f'], ['juli', 'F', 'f'], ['tom', '?', 'f']]\n",
        " \n",
        "# Create the pandas DataFrame\n",
        "df = pd.DataFrame(data, columns = ['Name', 'Sex', 'Result'])\n",
        " \n",
        "# print dataframe.\n",
        "df"
      ],
      "metadata": {
        "id": "n99A7InnNDXJ"
      },
      "execution_count": null,
      "outputs": []
    },
    {
      "cell_type": "code",
      "source": [
        "from pandas.core.arrays import string_\n",
        "from pandas.core.frame import DataFrame\n",
        "# This function is used to replace missing values in columns that should have a binary value\n",
        "def replace_missing_values(df : pd.DataFrame, col: str, v1: str, v2: str):\n",
        "  print(f\"\\nINFO: replace_mising_values({type(df)}, {type(col)})\\n\")\n",
        "\n",
        "  a = df[col].apply(pd.value_counts)\n",
        "  print(a)"
      ],
      "metadata": {
        "id": "wF7zoQJiw8Dh"
      },
      "execution_count": 229,
      "outputs": []
    }
  ]
}