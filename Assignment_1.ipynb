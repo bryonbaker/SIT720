{
  "nbformat": 4,
  "nbformat_minor": 0,
  "metadata": {
    "colab": {
      "name": "Assignment 1.ipynb",
      "provenance": [],
      "authorship_tag": "ABX9TyNHH5TnmIKPwwM5W9eOmZUf",
      "include_colab_link": true
    },
    "kernelspec": {
      "name": "python3",
      "display_name": "Python 3"
    },
    "language_info": {
      "name": "python"
    }
  },
  "cells": [
    {
      "cell_type": "markdown",
      "metadata": {
        "id": "view-in-github",
        "colab_type": "text"
      },
      "source": [
        "<a href=\"https://colab.research.google.com/github/bryonbaker/SIT720/blob/main/Assignment_1.ipynb\" target=\"_parent\"><img src=\"https://colab.research.google.com/assets/colab-badge.svg\" alt=\"Open In Colab\"/></a>"
      ]
    },
    {
      "cell_type": "markdown",
      "source": [
        "# SIT720 - Assignment 1\n",
        "\n",
        "Bryon Baker\n",
        "Student number: 85031775"
      ],
      "metadata": {
        "id": "blaX_mjDsZao"
      }
    },
    {
      "cell_type": "code",
      "execution_count": null,
      "metadata": {
        "id": "Ov2aAFg8sYRW"
      },
      "outputs": [],
      "source": [
        "# https://raw.githubusercontent.com/bryonbaker/SIT720/main/data/hypothyroid.csv?token=GHSAT0AAAAAABSPFY2X5EFE22XCBMPU4GU6YRWOMLA\n"
      ]
    }
  ]
}