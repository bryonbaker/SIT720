{
 "cells": [
  {
   "cell_type": "markdown",
   "metadata": {
    "colab_type": "text",
    "id": "view-in-github"
   },
   "source": [
    "<a href=\"https://colab.research.google.com/github/bryonbaker/SIT720/blob/main/Assignment_1.ipynb\" target=\"_parent\"><img src=\"https://colab.research.google.com/assets/colab-badge.svg\" alt=\"Open In Colab\"/></a>"
   ]
  },
  {
   "cell_type": "markdown",
   "metadata": {
    "id": "blaX_mjDsZao"
   },
   "source": [
    "# SIT720 - Assignment 1\n",
    "\n",
    "Bryon Baker\n",
    "Student number: 85031775"
   ]
  },
  {
   "cell_type": "markdown",
   "metadata": {
    "id": "Yffa-2TNtx8j"
   },
   "source": [
    "# Import required modules and libraries"
   ]
  },
  {
   "cell_type": "code",
   "execution_count": null,
   "metadata": {},
   "outputs": [
    {
     "name": "stdout",
     "output_type": "stream",
     "text": [
      "Requirement already satisfied: pandas in /opt/app-root/lib/python3.8/site-packages (1.2.4)\n",
      "Requirement already satisfied: numpy>=1.16.5 in /opt/app-root/lib/python3.8/site-packages (from pandas) (1.19.2)\n",
      "Requirement already satisfied: pytz>=2017.3 in /opt/app-root/lib/python3.8/site-packages (from pandas) (2021.3)\n",
      "Requirement already satisfied: python-dateutil>=2.7.3 in /opt/app-root/lib/python3.8/site-packages (from pandas) (2.8.2)\n",
      "Requirement already satisfied: six>=1.5 in /opt/app-root/lib/python3.8/site-packages (from python-dateutil>=2.7.3->pandas) (1.16.0)\n",
      "\u001b[33mWARNING: You are using pip version 21.3.1; however, version 22.0.4 is available.\n",
      "You should consider upgrading via the '/opt/app-root/bin/python3.8 -m pip install --upgrade pip' command.\u001b[0m\n"
     ]
    }
   ],
   "source": [
    "!pip3 install pandas\n",
    "!pip3 install numpy\n",
    "!pip3 install matplotlib"
   ]
  },
  {
   "cell_type": "code",
   "execution_count": null,
   "metadata": {
    "id": "Ov2aAFg8sYRW"
   },
   "outputs": [],
   "source": [
    "import pandas as pd\n",
    "import numpy as np\n",
    "import matplotlib.pyplot as plt"
   ]
  },
  {
   "cell_type": "markdown",
   "metadata": {
    "id": "v0f-_2tsMS4t"
   },
   "source": [
    "# Function Declarations"
   ]
  },
  {
   "cell_type": "code",
   "execution_count": null,
   "metadata": {
    "id": "rilrcLwOMS4t"
   },
   "outputs": [],
   "source": []
  },
  {
   "cell_type": "code",
   "execution_count": null,
   "metadata": {
    "id": "rzlPG6HEt3hk"
   },
   "outputs": [],
   "source": []
  },
  {
   "cell_type": "markdown",
   "metadata": {
    "id": "2OvI0wzHvlv8"
   },
   "source": [
    "## QUESTION 1\n",
    "* Load the data from supplied data file. \n",
    "* Select the first 500 observations/ samples from the dataset. \n",
    "* Print the data dimension.\n"
   ]
  },
  {
   "cell_type": "code",
   "execution_count": null,
   "metadata": {},
   "outputs": [],
   "source": [
    "import ssl\n",
    "ssl._create_default_https_context = ssl._create_unverified_context\n",
    "\n",
    "url = 'https://raw.githubusercontent.com/bryonbaker/datasets/main/SIT720/Ass1/hypothyroid.csv'\n",
    "fullht_df = pd.read_csv(url)\n",
    "fullht_df.head(n=500)"
   ]
  },
  {
   "cell_type": "code",
   "execution_count": null,
   "metadata": {
    "colab": {
     "base_uri": "https://localhost:8080/"
    },
    "id": "bUUIoddjy9JQ",
    "outputId": "8c525953-4113-44bb-9c14-0b0bbb26560e"
   },
   "outputs": [],
   "source": [
    "# Get the first 500 rows from the dataset and use that for the rest of the assignment.\n",
    "ht_df = fullht_df.head(n=500)\n",
    "\n",
    "# Display the dataset's dimension\n",
    "initialShape = ht_df.shape\n",
    "print(f\"Working dataset dimension is: {initialShape}\\n\")"
   ]
  },
  {
   "cell_type": "markdown",
   "metadata": {
    "id": "WfpLE-Fl0qMZ"
   },
   "source": [
    "## QUESTION 2\n",
    "* Continue from question 1. \n",
    "* Display the number of rows and their indices that have missing data in one or more cells. \n",
    "* Now, replace the missing data by the lowest value of the corresponding feature if it is a continuous variable. In case of categorical variable, remove the sample. \n",
    "* Print the median values of all features before and after replacing missing data."
   ]
  },
  {
   "cell_type": "code",
   "execution_count": null,
   "metadata": {},
   "outputs": [],
   "source": []
  },
  {
   "cell_type": "code",
   "execution_count": null,
   "metadata": {
    "colab": {
     "base_uri": "https://localhost:8080/"
    },
    "id": "_xf7D0pO04nI",
    "outputId": "3839d5ea-0218-4801-840f-f2ca1c586ffb"
   },
   "outputs": [],
   "source": [
    "# Find the number of rows that have missing data\n",
    "ht_df = ht_df.replace('?', np.NaN)              # Replace ? with NaN\n",
    "numMissing = ht_df.isna().any(axis=1).sum()\n",
    "print(f\"The number of rows with missing values is {numMissing}\")\n",
    "\n",
    "# Define the features that are subject to replacing with the lowest value in the column.\n",
    "# This series will ne used to define the features that will be updated if they are missing.\n",
    "continuousFeatures = pd.Series([\"age\", \"TSH\",\"T3\",\"TT4\",\"FTI\"], copy = False)\n",
    "\n",
    "# All features are currently text. Change the data types of the continuous variables to numeric\n",
    "# so we can perform calculations with them.\n",
    "ht_df[continuousFeatures] = ht_df[continuousFeatures].apply(pd.to_numeric)\n",
    "\n",
    "# Calculate the Median prior to replacing missing values\n",
    "initialMedian = ht_df[continuousFeatures].median(skipna=True)\n",
    "print(\"\\n=============================\")\n",
    "print(\"Median Pre-Data Modification:\")\n",
    "print(\"=============================\")\n",
    "print(f\"The Median of each column is:\\n{initialMedian}\")\n",
    "\n",
    "# Find the minimum value for each continuous variable\n",
    "minValues = ht_df.min(axis=0)\n",
    "print(\"\\n======================================\")\n",
    "print(\"Updating missing continuous variables:\")\n",
    "print(\"======================================\")\n",
    "for index, value in continuousFeatures.items():\n",
    "    print(f\"Min value for {value} is {minValues[value]}\")\n",
    "    ht_df[value] = ht_df[value].fillna(minValues[value])\n",
    "\n",
    "# Calculate the Median value of all continuous features.\n",
    "# Using the list of continuous features, replace any missing (NaN) values with the lowest value in the column.\n",
    "# Replace the NaN's of the numeric columns with the mean\n",
    "ht_df[\"TSH\"] = ht_df[\"TSH\"].fillna(continuousFeatures[1])\n",
    "# Calculate the new Median value of all continuous features.\n",
    "# Display the before/after Median values\n",
    "\n",
    "# Calculate the Median prior to replacing missing values\n",
    "postMedian = ht_df[continuousFeatures].median(skipna=True)\n",
    "print(\"\\n===============================\")\n",
    "print(\"Median Post-Data Modification:\")\n",
    "print(\"==============================\")\n",
    "print(f\"The Median of each column is:\\n{postMedian}\")\n",
    "\n",
    "# Now all the continuous variables have had NaN replaced, drop any rows with categorical values of NaN\n",
    "numMissing = ht_df.isna().any(axis=1).sum()# Recalculate the number of rows left with missing values for assert later.\n",
    "ht_df = ht_df.dropna()\n",
    "\n",
    "\n",
    "# Display the dataset's new dimension\n",
    "print(f\"Working dataset dimension is: {ht_df.shape}\\n\")\n",
    "print(f\"Initial shape: {initialShape[0]} New shape: {ht_df.shape[0]} Number of rows dropped: {numMissing}\")\n",
    "\n",
    "# Check that the new shape is correct based on the number of missing non-continuous values\n",
    "assert initialShape[0] == ht_df.shape[0]+numMissing"
   ]
  },
  {
   "cell_type": "code",
   "execution_count": null,
   "metadata": {},
   "outputs": [],
   "source": [
    "# Display the new data set for informational purposes\n",
    "ht_df.head(n=500)"
   ]
  },
  {
   "cell_type": "markdown",
   "metadata": {},
   "source": [
    "## QUESTION 3"
   ]
  },
  {
   "cell_type": "markdown",
   "metadata": {},
   "source": [
    "* Continue from question 2.\n",
    "* Is there any change in data type? If yes, convert them back to appropriate data types. \n",
    "* Print all variables with corresponding data type."
   ]
  },
  {
   "cell_type": "code",
   "execution_count": null,
   "metadata": {},
   "outputs": [],
   "source": [
    "# Change the t/f features to proper boolean values by creating a new column mapped to the original value\n",
    "\n",
    "boolColumns = pd.Series([\"on thyroxine\", \"pregnant\", \"I131 treatment\", \"query hyperthyroid\"], copy = False)    # The columns to change types\n",
    "boolMap = {'t' : True, 'f': False }    # How to map the values\n",
    "cols = ht_df.columns.tolist()     # Get the order of columns so we can preserve the table structure after we change all the types with row swaps.\n",
    "\n",
    "for index, value in boolColumns.items():\n",
    "    oldName = value    # Save the old name for renaming back later\n",
    "    newName = \"new_\" + value    # Create a temporary column name\n",
    "    ht_df[newName] = ht_df[oldName].map(boolMap)    # Adds a new column with proper boolean values\n",
    "    ht_df = ht_df.drop([oldName], axis=1)    # Drop the old column before renaming the new column to the name just dropped\n",
    "    ht_df = ht_df.rename(columns={newName : oldName})\n",
    "\n",
    "ht_df = ht_df[cols]    # Reorder the columns back to what they were before we started."
   ]
  },
  {
   "cell_type": "code",
   "execution_count": null,
   "metadata": {},
   "outputs": [],
   "source": [
    "print(\"Updated table structure\")\n",
    "print(\"=======================\")\n",
    "ht_df.head()"
   ]
  },
  {
   "cell_type": "code",
   "execution_count": null,
   "metadata": {},
   "outputs": [],
   "source": [
    "print(\"DataFrame variables and corresponding data types:\")\n",
    "print(\"=================================================\")\n",
    "print(ht_df.dtypes)"
   ]
  },
  {
   "cell_type": "markdown",
   "metadata": {},
   "source": [
    "## QUESTION 4\n",
    "* Continue from question 3. \n",
    "* Print the total numbers and ratio of male and female patients who are receiving I131 treatment."
   ]
  },
  {
   "cell_type": "code",
   "execution_count": null,
   "metadata": {},
   "outputs": [],
   "source": [
    "male_i131 = ht_df[(ht_df[\"I131 treatment\"] == True) & (ht_df[\"sex\"] == \"M\")]\n",
    "female_i131 = ht_df[(ht_df[\"I131 treatment\"] == True) & (ht_df[\"sex\"] == \"F\")]\n",
    "total_i131 = ht_df[ht_df[\"I131 treatment\"] == True]\n",
    "numMales = ht_df[ht_df[\"sex\"] == \"M\"].shape[0]\n",
    "numFemales = ht_df[ht_df[\"sex\"] == \"F\"].shape[0]\n",
    "\n",
    "numMalesWithI131 = male_i131.shape[0]\n",
    "numFemalesWithI131 = female_i131.shape[0]\n",
    "totalWithI131 = total_i131.shape[0]\n",
    "\n",
    "print(f\"Number of Males receiving I131 treatment is: {numMalesWithI131}\")\n",
    "print(f\"Number of Females receiving I131 treatment is: {numFemalesWithI131}\")\n",
    "print(f\"Total number of people receiving I131 treatment is: {totalWithI131}\")\n",
    "print(f\"Ratio of Males receiving/not receiving I131 Treatment is: {numMalesWithI131/numMales}\")\n",
    "print(f\"Ratio of Females receiving/not receiving I131 Treatment is: {numFemalesWithI131/numFemales}\")"
   ]
  },
  {
   "cell_type": "markdown",
   "metadata": {},
   "source": [
    "## QUESTION 5\n",
    "* Continue from question 3. \n",
    "* Print the average TSH and T3 with the patient with Hypothyroid problem. \n",
    "* Please report the pattern found in the result, if any."
   ]
  },
  {
   "cell_type": "code",
   "execution_count": null,
   "metadata": {},
   "outputs": [],
   "source": [
    "# Looking for records with binaryClass == P. Calculate the average for the TSH and T3\n",
    "\n",
    "averages = ht_df[ht_df[\"binaryClass\"] == \"P\"][[\"TSH\",\"T3\"]].mean()\n",
    "print(\"TSH/T3 Breakdown of Patients at Risk of Hypothyroid Disease:\")\n",
    "print(\"\\tAverage TSH: {:3f} mU/L\".format(averages['TSH']))\n",
    "print(\"\\tAverage T3: {:3f} ng/dl\".format(averages['T3']))"
   ]
  },
  {
   "cell_type": "markdown",
   "metadata": {},
   "source": [
    "### ANALYSIS\n",
    "When considered in isolation, these results indicate that there is a relationship between the average TSH and T3 values. (TSH: 1.582 and T3: 1.585)\n",
    "However, this alone should not be used to draw any conclusions because, as shown below, the ranges (0..27.0 vs. 0..5.5) and standard deviations (2.86 vs. 1.08) are very different, indicating that the similar values are coincidence."
   ]
  },
  {
   "cell_type": "code",
   "execution_count": null,
   "metadata": {},
   "outputs": [],
   "source": [
    "anal = ht_df[ht_df[\"binaryClass\"] == \"P\"][[\"TSH\",\"T3\"]]\n",
    "print(f\"TSH Breakdown:\\n{anal['TSH'].describe()}\\n\")\n",
    "print(f\"T3 Breakdown:\\n{anal['T3'].describe()}\")"
   ]
  },
  {
   "cell_type": "markdown",
   "metadata": {},
   "source": [
    "## QUESTION 6\n",
    "* Continue from question 3. \n",
    "* Print the average TSH and T3 with the patient with Hyperthyroid problem. \n",
    "* Please report the pattern found in the result, if any."
   ]
  },
  {
   "cell_type": "code",
   "execution_count": null,
   "metadata": {},
   "outputs": [],
   "source": [
    "means = ht_df[ht_df[\"query hyperthyroid\"] == True][[\"TSH\",\"T3\"]].mean()\n",
    "tshMean = means[\"TSH\"] if not pd.isna(means[\"TSH\"]) else 0\n",
    "t3Mean = means[\"T3\"] if not pd.isna(means[\"T3\"]) else 0\n",
    "\n",
    "print(\"TSH/T3 Breakdown of Patients at Risk of Hyperthyroid Disease:\")\n",
    "print(\"\\tAverage TSH: {:.3f} mU/L\".format(tshMean))\n",
    "print(\"\\tAverage T3: {:.3f} ng/dl\".format(t3Mean))"
   ]
  },
  {
   "cell_type": "markdown",
   "metadata": {},
   "source": [
    "## ANALYSIS\n",
    "..."
   ]
  },
  {
   "cell_type": "markdown",
   "metadata": {},
   "source": [
    "## QUESTION 7\n",
    "* Continue from question 3.\n",
    "* Print the percentage of pregnant patients at risk of Hypothyroid disease."
   ]
  },
  {
   "cell_type": "code",
   "execution_count": null,
   "metadata": {},
   "outputs": [],
   "source": [
    "#numPreg = ht_df[(ht_df[\"binaryClass\"] == \"P\") & (ht_df[\"pregnant\"] == True)].shape[0]\n",
    "preg_df = ht_df[ht_df[\"pregnant\"] == True]\n",
    "pregHypo_df = preg_df[preg_df[\"binaryClass\"] == \"P\"]\n",
    "print(\"The percentage of pregnant patients at risk of Hypothyroid disease is {:.2f}%\".format((pregHypo_df.shape[0]/preg_df.shape[0])*100))"
   ]
  },
  {
   "cell_type": "markdown",
   "metadata": {},
   "source": [
    "## QUESTION 8\n",
    "* Continue from question 3. \n",
    "* Calculate and print the average TSH and TT4 for pregnant patient at risk of Hypothyroid disease."
   ]
  },
  {
   "cell_type": "code",
   "execution_count": null,
   "metadata": {},
   "outputs": [],
   "source": [
    "means = pregHypo_df[[\"TSH\",\"TT4\"]].mean()\n",
    "tshMean = means[\"TSH\"] if not pd.isna(means[\"TSH\"]) else 0\n",
    "tt4Mean = means[\"TT4\"] if not pd.isna(means[\"TT4\"]) else 0\n",
    "\n",
    "print(\"TSH/TT4 Breakdown of Pregnant Patients at Risk of Hypothyroid Disease:\")\n",
    "print(\"\\tAverage TSH: {:.3f} mU/L\".format(tshMean))\n",
    "print(\"\\tAverage TT4: {:.3f} nmol/L\".format(tt4Mean))"
   ]
  },
  {
   "cell_type": "markdown",
   "metadata": {},
   "source": [
    "## QUESTION 9\n",
    "* Continue from question 3.\n",
    "* Calculate and print the average FTI and TT4 for pregnant patient who are receiving I131 treatment and are at risk of Hyperthyroid disease."
   ]
  },
  {
   "cell_type": "code",
   "execution_count": null,
   "metadata": {},
   "outputs": [],
   "source": [
    "#pregHyperI131_df = preg_df[(preg_df[\"query hyperthyroid\"] == True) & (preg_df[\"I131 treatment\"] == True)]\n",
    "pregHyperI131_df = ht_df[(ht_df[\"pregnant\"] == True) & (ht_df[\"query hyperthyroid\"] == True) & (ht_df[\"I131 treatment\"] == True)]\n",
    "means = pregHyperI131_df[[\"FTI\",\"TT4\"]].mean()\n",
    "ftiMean = means[\"FTI\"] if not pd.isna(means[\"FTI\"]) else 0\n",
    "tt4Mean = means[\"TT4\"] if not pd.isna(means[\"TT4\"]) else 0\n",
    "print(\"FTI/TT4 Breakdown of Pregnant Patients at Risk of Hypothyroid Disease:\")\n",
    "print(\"\\tAverage FTI: {:.3f} ug/dL\".format(ftiMean))\n",
    "print(\"\\tAverage TT4: {:.3f} nmol/L\".format(tt4Mean))"
   ]
  },
  {
   "cell_type": "markdown",
   "metadata": {},
   "source": [
    "## QUESTION 10\n",
    "* Continue from question 3.\n",
    "* Create and print a dataframe of the FTI, T3, and TSH levels for diferent age groups (based on 10 years intervals)"
   ]
  },
  {
   "cell_type": "code",
   "execution_count": null,
   "metadata": {},
   "outputs": [],
   "source": [
    "# Find min age and max age\n",
    "# loop through age range in increments of 10: (0->9, 10-19, 20-29, 30-39, 40-49, 50-59, 60-69, 70-79, 80-89, 90-99)\n",
    "# Query the main data frame\n",
    "\n",
    "# Add an age-range column\n",
    "# set the age-range value based on a query of (age <= minAge && age < maxAge)\n",
    "\n"
   ]
  },
  {
   "cell_type": "code",
   "execution_count": null,
   "metadata": {},
   "outputs": [],
   "source": [
    "# Calculate the age range\n",
    "min = ht_df[\"age\"].min()\n",
    "min = min - min%10        # Round the age down to the nearest 10\n",
    "max = ht_df[\"age\"].max()\n",
    "if max % 10 == 0:\n",
    "    max += 10             # If the max age is divisible by ten create an extra age bracket as we are using 0-9, 10-19, ... \n",
    "\n",
    "# Create an age map of specific age to bracket\n",
    "ageMap = {}\n",
    "bracket = 0\n",
    "for age in range(min, max):\n",
    "    ageMap[age] = \"%d-%d\" % (bracket, bracket+9)\n",
    "    if (age+1) % 10 == 0:\n",
    "        bracket += 10\n",
    "    \n",
    "# Add a new column with the age bracket\n",
    "bracket_df = ht_df\n",
    "bracket_df[\"age bracket\"] = bracket_df[\"age\"].map(ageMap)\n",
    "bracket_df = bracket_df.sort_values(by=[\"age bracket\"])\n",
    "q10_df = bracket_df[{\"age bracket\", \"FTI\", \"T3\", \"TSH\"}]\n",
    "print(q10_df.to_string())"
   ]
  },
  {
   "cell_type": "markdown",
   "metadata": {},
   "source": [
    "## Question 11\n",
    "* Continue from question 3. \n",
    "* Find the average T3 and T4 level of across gender for each age group (based on 10 years interval). \n",
    "* Please explain the results.\n"
   ]
  },
  {
   "cell_type": "code",
   "execution_count": null,
   "metadata": {},
   "outputs": [],
   "source": [
    "# Calculate the age range\n",
    "min = ht_df[\"age\"].min()\n",
    "min = min - min%10        # Round the age down to the nearest 10\n",
    "max = ht_df[\"age\"].max()\n",
    "if max % 10 == 0:\n",
    "    max += 10             # If the max age is divisible by ten create an extra age bracket as we are using 0-9, 10-19, ... \n",
    "    \n",
    "print(\"=====================================================\")\n",
    "print(\"Average T3 & TT4 levels across gender by age bracket:\")\n",
    "print(\"=====================================================\")\n",
    "for age in range(min, max, 10):\n",
    "    bracket = \"%d-%d\" % (age,age+9)\n",
    "    print(f\"Age Bracket: {bracket}\")\n",
    "    b = bracket_df[bracket_df[\"age bracket\"] == bracket]\n",
    "    averages = b[[\"T3\", \"TT4\"]].mean()\n",
    "    print(\"Average T3: {:.3f}\".format(averages[\"T3\"]))\n",
    "    print(\"Average TT4: {:.3f}\\n\".format(averages[\"TT4\"]))"
   ]
  },
  {
   "cell_type": "markdown",
   "metadata": {},
   "source": [
    "### Analysis\n"
   ]
  },
  {
   "cell_type": "markdown",
   "metadata": {},
   "source": [
    "## Question 12\n",
    "* Continue from question 3. \n",
    "* Draw two scatter plots of FTI level, one against T4 and another against TSH rate. \n",
    "* Draw them in two subplots of the same plot."
   ]
  },
  {
   "cell_type": "code",
   "execution_count": null,
   "metadata": {},
   "outputs": [],
   "source": [
    "fig, ax = plt.subplots(2, figsize=(10, 6))\n",
    "\n",
    "ax[0].scatter(x = ht_df['FTI'], y = ht_df['TT4'])\n",
    "ax[0].set_xlabel(\"FTI (ug/dL)\")\n",
    "ax[0].set_ylabel(\"TT4 (nmol/L)\")\n",
    "\n",
    "ax[1].scatter(x = ht_df['FTI'], y = ht_df['TSH'])\n",
    "ax[1].set_xlabel(\"FTI (ug/dL)\")\n",
    "ax[1].set_ylabel(\"TSH (mU/L)\")\n",
    "\n",
    "plt.show()"
   ]
  },
  {
   "cell_type": "markdown",
   "metadata": {},
   "source": [
    "## Question 13\n",
    "* Continue from question 3.\n",
    "* Visualize the number of pregnant for each Hyper and Hypo disease group using bar plot. \n",
    "* Explain the graph base on your observation."
   ]
  },
  {
   "cell_type": "code",
   "execution_count": null,
   "metadata": {},
   "outputs": [],
   "source": [
    "# Collect the data for plotting. h1 = Hyperthyroid, H2 = Hypothyroid\n",
    "h1p = preg_df[preg_df[\"query hyperthyroid\"] == True]\n",
    "h1n = preg_df[preg_df[\"query hyperthyroid\"] == False]\n",
    "h2p = preg_df[preg_df[\"query hyperthyroid\"] == True]\n",
    "h2n = preg_df[preg_df[\"query hyperthyroid\"] == False]\n",
    "\n",
    "fig = plt.figure()\n",
    "ax = fig.add_axes([0,0,1,1])\n",
    "ax.set_xlabel(\"Pregnant Patients by Disease Groups\")\n",
    "ax.set_ylabel(\"Number in group\")\n",
    "\n",
    "diseaseGroup = ['Hyper Positive', 'Hyper Negative', 'Hypo Positive', 'Hypo Negative']\n",
    "totals = [h1p.shape[0],h1n.shape[0],h2p.shape[0],h2n.shape[0]]\n",
    "ax.bar(diseaseGroup,totals)\n",
    "plt.show()"
   ]
  },
  {
   "cell_type": "markdown",
   "metadata": {},
   "source": [
    "### Analysis"
   ]
  },
  {
   "cell_type": "markdown",
   "metadata": {},
   "source": [
    "## Question 14\n",
    "* Continue from question 3. \n",
    "* Draw a group bar diagram of T3, T4, TSH and total number of hypo patients, based on age groups. \n",
    "* Explain your observation from the graph."
   ]
  },
  {
   "cell_type": "code",
   "execution_count": null,
   "metadata": {},
   "outputs": [],
   "source": [
    "# Calculate the age range\n",
    "min = ht_df[\"age\"].min()\n",
    "min = min - min%10        # Round the age down to the nearest 10\n",
    "max = ht_df[\"age\"].max()\n",
    "if max % 10 == 0:\n",
    "    max += 10             # If the max age is divisible by ten create an extra age bracket as we are using 0-9, 10-19, ... \n",
    "\n",
    "# Define the arrays to hold the data for plotting\n",
    "labels = []\n",
    "t3 = []\n",
    "tt4 = []\n",
    "tsh = []\n",
    "hypo_count = []\n",
    "\n",
    "for age in range(min, max, 10):\n",
    "    bracket = \"%d-%d\" % (age,age+9)\n",
    "    labels.append(bracket)\n",
    "    sub_bracket_df = bracket_df[bracket_df[\"age bracket\"] == bracket]\n",
    "    a = sub_bracket_df[[\"T3\", \"TT4\", \"TSH\"]].mean()\n",
    "    t3.append(round(a[\"T3\"],3))\n",
    "    tt4.append(round(a[\"TT4\"],3))\n",
    "    tsh.append(round(a[\"TSH\"],3))\n",
    "    c = sub_bracket_df[sub_bracket_df[\"binaryClass\"]==\"P\"]\n",
    "    hypo_count.append(c.shape[0])\n",
    "\n",
    "print(\"Raw data for graphing:\")\n",
    "print(f\"Age brackets: {labels}\")\n",
    "print(f\"Average T3: {t3}\")\n",
    "print(f\"Average TT4: {tt4}\")\n",
    "print(f\"Average TSH: {t3}\")\n",
    "print(f\"Hypothyroid Disease Positive Count: {hypo_count}\")\n"
   ]
  },
  {
   "cell_type": "code",
   "execution_count": null,
   "metadata": {},
   "outputs": [],
   "source": [
    "x = np.arange(len(labels))  # the label locations\n",
    "width = 0.2  # the width of the bars\n",
    "\n",
    "fig, ax = plt.subplots()\n",
    "rects1 = ax.bar(x, t3, width, label='T3 avg')\n",
    "rects2 = ax.bar(x+(width), tt4, width, label='TT4 avg')\n",
    "rects3 = ax.bar(x+(width*2), tsh, width, label='TSH avg')\n",
    "rects4 = ax.bar(x+(width*3), hypo_count, width, label='# Hypothyroid +ve')\n",
    "\n",
    "# Add some text for labels, title and custom x-axis tick labels, etc.\n",
    "ax.set_title('Age Bracket')\n",
    "ax.set_xticks(x)\n",
    "ax.set_xticklabels(labels)\n",
    "ax.legend()\n",
    "\n",
    "# Print the value on top of each bar\n",
    "ax.bar_label(rects1, padding=3)\n",
    "ax.bar_label(rects2, padding=3)\n",
    "ax.bar_label(rects3, padding=3)\n",
    "ax.bar_label(rects4, padding=3)\n",
    "\n",
    "fig.set_size_inches(25,10)\n",
    "fig.tight_layout()\n",
    "\n",
    "plt.show()"
   ]
  },
  {
   "cell_type": "markdown",
   "metadata": {},
   "source": [
    "### Analysis"
   ]
  },
  {
   "cell_type": "markdown",
   "metadata": {},
   "source": [
    "## Question 15\n",
    "* Continue from question 3. \n",
    "* Calculate the number of male and female patients affected by hyper disease in each group."
   ]
  },
  {
   "cell_type": "code",
   "execution_count": null,
   "metadata": {},
   "outputs": [],
   "source": [
    "males = ht_df[(ht_df[\"sex\"] == \"M\") & (ht_df[\"query hyperthyroid\"] == True)]\n",
    "females = ht_df[(ht_df[\"sex\"] == \"F\") & (ht_df[\"query hyperthyroid\"] == True)]\n",
    "print(f\"The number of Males affected by Hyperthyroid disease is {males.shape[0]}\")\n",
    "print(f\"The number of Females affected by Hyperthyroid disease is {females.shape[0]}\")"
   ]
  }
 ],
 "metadata": {
  "colab": {
   "collapsed_sections": [],
   "include_colab_link": true,
   "name": "Assignment 1.ipynb",
   "provenance": []
  },
  "kernelspec": {
   "display_name": "Python 3 (ipykernel)",
   "language": "python",
   "name": "python3"
  },
  "language_info": {
   "codemirror_mode": {
    "name": "ipython",
    "version": 3
   },
   "file_extension": ".py",
   "mimetype": "text/x-python",
   "name": "python",
   "nbconvert_exporter": "python",
   "pygments_lexer": "ipython3",
   "version": "3.8.8"
  }
 },
 "nbformat": 4,
 "nbformat_minor": 4
}
