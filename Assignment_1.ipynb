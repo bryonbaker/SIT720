{
 "cells": [
  {
   "cell_type": "markdown",
   "metadata": {
    "colab_type": "text",
    "id": "view-in-github"
   },
   "source": [
    "<a href=\"https://colab.research.google.com/github/bryonbaker/SIT720/blob/main/Assignment_1.ipynb\" target=\"_parent\"><img src=\"https://colab.research.google.com/assets/colab-badge.svg\" alt=\"Open In Colab\"/></a>"
   ]
  },
  {
   "cell_type": "markdown",
   "metadata": {
    "id": "blaX_mjDsZao"
   },
   "source": [
    "# SIT720 - Assignment 1\n",
    "\n",
    "Bryon Baker\n",
    "Student number: 85031775"
   ]
  },
  {
   "cell_type": "markdown",
   "metadata": {
    "id": "Yffa-2TNtx8j"
   },
   "source": [
    "# Import required modules and libraries"
   ]
  },
  {
   "cell_type": "code",
   "execution_count": 1,
   "metadata": {},
   "outputs": [
    {
     "name": "stdout",
     "output_type": "stream",
     "text": [
      "Requirement already satisfied: pandas in /opt/app-root/lib/python3.8/site-packages (1.2.4)\n",
      "Requirement already satisfied: pytz>=2017.3 in /opt/app-root/lib/python3.8/site-packages (from pandas) (2021.3)\n",
      "Requirement already satisfied: numpy>=1.16.5 in /opt/app-root/lib/python3.8/site-packages (from pandas) (1.19.2)\n",
      "Requirement already satisfied: python-dateutil>=2.7.3 in /opt/app-root/lib/python3.8/site-packages (from pandas) (2.8.2)\n",
      "Requirement already satisfied: six>=1.5 in /opt/app-root/lib/python3.8/site-packages (from python-dateutil>=2.7.3->pandas) (1.16.0)\n",
      "\u001b[33mWARNING: You are using pip version 21.3.1; however, version 22.0.4 is available.\n",
      "You should consider upgrading via the '/opt/app-root/bin/python3.8 -m pip install --upgrade pip' command.\u001b[0m\n",
      "Requirement already satisfied: numpy in /opt/app-root/lib/python3.8/site-packages (1.19.2)\n",
      "\u001b[33mWARNING: You are using pip version 21.3.1; however, version 22.0.4 is available.\n",
      "You should consider upgrading via the '/opt/app-root/bin/python3.8 -m pip install --upgrade pip' command.\u001b[0m\n"
     ]
    }
   ],
   "source": [
    "!pip3 install pandas\n",
    "!pip3 install numpy"
   ]
  },
  {
   "cell_type": "code",
   "execution_count": 2,
   "metadata": {
    "id": "Ov2aAFg8sYRW"
   },
   "outputs": [],
   "source": [
    "\n",
    "import pandas as pd\n",
    "import numpy as np"
   ]
  },
  {
   "cell_type": "markdown",
   "metadata": {
    "id": "v0f-_2tsMS4t"
   },
   "source": [
    "# Function Declarations"
   ]
  },
  {
   "cell_type": "code",
   "execution_count": null,
   "metadata": {
    "id": "rilrcLwOMS4t"
   },
   "outputs": [],
   "source": []
  },
  {
   "cell_type": "code",
   "execution_count": null,
   "metadata": {
    "id": "rzlPG6HEt3hk"
   },
   "outputs": [],
   "source": []
  },
  {
   "cell_type": "markdown",
   "metadata": {
    "id": "2OvI0wzHvlv8"
   },
   "source": [
    "## QUESTION 1\n",
    "* Load the data from supplied data file. \n",
    "* Select the first 500 observations/ samples from the dataset. \n",
    "* Print the data dimension.\n"
   ]
  },
  {
   "cell_type": "code",
   "execution_count": 3,
   "metadata": {},
   "outputs": [
    {
     "data": {
      "text/html": [
       "<div>\n",
       "<style scoped>\n",
       "    .dataframe tbody tr th:only-of-type {\n",
       "        vertical-align: middle;\n",
       "    }\n",
       "\n",
       "    .dataframe tbody tr th {\n",
       "        vertical-align: top;\n",
       "    }\n",
       "\n",
       "    .dataframe thead th {\n",
       "        text-align: right;\n",
       "    }\n",
       "</style>\n",
       "<table border=\"1\" class=\"dataframe\">\n",
       "  <thead>\n",
       "    <tr style=\"text-align: right;\">\n",
       "      <th></th>\n",
       "      <th>age</th>\n",
       "      <th>sex</th>\n",
       "      <th>on thyroxine</th>\n",
       "      <th>pregnant</th>\n",
       "      <th>I131 treatment</th>\n",
       "      <th>query hyperthyroid</th>\n",
       "      <th>TSH</th>\n",
       "      <th>T3</th>\n",
       "      <th>TT4</th>\n",
       "      <th>FTI</th>\n",
       "      <th>binaryClass</th>\n",
       "    </tr>\n",
       "  </thead>\n",
       "  <tbody>\n",
       "    <tr>\n",
       "      <th>0</th>\n",
       "      <td>41</td>\n",
       "      <td>F</td>\n",
       "      <td>f</td>\n",
       "      <td>f</td>\n",
       "      <td>f</td>\n",
       "      <td>f</td>\n",
       "      <td>1.3</td>\n",
       "      <td>2.5</td>\n",
       "      <td>125</td>\n",
       "      <td>109</td>\n",
       "      <td>P</td>\n",
       "    </tr>\n",
       "    <tr>\n",
       "      <th>1</th>\n",
       "      <td>23</td>\n",
       "      <td>F</td>\n",
       "      <td>f</td>\n",
       "      <td>f</td>\n",
       "      <td>f</td>\n",
       "      <td>f</td>\n",
       "      <td>4.1</td>\n",
       "      <td>2</td>\n",
       "      <td>102</td>\n",
       "      <td>?</td>\n",
       "      <td>P</td>\n",
       "    </tr>\n",
       "    <tr>\n",
       "      <th>2</th>\n",
       "      <td>46</td>\n",
       "      <td>M</td>\n",
       "      <td>f</td>\n",
       "      <td>f</td>\n",
       "      <td>f</td>\n",
       "      <td>f</td>\n",
       "      <td>0.98</td>\n",
       "      <td>?</td>\n",
       "      <td>109</td>\n",
       "      <td>120</td>\n",
       "      <td>P</td>\n",
       "    </tr>\n",
       "    <tr>\n",
       "      <th>3</th>\n",
       "      <td>70</td>\n",
       "      <td>F</td>\n",
       "      <td>t</td>\n",
       "      <td>f</td>\n",
       "      <td>f</td>\n",
       "      <td>f</td>\n",
       "      <td>0.16</td>\n",
       "      <td>1.9</td>\n",
       "      <td>175</td>\n",
       "      <td>?</td>\n",
       "      <td>P</td>\n",
       "    </tr>\n",
       "    <tr>\n",
       "      <th>4</th>\n",
       "      <td>70</td>\n",
       "      <td>F</td>\n",
       "      <td>f</td>\n",
       "      <td>f</td>\n",
       "      <td>f</td>\n",
       "      <td>f</td>\n",
       "      <td>0.72</td>\n",
       "      <td>1.2</td>\n",
       "      <td>61</td>\n",
       "      <td>70</td>\n",
       "      <td>P</td>\n",
       "    </tr>\n",
       "    <tr>\n",
       "      <th>...</th>\n",
       "      <td>...</td>\n",
       "      <td>...</td>\n",
       "      <td>...</td>\n",
       "      <td>...</td>\n",
       "      <td>...</td>\n",
       "      <td>...</td>\n",
       "      <td>...</td>\n",
       "      <td>...</td>\n",
       "      <td>...</td>\n",
       "      <td>...</td>\n",
       "      <td>...</td>\n",
       "    </tr>\n",
       "    <tr>\n",
       "      <th>495</th>\n",
       "      <td>46</td>\n",
       "      <td>F</td>\n",
       "      <td>f</td>\n",
       "      <td>f</td>\n",
       "      <td>f</td>\n",
       "      <td>f</td>\n",
       "      <td>?</td>\n",
       "      <td>?</td>\n",
       "      <td>93</td>\n",
       "      <td>102</td>\n",
       "      <td>P</td>\n",
       "    </tr>\n",
       "    <tr>\n",
       "      <th>496</th>\n",
       "      <td>45</td>\n",
       "      <td>F</td>\n",
       "      <td>f</td>\n",
       "      <td>f</td>\n",
       "      <td>f</td>\n",
       "      <td>f</td>\n",
       "      <td>0.02</td>\n",
       "      <td>1.4</td>\n",
       "      <td>144</td>\n",
       "      <td>?</td>\n",
       "      <td>P</td>\n",
       "    </tr>\n",
       "    <tr>\n",
       "      <th>497</th>\n",
       "      <td>82</td>\n",
       "      <td>M</td>\n",
       "      <td>f</td>\n",
       "      <td>f</td>\n",
       "      <td>f</td>\n",
       "      <td>f</td>\n",
       "      <td>0.15</td>\n",
       "      <td>1.4</td>\n",
       "      <td>133</td>\n",
       "      <td>134</td>\n",
       "      <td>P</td>\n",
       "    </tr>\n",
       "    <tr>\n",
       "      <th>498</th>\n",
       "      <td>55</td>\n",
       "      <td>F</td>\n",
       "      <td>f</td>\n",
       "      <td>f</td>\n",
       "      <td>f</td>\n",
       "      <td>f</td>\n",
       "      <td>11</td>\n",
       "      <td>1.5</td>\n",
       "      <td>144</td>\n",
       "      <td>116</td>\n",
       "      <td>N</td>\n",
       "    </tr>\n",
       "    <tr>\n",
       "      <th>499</th>\n",
       "      <td>43</td>\n",
       "      <td>M</td>\n",
       "      <td>f</td>\n",
       "      <td>f</td>\n",
       "      <td>f</td>\n",
       "      <td>f</td>\n",
       "      <td>0.1</td>\n",
       "      <td>?</td>\n",
       "      <td>62</td>\n",
       "      <td>66</td>\n",
       "      <td>P</td>\n",
       "    </tr>\n",
       "  </tbody>\n",
       "</table>\n",
       "<p>500 rows × 11 columns</p>\n",
       "</div>"
      ],
      "text/plain": [
       "    age sex on thyroxine pregnant I131 treatment query hyperthyroid   TSH  \\\n",
       "0    41   F            f        f              f                  f   1.3   \n",
       "1    23   F            f        f              f                  f   4.1   \n",
       "2    46   M            f        f              f                  f  0.98   \n",
       "3    70   F            t        f              f                  f  0.16   \n",
       "4    70   F            f        f              f                  f  0.72   \n",
       "..   ..  ..          ...      ...            ...                ...   ...   \n",
       "495  46   F            f        f              f                  f     ?   \n",
       "496  45   F            f        f              f                  f  0.02   \n",
       "497  82   M            f        f              f                  f  0.15   \n",
       "498  55   F            f        f              f                  f    11   \n",
       "499  43   M            f        f              f                  f   0.1   \n",
       "\n",
       "      T3  TT4  FTI binaryClass  \n",
       "0    2.5  125  109           P  \n",
       "1      2  102    ?           P  \n",
       "2      ?  109  120           P  \n",
       "3    1.9  175    ?           P  \n",
       "4    1.2   61   70           P  \n",
       "..   ...  ...  ...         ...  \n",
       "495    ?   93  102           P  \n",
       "496  1.4  144    ?           P  \n",
       "497  1.4  133  134           P  \n",
       "498  1.5  144  116           N  \n",
       "499    ?   62   66           P  \n",
       "\n",
       "[500 rows x 11 columns]"
      ]
     },
     "execution_count": 3,
     "metadata": {},
     "output_type": "execute_result"
    }
   ],
   "source": [
    "import ssl\n",
    "ssl._create_default_https_context = ssl._create_unverified_context\n",
    "\n",
    "url = 'https://raw.githubusercontent.com/bryonbaker/datasets/main/SIT720/Ass1/hypothyroid.csv'\n",
    "fullht_df = pd.read_csv(url)\n",
    "fullht_df.head(n=500)"
   ]
  },
  {
   "cell_type": "code",
   "execution_count": 4,
   "metadata": {
    "colab": {
     "base_uri": "https://localhost:8080/"
    },
    "id": "bUUIoddjy9JQ",
    "outputId": "8c525953-4113-44bb-9c14-0b0bbb26560e"
   },
   "outputs": [
    {
     "name": "stdout",
     "output_type": "stream",
     "text": [
      "Working dataset dimension is: (500, 11)\n",
      "\n"
     ]
    }
   ],
   "source": [
    "# Get the first 500 rows from the dataset and use that for the rest of the assignment.\n",
    "ht_df = fullht_df.head(n=500)\n",
    "\n",
    "# Display the dataset's dimension\n",
    "initialShape = ht_df.shape\n",
    "print(f\"Working dataset dimension is: {initialShape}\\n\")"
   ]
  },
  {
   "cell_type": "markdown",
   "metadata": {
    "id": "WfpLE-Fl0qMZ"
   },
   "source": [
    "## QUESTION 2\n",
    "* Continue from question 1. \n",
    "* Display the number of rows and their indices that have missing data in one or more cells. \n",
    "* Now, replace the missing data by the lowest value of the corresponding feature if it is a continuous variable. In case of categorical variable, remove the sample. \n",
    "* Print the median values of all features before and after replacing missing data."
   ]
  },
  {
   "cell_type": "code",
   "execution_count": null,
   "metadata": {},
   "outputs": [],
   "source": []
  },
  {
   "cell_type": "code",
   "execution_count": 5,
   "metadata": {
    "colab": {
     "base_uri": "https://localhost:8080/"
    },
    "id": "_xf7D0pO04nI",
    "outputId": "3839d5ea-0218-4801-840f-f2ca1c586ffb"
   },
   "outputs": [
    {
     "name": "stdout",
     "output_type": "stream",
     "text": [
      "The number of rows with missing values is 144\n",
      "\n",
      "=============================\n",
      "Median Pre-Data Modification:\n",
      "=============================\n",
      "The Median of each column is:\n",
      "age     55.0\n",
      "TSH      1.4\n",
      "T3       1.9\n",
      "TT4    103.0\n",
      "FTI    108.0\n",
      "dtype: float64\n",
      "\n",
      "======================================\n",
      "Updating missing continuous variables:\n",
      "======================================\n",
      "Min value for age is 1\n",
      "Min value for TSH is 0.005\n",
      "Min value for T3 is 0.05\n",
      "Min value for TT4 is 11.0\n",
      "Min value for FTI is 8.9\n",
      "\n",
      "===============================\n",
      "Median Post-Data Modification:\n",
      "==============================\n",
      "The Median of each column is:\n",
      "age     55.00\n",
      "TSH      1.15\n",
      "T3       1.70\n",
      "TT4    102.00\n",
      "FTI    105.00\n",
      "dtype: float64\n",
      "Working dataset dimension is: (478, 11)\n",
      "\n",
      "500 478 22\n"
     ]
    }
   ],
   "source": [
    "# Find the number of rows that have missing data\n",
    "ht_df = ht_df.replace('?', np.NaN)              # Replace ? with NaN\n",
    "numMissing = ht_df.isna().any(axis=1).sum()\n",
    "print(f\"The number of rows with missing values is {numMissing}\")\n",
    "\n",
    "# Define the features that are subject to replacing with the lowest value in the column.\n",
    "# This series will ne used to define the features that will be updated if they are missing.\n",
    "continuousFeatures = pd.Series([\"age\", \"TSH\",\"T3\",\"TT4\",\"FTI\"], copy = False)\n",
    "\n",
    "# All features are currently text. Change the data types of the continuous variables to numeric\n",
    "# so we can perform calculations with them.\n",
    "ht_df[continuousFeatures] = ht_df[continuousFeatures].apply(pd.to_numeric)\n",
    "\n",
    "# Calculate the Median prior to replacing missing values\n",
    "initialMedian = ht_df[continuousFeatures].median(skipna=True)\n",
    "print(\"\\n=============================\")\n",
    "print(\"Median Pre-Data Modification:\")\n",
    "print(\"=============================\")\n",
    "print(f\"The Median of each column is:\\n{initialMedian}\")\n",
    "\n",
    "# Find the minimum value for each continuous variable\n",
    "minValues = ht_df.min(axis=0)\n",
    "print(\"\\n======================================\")\n",
    "print(\"Updating missing continuous variables:\")\n",
    "print(\"======================================\")\n",
    "for index, value in continuousFeatures.items():\n",
    "    print(f\"Min value for {value} is {minValues[value]}\")\n",
    "    ht_df[value] = ht_df[value].fillna(minValues[value])\n",
    "\n",
    "# Calculate the Median value of all continuous features.\n",
    "# Using the list of continuous features, replace any missing (NaN) values with the lowest value in the column.\n",
    "# Replace the NaN's of the numeric columns with the mean\n",
    "ht_df[\"TSH\"] = ht_df[\"TSH\"].fillna(continuousFeatures[1])\n",
    "# Calculate the new Median value of all continuous features.\n",
    "# Display the before/after Median values\n",
    "\n",
    "# Calculate the Median prior to replacing missing values\n",
    "postMedian = ht_df[continuousFeatures].median(skipna=True)\n",
    "print(\"\\n===============================\")\n",
    "print(\"Median Post-Data Modification:\")\n",
    "print(\"==============================\")\n",
    "print(f\"The Median of each column is:\\n{postMedian}\")\n",
    "\n",
    "# Now all the continuous variables have had NaN replaced, drop any rows with categorical values of NaN\n",
    "numMissing = ht_df.isna().any(axis=1).sum()# Recalculate the number of rows left with missing values for assert later.\n",
    "ht_df = ht_df.dropna()\n",
    "\n",
    "\n",
    "# Display the dataset's new dimension\n",
    "print(f\"Working dataset dimension is: {ht_df.shape}\\n\")\n",
    "print(f\"{initialShape[0]} {ht_df.shape[0]} {numMissing}\")\n",
    "\n",
    "# Check that the new shape is correct based on the number of missing non-continuous values\n",
    "assert initialShape[0] == ht_df.shape[0]+numMissing"
   ]
  },
  {
   "cell_type": "code",
   "execution_count": 6,
   "metadata": {},
   "outputs": [
    {
     "data": {
      "text/html": [
       "<div>\n",
       "<style scoped>\n",
       "    .dataframe tbody tr th:only-of-type {\n",
       "        vertical-align: middle;\n",
       "    }\n",
       "\n",
       "    .dataframe tbody tr th {\n",
       "        vertical-align: top;\n",
       "    }\n",
       "\n",
       "    .dataframe thead th {\n",
       "        text-align: right;\n",
       "    }\n",
       "</style>\n",
       "<table border=\"1\" class=\"dataframe\">\n",
       "  <thead>\n",
       "    <tr style=\"text-align: right;\">\n",
       "      <th></th>\n",
       "      <th>age</th>\n",
       "      <th>sex</th>\n",
       "      <th>on thyroxine</th>\n",
       "      <th>pregnant</th>\n",
       "      <th>I131 treatment</th>\n",
       "      <th>query hyperthyroid</th>\n",
       "      <th>TSH</th>\n",
       "      <th>T3</th>\n",
       "      <th>TT4</th>\n",
       "      <th>FTI</th>\n",
       "      <th>binaryClass</th>\n",
       "    </tr>\n",
       "  </thead>\n",
       "  <tbody>\n",
       "    <tr>\n",
       "      <th>0</th>\n",
       "      <td>41</td>\n",
       "      <td>F</td>\n",
       "      <td>f</td>\n",
       "      <td>f</td>\n",
       "      <td>f</td>\n",
       "      <td>f</td>\n",
       "      <td>1.300</td>\n",
       "      <td>2.50</td>\n",
       "      <td>125.0</td>\n",
       "      <td>109.0</td>\n",
       "      <td>P</td>\n",
       "    </tr>\n",
       "    <tr>\n",
       "      <th>1</th>\n",
       "      <td>23</td>\n",
       "      <td>F</td>\n",
       "      <td>f</td>\n",
       "      <td>f</td>\n",
       "      <td>f</td>\n",
       "      <td>f</td>\n",
       "      <td>4.100</td>\n",
       "      <td>2.00</td>\n",
       "      <td>102.0</td>\n",
       "      <td>8.9</td>\n",
       "      <td>P</td>\n",
       "    </tr>\n",
       "    <tr>\n",
       "      <th>2</th>\n",
       "      <td>46</td>\n",
       "      <td>M</td>\n",
       "      <td>f</td>\n",
       "      <td>f</td>\n",
       "      <td>f</td>\n",
       "      <td>f</td>\n",
       "      <td>0.980</td>\n",
       "      <td>0.05</td>\n",
       "      <td>109.0</td>\n",
       "      <td>120.0</td>\n",
       "      <td>P</td>\n",
       "    </tr>\n",
       "    <tr>\n",
       "      <th>3</th>\n",
       "      <td>70</td>\n",
       "      <td>F</td>\n",
       "      <td>t</td>\n",
       "      <td>f</td>\n",
       "      <td>f</td>\n",
       "      <td>f</td>\n",
       "      <td>0.160</td>\n",
       "      <td>1.90</td>\n",
       "      <td>175.0</td>\n",
       "      <td>8.9</td>\n",
       "      <td>P</td>\n",
       "    </tr>\n",
       "    <tr>\n",
       "      <th>4</th>\n",
       "      <td>70</td>\n",
       "      <td>F</td>\n",
       "      <td>f</td>\n",
       "      <td>f</td>\n",
       "      <td>f</td>\n",
       "      <td>f</td>\n",
       "      <td>0.720</td>\n",
       "      <td>1.20</td>\n",
       "      <td>61.0</td>\n",
       "      <td>70.0</td>\n",
       "      <td>P</td>\n",
       "    </tr>\n",
       "    <tr>\n",
       "      <th>...</th>\n",
       "      <td>...</td>\n",
       "      <td>...</td>\n",
       "      <td>...</td>\n",
       "      <td>...</td>\n",
       "      <td>...</td>\n",
       "      <td>...</td>\n",
       "      <td>...</td>\n",
       "      <td>...</td>\n",
       "      <td>...</td>\n",
       "      <td>...</td>\n",
       "      <td>...</td>\n",
       "    </tr>\n",
       "    <tr>\n",
       "      <th>495</th>\n",
       "      <td>46</td>\n",
       "      <td>F</td>\n",
       "      <td>f</td>\n",
       "      <td>f</td>\n",
       "      <td>f</td>\n",
       "      <td>f</td>\n",
       "      <td>0.005</td>\n",
       "      <td>0.05</td>\n",
       "      <td>93.0</td>\n",
       "      <td>102.0</td>\n",
       "      <td>P</td>\n",
       "    </tr>\n",
       "    <tr>\n",
       "      <th>496</th>\n",
       "      <td>45</td>\n",
       "      <td>F</td>\n",
       "      <td>f</td>\n",
       "      <td>f</td>\n",
       "      <td>f</td>\n",
       "      <td>f</td>\n",
       "      <td>0.020</td>\n",
       "      <td>1.40</td>\n",
       "      <td>144.0</td>\n",
       "      <td>8.9</td>\n",
       "      <td>P</td>\n",
       "    </tr>\n",
       "    <tr>\n",
       "      <th>497</th>\n",
       "      <td>82</td>\n",
       "      <td>M</td>\n",
       "      <td>f</td>\n",
       "      <td>f</td>\n",
       "      <td>f</td>\n",
       "      <td>f</td>\n",
       "      <td>0.150</td>\n",
       "      <td>1.40</td>\n",
       "      <td>133.0</td>\n",
       "      <td>134.0</td>\n",
       "      <td>P</td>\n",
       "    </tr>\n",
       "    <tr>\n",
       "      <th>498</th>\n",
       "      <td>55</td>\n",
       "      <td>F</td>\n",
       "      <td>f</td>\n",
       "      <td>f</td>\n",
       "      <td>f</td>\n",
       "      <td>f</td>\n",
       "      <td>11.000</td>\n",
       "      <td>1.50</td>\n",
       "      <td>144.0</td>\n",
       "      <td>116.0</td>\n",
       "      <td>N</td>\n",
       "    </tr>\n",
       "    <tr>\n",
       "      <th>499</th>\n",
       "      <td>43</td>\n",
       "      <td>M</td>\n",
       "      <td>f</td>\n",
       "      <td>f</td>\n",
       "      <td>f</td>\n",
       "      <td>f</td>\n",
       "      <td>0.100</td>\n",
       "      <td>0.05</td>\n",
       "      <td>62.0</td>\n",
       "      <td>66.0</td>\n",
       "      <td>P</td>\n",
       "    </tr>\n",
       "  </tbody>\n",
       "</table>\n",
       "<p>478 rows × 11 columns</p>\n",
       "</div>"
      ],
      "text/plain": [
       "     age sex on thyroxine pregnant I131 treatment query hyperthyroid     TSH  \\\n",
       "0     41   F            f        f              f                  f   1.300   \n",
       "1     23   F            f        f              f                  f   4.100   \n",
       "2     46   M            f        f              f                  f   0.980   \n",
       "3     70   F            t        f              f                  f   0.160   \n",
       "4     70   F            f        f              f                  f   0.720   \n",
       "..   ...  ..          ...      ...            ...                ...     ...   \n",
       "495   46   F            f        f              f                  f   0.005   \n",
       "496   45   F            f        f              f                  f   0.020   \n",
       "497   82   M            f        f              f                  f   0.150   \n",
       "498   55   F            f        f              f                  f  11.000   \n",
       "499   43   M            f        f              f                  f   0.100   \n",
       "\n",
       "       T3    TT4    FTI binaryClass  \n",
       "0    2.50  125.0  109.0           P  \n",
       "1    2.00  102.0    8.9           P  \n",
       "2    0.05  109.0  120.0           P  \n",
       "3    1.90  175.0    8.9           P  \n",
       "4    1.20   61.0   70.0           P  \n",
       "..    ...    ...    ...         ...  \n",
       "495  0.05   93.0  102.0           P  \n",
       "496  1.40  144.0    8.9           P  \n",
       "497  1.40  133.0  134.0           P  \n",
       "498  1.50  144.0  116.0           N  \n",
       "499  0.05   62.0   66.0           P  \n",
       "\n",
       "[478 rows x 11 columns]"
      ]
     },
     "execution_count": 6,
     "metadata": {},
     "output_type": "execute_result"
    }
   ],
   "source": [
    "# Display the new data set for informational purposes\n",
    "ht_df.head(n=500)"
   ]
  },
  {
   "cell_type": "markdown",
   "metadata": {},
   "source": [
    "## QUESTION 3"
   ]
  },
  {
   "cell_type": "markdown",
   "metadata": {},
   "source": [
    "* Continue from question 2.\n",
    "* Is there any change in data type? If yes, convert them back to appropriate data types. \n",
    "* Print all variables with corresponding data type."
   ]
  },
  {
   "cell_type": "code",
   "execution_count": 7,
   "metadata": {},
   "outputs": [],
   "source": [
    "# Change the t/f features to proper boolean values by creating a new column mapped to the original value\n",
    "\n",
    "boolColumns = pd.Series([\"on thyroxine\", \"pregnant\", \"I131 treatment\", \"query hyperthyroid\"], copy = False)    # The columns to change types\n",
    "boolMap = {'t' : True, 'f': False }    # How to map the values\n",
    "cols = ht_df.columns.tolist()     # Get the order of columns so we can preserve the table structure after we change all the types with row swaps.\n",
    "\n",
    "for index, value in boolColumns.items():\n",
    "    oldName = value    # Save the old name for renaming back later\n",
    "    newName = \"new_\" + value    # Create a temporary column name\n",
    "    ht_df[newName] = ht_df[oldName].map(boolMap)    # Adds a new column with proper boolean values\n",
    "    ht_df = ht_df.drop([oldName], axis=1)    # Drop the old column before renaming the new column to the name just dropped\n",
    "    ht_df = ht_df.rename(columns={newName : oldName})\n",
    "\n",
    "ht_df = ht_df[cols]    # Reorder the columns back to what they were before we started."
   ]
  },
  {
   "cell_type": "code",
   "execution_count": 8,
   "metadata": {},
   "outputs": [
    {
     "name": "stdout",
     "output_type": "stream",
     "text": [
      "Updated table structure\n",
      "=======================\n"
     ]
    },
    {
     "data": {
      "text/html": [
       "<div>\n",
       "<style scoped>\n",
       "    .dataframe tbody tr th:only-of-type {\n",
       "        vertical-align: middle;\n",
       "    }\n",
       "\n",
       "    .dataframe tbody tr th {\n",
       "        vertical-align: top;\n",
       "    }\n",
       "\n",
       "    .dataframe thead th {\n",
       "        text-align: right;\n",
       "    }\n",
       "</style>\n",
       "<table border=\"1\" class=\"dataframe\">\n",
       "  <thead>\n",
       "    <tr style=\"text-align: right;\">\n",
       "      <th></th>\n",
       "      <th>age</th>\n",
       "      <th>sex</th>\n",
       "      <th>on thyroxine</th>\n",
       "      <th>pregnant</th>\n",
       "      <th>I131 treatment</th>\n",
       "      <th>query hyperthyroid</th>\n",
       "      <th>TSH</th>\n",
       "      <th>T3</th>\n",
       "      <th>TT4</th>\n",
       "      <th>FTI</th>\n",
       "      <th>binaryClass</th>\n",
       "    </tr>\n",
       "  </thead>\n",
       "  <tbody>\n",
       "    <tr>\n",
       "      <th>0</th>\n",
       "      <td>41</td>\n",
       "      <td>F</td>\n",
       "      <td>False</td>\n",
       "      <td>False</td>\n",
       "      <td>False</td>\n",
       "      <td>False</td>\n",
       "      <td>1.30</td>\n",
       "      <td>2.50</td>\n",
       "      <td>125.0</td>\n",
       "      <td>109.0</td>\n",
       "      <td>P</td>\n",
       "    </tr>\n",
       "    <tr>\n",
       "      <th>1</th>\n",
       "      <td>23</td>\n",
       "      <td>F</td>\n",
       "      <td>False</td>\n",
       "      <td>False</td>\n",
       "      <td>False</td>\n",
       "      <td>False</td>\n",
       "      <td>4.10</td>\n",
       "      <td>2.00</td>\n",
       "      <td>102.0</td>\n",
       "      <td>8.9</td>\n",
       "      <td>P</td>\n",
       "    </tr>\n",
       "    <tr>\n",
       "      <th>2</th>\n",
       "      <td>46</td>\n",
       "      <td>M</td>\n",
       "      <td>False</td>\n",
       "      <td>False</td>\n",
       "      <td>False</td>\n",
       "      <td>False</td>\n",
       "      <td>0.98</td>\n",
       "      <td>0.05</td>\n",
       "      <td>109.0</td>\n",
       "      <td>120.0</td>\n",
       "      <td>P</td>\n",
       "    </tr>\n",
       "    <tr>\n",
       "      <th>3</th>\n",
       "      <td>70</td>\n",
       "      <td>F</td>\n",
       "      <td>True</td>\n",
       "      <td>False</td>\n",
       "      <td>False</td>\n",
       "      <td>False</td>\n",
       "      <td>0.16</td>\n",
       "      <td>1.90</td>\n",
       "      <td>175.0</td>\n",
       "      <td>8.9</td>\n",
       "      <td>P</td>\n",
       "    </tr>\n",
       "    <tr>\n",
       "      <th>4</th>\n",
       "      <td>70</td>\n",
       "      <td>F</td>\n",
       "      <td>False</td>\n",
       "      <td>False</td>\n",
       "      <td>False</td>\n",
       "      <td>False</td>\n",
       "      <td>0.72</td>\n",
       "      <td>1.20</td>\n",
       "      <td>61.0</td>\n",
       "      <td>70.0</td>\n",
       "      <td>P</td>\n",
       "    </tr>\n",
       "  </tbody>\n",
       "</table>\n",
       "</div>"
      ],
      "text/plain": [
       "   age sex  on thyroxine  pregnant  I131 treatment  query hyperthyroid   TSH  \\\n",
       "0   41   F         False     False           False               False  1.30   \n",
       "1   23   F         False     False           False               False  4.10   \n",
       "2   46   M         False     False           False               False  0.98   \n",
       "3   70   F          True     False           False               False  0.16   \n",
       "4   70   F         False     False           False               False  0.72   \n",
       "\n",
       "     T3    TT4    FTI binaryClass  \n",
       "0  2.50  125.0  109.0           P  \n",
       "1  2.00  102.0    8.9           P  \n",
       "2  0.05  109.0  120.0           P  \n",
       "3  1.90  175.0    8.9           P  \n",
       "4  1.20   61.0   70.0           P  "
      ]
     },
     "execution_count": 8,
     "metadata": {},
     "output_type": "execute_result"
    }
   ],
   "source": [
    "print(\"Updated table structure\")\n",
    "print(\"=======================\")\n",
    "ht_df.head()"
   ]
  },
  {
   "cell_type": "code",
   "execution_count": 9,
   "metadata": {},
   "outputs": [
    {
     "name": "stdout",
     "output_type": "stream",
     "text": [
      "DataFrame variables and corresponding data types:\n",
      "=================================================\n",
      "age                     int64\n",
      "sex                    object\n",
      "on thyroxine             bool\n",
      "pregnant                 bool\n",
      "I131 treatment           bool\n",
      "query hyperthyroid       bool\n",
      "TSH                   float64\n",
      "T3                    float64\n",
      "TT4                   float64\n",
      "FTI                   float64\n",
      "binaryClass            object\n",
      "dtype: object\n"
     ]
    }
   ],
   "source": [
    "print(\"DataFrame variables and corresponding data types:\")\n",
    "print(\"=================================================\")\n",
    "print(ht_df.dtypes)"
   ]
  },
  {
   "cell_type": "markdown",
   "metadata": {},
   "source": [
    "## QUESTION 4\n",
    "* Continue from question 3. \n",
    "* Print the total numbers and ratio of male and female patients who are receiving I131 treatment."
   ]
  },
  {
   "cell_type": "code",
   "execution_count": 10,
   "metadata": {},
   "outputs": [
    {
     "name": "stdout",
     "output_type": "stream",
     "text": [
      "Number of Males receiving I131 treatment is: 2\n",
      "Number of Females receiving I131 treatment is: 0\n",
      "Total number of people receiving I131 treatment is: 2\n",
      "Ratio of Males receiving/not receiving I131 Treatment is: 0.011976047904191617\n",
      "Ratio of Females receiving/not receiving I131 Treatment is: 0.0\n"
     ]
    }
   ],
   "source": [
    "male_i131 = ht_df[(ht_df[\"I131 treatment\"] == True) & (ht_df[\"sex\"] == \"M\")]\n",
    "female_i131 = ht_df[(ht_df[\"I131 treatment\"] == True) & (ht_df[\"sex\"] == \"F\")]\n",
    "total_i131 = ht_df[ht_df[\"I131 treatment\"] == True]\n",
    "numMales = ht_df[ht_df[\"sex\"] == \"M\"].shape[0]\n",
    "numFemales = ht_df[ht_df[\"sex\"] == \"F\"].shape[0]\n",
    "\n",
    "numMalesWithI131 = male_i131.shape[0]\n",
    "numFemalesWithI131 = female_i131.shape[0]\n",
    "totalWithI131 = total_i131.shape[0]\n",
    "\n",
    "print(f\"Number of Males receiving I131 treatment is: {numMalesWithI131}\")\n",
    "print(f\"Number of Females receiving I131 treatment is: {numFemalesWithI131}\")\n",
    "print(f\"Total number of people receiving I131 treatment is: {totalWithI131}\")\n",
    "print(f\"Ratio of Males receiving/not receiving I131 Treatment is: {numMalesWithI131/numMales}\")\n",
    "print(f\"Ratio of Females receiving/not receiving I131 Treatment is: {numFemalesWithI131/numFemales}\")"
   ]
  },
  {
   "cell_type": "markdown",
   "metadata": {},
   "source": [
    "## QUESTION 5\n",
    "* Continue from question 3. \n",
    "* Print the average TSH and T3 with the patient with Hypothyroid problem. \n",
    "* Please report the pattern found in the result, if any."
   ]
  },
  {
   "cell_type": "code",
   "execution_count": 11,
   "metadata": {},
   "outputs": [
    {
     "name": "stdout",
     "output_type": "stream",
     "text": [
      "TSH/T3 Breakdown of Patients at Risk of Hypothyroid Disease:\n",
      "\tAverage TSH: 1.582991 mU/L\n",
      "\tAverage T3: 1.585388 ng/dl\n"
     ]
    }
   ],
   "source": [
    "# Looking for records with binaryClass == P. Calculate the average for the TSH and T3\n",
    "\n",
    "averages = ht_df[ht_df[\"binaryClass\"] == \"P\"][[\"TSH\",\"T3\"]].mean()\n",
    "print(\"TSH/T3 Breakdown of Patients at Risk of Hypothyroid Disease:\")\n",
    "print(\"\\tAverage TSH: {:3f} mU/L\".format(averages['TSH']))\n",
    "print(\"\\tAverage T3: {:3f} ng/dl\".format(averages['T3']))"
   ]
  },
  {
   "cell_type": "markdown",
   "metadata": {},
   "source": [
    "### ANALYSIS\n",
    "When considered in isolation, these results indicate that there is a relationship between the average TSH and T3 values. (TSH: 1.582 and T3: 1.585)\n",
    "However, this alone should not be used to draw any conclusions because, as shown below, the ranges (0..27.0 vs. 0..5.5) and standard deviations (2.86 vs. 1.08) are very different, indicating that the similar values are coincidence."
   ]
  },
  {
   "cell_type": "code",
   "execution_count": 12,
   "metadata": {},
   "outputs": [
    {
     "name": "stdout",
     "output_type": "stream",
     "text": [
      "TSH Breakdown:\n",
      "count    438.000000\n",
      "mean       1.582991\n",
      "std        2.864859\n",
      "min        0.005000\n",
      "25%        0.150000\n",
      "50%        1.000000\n",
      "75%        1.975000\n",
      "max       27.000000\n",
      "Name: TSH, dtype: float64\n",
      "\n",
      "T3 Breakdown:\n",
      "count    438.000000\n",
      "mean       1.585388\n",
      "std        1.075153\n",
      "min        0.050000\n",
      "25%        0.900000\n",
      "50%        1.700000\n",
      "75%        2.300000\n",
      "max        5.500000\n",
      "Name: T3, dtype: float64\n"
     ]
    }
   ],
   "source": [
    "anal = ht_df[ht_df[\"binaryClass\"] == \"P\"][[\"TSH\",\"T3\"]]\n",
    "print(f\"TSH Breakdown:\\n{anal['TSH'].describe()}\\n\")\n",
    "print(f\"T3 Breakdown:\\n{anal['T3'].describe()}\")"
   ]
  },
  {
   "cell_type": "markdown",
   "metadata": {},
   "source": [
    "## QUESTION 6\n",
    "* Continue from question 3. \n",
    "* Print the average TSH and T3 with the patient with Hyperthyroid problem. \n",
    "* Please report the pattern found in the result, if any."
   ]
  },
  {
   "cell_type": "code",
   "execution_count": 16,
   "metadata": {},
   "outputs": [
    {
     "name": "stdout",
     "output_type": "stream",
     "text": [
      "TSH/T3 Breakdown of Patients at Risk of Hyperthyroid Disease:\n",
      "\tAverage TSH: 3.583 mU/L\n",
      "\tAverage T3: 2.010 ng/dl\n"
     ]
    }
   ],
   "source": [
    "averages = ht_df[ht_df[\"query hyperthyroid\"] == True][[\"TSH\",\"T3\"]].mean()\n",
    "print(\"TSH/T3 Breakdown of Patients at Risk of Hyperthyroid Disease:\")\n",
    "print(\"\\tAverage TSH: {:.3f} mU/L\".format(averages['TSH']))\n",
    "print(\"\\tAverage T3: {:.3f} ng/dl\".format(averages['T3']))"
   ]
  },
  {
   "cell_type": "markdown",
   "metadata": {},
   "source": [
    "## ANALYSIS\n",
    "..."
   ]
  },
  {
   "cell_type": "markdown",
   "metadata": {},
   "source": [
    "## QUESTION 7\n",
    "* Continue from question 3.\n",
    "* Print the percentage of pregnant patients at risk of Hypothyroid disease."
   ]
  },
  {
   "cell_type": "code",
   "execution_count": 14,
   "metadata": {},
   "outputs": [
    {
     "name": "stdout",
     "output_type": "stream",
     "text": [
      "The percentage of pregnant patients at risk of Hypothyroid disease is 100.00%\n"
     ]
    }
   ],
   "source": [
    "#numPreg = ht_df[(ht_df[\"binaryClass\"] == \"P\") & (ht_df[\"pregnant\"] == True)].shape[0]\n",
    "preg_df = ht_df[ht_df[\"pregnant\"] == True]\n",
    "pregHypo_df = preg_df[preg_df[\"binaryClass\"] == \"P\"]\n",
    "print(\"The percentage of pregnant patients at risk of Hypothyroid disease is {:.2f}%\".format((pregHypo_df.shape[0]/preg_df.shape[0])*100))"
   ]
  },
  {
   "cell_type": "markdown",
   "metadata": {},
   "source": [
    "## QUESTION 8\n",
    "* Continue from question 3. \n",
    "* Calculate and print the average TSH and TT4 for pregnant patient at risk of Hypothyroid disease."
   ]
  },
  {
   "cell_type": "code",
   "execution_count": 15,
   "metadata": {},
   "outputs": [
    {
     "name": "stdout",
     "output_type": "stream",
     "text": [
      "TSH/TT4 Breakdown of Pregnant Patients at Risk of Hypothyroid Disease:\n",
      "\tAverage TSH: 0.478 mU/L\n",
      "\tAverage TT4: 130.375 nmol/L\n"
     ]
    }
   ],
   "source": [
    "meanTSH = pregHypo_df[[\"TSH\",\"TT4\"]].mean()\n",
    "print(\"TSH/TT4 Breakdown of Pregnant Patients at Risk of Hypothyroid Disease:\")\n",
    "print(\"\\tAverage TSH: {:.3f} mU/L\".format(meanTSH['TSH']))\n",
    "print(\"\\tAverage TT4: {:.3f} nmol/L\".format(meanTSH['TT4']))"
   ]
  },
  {
   "cell_type": "markdown",
   "metadata": {},
   "source": [
    "## QUESTION 9\n",
    "* Continue from question 3.\n",
    "* Calculate and print the average FTI and TT4 fo rpregnant patient who are receiving I131 treatment and are at risk of Hyperthyroid disease."
   ]
  },
  {
   "cell_type": "code",
   "execution_count": null,
   "metadata": {},
   "outputs": [],
   "source": []
  }
 ],
 "metadata": {
  "colab": {
   "collapsed_sections": [],
   "include_colab_link": true,
   "name": "Assignment 1.ipynb",
   "provenance": []
  },
  "kernelspec": {
   "display_name": "Python 3 (ipykernel)",
   "language": "python",
   "name": "python3"
  },
  "language_info": {
   "codemirror_mode": {
    "name": "ipython",
    "version": 3
   },
   "file_extension": ".py",
   "mimetype": "text/x-python",
   "name": "python",
   "nbconvert_exporter": "python",
   "pygments_lexer": "ipython3",
   "version": "3.8.8"
  }
 },
 "nbformat": 4,
 "nbformat_minor": 4
}
