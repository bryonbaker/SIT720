{
  "cells": [
    {
      "cell_type": "markdown",
      "metadata": {
        "colab_type": "text",
        "id": "view-in-github"
      },
      "source": [
        "<a href=\"https://colab.research.google.com/github/bryonbaker/SIT720/blob/main/Assignment_1.ipynb\" target=\"_parent\"><img src=\"https://colab.research.google.com/assets/colab-badge.svg\" alt=\"Open In Colab\"/></a>"
      ]
    },
    {
      "cell_type": "markdown",
      "metadata": {
        "id": "blaX_mjDsZao"
      },
      "source": [
        "# SIT720 - Assignment 1\n",
        "\n",
        "Bryon Baker\n",
        "Student number: 85031775"
      ]
    },
    {
      "cell_type": "markdown",
      "metadata": {
        "id": "Yffa-2TNtx8j"
      },
      "source": [
        "# Import required modules and libraries"
      ]
    },
    {
      "cell_type": "code",
      "execution_count": 30,
      "metadata": {
        "id": "Ov2aAFg8sYRW"
      },
      "outputs": [],
      "source": [
        "\n",
        "import pandas as pd\n",
        "import numpy as np"
      ]
    },
    {
      "cell_type": "markdown",
      "metadata": {},
      "source": [
        "# Function Declarations"
      ]
    },
    {
      "cell_type": "code",
      "execution_count": 31,
      "metadata": {},
      "outputs": [],
      "source": [
        "# This function calculates a value for the missing gender feature. \n",
        "# If the person is pregnant it must be female. If not pregnant then it defaults to male.\n",
        "# REVISIT: Update the non-pregnant case after you get an answer from the lecturer.\n",
        "def calc_gender(pregnant: str):\n",
        "    if pregnant == \"t\":\n",
        "        gender = \"F\"\n",
        "    else:\n",
        "        gender = \"M\"\n",
        "    return gender"
      ]
    },
    {
      "cell_type": "markdown",
      "metadata": {
        "id": "NqO-Qf8ut3FD"
      },
      "source": [
        "# Load Dataset\n",
        "Load the dataset from a public git repo.\n",
        "Display the head info to confirm data load."
      ]
    },
    {
      "cell_type": "code",
      "execution_count": 32,
      "metadata": {
        "id": "rzlPG6HEt3hk"
      },
      "outputs": [],
      "source": [
        "import ssl\n",
        "ssl._create_default_https_context = ssl._create_unverified_context\n",
        "\n",
        "url = 'https://raw.githubusercontent.com/bryonbaker/datasets/main/SIT720/Ass1/hypothyroid.csv'\n",
        "fullht_df = pd.read_csv(url)"
      ]
    },
    {
      "cell_type": "code",
      "execution_count": 33,
      "metadata": {
        "colab": {
          "base_uri": "https://localhost:8080/",
          "height": 505
        },
        "id": "mHoAFvjbvetG",
        "outputId": "e36d78f7-42de-403c-9c29-36a1d03b49b3"
      },
      "outputs": [
        {
          "data": {
            "text/html": [
              "<div>\n",
              "<style scoped>\n",
              "    .dataframe tbody tr th:only-of-type {\n",
              "        vertical-align: middle;\n",
              "    }\n",
              "\n",
              "    .dataframe tbody tr th {\n",
              "        vertical-align: top;\n",
              "    }\n",
              "\n",
              "    .dataframe thead th {\n",
              "        text-align: right;\n",
              "    }\n",
              "</style>\n",
              "<table border=\"1\" class=\"dataframe\">\n",
              "  <thead>\n",
              "    <tr style=\"text-align: right;\">\n",
              "      <th></th>\n",
              "      <th>age</th>\n",
              "      <th>sex</th>\n",
              "      <th>on thyroxine</th>\n",
              "      <th>pregnant</th>\n",
              "      <th>I131 treatment</th>\n",
              "      <th>query hyperthyroid</th>\n",
              "      <th>TSH</th>\n",
              "      <th>T3</th>\n",
              "      <th>TT4</th>\n",
              "      <th>FTI</th>\n",
              "      <th>binaryClass</th>\n",
              "    </tr>\n",
              "  </thead>\n",
              "  <tbody>\n",
              "    <tr>\n",
              "      <th>0</th>\n",
              "      <td>41</td>\n",
              "      <td>F</td>\n",
              "      <td>f</td>\n",
              "      <td>f</td>\n",
              "      <td>f</td>\n",
              "      <td>f</td>\n",
              "      <td>1.3</td>\n",
              "      <td>2.5</td>\n",
              "      <td>125</td>\n",
              "      <td>109</td>\n",
              "      <td>P</td>\n",
              "    </tr>\n",
              "    <tr>\n",
              "      <th>1</th>\n",
              "      <td>23</td>\n",
              "      <td>F</td>\n",
              "      <td>f</td>\n",
              "      <td>f</td>\n",
              "      <td>f</td>\n",
              "      <td>f</td>\n",
              "      <td>4.1</td>\n",
              "      <td>2</td>\n",
              "      <td>102</td>\n",
              "      <td>?</td>\n",
              "      <td>P</td>\n",
              "    </tr>\n",
              "    <tr>\n",
              "      <th>2</th>\n",
              "      <td>46</td>\n",
              "      <td>M</td>\n",
              "      <td>f</td>\n",
              "      <td>f</td>\n",
              "      <td>f</td>\n",
              "      <td>f</td>\n",
              "      <td>0.98</td>\n",
              "      <td>?</td>\n",
              "      <td>109</td>\n",
              "      <td>120</td>\n",
              "      <td>P</td>\n",
              "    </tr>\n",
              "    <tr>\n",
              "      <th>3</th>\n",
              "      <td>70</td>\n",
              "      <td>F</td>\n",
              "      <td>t</td>\n",
              "      <td>f</td>\n",
              "      <td>f</td>\n",
              "      <td>f</td>\n",
              "      <td>0.16</td>\n",
              "      <td>1.9</td>\n",
              "      <td>175</td>\n",
              "      <td>?</td>\n",
              "      <td>P</td>\n",
              "    </tr>\n",
              "    <tr>\n",
              "      <th>4</th>\n",
              "      <td>70</td>\n",
              "      <td>F</td>\n",
              "      <td>f</td>\n",
              "      <td>f</td>\n",
              "      <td>f</td>\n",
              "      <td>f</td>\n",
              "      <td>0.72</td>\n",
              "      <td>1.2</td>\n",
              "      <td>61</td>\n",
              "      <td>70</td>\n",
              "      <td>P</td>\n",
              "    </tr>\n",
              "    <tr>\n",
              "      <th>...</th>\n",
              "      <td>...</td>\n",
              "      <td>...</td>\n",
              "      <td>...</td>\n",
              "      <td>...</td>\n",
              "      <td>...</td>\n",
              "      <td>...</td>\n",
              "      <td>...</td>\n",
              "      <td>...</td>\n",
              "      <td>...</td>\n",
              "      <td>...</td>\n",
              "      <td>...</td>\n",
              "    </tr>\n",
              "    <tr>\n",
              "      <th>95</th>\n",
              "      <td>26</td>\n",
              "      <td>F</td>\n",
              "      <td>f</td>\n",
              "      <td>f</td>\n",
              "      <td>f</td>\n",
              "      <td>f</td>\n",
              "      <td>2</td>\n",
              "      <td>?</td>\n",
              "      <td>137</td>\n",
              "      <td>84</td>\n",
              "      <td>P</td>\n",
              "    </tr>\n",
              "    <tr>\n",
              "      <th>96</th>\n",
              "      <td>59</td>\n",
              "      <td>?</td>\n",
              "      <td>f</td>\n",
              "      <td>f</td>\n",
              "      <td>f</td>\n",
              "      <td>f</td>\n",
              "      <td>1.5</td>\n",
              "      <td>?</td>\n",
              "      <td>92</td>\n",
              "      <td>99</td>\n",
              "      <td>P</td>\n",
              "    </tr>\n",
              "    <tr>\n",
              "      <th>97</th>\n",
              "      <td>39</td>\n",
              "      <td>F</td>\n",
              "      <td>f</td>\n",
              "      <td>f</td>\n",
              "      <td>f</td>\n",
              "      <td>f</td>\n",
              "      <td>4.3</td>\n",
              "      <td>2.4</td>\n",
              "      <td>135</td>\n",
              "      <td>89</td>\n",
              "      <td>P</td>\n",
              "    </tr>\n",
              "    <tr>\n",
              "      <th>98</th>\n",
              "      <td>69</td>\n",
              "      <td>F</td>\n",
              "      <td>f</td>\n",
              "      <td>f</td>\n",
              "      <td>f</td>\n",
              "      <td>f</td>\n",
              "      <td>1.4</td>\n",
              "      <td>?</td>\n",
              "      <td>123</td>\n",
              "      <td>136</td>\n",
              "      <td>P</td>\n",
              "    </tr>\n",
              "    <tr>\n",
              "      <th>99</th>\n",
              "      <td>48</td>\n",
              "      <td>F</td>\n",
              "      <td>f</td>\n",
              "      <td>f</td>\n",
              "      <td>f</td>\n",
              "      <td>f</td>\n",
              "      <td>0.3</td>\n",
              "      <td>1.6</td>\n",
              "      <td>86</td>\n",
              "      <td>92</td>\n",
              "      <td>P</td>\n",
              "    </tr>\n",
              "  </tbody>\n",
              "</table>\n",
              "<p>100 rows × 11 columns</p>\n",
              "</div>"
            ],
            "text/plain": [
              "   age sex on thyroxine pregnant I131 treatment query hyperthyroid   TSH   T3  \\\n",
              "0   41   F            f        f              f                  f   1.3  2.5   \n",
              "1   23   F            f        f              f                  f   4.1    2   \n",
              "2   46   M            f        f              f                  f  0.98    ?   \n",
              "3   70   F            t        f              f                  f  0.16  1.9   \n",
              "4   70   F            f        f              f                  f  0.72  1.2   \n",
              "..  ..  ..          ...      ...            ...                ...   ...  ...   \n",
              "95  26   F            f        f              f                  f     2    ?   \n",
              "96  59   ?            f        f              f                  f   1.5    ?   \n",
              "97  39   F            f        f              f                  f   4.3  2.4   \n",
              "98  69   F            f        f              f                  f   1.4    ?   \n",
              "99  48   F            f        f              f                  f   0.3  1.6   \n",
              "\n",
              "    TT4  FTI binaryClass  \n",
              "0   125  109           P  \n",
              "1   102    ?           P  \n",
              "2   109  120           P  \n",
              "3   175    ?           P  \n",
              "4    61   70           P  \n",
              "..  ...  ...         ...  \n",
              "95  137   84           P  \n",
              "96   92   99           P  \n",
              "97  135   89           P  \n",
              "98  123  136           P  \n",
              "99   86   92           P  \n",
              "\n",
              "[100 rows x 11 columns]"
            ]
          },
          "execution_count": 33,
          "metadata": {},
          "output_type": "execute_result"
        }
      ],
      "source": [
        "fullht_df.head(n=100)"
      ]
    },
    {
      "cell_type": "markdown",
      "metadata": {
        "id": "2OvI0wzHvlv8"
      },
      "source": [
        "# Data Preparation\n",
        "\n",
        "## Task 1\n",
        "1.   Select the first 500 rows of the dataset\n",
        "2.   Display the dataset dimension\n",
        "\n"
      ]
    },
    {
      "cell_type": "code",
      "execution_count": 34,
      "metadata": {
        "colab": {
          "base_uri": "https://localhost:8080/"
        },
        "id": "bUUIoddjy9JQ",
        "outputId": "df65bc73-aebe-4c5a-c895-c23f821c207e"
      },
      "outputs": [
        {
          "name": "stdout",
          "output_type": "stream",
          "text": [
            "Working dataset dimension is: (500, 11)\n",
            "\n"
          ]
        }
      ],
      "source": [
        "# Get the first 500 rows from the dataset and use that for the rest of the assignment.\n",
        "ht_df = fullht_df.head(n=500)\n",
        "\n",
        "# Display the dataset's dimension\n",
        "print(f\"Working dataset dimension is: {ht_df.shape}\\n\")"
      ]
    },
    {
      "cell_type": "markdown",
      "metadata": {
        "id": "WfpLE-Fl0qMZ"
      },
      "source": [
        "## Task 2\n",
        "* Display the number of rows and their indices that have missing data in one or more cells. \n",
        "* Print the median values of all features before and after replacing missing data.\n"
      ]
    },
    {
      "cell_type": "code",
      "execution_count": 37,
      "metadata": {
        "id": "_xf7D0pO04nI"
      },
      "outputs": [
        {
          "name": "stdout",
          "output_type": "stream",
          "text": [
            "\n",
            "Core Numerical Data Columns:\n",
            "\n",
            "           TSH         T3        TT4        FTI\n",
            "0     1.300000   1.300000   1.300000   1.300000\n",
            "1     4.100000   4.100000   4.100000   4.100000\n",
            "2     0.980000   0.980000   0.980000   0.980000\n",
            "3     0.160000   0.160000   0.160000   0.160000\n",
            "4     0.720000   0.720000   0.720000   0.720000\n",
            "..         ...        ...        ...        ...\n",
            "495   4.523496   4.523496   4.523496   4.523496\n",
            "496   0.020000   0.020000   0.020000   0.020000\n",
            "497   0.150000   0.150000   0.150000   0.150000\n",
            "498  11.000000  11.000000  11.000000  11.000000\n",
            "499   0.100000   0.100000   0.100000   0.100000\n",
            "\n",
            "[500 rows x 4 columns]\n",
            "=======================\n",
            "\n",
            "\n",
            "Pre Data Modification:\n",
            "\n",
            "======================\n",
            "Mean of each column is:\n",
            "TSH    4.523496\n",
            "T3     4.523496\n",
            "TT4    4.523496\n",
            "FTI    4.523496\n",
            "dtype: float64\n",
            "\n",
            "The Median of each column is:\n",
            "TSH    1.55\n",
            "T3     1.55\n",
            "TT4    1.55\n",
            "FTI    1.55\n",
            "dtype: float64\n",
            "   age sex on thyroxine pregnant I131 treatment query hyperthyroid   TSH  \\\n",
            "0   41   F            f        f              f                  f  1.30   \n",
            "1   23   F            f        f              f                  f  4.10   \n",
            "2   46   M            f        f              f                  f  0.98   \n",
            "3   70   F            t        f              f                  f  0.16   \n",
            "4   70   F            f        f              f                  f  0.72   \n",
            "..  ..  ..          ...      ...            ...                ...   ...   \n",
            "95  26   F            f        f              f                  f  2.00   \n",
            "96  59   M            f        f              f                  f  1.50   \n",
            "97  39   F            f        f              f                  f  4.30   \n",
            "98  69   F            f        f              f                  f  1.40   \n",
            "99  48   F            f        f              f                  f  0.30   \n",
            "\n",
            "      T3   TT4   FTI binaryClass  \n",
            "0   1.30  1.30  1.30           P  \n",
            "1   4.10  4.10  4.10           P  \n",
            "2   0.98  0.98  0.98           P  \n",
            "3   0.16  0.16  0.16           P  \n",
            "4   0.72  0.72  0.72           P  \n",
            "..   ...   ...   ...         ...  \n",
            "95  2.00  2.00  2.00           P  \n",
            "96  1.50  1.50  1.50           P  \n",
            "97  4.30  4.30  4.30           P  \n",
            "98  1.40  1.40  1.40           P  \n",
            "99  0.30  0.30  0.30           P  \n",
            "\n",
            "[100 rows x 11 columns]\n",
            "=======================\n",
            "Post Data Modification:\n",
            "=======================\n",
            "Mean of each column is:\n",
            "TSH    4.523496\n",
            "T3     4.523496\n",
            "TT4    4.523496\n",
            "FTI    4.523496\n",
            "dtype: float64\n",
            "The Median is:\n",
            "TSH    1.55\n",
            "T3     1.55\n",
            "TT4    1.55\n",
            "FTI    1.55\n",
            "dtype: float64\n"
          ]
        }
      ],
      "source": [
        "# Cells with missing data have a '?' in them. \n",
        "# First replace ? with np.NaN so we can utilise some other nice Pandas dataframe methods. We can use a global replace because, upon dataset ins[ection, the unknown ('?') only exists in the numeric columns.\n",
        "# Convert the value columns from text to numeric.\n",
        "# Calculate the median value for the numeric-data coluimns\n",
        "# Replace the NaN values with a reasonable value. For this exercise we have chosen the mean for the column\n",
        "# Recalculate the median value for the numeric-data coluimns\n",
        "\n",
        "# Prepare the data so it is calculable\n",
        "ht_df = ht_df.replace('?', np.NaN)                                                        # Replace with NaN so many of the Pandas functions will work.\n",
        "ht_df[[\"TSH\",\"T3\",\"TT4\",\"FTI\"]] = ht_df[[\"TSH\",\"T3\",\"TT4\",\"FTI\"]].apply(pd.to_numeric)    # CSV loads as text. Convert the cells to numeric\n",
        "print(\"\\nCore Numerical Data Columns:\\n\")\n",
        "print(ht_df[[\"TSH\",\"T3\",\"TT4\",\"FTI\"]])\n",
        "\n",
        "# Calculate the Mean and Median prior to replacing missing values\n",
        "mean = ht_df[[\"TSH\",\"T3\",\"TT4\",\"FTI\"]].mean(skipna=True)\n",
        "median = ht_df[[\"TSH\",\"T3\",\"TT4\",\"FTI\"]].median(skipna=True)\n",
        "print(\"=======================\\n\")\n",
        "print(\"\\nPre Data Modification:\")\n",
        "print(\"\\n======================\")\n",
        "print(f\"Mean of each column is:\\n{mean}\\n\")\n",
        "print(f\"The Median of each column is:\\n{median}\")\n",
        "\n",
        "# Replace the NaN's of the numeric columns with the mean\n",
        "ht_df[\"TSH\"] = ht_df[\"TSH\"].fillna(mean[\"TSH\"])\n",
        "ht_df[\"T3\"] = ht_df[\"TSH\"].fillna(mean[\"T3\"])\n",
        "ht_df[\"TT4\"] = ht_df[\"TSH\"].fillna(mean[\"TT4\"])\n",
        "ht_df[\"FTI\"] = ht_df[\"TSH\"].fillna(mean[\"FTI\"])\n",
        "\n",
        "# Replace the M/F missing values with the most frequently occuring gender provided \"pregnant\" is false. Otherwise set the value to F.\n",
        "# replace_missing_values(df=ht_df, col=\"sex\", v1=\"M\", v2=\"F\")\n",
        "tmp_col = \"sex-predict\"\n",
        "ht_df[tmp_col] = ht_df[\"sex\"]\n",
        "for (index, row_series) in ht_df.iterrows():\n",
        "    if pd.isna(row_series[\"sex\"]):\n",
        "#        print(f\"DEBUG: Found NaN at: {index}\")\n",
        "#        print(f\"DEBUG: {ht_df.iloc[index]}\")\n",
        "        ht_df.at[index, tmp_col] = calc_gender(ht_df.at[index, 'pregnant'])\n",
        "#        print(f\"DEBUG: {type(ht_df.iloc[index])}\")\n",
        "\n",
        "# Copy over any NaN values in the sex column using the value from the temporary column\n",
        "ht_df[\"sex\"] = ht_df[\"sex\"].fillna(ht_df[tmp_col])\n",
        "ht_df = ht_df.drop([tmp_col], axis=1)       # Drop the temporary column\n",
        "\n",
        "# print(ht_df.head(n=100))\n",
        "\n",
        "mean_post = ht_df[[\"TSH\",\"T3\",\"TT4\",\"FTI\"]].mean(skipna=True)\n",
        "median_post = ht_df[[\"TSH\",\"T3\",\"TT4\",\"FTI\"]].median(skipna=True)\n",
        "print(\"=======================\")\n",
        "print(\"Post Data Modification:\")\n",
        "print(\"=======================\")\n",
        "print(f\"Mean of each column is:\\n{mean_post}\")\n",
        "print(f\"The Median is:\\n{median_post}\")"
      ]
    },
    {
      "cell_type": "code",
      "execution_count": 36,
      "metadata": {
        "id": "wF7zoQJiw8Dh"
      },
      "outputs": [],
      "source": [
        "# This function calculates a value for the missing gender feature. \n",
        "# If the person is pregnant it must be female. If not pregnant then it defaults to male.\n",
        "# REVISIT: Update the non-pregnant case after you get an answer from the lecturer.\n",
        "def calc_gender(pregnant: str):\n",
        "    if pregnant == \"t\":\n",
        "        gender = \"F\"\n",
        "    else:\n",
        "        gender = \"M\"\n",
        "    return gender"
      ]
    }
  ],
  "metadata": {
    "colab": {
      "authorship_tag": "ABX9TyNqoOwCBzHUbluhfsjjm+c4",
      "collapsed_sections": [],
      "include_colab_link": true,
      "name": "Assignment 1.ipynb",
      "provenance": []
    },
    "kernelspec": {
      "display_name": "Python 3",
      "name": "python3"
    },
    "language_info": {
      "codemirror_mode": {
        "name": "ipython",
        "version": 3
      },
      "file_extension": ".py",
      "mimetype": "text/x-python",
      "name": "python",
      "nbconvert_exporter": "python",
      "pygments_lexer": "ipython3",
      "version": "3.9.1"
    }
  },
  "nbformat": 4,
  "nbformat_minor": 0
}
