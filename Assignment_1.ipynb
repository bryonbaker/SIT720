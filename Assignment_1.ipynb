{
 "cells": [
  {
   "cell_type": "markdown",
   "metadata": {
    "colab_type": "text",
    "id": "view-in-github"
   },
   "source": [
    "<a href=\"https://colab.research.google.com/github/bryonbaker/SIT720/blob/main/Assignment_1.ipynb\" target=\"_parent\"><img src=\"https://colab.research.google.com/assets/colab-badge.svg\" alt=\"Open In Colab\"/></a>"
   ]
  },
  {
   "cell_type": "markdown",
   "metadata": {
    "id": "blaX_mjDsZao"
   },
   "source": [
    "# SIT720 - Assignment 1\n",
    "\n",
    "Bryon Baker\n",
    "Student number: 85031775"
   ]
  },
  {
   "cell_type": "markdown",
   "metadata": {
    "id": "Yffa-2TNtx8j"
   },
   "source": [
    "# Import required modules and libraries"
   ]
  },
  {
   "cell_type": "code",
   "execution_count": 3,
   "metadata": {},
   "outputs": [
    {
     "name": "stdout",
     "output_type": "stream",
     "text": [
      "/usr/bin/sh: ppip: command not found\n",
      "Collecting numpy\n",
      "  Downloading numpy-1.22.3-cp38-cp38-manylinux_2_17_x86_64.manylinux2014_x86_64.whl (16.8 MB)\n",
      "\u001b[K     |████████████████████████████████| 16.8 MB 33.5 MB/s eta 0:00:01\n",
      "\u001b[?25hInstalling collected packages: numpy\n",
      "Successfully installed numpy-1.22.3\n",
      "\u001b[33mWARNING: You are using pip version 21.1.3; however, version 22.0.4 is available.\n",
      "You should consider upgrading via the '/opt/app-root/bin/python3.8 -m pip install --upgrade pip' command.\u001b[0m\n"
     ]
    }
   ],
   "source": [
    "!pip3 install pandas\n",
    "!pip3 install numpy"
   ]
  },
  {
   "cell_type": "code",
   "execution_count": 1,
   "metadata": {
    "id": "Ov2aAFg8sYRW"
   },
   "outputs": [
    {
     "ename": "ModuleNotFoundError",
     "evalue": "No module named 'pandas'",
     "output_type": "error",
     "traceback": [
      "\u001b[0;31m---------------------------------------------------------------------------\u001b[0m",
      "\u001b[0;31mModuleNotFoundError\u001b[0m                       Traceback (most recent call last)",
      "\u001b[0;32m<ipython-input-1-baf368f80de7>\u001b[0m in \u001b[0;36m<module>\u001b[0;34m\u001b[0m\n\u001b[0;32m----> 1\u001b[0;31m \u001b[0;32mimport\u001b[0m \u001b[0mpandas\u001b[0m \u001b[0;32mas\u001b[0m \u001b[0mpd\u001b[0m\u001b[0;34m\u001b[0m\u001b[0;34m\u001b[0m\u001b[0m\n\u001b[0m\u001b[1;32m      2\u001b[0m \u001b[0;32mimport\u001b[0m \u001b[0mnumpy\u001b[0m \u001b[0;32mas\u001b[0m \u001b[0mnp\u001b[0m\u001b[0;34m\u001b[0m\u001b[0;34m\u001b[0m\u001b[0m\n",
      "\u001b[0;31mModuleNotFoundError\u001b[0m: No module named 'pandas'"
     ]
    }
   ],
   "source": [
    "\n",
    "import pandas as pd\n",
    "import numpy as np"
   ]
  },
  {
   "cell_type": "markdown",
   "metadata": {
    "id": "v0f-_2tsMS4t"
   },
   "source": [
    "# Function Declarations"
   ]
  },
  {
   "cell_type": "code",
   "execution_count": null,
   "metadata": {
    "id": "rilrcLwOMS4t"
   },
   "outputs": [],
   "source": [
    "# This function calculates a value for the missing gender feature. \n",
    "# If the person is pregnant it must be female. If not pregnant then it defaults to male.\n",
    "# REVISIT: Update the non-pregnant case after you get an answer from the lecturer.\n",
    "def calc_gender(pregnant: str):\n",
    "    if pregnant == \"t\":\n",
    "        gender = \"F\"\n",
    "    else:\n",
    "        gender = \"M\"\n",
    "    return gender"
   ]
  },
  {
   "cell_type": "markdown",
   "metadata": {
    "id": "NqO-Qf8ut3FD"
   },
   "source": [
    "# Load Dataset\n",
    "Load the dataset from a public git repo.\n",
    "Display the head info to confirm data load."
   ]
  },
  {
   "cell_type": "code",
   "execution_count": null,
   "metadata": {
    "id": "rzlPG6HEt3hk"
   },
   "outputs": [],
   "source": [
    "import ssl\n",
    "ssl._create_default_https_context = ssl._create_unverified_context\n",
    "\n",
    "url = 'https://raw.githubusercontent.com/bryonbaker/datasets/main/SIT720/Ass1/hypothyroid.csv'\n",
    "fullht_df = pd.read_csv(url)"
   ]
  },
  {
   "cell_type": "code",
   "execution_count": null,
   "metadata": {
    "colab": {
     "base_uri": "https://localhost:8080/",
     "height": 423
    },
    "id": "mHoAFvjbvetG",
    "outputId": "c6a8585c-368f-4432-e443-41b5be769d50"
   },
   "outputs": [],
   "source": [
    "fullht_df.head(n=100)"
   ]
  },
  {
   "cell_type": "markdown",
   "metadata": {
    "id": "2OvI0wzHvlv8"
   },
   "source": [
    "# Data Preparation\n",
    "\n",
    "## Task 1\n",
    "1.   Select the first 500 rows of the dataset\n",
    "2.   Display the dataset dimension\n",
    "\n"
   ]
  },
  {
   "cell_type": "code",
   "execution_count": null,
   "metadata": {
    "colab": {
     "base_uri": "https://localhost:8080/"
    },
    "id": "bUUIoddjy9JQ",
    "outputId": "8c525953-4113-44bb-9c14-0b0bbb26560e"
   },
   "outputs": [],
   "source": [
    "# Get the first 500 rows from the dataset and use that for the rest of the assignment.\n",
    "ht_df = fullht_df.head(n=500)\n",
    "\n",
    "# Display the dataset's dimension\n",
    "print(f\"Working dataset dimension is: {ht_df.shape}\\n\")"
   ]
  },
  {
   "cell_type": "markdown",
   "metadata": {
    "id": "WfpLE-Fl0qMZ"
   },
   "source": [
    "## Task 2\n",
    "* Display the number of rows and their indices that have missing data in one or more cells. \n",
    "* Print the median values of all features before and after replacing missing data.\n"
   ]
  },
  {
   "cell_type": "code",
   "execution_count": 2,
   "metadata": {
    "colab": {
     "base_uri": "https://localhost:8080/"
    },
    "id": "_xf7D0pO04nI",
    "outputId": "3839d5ea-0218-4801-840f-f2ca1c586ffb"
   },
   "outputs": [
    {
     "ename": "NameError",
     "evalue": "name 'ht_df' is not defined",
     "output_type": "error",
     "traceback": [
      "\u001b[0;31m---------------------------------------------------------------------------\u001b[0m",
      "\u001b[0;31mNameError\u001b[0m                                 Traceback (most recent call last)",
      "\u001b[0;32m<ipython-input-2-6d577312fd35>\u001b[0m in \u001b[0;36m<module>\u001b[0;34m\u001b[0m\n\u001b[1;32m      7\u001b[0m \u001b[0;34m\u001b[0m\u001b[0m\n\u001b[1;32m      8\u001b[0m \u001b[0;31m# Prepare the data so it is calculable\u001b[0m\u001b[0;34m\u001b[0m\u001b[0;34m\u001b[0m\u001b[0;34m\u001b[0m\u001b[0m\n\u001b[0;32m----> 9\u001b[0;31m \u001b[0mht_df\u001b[0m \u001b[0;34m=\u001b[0m \u001b[0mht_df\u001b[0m\u001b[0;34m.\u001b[0m\u001b[0mreplace\u001b[0m\u001b[0;34m(\u001b[0m\u001b[0;34m'?'\u001b[0m\u001b[0;34m,\u001b[0m \u001b[0mnp\u001b[0m\u001b[0;34m.\u001b[0m\u001b[0mNaN\u001b[0m\u001b[0;34m)\u001b[0m                                                        \u001b[0;31m# Replace with NaN so many of the Pandas functions will work.\u001b[0m\u001b[0;34m\u001b[0m\u001b[0;34m\u001b[0m\u001b[0m\n\u001b[0m\u001b[1;32m     10\u001b[0m \u001b[0mht_df\u001b[0m\u001b[0;34m[\u001b[0m\u001b[0;34m[\u001b[0m\u001b[0;34m\"TSH\"\u001b[0m\u001b[0;34m,\u001b[0m\u001b[0;34m\"T3\"\u001b[0m\u001b[0;34m,\u001b[0m\u001b[0;34m\"TT4\"\u001b[0m\u001b[0;34m,\u001b[0m\u001b[0;34m\"FTI\"\u001b[0m\u001b[0;34m]\u001b[0m\u001b[0;34m]\u001b[0m \u001b[0;34m=\u001b[0m \u001b[0mht_df\u001b[0m\u001b[0;34m[\u001b[0m\u001b[0;34m[\u001b[0m\u001b[0;34m\"TSH\"\u001b[0m\u001b[0;34m,\u001b[0m\u001b[0;34m\"T3\"\u001b[0m\u001b[0;34m,\u001b[0m\u001b[0;34m\"TT4\"\u001b[0m\u001b[0;34m,\u001b[0m\u001b[0;34m\"FTI\"\u001b[0m\u001b[0;34m]\u001b[0m\u001b[0;34m]\u001b[0m\u001b[0;34m.\u001b[0m\u001b[0mapply\u001b[0m\u001b[0;34m(\u001b[0m\u001b[0mpd\u001b[0m\u001b[0;34m.\u001b[0m\u001b[0mto_numeric\u001b[0m\u001b[0;34m)\u001b[0m    \u001b[0;31m# CSV loads as text. Convert the cells to numeric\u001b[0m\u001b[0;34m\u001b[0m\u001b[0;34m\u001b[0m\u001b[0m\n\u001b[1;32m     11\u001b[0m \u001b[0mprint\u001b[0m\u001b[0;34m(\u001b[0m\u001b[0;34m\"\\nCore Numerical Data Columns:\\n\"\u001b[0m\u001b[0;34m)\u001b[0m\u001b[0;34m\u001b[0m\u001b[0;34m\u001b[0m\u001b[0m\n",
      "\u001b[0;31mNameError\u001b[0m: name 'ht_df' is not defined"
     ]
    }
   ],
   "source": [
    "# Cells with missing data have a '?' in them. \n",
    "# First replace ? with np.NaN so we can utilise some other nice Pandas dataframe methods. We can use a global replace because, upon dataset ins[ection, the unknown ('?') only exists in the numeric columns.\n",
    "# Convert the value columns from text to numeric.\n",
    "# Calculate the median value for the numeric-data coluimns\n",
    "# Replace the NaN values with a reasonable value. For this exercise we have chosen the mean for the column\n",
    "# Recalculate the median value for the numeric-data coluimns\n",
    "\n",
    "# Prepare the data so it is calculable\n",
    "ht_df = ht_df.replace('?', np.NaN)                                                        # Replace with NaN so many of the Pandas functions will work.\n",
    "ht_df[[\"TSH\",\"T3\",\"TT4\",\"FTI\"]] = ht_df[[\"TSH\",\"T3\",\"TT4\",\"FTI\"]].apply(pd.to_numeric)    # CSV loads as text. Convert the cells to numeric\n",
    "print(\"\\nCore Numerical Data Columns:\\n\")\n",
    "print(ht_df[[\"TSH\",\"T3\",\"TT4\",\"FTI\"]])\n",
    "\n",
    "# Calculate the Mean and Median prior to replacing missing values\n",
    "mean = ht_df[[\"TSH\",\"T3\",\"TT4\",\"FTI\"]].mean(skipna=True)\n",
    "median = ht_df[[\"TSH\",\"T3\",\"TT4\",\"FTI\"]].median(skipna=True)\n",
    "print(\"=======================\\n\")\n",
    "print(\"\\nPre Data Modification:\")\n",
    "print(\"\\n======================\")\n",
    "print(f\"Mean of each column is:\\n{mean}\\n\")\n",
    "print(f\"The Median of each column is:\\n{median}\")\n",
    "\n",
    "# Replace the NaN's of the numeric columns with the mean\n",
    "ht_df[\"TSH\"] = ht_df[\"TSH\"].fillna(mean[\"TSH\"])\n",
    "ht_df[\"T3\"] = ht_df[\"TSH\"].fillna(mean[\"T3\"])\n",
    "ht_df[\"TT4\"] = ht_df[\"TSH\"].fillna(mean[\"TT4\"])\n",
    "ht_df[\"FTI\"] = ht_df[\"TSH\"].fillna(mean[\"FTI\"])\n",
    "\n",
    "# Replace the M/F missing values with the most frequently occuring gender provided \"pregnant\" is false. Otherwise set the value to F.\n",
    "# replace_missing_values(df=ht_df, col=\"sex\", v1=\"M\", v2=\"F\")\n",
    "tmp_col = \"sex-predict\"\n",
    "ht_df[tmp_col] = ht_df[\"sex\"]\n",
    "for (index, row_series) in ht_df.iterrows():\n",
    "    if pd.isna(row_series[\"sex\"]):\n",
    "#        print(f\"DEBUG: Found NaN at: {index}\")\n",
    "#        print(f\"DEBUG: {ht_df.iloc[index]}\")\n",
    "        ht_df.at[index, tmp_col] = calc_gender(ht_df.at[index, 'pregnant'])\n",
    "#        print(f\"DEBUG: {type(ht_df.iloc[index])}\")\n",
    "\n",
    "# Copy over any NaN values in the sex column using the value from the temporary column\n",
    "ht_df[\"sex\"] = ht_df[\"sex\"].fillna(ht_df[tmp_col])\n",
    "ht_df = ht_df.drop([tmp_col], axis=1)       # Drop the temporary column\n",
    "\n",
    "mean_post = ht_df[[\"TSH\",\"T3\",\"TT4\",\"FTI\"]].mean(skipna=True)\n",
    "median_post = ht_df[[\"TSH\",\"T3\",\"TT4\",\"FTI\"]].median(skipna=True)\n",
    "print(\"=======================\")\n",
    "print(\"Post Data Modification:\")\n",
    "print(\"=======================\")\n",
    "#print(f\"Mean of each column is:\\n{mean_post}\")\n",
    "print(f\"The Median is:\\n{median_post}\")"
   ]
  }
 ],
 "metadata": {
  "colab": {
   "collapsed_sections": [],
   "include_colab_link": true,
   "name": "Assignment 1.ipynb",
   "provenance": []
  },
  "kernelspec": {
   "display_name": "Python 3",
   "language": "python",
   "name": "python3"
  },
  "language_info": {
   "codemirror_mode": {
    "name": "ipython",
    "version": 3
   },
   "file_extension": ".py",
   "mimetype": "text/x-python",
   "name": "python",
   "nbconvert_exporter": "python",
   "pygments_lexer": "ipython3",
   "version": "3.8.6"
  }
 },
 "nbformat": 4,
 "nbformat_minor": 4
}
